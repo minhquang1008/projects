{
 "cells": [
  {
   "cell_type": "code",
   "execution_count": 1,
   "id": "d1bff05d",
   "metadata": {},
   "outputs": [],
   "source": [
    "import findspark\n",
    "findspark.init()"
   ]
  },
  {
   "cell_type": "code",
   "execution_count": 2,
   "id": "0f295fd2",
   "metadata": {},
   "outputs": [],
   "source": [
    "from pyspark.sql import SparkSession"
   ]
  },
  {
   "cell_type": "code",
   "execution_count": 3,
   "id": "e81a6645",
   "metadata": {},
   "outputs": [],
   "source": [
    "spark = SparkSession.builder.appName('cau1').getOrCreate()"
   ]
  },
  {
   "cell_type": "code",
   "execution_count": 4,
   "id": "2d03b16a",
   "metadata": {},
   "outputs": [],
   "source": [
    "df = spark.read.csv('Churn_Modelling.csv',inferSchema=True,header=True)"
   ]
  },
  {
   "cell_type": "markdown",
   "id": "cf2263f7",
   "metadata": {},
   "source": [
    "### Explore data"
   ]
  },
  {
   "cell_type": "code",
   "execution_count": 5,
   "id": "e964ad7e",
   "metadata": {},
   "outputs": [
    {
     "data": {
      "text/plain": [
       "10000"
      ]
     },
     "execution_count": 5,
     "metadata": {},
     "output_type": "execute_result"
    }
   ],
   "source": [
    "df.count()"
   ]
  },
  {
   "cell_type": "code",
   "execution_count": 6,
   "id": "fdd8e44e",
   "metadata": {},
   "outputs": [
    {
     "name": "stdout",
     "output_type": "stream",
     "text": [
      "root\n",
      " |-- RowNumber: integer (nullable = true)\n",
      " |-- CustomerId: integer (nullable = true)\n",
      " |-- Surname: string (nullable = true)\n",
      " |-- CreditScore: integer (nullable = true)\n",
      " |-- Geography: string (nullable = true)\n",
      " |-- Gender: string (nullable = true)\n",
      " |-- Age: integer (nullable = true)\n",
      " |-- Tenure: integer (nullable = true)\n",
      " |-- Balance: double (nullable = true)\n",
      " |-- NumOfProducts: integer (nullable = true)\n",
      " |-- HasCrCard: integer (nullable = true)\n",
      " |-- IsActiveMember: integer (nullable = true)\n",
      " |-- EstimatedSalary: double (nullable = true)\n",
      " |-- Exited: integer (nullable = true)\n",
      "\n"
     ]
    }
   ],
   "source": [
    "df.printSchema()"
   ]
  },
  {
   "cell_type": "code",
   "execution_count": 7,
   "id": "7ef6f1ac",
   "metadata": {},
   "outputs": [
    {
     "name": "stdout",
     "output_type": "stream",
     "text": [
      "+---------+----------+--------+-----------+---------+------+---+------+---------+-------------+---------+--------------+---------------+------+\n",
      "|RowNumber|CustomerId| Surname|CreditScore|Geography|Gender|Age|Tenure|  Balance|NumOfProducts|HasCrCard|IsActiveMember|EstimatedSalary|Exited|\n",
      "+---------+----------+--------+-----------+---------+------+---+------+---------+-------------+---------+--------------+---------------+------+\n",
      "|        1|  15634602|Hargrave|        619|   France|Female| 42|     2|      0.0|            1|        1|             1|      101348.88|     1|\n",
      "|        2|  15647311|    Hill|        608|    Spain|Female| 41|     1| 83807.86|            1|        0|             1|      112542.58|     0|\n",
      "|        3|  15619304|    Onio|        502|   France|Female| 42|     8| 159660.8|            3|        1|             0|      113931.57|     1|\n",
      "|        4|  15701354|    Boni|        699|   France|Female| 39|     1|      0.0|            2|        0|             0|       93826.63|     0|\n",
      "|        5|  15737888|Mitchell|        850|    Spain|Female| 43|     2|125510.82|            1|        1|             1|        79084.1|     0|\n",
      "+---------+----------+--------+-----------+---------+------+---+------+---------+-------------+---------+--------------+---------------+------+\n",
      "only showing top 5 rows\n",
      "\n"
     ]
    }
   ],
   "source": [
    "df.show(5)"
   ]
  },
  {
   "cell_type": "code",
   "execution_count": 8,
   "id": "25977677",
   "metadata": {},
   "outputs": [
    {
     "name": "stdout",
     "output_type": "stream",
     "text": [
      "+-------+------------------+-----------------+-------+-----------------+---------+------+------------------+------------------+-----------------+------------------+-------------------+-------------------+-----------------+-------------------+\n",
      "|summary|         RowNumber|       CustomerId|Surname|      CreditScore|Geography|Gender|               Age|            Tenure|          Balance|     NumOfProducts|          HasCrCard|     IsActiveMember|  EstimatedSalary|             Exited|\n",
      "+-------+------------------+-----------------+-------+-----------------+---------+------+------------------+------------------+-----------------+------------------+-------------------+-------------------+-----------------+-------------------+\n",
      "|  count|             10000|            10000|  10000|            10000|    10000| 10000|             10000|             10000|            10000|             10000|              10000|              10000|            10000|              10000|\n",
      "|   mean|            5000.5|  1.56909405694E7|   null|         650.5288|     null|  null|           38.9218|            5.0128|76485.88928799961|            1.5302|             0.7055|             0.5151|100090.2398809998|             0.2037|\n",
      "| stddev|2886.8956799071675|71936.18612274907|   null|96.65329873613035|     null|  null|10.487806451704587|2.8921743770496837|62397.40520238599|0.5816543579989917|0.45584046447513327|0.49979692845891815|57510.49281769821|0.40276858399486065|\n",
      "|    min|                 1|         15565701|  Abazu|              350|   France|Female|                18|                 0|              0.0|                 1|                  0|                  0|            11.58|                  0|\n",
      "|    max|             10000|         15815690| Zuyeva|              850|    Spain|  Male|                92|                10|        250898.09|                 4|                  1|                  1|        199992.48|                  1|\n",
      "+-------+------------------+-----------------+-------+-----------------+---------+------+------------------+------------------+-----------------+------------------+-------------------+-------------------+-----------------+-------------------+\n",
      "\n"
     ]
    }
   ],
   "source": [
    "df.describe().show()"
   ]
  },
  {
   "cell_type": "markdown",
   "id": "80ef4aa0",
   "metadata": {},
   "source": [
    "### Preprocessing"
   ]
  },
  {
   "cell_type": "code",
   "execution_count": 9,
   "id": "bc508408",
   "metadata": {},
   "outputs": [],
   "source": [
    "# bỏ bớt các cột không cần thiết\n",
    "df= df.select('CreditScore','Geography','Gender','Age','Tenure','Balance','NumOfProducts','HasCrCard','IsActiveMember','EstimatedSalary','Exited')"
   ]
  },
  {
   "cell_type": "code",
   "execution_count": 10,
   "id": "bf8c4694",
   "metadata": {},
   "outputs": [],
   "source": [
    "num_dist_rows = df.distinct().count()"
   ]
  },
  {
   "cell_type": "code",
   "execution_count": 11,
   "id": "445f3e00",
   "metadata": {},
   "outputs": [
    {
     "data": {
      "text/plain": [
       "10000"
      ]
     },
     "execution_count": 11,
     "metadata": {},
     "output_type": "execute_result"
    }
   ],
   "source": [
    "# dự liệu không bị trùng\n",
    "num_dist_rows"
   ]
  },
  {
   "cell_type": "code",
   "execution_count": 12,
   "id": "7025dcba",
   "metadata": {},
   "outputs": [
    {
     "data": {
      "text/html": [
       "<div>\n",
       "<style scoped>\n",
       "    .dataframe tbody tr th:only-of-type {\n",
       "        vertical-align: middle;\n",
       "    }\n",
       "\n",
       "    .dataframe tbody tr th {\n",
       "        vertical-align: top;\n",
       "    }\n",
       "\n",
       "    .dataframe thead th {\n",
       "        text-align: right;\n",
       "    }\n",
       "</style>\n",
       "<table border=\"1\" class=\"dataframe\">\n",
       "  <thead>\n",
       "    <tr style=\"text-align: right;\">\n",
       "      <th></th>\n",
       "      <th>0</th>\n",
       "    </tr>\n",
       "  </thead>\n",
       "  <tbody>\n",
       "    <tr>\n",
       "      <th>CreditScore</th>\n",
       "      <td>0</td>\n",
       "    </tr>\n",
       "    <tr>\n",
       "      <th>Geography</th>\n",
       "      <td>0</td>\n",
       "    </tr>\n",
       "    <tr>\n",
       "      <th>Gender</th>\n",
       "      <td>0</td>\n",
       "    </tr>\n",
       "    <tr>\n",
       "      <th>Age</th>\n",
       "      <td>0</td>\n",
       "    </tr>\n",
       "    <tr>\n",
       "      <th>Tenure</th>\n",
       "      <td>0</td>\n",
       "    </tr>\n",
       "    <tr>\n",
       "      <th>Balance</th>\n",
       "      <td>0</td>\n",
       "    </tr>\n",
       "    <tr>\n",
       "      <th>NumOfProducts</th>\n",
       "      <td>0</td>\n",
       "    </tr>\n",
       "    <tr>\n",
       "      <th>HasCrCard</th>\n",
       "      <td>0</td>\n",
       "    </tr>\n",
       "    <tr>\n",
       "      <th>IsActiveMember</th>\n",
       "      <td>0</td>\n",
       "    </tr>\n",
       "    <tr>\n",
       "      <th>EstimatedSalary</th>\n",
       "      <td>0</td>\n",
       "    </tr>\n",
       "    <tr>\n",
       "      <th>Exited</th>\n",
       "      <td>0</td>\n",
       "    </tr>\n",
       "  </tbody>\n",
       "</table>\n",
       "</div>"
      ],
      "text/plain": [
       "                 0\n",
       "CreditScore      0\n",
       "Geography        0\n",
       "Gender           0\n",
       "Age              0\n",
       "Tenure           0\n",
       "Balance          0\n",
       "NumOfProducts    0\n",
       "HasCrCard        0\n",
       "IsActiveMember   0\n",
       "EstimatedSalary  0\n",
       "Exited           0"
      ]
     },
     "execution_count": 12,
     "metadata": {},
     "output_type": "execute_result"
    }
   ],
   "source": [
    "# check null, nan\n",
    "from pyspark.sql.functions import isnan, when, count, col\n",
    "df.select([count(when(isnan(c), c)).alias(c) for c in df.columns]).toPandas().T"
   ]
  },
  {
   "cell_type": "code",
   "execution_count": 13,
   "id": "cf38f860",
   "metadata": {},
   "outputs": [
    {
     "data": {
      "text/html": [
       "<div>\n",
       "<style scoped>\n",
       "    .dataframe tbody tr th:only-of-type {\n",
       "        vertical-align: middle;\n",
       "    }\n",
       "\n",
       "    .dataframe tbody tr th {\n",
       "        vertical-align: top;\n",
       "    }\n",
       "\n",
       "    .dataframe thead th {\n",
       "        text-align: right;\n",
       "    }\n",
       "</style>\n",
       "<table border=\"1\" class=\"dataframe\">\n",
       "  <thead>\n",
       "    <tr style=\"text-align: right;\">\n",
       "      <th></th>\n",
       "      <th>0</th>\n",
       "    </tr>\n",
       "  </thead>\n",
       "  <tbody>\n",
       "    <tr>\n",
       "      <th>CreditScore</th>\n",
       "      <td>0</td>\n",
       "    </tr>\n",
       "    <tr>\n",
       "      <th>Geography</th>\n",
       "      <td>0</td>\n",
       "    </tr>\n",
       "    <tr>\n",
       "      <th>Gender</th>\n",
       "      <td>0</td>\n",
       "    </tr>\n",
       "    <tr>\n",
       "      <th>Age</th>\n",
       "      <td>0</td>\n",
       "    </tr>\n",
       "    <tr>\n",
       "      <th>Tenure</th>\n",
       "      <td>0</td>\n",
       "    </tr>\n",
       "    <tr>\n",
       "      <th>Balance</th>\n",
       "      <td>0</td>\n",
       "    </tr>\n",
       "    <tr>\n",
       "      <th>NumOfProducts</th>\n",
       "      <td>0</td>\n",
       "    </tr>\n",
       "    <tr>\n",
       "      <th>HasCrCard</th>\n",
       "      <td>0</td>\n",
       "    </tr>\n",
       "    <tr>\n",
       "      <th>IsActiveMember</th>\n",
       "      <td>0</td>\n",
       "    </tr>\n",
       "    <tr>\n",
       "      <th>EstimatedSalary</th>\n",
       "      <td>0</td>\n",
       "    </tr>\n",
       "    <tr>\n",
       "      <th>Exited</th>\n",
       "      <td>0</td>\n",
       "    </tr>\n",
       "  </tbody>\n",
       "</table>\n",
       "</div>"
      ],
      "text/plain": [
       "                 0\n",
       "CreditScore      0\n",
       "Geography        0\n",
       "Gender           0\n",
       "Age              0\n",
       "Tenure           0\n",
       "Balance          0\n",
       "NumOfProducts    0\n",
       "HasCrCard        0\n",
       "IsActiveMember   0\n",
       "EstimatedSalary  0\n",
       "Exited           0"
      ]
     },
     "execution_count": 13,
     "metadata": {},
     "output_type": "execute_result"
    }
   ],
   "source": [
    "df.select([count(when(col(c).isNull(), c)).alias(c) for c in df.columns]).toPandas().T"
   ]
  },
  {
   "cell_type": "code",
   "execution_count": 14,
   "id": "e8391bc2",
   "metadata": {},
   "outputs": [],
   "source": [
    "def min_max_scaler(df, cols_to_scale, prefix= 'mm_'):\n",
    "    for col in cols_to_scale:\n",
    "        max_values = df.agg({col: 'max'}).collect()[0][0]\n",
    "        min_values = df.agg({col: 'min'}).collect()[0][0]\n",
    "        new_column_name = prefix + col\n",
    "        df = df.withColumn(new_column_name, \n",
    "                      (df[col] - min_values) / (max_values - min_values))\n",
    "    return df\n",
    "# Normalize các cột CreditScore, Age, Balance, EstimatedSalary\n",
    "df = min_max_scaler(df, cols_to_scale=['CreditScore','Age','Balance','EstimatedSalary'])"
   ]
  },
  {
   "cell_type": "code",
   "execution_count": 15,
   "id": "e884d8bd",
   "metadata": {},
   "outputs": [],
   "source": [
    "# bỏ các cột ko liên quan và cột Gender, Geography, các cột chưa scale\n",
    "df= df.select('mm_CreditScore','Geography','Gender','mm_Age','Tenure','mm_Balance','NumOfProducts','HasCrCard','IsActiveMember','mm_EstimatedSalary','Exited')"
   ]
  },
  {
   "cell_type": "code",
   "execution_count": 16,
   "id": "18795d4f",
   "metadata": {},
   "outputs": [],
   "source": [
    "# train test split\n",
    "train_df, test_df = df.randomSplit([0.7, 0.3])"
   ]
  },
  {
   "cell_type": "markdown",
   "id": "ceba7be8",
   "metadata": {},
   "source": [
    "### tạo pipeline"
   ]
  },
  {
   "cell_type": "code",
   "execution_count": 17,
   "id": "5ea8a962",
   "metadata": {},
   "outputs": [],
   "source": [
    "from pyspark.ml import Pipeline\n",
    "from pyspark.ml.classification import LogisticRegression\n",
    "from pyspark.ml.feature import StringIndexer\n",
    "from pyspark.ml.feature import OneHotEncoder\n",
    "from pyspark.ml.feature import VectorAssembler"
   ]
  },
  {
   "cell_type": "code",
   "execution_count": 18,
   "id": "70efba02",
   "metadata": {},
   "outputs": [],
   "source": [
    "indexer1 = StringIndexer(inputCol='Gender', outputCol='Gender_idx')"
   ]
  },
  {
   "cell_type": "code",
   "execution_count": 19,
   "id": "503e23cc",
   "metadata": {},
   "outputs": [],
   "source": [
    "indexer2 = StringIndexer(inputCol='Geography', outputCol='Geography_idx')"
   ]
  },
  {
   "cell_type": "code",
   "execution_count": 20,
   "id": "d21f770b",
   "metadata": {},
   "outputs": [],
   "source": [
    "encoder = OneHotEncoder(inputCol='Geography_idx',outputCol='Geography_dummy')"
   ]
  },
  {
   "cell_type": "code",
   "execution_count": 21,
   "id": "ac3b5306",
   "metadata": {},
   "outputs": [],
   "source": [
    "assembler = VectorAssembler(inputCols=[\n",
    "    'mm_CreditScore','Geography_dummy','Gender_idx','mm_Age','Tenure','mm_Balance','NumOfProducts','HasCrCard','IsActiveMember','mm_EstimatedSalary'\n",
    "    ],outputCol='features')"
   ]
  },
  {
   "cell_type": "code",
   "execution_count": 22,
   "id": "605dad45",
   "metadata": {},
   "outputs": [],
   "source": [
    "# đầu tiên thử chọn thuật toán Logistic Regression\n",
    "log_reg_customer = LogisticRegression(featuresCol='features', labelCol='Exited',predictionCol='prediction')"
   ]
  },
  {
   "cell_type": "code",
   "execution_count": 23,
   "id": "cbc00024",
   "metadata": {},
   "outputs": [],
   "source": [
    "pipeline = Pipeline(stages=[indexer1, indexer2, encoder, assembler,log_reg_customer])\n",
    "fit_model = pipeline.fit(train_df)\n",
    "results = fit_model.transform(test_df)"
   ]
  },
  {
   "cell_type": "code",
   "execution_count": 24,
   "id": "ec3ff15a",
   "metadata": {},
   "outputs": [],
   "source": [
    "from pyspark.ml.evaluation import BinaryClassificationEvaluator"
   ]
  },
  {
   "cell_type": "code",
   "execution_count": 25,
   "id": "9ab9829d",
   "metadata": {},
   "outputs": [],
   "source": [
    "my_eval = BinaryClassificationEvaluator(rawPredictionCol='prediction',\n",
    " labelCol='Exited')"
   ]
  },
  {
   "cell_type": "code",
   "execution_count": 26,
   "id": "f4f57b0b",
   "metadata": {},
   "outputs": [
    {
     "name": "stdout",
     "output_type": "stream",
     "text": [
      "+------+----------+\n",
      "|Exited|prediction|\n",
      "+------+----------+\n",
      "|     1|       0.0|\n",
      "|     1|       1.0|\n",
      "|     1|       0.0|\n",
      "|     1|       0.0|\n",
      "|     1|       1.0|\n",
      "|     1|       0.0|\n",
      "|     0|       0.0|\n",
      "|     1|       0.0|\n",
      "|     0|       1.0|\n",
      "|     0|       0.0|\n",
      "|     1|       0.0|\n",
      "|     0|       0.0|\n",
      "|     1|       0.0|\n",
      "|     0|       0.0|\n",
      "|     0|       0.0|\n",
      "|     0|       0.0|\n",
      "|     0|       0.0|\n",
      "|     1|       0.0|\n",
      "|     0|       0.0|\n",
      "|     0|       0.0|\n",
      "+------+----------+\n",
      "only showing top 20 rows\n",
      "\n"
     ]
    }
   ],
   "source": [
    "results.select('Exited','prediction').show()"
   ]
  },
  {
   "cell_type": "code",
   "execution_count": 27,
   "id": "01b416b3",
   "metadata": {},
   "outputs": [
    {
     "data": {
      "text/plain": [
       "0.5829906705200069"
      ]
     },
     "execution_count": 27,
     "metadata": {},
     "output_type": "execute_result"
    }
   ],
   "source": [
    "AUC = my_eval.evaluate(results)\n",
    "AUC"
   ]
  },
  {
   "cell_type": "markdown",
   "id": "17998f22",
   "metadata": {},
   "source": [
    "##### Tỷ lệ chính xác của model đạt 0.59 , tương đối thấp"
   ]
  },
  {
   "cell_type": "code",
   "execution_count": 29,
   "id": "f4fb7644",
   "metadata": {},
   "outputs": [],
   "source": [
    "fit_model.save('Pipeline_customer')"
   ]
  },
  {
   "cell_type": "code",
   "execution_count": 30,
   "id": "8df52f20",
   "metadata": {},
   "outputs": [],
   "source": [
    "from pyspark.ml import PipelineModel"
   ]
  },
  {
   "cell_type": "code",
   "execution_count": 31,
   "id": "8d22a254",
   "metadata": {},
   "outputs": [],
   "source": [
    "pipeline2 = PipelineModel.load('Pipeline_customer')"
   ]
  },
  {
   "cell_type": "code",
   "execution_count": 32,
   "id": "2aa560c6",
   "metadata": {},
   "outputs": [],
   "source": [
    "# thử dự đoán khách hàng đề bài cho có exit hay ko\n",
    "\n",
    "df_given_customer = spark.createDataFrame([\n",
    "    (600,'France','Male',40,3,60000,2,1,1,50000)\n",
    "], schema='mm_CreditScore long,Geography string,Gender string,mm_Age long,Tenure long,mm_Balance long,NumOfProducts long,HasCrCard long,IsActiveMember long,mm_EstimatedSalary long')"
   ]
  },
  {
   "cell_type": "code",
   "execution_count": 33,
   "id": "cfa669ec",
   "metadata": {},
   "outputs": [
    {
     "name": "stdout",
     "output_type": "stream",
     "text": [
      "+--------------+---------+------+-------------------+------+-------------------+-------------+---------+--------------+------------------+------+\n",
      "|mm_CreditScore|Geography|Gender|             mm_Age|Tenure|         mm_Balance|NumOfProducts|HasCrCard|IsActiveMember|mm_EstimatedSalary|Exited|\n",
      "+--------------+---------+------+-------------------+------+-------------------+-------------+---------+--------------+------------------+------+\n",
      "|         0.538|   France|Female|0.32432432432432434|     2|                0.0|            1|        1|             1|0.5067348931822989|     1|\n",
      "|         0.516|    Spain|Female| 0.3108108108108108|     1|0.33403147867725896|            1|        0|             1|0.5627087386845443|     0|\n",
      "|         0.304|   France|Female|0.32432432432432434|     8| 0.6363571759354565|            3|        1|             0|0.5696543519906151|     1|\n",
      "|         0.698|   France|Female|0.28378378378378377|     1|                0.0|            2|        0|             0|0.4691200509648671|     0|\n",
      "|           1.0|    Spain|Female|0.33783783783783783|     2| 0.5002462155052675|            1|        1|             1|0.3954003607344501|     0|\n",
      "+--------------+---------+------+-------------------+------+-------------------+-------------+---------+--------------+------------------+------+\n",
      "only showing top 5 rows\n",
      "\n"
     ]
    }
   ],
   "source": [
    "df.show(5)"
   ]
  },
  {
   "cell_type": "code",
   "execution_count": 34,
   "id": "1507814d",
   "metadata": {},
   "outputs": [],
   "source": [
    "predict = fit_model.transform(df_given_customer)"
   ]
  },
  {
   "cell_type": "code",
   "execution_count": 35,
   "id": "3be5c416",
   "metadata": {},
   "outputs": [
    {
     "name": "stdout",
     "output_type": "stream",
     "text": [
      "+----------+\n",
      "|prediction|\n",
      "+----------+\n",
      "|       1.0|\n",
      "+----------+\n",
      "\n"
     ]
    }
   ],
   "source": [
    "predict.select('prediction').show()"
   ]
  },
  {
   "cell_type": "markdown",
   "id": "dcb1dbe1",
   "metadata": {},
   "source": [
    "##### logistic regression dự đoán là khách này sẽ exit"
   ]
  },
  {
   "cell_type": "code",
   "execution_count": 36,
   "id": "7142f5bb",
   "metadata": {},
   "outputs": [],
   "source": [
    "# Sử dụng decisionTree\n",
    "from pyspark.ml.classification import DecisionTreeClassifier\n",
    "decision_tree_classifier = DecisionTreeClassifier(labelCol='Exited',featuresCol='features')"
   ]
  },
  {
   "cell_type": "code",
   "execution_count": 37,
   "id": "77b6b553",
   "metadata": {},
   "outputs": [],
   "source": [
    "pipeline = Pipeline(stages=[indexer1, indexer2, encoder, assembler,decision_tree_classifier])\n",
    "fit_model = pipeline.fit(train_df)\n",
    "results = fit_model.transform(test_df)"
   ]
  },
  {
   "cell_type": "code",
   "execution_count": 38,
   "id": "57a278ec",
   "metadata": {},
   "outputs": [],
   "source": [
    "from pyspark.ml.evaluation import MulticlassClassificationEvaluator\n",
    "acc_evaluator = MulticlassClassificationEvaluator(labelCol=\"Exited\",predictionCol=\"prediction\",metricName=\"accuracy\")"
   ]
  },
  {
   "cell_type": "code",
   "execution_count": 39,
   "id": "23e8fb9a",
   "metadata": {},
   "outputs": [],
   "source": [
    "dtc_acc = acc_evaluator.evaluate(results)"
   ]
  },
  {
   "cell_type": "code",
   "execution_count": 40,
   "id": "0a8e1715",
   "metadata": {},
   "outputs": [
    {
     "name": "stdout",
     "output_type": "stream",
     "text": [
      "A single decision tree - accuracy: 85.80%\n"
     ]
    }
   ],
   "source": [
    "print('A single decision tree - accuracy: {0:2.2f}%'.format(dtc_acc*100))"
   ]
  },
  {
   "cell_type": "code",
   "execution_count": 41,
   "id": "dd4586d9",
   "metadata": {},
   "outputs": [
    {
     "data": {
      "text/plain": [
       "0.6642190751429071"
      ]
     },
     "execution_count": 41,
     "metadata": {},
     "output_type": "execute_result"
    }
   ],
   "source": [
    "AUC = my_eval.evaluate(results)\n",
    "AUC"
   ]
  },
  {
   "cell_type": "markdown",
   "id": "ff57867b",
   "metadata": {},
   "source": [
    "##### decision tree cho độ chính xác cao hơn nên better chọn decision tree, tuy nhiên không model nào đạt AUC 0.8+"
   ]
  },
  {
   "cell_type": "code",
   "execution_count": 42,
   "id": "c3dd8fea",
   "metadata": {},
   "outputs": [],
   "source": [
    "predict = fit_model.transform(df_given_customer)"
   ]
  },
  {
   "cell_type": "code",
   "execution_count": 43,
   "id": "3d3ff9d7",
   "metadata": {},
   "outputs": [
    {
     "name": "stdout",
     "output_type": "stream",
     "text": [
      "+----------+\n",
      "|prediction|\n",
      "+----------+\n",
      "|       0.0|\n",
      "+----------+\n",
      "\n"
     ]
    }
   ],
   "source": [
    "predict.select('prediction').show()"
   ]
  },
  {
   "cell_type": "markdown",
   "id": "6fff1f8d",
   "metadata": {},
   "source": [
    "##### decision tree dự đoán là khách này sẽ không exit"
   ]
  }
 ],
 "metadata": {
  "kernelspec": {
   "display_name": "Python 3 (ipykernel)",
   "language": "python",
   "name": "python3"
  },
  "language_info": {
   "codemirror_mode": {
    "name": "ipython",
    "version": 3
   },
   "file_extension": ".py",
   "mimetype": "text/x-python",
   "name": "python",
   "nbconvert_exporter": "python",
   "pygments_lexer": "ipython3",
   "version": "3.10.4"
  }
 },
 "nbformat": 4,
 "nbformat_minor": 5
}
