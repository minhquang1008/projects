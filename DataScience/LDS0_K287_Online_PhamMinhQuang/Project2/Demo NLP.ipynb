{
 "cells": [
  {
   "cell_type": "code",
   "execution_count": 5,
   "id": "5437e3fc",
   "metadata": {},
   "outputs": [],
   "source": [
    "import numpy as np\n",
    "import pandas as pd\n",
    "import matplotlib.pyplot as plt\n",
    "from sklearn.feature_extraction.text import TfidfVectorizer\n",
    "from sklearn.metrics.pairwise import linear_kernel, cosine_similarity\n",
    "from underthesea import word_tokenize, pos_tag, sent_tokenize\n",
    "import warnings\n",
    "from gensim import corpora, models, similarities\n",
    "import re"
   ]
  },
  {
   "cell_type": "code",
   "execution_count": 6,
   "id": "5dcdddb6",
   "metadata": {},
   "outputs": [],
   "source": [
    "STOP_WORD_FILE = 'vietnamese-stopwords.txt'"
   ]
  },
  {
   "cell_type": "code",
   "execution_count": 7,
   "id": "92d2e77d",
   "metadata": {},
   "outputs": [],
   "source": [
    "with open(STOP_WORD_FILE, 'r', encoding='utf-8') as file:\n",
    "    stop_words = file.read()\n",
    "\n",
    "stop_words = stop_words.split('\\n')"
   ]
  },
  {
   "cell_type": "markdown",
   "id": "844345d6",
   "metadata": {},
   "source": [
    "### underthesea"
   ]
  },
  {
   "cell_type": "code",
   "execution_count": 8,
   "id": "1d715c60",
   "metadata": {},
   "outputs": [],
   "source": [
    "data = [\"Kem Dưỡng Da Ban Ngày Trắng Hồng Rạng Rỡ Pond's White Beauty 50g với công thức phức hợp dưỡng trắng Vitamin B3 giúp tăng cường khả năng dưỡng trắng từ sâu bên trong, làm mờ vết thâm sạm, cho làn da trắng hồng rạng rỡ bên ngoài.\",\n",
    "        \"Kem Dưỡng Da Đêm Ngày Trắng Hồng Rạng Rỡ Pond's White Beauty 50g với công thức phức hợp dưỡng trắng Vitamin B3+ giúp tăng cường khả năng dưỡng trắng da liên tục suốt cả đêm từ sâu bên trong, mang đến làn da sáng mịn rạng rỡ sau mỗi lần sử dụng.\",\n",
    "        \"Kem Dưỡng Trắng Da Ban Đêm Senka White Beauty Glow Gel Cream 50g Với công nghệ độc quyền và tiên tiến Natu-Ence từ Shiseido giúp nâng cao hiệu quả của các dưỡng chất từ thiên nhiên, Kem dưỡng trắng da ban đêm Senka sẽ bổ sung các dưỡng chất cần thiết và độ ẩm cho làn da luôn mịn màng, dưỡng trắng da vượt trội.\",\n",
    "        \"Kem dưỡng nâng tông da trắng hồng tự nhiên Laneige White Dew Tone Up Cream 50ml giúp làm sáng ngay lập tức vùng da bị vàng và xỉn màu với kết cấu giống dạng sữa dưỡng giàu độ ẩm. Công thức sữa dưỡng dầu/nước chứa TiO2 (titanium dioxide) mang đến hiệu quả làm tăng tông màu da cho những vùng da bị tối hay xỉn màu\",\n",
    "        \"Kem Dưỡng Nivea Ngọc Trai Làm Sáng Da Ban Đêm 50ml 5 in 1 Pearl Filler Pearl White Night Face Cream Công thức vượt trội được chiết xuất từ các dưỡng chất thiên nhiên, vừa giúp dưỡng trắng da, ngay cả làn da sạm đen, vừa nuôi dưỡng làn da trong lúc ngủ. Cho bạn làn da trắng mượt như nước, không ngại bắt nắng\",\n",
    "        \"Phấn Phủ Dưỡng Ẩm Dạng Nén Laneige Light Fit Pact 9.5g. Kết cấu mỏng nhẹ, độ bám dính cao Giúp che phủ hiệu quả hoàn hảo Thể hiện màu sắc tự nhiên\",\n",
    "        \"Phấn Phủ Kiềm Dầu Dạng Bột Khoáng Innisfree No Sebum Mineral Powder 5g dạng bột có chiết xuất 100% từ bạc hà và hạt ngọc trai giúp kiềm hút dầu và loại bỏ bã nhờn dư thừa trên da mang đến làn da sáng mịn.\", \n",
    "        \"Sữa Rửa Mặt Ngăn Ngừa Lão Hóa Pond's Age Miracle 100g gồm 6 dưỡng chất chuyên biệt, giúp thúc đẩy quá trình tái tạo da đẩy lùi quá trình lão hóa.\", \n",
    "        \"Sữa Rửa Mặt Ngăn Ngừa Lão Hóa Da Innisfree Jeju Pomegranate Revitalizing Foam Cleanser 150ml từ nước ép lựu và dầu hạt lựu giúp làm sạch da sâu da mà không gây khô căng.\"\n",
    "        ]"
   ]
  },
  {
   "cell_type": "code",
   "execution_count": 9,
   "id": "0b0dcf00",
   "metadata": {},
   "outputs": [],
   "source": [
    "df = pd.DataFrame(data, columns = ['products'])"
   ]
  },
  {
   "cell_type": "code",
   "execution_count": 10,
   "id": "54fd711f",
   "metadata": {},
   "outputs": [
    {
     "data": {
      "text/html": [
       "<div>\n",
       "<style scoped>\n",
       "    .dataframe tbody tr th:only-of-type {\n",
       "        vertical-align: middle;\n",
       "    }\n",
       "\n",
       "    .dataframe tbody tr th {\n",
       "        vertical-align: top;\n",
       "    }\n",
       "\n",
       "    .dataframe thead th {\n",
       "        text-align: right;\n",
       "    }\n",
       "</style>\n",
       "<table border=\"1\" class=\"dataframe\">\n",
       "  <thead>\n",
       "    <tr style=\"text-align: right;\">\n",
       "      <th></th>\n",
       "      <th>products</th>\n",
       "    </tr>\n",
       "  </thead>\n",
       "  <tbody>\n",
       "    <tr>\n",
       "      <th>0</th>\n",
       "      <td>Kem Dưỡng Da Ban Ngày Trắng Hồng Rạng Rỡ Pond'...</td>\n",
       "    </tr>\n",
       "    <tr>\n",
       "      <th>1</th>\n",
       "      <td>Kem Dưỡng Da Đêm Ngày Trắng Hồng Rạng Rỡ Pond'...</td>\n",
       "    </tr>\n",
       "    <tr>\n",
       "      <th>2</th>\n",
       "      <td>Kem Dưỡng Trắng Da Ban Đêm Senka White Beauty ...</td>\n",
       "    </tr>\n",
       "    <tr>\n",
       "      <th>3</th>\n",
       "      <td>Kem dưỡng nâng tông da trắng hồng tự nhiên Lan...</td>\n",
       "    </tr>\n",
       "    <tr>\n",
       "      <th>4</th>\n",
       "      <td>Kem Dưỡng Nivea Ngọc Trai Làm Sáng Da Ban Đêm ...</td>\n",
       "    </tr>\n",
       "  </tbody>\n",
       "</table>\n",
       "</div>"
      ],
      "text/plain": [
       "                                            products\n",
       "0  Kem Dưỡng Da Ban Ngày Trắng Hồng Rạng Rỡ Pond'...\n",
       "1  Kem Dưỡng Da Đêm Ngày Trắng Hồng Rạng Rỡ Pond'...\n",
       "2  Kem Dưỡng Trắng Da Ban Đêm Senka White Beauty ...\n",
       "3  Kem dưỡng nâng tông da trắng hồng tự nhiên Lan...\n",
       "4  Kem Dưỡng Nivea Ngọc Trai Làm Sáng Da Ban Đêm ..."
      ]
     },
     "execution_count": 10,
     "metadata": {},
     "output_type": "execute_result"
    }
   ],
   "source": [
    "df.head()"
   ]
  },
  {
   "cell_type": "code",
   "execution_count": 11,
   "id": "c7460e4c",
   "metadata": {},
   "outputs": [],
   "source": [
    "# word_tokenize\n",
    "df[\"products_wt\"]=df[\"products\"].apply(lambda x: word_tokenize(x, format=\"text\"))"
   ]
  },
  {
   "cell_type": "code",
   "execution_count": 12,
   "id": "6781bbbb",
   "metadata": {},
   "outputs": [
    {
     "data": {
      "text/html": [
       "<div>\n",
       "<style scoped>\n",
       "    .dataframe tbody tr th:only-of-type {\n",
       "        vertical-align: middle;\n",
       "    }\n",
       "\n",
       "    .dataframe tbody tr th {\n",
       "        vertical-align: top;\n",
       "    }\n",
       "\n",
       "    .dataframe thead th {\n",
       "        text-align: right;\n",
       "    }\n",
       "</style>\n",
       "<table border=\"1\" class=\"dataframe\">\n",
       "  <thead>\n",
       "    <tr style=\"text-align: right;\">\n",
       "      <th></th>\n",
       "      <th>products</th>\n",
       "      <th>products_wt</th>\n",
       "    </tr>\n",
       "  </thead>\n",
       "  <tbody>\n",
       "    <tr>\n",
       "      <th>0</th>\n",
       "      <td>Kem Dưỡng Da Ban Ngày Trắng Hồng Rạng Rỡ Pond'...</td>\n",
       "      <td>Kem Dưỡng_Da Ban_Ngày Trắng_Hồng Rạng_Rỡ Pond'...</td>\n",
       "    </tr>\n",
       "    <tr>\n",
       "      <th>1</th>\n",
       "      <td>Kem Dưỡng Da Đêm Ngày Trắng Hồng Rạng Rỡ Pond'...</td>\n",
       "      <td>Kem Dưỡng_Da_Đêm Ngày Trắng_Hồng Rạng_Rỡ Pond'...</td>\n",
       "    </tr>\n",
       "    <tr>\n",
       "      <th>2</th>\n",
       "      <td>Kem Dưỡng Trắng Da Ban Đêm Senka White Beauty ...</td>\n",
       "      <td>Kem Dưỡng_Trắng Da_Ban_Đêm Senka White_Beauty ...</td>\n",
       "    </tr>\n",
       "    <tr>\n",
       "      <th>3</th>\n",
       "      <td>Kem dưỡng nâng tông da trắng hồng tự nhiên Lan...</td>\n",
       "      <td>Kem dưỡng nâng tông da trắng hồng tự_nhiên Lan...</td>\n",
       "    </tr>\n",
       "    <tr>\n",
       "      <th>4</th>\n",
       "      <td>Kem Dưỡng Nivea Ngọc Trai Làm Sáng Da Ban Đêm ...</td>\n",
       "      <td>Kem Dưỡng_Nivea Ngọc_Trai Làm_Sáng Da_Ban Đêm ...</td>\n",
       "    </tr>\n",
       "  </tbody>\n",
       "</table>\n",
       "</div>"
      ],
      "text/plain": [
       "                                            products  \\\n",
       "0  Kem Dưỡng Da Ban Ngày Trắng Hồng Rạng Rỡ Pond'...   \n",
       "1  Kem Dưỡng Da Đêm Ngày Trắng Hồng Rạng Rỡ Pond'...   \n",
       "2  Kem Dưỡng Trắng Da Ban Đêm Senka White Beauty ...   \n",
       "3  Kem dưỡng nâng tông da trắng hồng tự nhiên Lan...   \n",
       "4  Kem Dưỡng Nivea Ngọc Trai Làm Sáng Da Ban Đêm ...   \n",
       "\n",
       "                                         products_wt  \n",
       "0  Kem Dưỡng_Da Ban_Ngày Trắng_Hồng Rạng_Rỡ Pond'...  \n",
       "1  Kem Dưỡng_Da_Đêm Ngày Trắng_Hồng Rạng_Rỡ Pond'...  \n",
       "2  Kem Dưỡng_Trắng Da_Ban_Đêm Senka White_Beauty ...  \n",
       "3  Kem dưỡng nâng tông da trắng hồng tự_nhiên Lan...  \n",
       "4  Kem Dưỡng_Nivea Ngọc_Trai Làm_Sáng Da_Ban Đêm ...  "
      ]
     },
     "execution_count": 12,
     "metadata": {},
     "output_type": "execute_result"
    }
   ],
   "source": [
    "df.head()"
   ]
  },
  {
   "cell_type": "markdown",
   "id": "9d8fc1ed",
   "metadata": {},
   "source": [
    "### genshim"
   ]
  },
  {
   "cell_type": "code",
   "execution_count": 13,
   "id": "87ebb23c",
   "metadata": {},
   "outputs": [],
   "source": [
    "# Tokenize(split) the sentences into words\n",
    "products_gem = [[text for text in x.split()] for x in df.products_wt]"
   ]
  },
  {
   "cell_type": "code",
   "execution_count": 14,
   "id": "6dc27e76",
   "metadata": {},
   "outputs": [
    {
     "data": {
      "text/plain": [
       "9"
      ]
     },
     "execution_count": 14,
     "metadata": {},
     "output_type": "execute_result"
    }
   ],
   "source": [
    "len(products_gem)"
   ]
  },
  {
   "cell_type": "code",
   "execution_count": 15,
   "id": "1b9ab7ad",
   "metadata": {},
   "outputs": [
    {
     "data": {
      "text/plain": [
       "[['Kem',\n",
       "  'Dưỡng_Da',\n",
       "  'Ban_Ngày',\n",
       "  'Trắng_Hồng',\n",
       "  'Rạng_Rỡ',\n",
       "  \"Pond's_White\",\n",
       "  'Beauty',\n",
       "  '50',\n",
       "  'g',\n",
       "  'với',\n",
       "  'công_thức',\n",
       "  'phức_hợp_dưỡng',\n",
       "  'trắng',\n",
       "  'Vitamin_B3',\n",
       "  'giúp',\n",
       "  'tăng_cường',\n",
       "  'khả_năng',\n",
       "  'dưỡng_trắng',\n",
       "  'từ',\n",
       "  'sâu',\n",
       "  'bên',\n",
       "  'trong',\n",
       "  ',',\n",
       "  'làm',\n",
       "  'mờ',\n",
       "  'vết',\n",
       "  'thâm_sạm',\n",
       "  ',',\n",
       "  'cho',\n",
       "  'làn',\n",
       "  'da',\n",
       "  'trắng',\n",
       "  'hồng',\n",
       "  'rạng_rỡ',\n",
       "  'bên',\n",
       "  'ngoài',\n",
       "  '.']]"
      ]
     },
     "execution_count": 15,
     "metadata": {},
     "output_type": "execute_result"
    }
   ],
   "source": [
    "products_gem[:1]"
   ]
  },
  {
   "cell_type": "code",
   "execution_count": 16,
   "id": "a193f5ea",
   "metadata": {},
   "outputs": [],
   "source": [
    "# phần này viết thành function, bỏ bớt những từ ko cần thiết\n",
    "products_gem_re = [[re.sub('[0-9]+','', e) for e in text] for text in products_gem] # số\n",
    "products_gem_re = [[t.lower() for t in text if not t in ['', ' ', ',', '.', '...', '-',':', ';', '?', '%', '(', ')', '+', '/', 'g', 'ml']] for text in  products_gem_re] # ký tự đặc biệt\n",
    "products_gem_re = [[t for t in text if not t in stop_words] for text in products_gem_re] # stopword\n",
    "# ..."
   ]
  },
  {
   "cell_type": "code",
   "execution_count": 17,
   "id": "fa223e51",
   "metadata": {},
   "outputs": [],
   "source": [
    "dictionary = corpora.Dictionary(products_gem_re)"
   ]
  },
  {
   "cell_type": "code",
   "execution_count": 18,
   "id": "979364b6",
   "metadata": {},
   "outputs": [
    {
     "data": {
      "text/plain": [
       "{'ban_ngày': 0,\n",
       " 'beauty': 1,\n",
       " 'công_thức': 2,\n",
       " 'da': 3,\n",
       " 'dưỡng_da': 4,\n",
       " 'dưỡng_trắng': 5,\n",
       " 'giúp': 6,\n",
       " 'hồng': 7,\n",
       " 'kem': 8,\n",
       " 'khả_năng': 9,\n",
       " 'làn': 10,\n",
       " 'mờ': 11,\n",
       " 'phức_hợp_dưỡng': 12,\n",
       " \"pond's_white\": 13,\n",
       " 'rạng_rỡ': 14,\n",
       " 'sâu': 15,\n",
       " 'thâm_sạm': 16,\n",
       " 'trắng': 17,\n",
       " 'trắng_hồng': 18,\n",
       " 'tăng_cường': 19,\n",
       " 'vitamin_b': 20,\n",
       " 'vết': 21,\n",
       " 'dưỡng_da_đêm': 22,\n",
       " 'liên_tục': 23,\n",
       " 'mịn': 24,\n",
       " 'suốt': 25,\n",
       " 'đêm': 26,\n",
       " 'ban_đêm': 27,\n",
       " 'bổ_sung': 28,\n",
       " 'cream': 29,\n",
       " 'công_nghệ': 30,\n",
       " 'cần_thiết': 31,\n",
       " 'da_ban_đêm': 32,\n",
       " 'dưỡng': 33,\n",
       " 'dưỡng_chất': 34,\n",
       " 'glow_gel': 35,\n",
       " 'hiệu_quả': 36,\n",
       " 'kem_dưỡng': 37,\n",
       " 'mịn_màng': 38,\n",
       " 'natu-ence': 39,\n",
       " 'nâng': 40,\n",
       " 'senka': 41,\n",
       " 'shiseido': 42,\n",
       " 'thiên_nhiên': 43,\n",
       " 'tiên_tiến': 44,\n",
       " 'vượt_trội': 45,\n",
       " 'white_beauty': 46,\n",
       " 'độ_ẩm': 47,\n",
       " 'độc_quyền': 48,\n",
       " 'chứa': 49,\n",
       " 'dew_tone': 50,\n",
       " 'dạng': 51,\n",
       " 'dầu': 52,\n",
       " 'giàu': 53,\n",
       " 'kết_cấu': 54,\n",
       " 'laneige_white': 55,\n",
       " 'màu': 56,\n",
       " 'màu_da': 57,\n",
       " 'sữa_dưỡng': 58,\n",
       " 'tio': 59,\n",
       " 'titanium_dioxide': 60,\n",
       " 'tông': 61,\n",
       " 'tối': 62,\n",
       " 'tự_nhiên': 63,\n",
       " 'up': 64,\n",
       " 'vàng': 65,\n",
       " 'xỉn': 66,\n",
       " 'bắt': 67,\n",
       " 'chiết_xuất': 68,\n",
       " 'da_ban': 69,\n",
       " 'dưỡng_nivea': 70,\n",
       " 'face_cream': 71,\n",
       " 'filler_pearl': 72,\n",
       " 'in': 73,\n",
       " 'không': 74,\n",
       " 'làm_sáng': 75,\n",
       " 'ngại': 76,\n",
       " 'ngọc_trai': 77,\n",
       " 'nuôi_dưỡng': 78,\n",
       " 'nắng': 79,\n",
       " 'pearl': 80,\n",
       " 'sạm': 81,\n",
       " 'trắng_mượt': 82,\n",
       " 'white_night': 83,\n",
       " 'đen': 84,\n",
       " '._g': 85,\n",
       " 'bám': 86,\n",
       " 'che_phủ': 87,\n",
       " 'dính': 88,\n",
       " 'fit': 89,\n",
       " 'hoàn_hảo': 90,\n",
       " 'laneige_light': 91,\n",
       " 'màu_sắc': 92,\n",
       " 'mỏng': 93,\n",
       " 'nhẹ': 94,\n",
       " 'nén': 95,\n",
       " 'pact': 96,\n",
       " 'phấn': 97,\n",
       " 'phủ_dưỡng': 98,\n",
       " 'thể_hiện': 99,\n",
       " 'độ': 100,\n",
       " 'ẩm_dạng': 101,\n",
       " 'bã': 102,\n",
       " 'bạc_hà': 103,\n",
       " 'bột': 104,\n",
       " 'bột_khoáng': 105,\n",
       " 'chiết': 106,\n",
       " 'dư_thừa': 107,\n",
       " 'dầu_dạng': 108,\n",
       " 'hút': 109,\n",
       " 'hạt': 110,\n",
       " 'innisfree_no': 111,\n",
       " 'kiềm': 112,\n",
       " 'loại_bỏ': 113,\n",
       " 'nhờn': 114,\n",
       " 'phủ_kiềm': 115,\n",
       " 'powder': 116,\n",
       " 'sebum_mineral': 117,\n",
       " 'xuất': 118,\n",
       " 'chuyên_biệt': 119,\n",
       " 'hóa': 120,\n",
       " 'lão': 121,\n",
       " 'miracle': 122,\n",
       " 'ngăn_ngừa': 123,\n",
       " \"pond's_age\": 124,\n",
       " 'rửa_mặt': 125,\n",
       " 'sữa': 126,\n",
       " 'thúc_đẩy': 127,\n",
       " 'tái_tạo': 128,\n",
       " 'đẩy_lùi': 129,\n",
       " 'cleanser': 130,\n",
       " 'căng': 131,\n",
       " 'da_innisfree': 132,\n",
       " 'jeju_pomegranate': 133,\n",
       " 'khô': 134,\n",
       " 'lão_hóa': 135,\n",
       " 'lựu_giúp': 136,\n",
       " 'revitalizing_foam': 137,\n",
       " 'sạch': 138,\n",
       " 'ép_lựu': 139}"
      ]
     },
     "execution_count": 18,
     "metadata": {},
     "output_type": "execute_result"
    }
   ],
   "source": [
    "dictionary.token2id"
   ]
  },
  {
   "cell_type": "code",
   "execution_count": 20,
   "id": "daa45a22",
   "metadata": {},
   "outputs": [
    {
     "data": {
      "text/plain": [
       "140"
      ]
     },
     "execution_count": 20,
     "metadata": {},
     "output_type": "execute_result"
    }
   ],
   "source": [
    "# Numbers of features (word) in dictionary\n",
    "feature_cnt = len(dictionary.token2id)\n",
    "feature_cnt"
   ]
  },
  {
   "cell_type": "code",
   "execution_count": 21,
   "id": "006136d0",
   "metadata": {},
   "outputs": [],
   "source": [
    "# Obtain corpus based on dictionary (dense matrix)\n",
    "corpus = [dictionary.doc2bow(text) for text in products_gem_re]"
   ]
  },
  {
   "cell_type": "code",
   "execution_count": 24,
   "id": "9f279422",
   "metadata": {},
   "outputs": [
    {
     "data": {
      "text/plain": [
       "[(0, 1),\n",
       " (1, 1),\n",
       " (2, 1),\n",
       " (3, 1),\n",
       " (4, 1),\n",
       " (5, 1),\n",
       " (6, 1),\n",
       " (7, 1),\n",
       " (8, 1),\n",
       " (9, 1),\n",
       " (10, 1),\n",
       " (11, 1),\n",
       " (12, 1),\n",
       " (13, 1),\n",
       " (14, 2),\n",
       " (15, 1),\n",
       " (16, 1),\n",
       " (17, 2),\n",
       " (18, 1),\n",
       " (19, 1),\n",
       " (20, 1),\n",
       " (21, 1)]"
      ]
     },
     "execution_count": 24,
     "metadata": {},
     "output_type": "execute_result"
    }
   ],
   "source": [
    "corpus[0] # id và số lần xuất hiện của token trong văn bản"
   ]
  },
  {
   "cell_type": "code",
   "execution_count": 25,
   "id": "53c53529",
   "metadata": {},
   "outputs": [],
   "source": [
    "# Use TF-IDF Model to process corpus, obtaining index\n",
    "tfidf = models.TfidfModel(corpus)\n",
    "# tính toán sự tương tự trong ma trận thưa thớt\n",
    "index = similarities.SparseMatrixSimilarity(tfidf[corpus],\n",
    "                                            num_features = feature_cnt)"
   ]
  },
  {
   "cell_type": "code",
   "execution_count": 27,
   "id": "67b922b1",
   "metadata": {},
   "outputs": [
    {
     "data": {
      "text/html": [
       "<div>\n",
       "<style scoped>\n",
       "    .dataframe tbody tr th:only-of-type {\n",
       "        vertical-align: middle;\n",
       "    }\n",
       "\n",
       "    .dataframe tbody tr th {\n",
       "        vertical-align: top;\n",
       "    }\n",
       "\n",
       "    .dataframe thead th {\n",
       "        text-align: right;\n",
       "    }\n",
       "</style>\n",
       "<table border=\"1\" class=\"dataframe\">\n",
       "  <thead>\n",
       "    <tr style=\"text-align: right;\">\n",
       "      <th></th>\n",
       "      <th>products</th>\n",
       "      <th>products_wt</th>\n",
       "    </tr>\n",
       "  </thead>\n",
       "  <tbody>\n",
       "    <tr>\n",
       "      <th>0</th>\n",
       "      <td>Kem Dưỡng Da Ban Ngày Trắng Hồng Rạng Rỡ Pond'...</td>\n",
       "      <td>Kem Dưỡng_Da Ban_Ngày Trắng_Hồng Rạng_Rỡ Pond'...</td>\n",
       "    </tr>\n",
       "  </tbody>\n",
       "</table>\n",
       "</div>"
      ],
      "text/plain": [
       "                                            products  \\\n",
       "0  Kem Dưỡng Da Ban Ngày Trắng Hồng Rạng Rỡ Pond'...   \n",
       "\n",
       "                                         products_wt  \n",
       "0  Kem Dưỡng_Da Ban_Ngày Trắng_Hồng Rạng_Rỡ Pond'...  "
      ]
     },
     "execution_count": 27,
     "metadata": {},
     "output_type": "execute_result"
    }
   ],
   "source": [
    "\n",
    "product_selection = df.head(1)\n",
    "product_selection"
   ]
  },
  {
   "cell_type": "code",
   "execution_count": 28,
   "id": "4a75b7b7",
   "metadata": {},
   "outputs": [],
   "source": [
    "# sản phẩm đang xem\n",
    "name_description_pre = product_selection['products_wt'].to_string(index=False)"
   ]
  },
  {
   "cell_type": "code",
   "execution_count": 29,
   "id": "d5ea39fe",
   "metadata": {},
   "outputs": [],
   "source": [
    "# can phai goi function chuan hoa da ap dung cho cac san pham\n",
    "view_product = name_description_pre.lower().split()"
   ]
  },
  {
   "cell_type": "code",
   "execution_count": 30,
   "id": "13260801",
   "metadata": {},
   "outputs": [],
   "source": [
    "# Convert search words into Sparse Vectors\n",
    "# nhớ xài cái dictionary cũ\n",
    "kw_vector = dictionary.doc2bow(view_product)"
   ]
  },
  {
   "cell_type": "code",
   "execution_count": 31,
   "id": "7d7468a5",
   "metadata": {},
   "outputs": [
    {
     "data": {
      "text/plain": [
       "[(0, 1), (4, 1), (8, 1), (14, 1), (18, 1)]"
      ]
     },
     "execution_count": 31,
     "metadata": {},
     "output_type": "execute_result"
    }
   ],
   "source": [
    "kw_vector"
   ]
  },
  {
   "cell_type": "code",
   "execution_count": 32,
   "id": "6b90e3cb",
   "metadata": {},
   "outputs": [],
   "source": [
    "# similarity calculation\n",
    "sim = index[tfidf[kw_vector]]"
   ]
  },
  {
   "cell_type": "code",
   "execution_count": 33,
   "id": "ea1c2fd7",
   "metadata": {},
   "outputs": [
    {
     "name": "stdout",
     "output_type": "stream",
     "text": [
      "keyword is similar to doc_index 0: 0.59\n",
      "keyword is similar to doc_index 1: 0.27\n",
      "keyword is similar to doc_index 2: 0.01\n",
      "keyword is similar to doc_index 3: 0.01\n",
      "keyword is similar to doc_index 4: 0.01\n",
      "keyword is similar to doc_index 5: 0.00\n",
      "keyword is similar to doc_index 6: 0.00\n",
      "keyword is similar to doc_index 7: 0.00\n",
      "keyword is similar to doc_index 8: 0.00\n"
     ]
    }
   ],
   "source": [
    "# print result\n",
    "for i in range(len(sim)):\n",
    "    # Vì lấy mẫu đầu tiên để xem nên bỏ qua mẫu đầu tiên\n",
    "    print('keyword is similar to doc_index %d: %.2f' % (i, sim[i]))"
   ]
  },
  {
   "cell_type": "code",
   "execution_count": 34,
   "id": "8fa6b2ca",
   "metadata": {},
   "outputs": [],
   "source": [
    "# Giả sử sản phẩm liên quan nhất có index là 1 như trên\n",
    "product_famillier = df.iloc[[1]]"
   ]
  },
  {
   "cell_type": "code",
   "execution_count": 35,
   "id": "72bf3166",
   "metadata": {},
   "outputs": [
    {
     "data": {
      "text/html": [
       "<div>\n",
       "<style scoped>\n",
       "    .dataframe tbody tr th:only-of-type {\n",
       "        vertical-align: middle;\n",
       "    }\n",
       "\n",
       "    .dataframe tbody tr th {\n",
       "        vertical-align: top;\n",
       "    }\n",
       "\n",
       "    .dataframe thead th {\n",
       "        text-align: right;\n",
       "    }\n",
       "</style>\n",
       "<table border=\"1\" class=\"dataframe\">\n",
       "  <thead>\n",
       "    <tr style=\"text-align: right;\">\n",
       "      <th></th>\n",
       "      <th>products</th>\n",
       "      <th>products_wt</th>\n",
       "    </tr>\n",
       "  </thead>\n",
       "  <tbody>\n",
       "    <tr>\n",
       "      <th>1</th>\n",
       "      <td>Kem Dưỡng Da Đêm Ngày Trắng Hồng Rạng Rỡ Pond'...</td>\n",
       "      <td>Kem Dưỡng_Da_Đêm Ngày Trắng_Hồng Rạng_Rỡ Pond'...</td>\n",
       "    </tr>\n",
       "  </tbody>\n",
       "</table>\n",
       "</div>"
      ],
      "text/plain": [
       "                                            products  \\\n",
       "1  Kem Dưỡng Da Đêm Ngày Trắng Hồng Rạng Rỡ Pond'...   \n",
       "\n",
       "                                         products_wt  \n",
       "1  Kem Dưỡng_Da_Đêm Ngày Trắng_Hồng Rạng_Rỡ Pond'...  "
      ]
     },
     "execution_count": 35,
     "metadata": {},
     "output_type": "execute_result"
    }
   ],
   "source": [
    "product_famillier"
   ]
  },
  {
   "cell_type": "markdown",
   "id": "f838b8ce",
   "metadata": {},
   "source": [
    "### cosine_similarity"
   ]
  },
  {
   "cell_type": "code",
   "execution_count": 36,
   "id": "2980ac0a",
   "metadata": {},
   "outputs": [
    {
     "name": "stdout",
     "output_type": "stream",
     "text": [
      "0.9486832980505138\n"
     ]
    }
   ],
   "source": [
    "# mẫu công thức toán \n",
    "from numpy import dot\n",
    "from numpy.linalg import norm\n",
    "X = [1,2]\n",
    "Y = [2,2]\n",
    "cos_sim = dot(X,Y) / (norm(X)*norm(Y))\n",
    "print(cos_sim)"
   ]
  },
  {
   "cell_type": "code",
   "execution_count": null,
   "id": "a389bae8",
   "metadata": {},
   "outputs": [],
   "source": [
    "# vẫn thực hiện các bước như bên trên, sau đó mới vào tfidf"
   ]
  },
  {
   "cell_type": "code",
   "execution_count": 37,
   "id": "33186051",
   "metadata": {},
   "outputs": [],
   "source": [
    "tf = TfidfVectorizer(analyzer='word', min_df=0, stop_words=stop_words)"
   ]
  },
  {
   "cell_type": "code",
   "execution_count": 38,
   "id": "3cac002c",
   "metadata": {},
   "outputs": [],
   "source": [
    "tfidf_matrix = tf.fit_transform(df.products_wt)"
   ]
  },
  {
   "cell_type": "code",
   "execution_count": 39,
   "id": "cc7cff3d",
   "metadata": {},
   "outputs": [],
   "source": [
    "cosine_similarities = cosine_similarity(tfidf_matrix, tfidf_matrix)"
   ]
  },
  {
   "cell_type": "code",
   "execution_count": 40,
   "id": "7798da4e",
   "metadata": {},
   "outputs": [
    {
     "data": {
      "text/plain": [
       "array([[1.        , 0.69519827, 0.1551208 , 0.12374782, 0.15994914,\n",
       "        0.00965768, 0.04347849, 0.04908612, 0.05106241],\n",
       "       [0.69519827, 1.        , 0.15715171, 0.10934188, 0.21851252,\n",
       "        0.01015654, 0.10185011, 0.06193459, 0.0751564 ],\n",
       "       [0.1551208 , 0.15715171, 1.        , 0.19403449, 0.26562584,\n",
       "        0.0304808 , 0.06240797, 0.0773547 , 0.04822855],\n",
       "       [0.12374782, 0.10934188, 0.19403449, 1.        , 0.1497956 ,\n",
       "        0.08191914, 0.08858269, 0.0278274 , 0.08692276],\n",
       "       [0.15994914, 0.21851252, 0.26562584, 0.1497956 , 1.        ,\n",
       "        0.00771569, 0.13257418, 0.06271941, 0.12209577],\n",
       "       [0.00965768, 0.01015654, 0.0304808 , 0.08191914, 0.00771569,\n",
       "        1.        , 0.04378038, 0.00966135, 0.        ],\n",
       "       [0.04347849, 0.10185011, 0.06240797, 0.08858269, 0.13257418,\n",
       "        0.04378038, 1.        , 0.06232388, 0.10206116],\n",
       "       [0.04908612, 0.06193459, 0.0773547 , 0.0278274 , 0.06271941,\n",
       "        0.00966135, 0.06232388, 1.        , 0.14212572],\n",
       "       [0.05106241, 0.0751564 , 0.04822855, 0.08692276, 0.12209577,\n",
       "        0.        , 0.10206116, 0.14212572, 1.        ]])"
      ]
     },
     "execution_count": 40,
     "metadata": {},
     "output_type": "execute_result"
    }
   ],
   "source": [
    "cosine_similarities"
   ]
  },
  {
   "cell_type": "code",
   "execution_count": 41,
   "id": "66edb0d3",
   "metadata": {},
   "outputs": [
    {
     "data": {
      "text/html": [
       "<div>\n",
       "<style scoped>\n",
       "    .dataframe tbody tr th:only-of-type {\n",
       "        vertical-align: middle;\n",
       "    }\n",
       "\n",
       "    .dataframe tbody tr th {\n",
       "        vertical-align: top;\n",
       "    }\n",
       "\n",
       "    .dataframe thead th {\n",
       "        text-align: right;\n",
       "    }\n",
       "</style>\n",
       "<table border=\"1\" class=\"dataframe\">\n",
       "  <thead>\n",
       "    <tr style=\"text-align: right;\">\n",
       "      <th></th>\n",
       "      <th>0</th>\n",
       "      <th>1</th>\n",
       "      <th>2</th>\n",
       "      <th>3</th>\n",
       "      <th>4</th>\n",
       "      <th>5</th>\n",
       "      <th>6</th>\n",
       "      <th>7</th>\n",
       "      <th>8</th>\n",
       "    </tr>\n",
       "  </thead>\n",
       "  <tbody>\n",
       "    <tr>\n",
       "      <th>0</th>\n",
       "      <td>1.000000</td>\n",
       "      <td>0.695198</td>\n",
       "      <td>0.155121</td>\n",
       "      <td>0.123748</td>\n",
       "      <td>0.159949</td>\n",
       "      <td>0.009658</td>\n",
       "      <td>0.043478</td>\n",
       "      <td>0.049086</td>\n",
       "      <td>0.051062</td>\n",
       "    </tr>\n",
       "    <tr>\n",
       "      <th>1</th>\n",
       "      <td>0.695198</td>\n",
       "      <td>1.000000</td>\n",
       "      <td>0.157152</td>\n",
       "      <td>0.109342</td>\n",
       "      <td>0.218513</td>\n",
       "      <td>0.010157</td>\n",
       "      <td>0.101850</td>\n",
       "      <td>0.061935</td>\n",
       "      <td>0.075156</td>\n",
       "    </tr>\n",
       "    <tr>\n",
       "      <th>2</th>\n",
       "      <td>0.155121</td>\n",
       "      <td>0.157152</td>\n",
       "      <td>1.000000</td>\n",
       "      <td>0.194034</td>\n",
       "      <td>0.265626</td>\n",
       "      <td>0.030481</td>\n",
       "      <td>0.062408</td>\n",
       "      <td>0.077355</td>\n",
       "      <td>0.048229</td>\n",
       "    </tr>\n",
       "    <tr>\n",
       "      <th>3</th>\n",
       "      <td>0.123748</td>\n",
       "      <td>0.109342</td>\n",
       "      <td>0.194034</td>\n",
       "      <td>1.000000</td>\n",
       "      <td>0.149796</td>\n",
       "      <td>0.081919</td>\n",
       "      <td>0.088583</td>\n",
       "      <td>0.027827</td>\n",
       "      <td>0.086923</td>\n",
       "    </tr>\n",
       "    <tr>\n",
       "      <th>4</th>\n",
       "      <td>0.159949</td>\n",
       "      <td>0.218513</td>\n",
       "      <td>0.265626</td>\n",
       "      <td>0.149796</td>\n",
       "      <td>1.000000</td>\n",
       "      <td>0.007716</td>\n",
       "      <td>0.132574</td>\n",
       "      <td>0.062719</td>\n",
       "      <td>0.122096</td>\n",
       "    </tr>\n",
       "    <tr>\n",
       "      <th>5</th>\n",
       "      <td>0.009658</td>\n",
       "      <td>0.010157</td>\n",
       "      <td>0.030481</td>\n",
       "      <td>0.081919</td>\n",
       "      <td>0.007716</td>\n",
       "      <td>1.000000</td>\n",
       "      <td>0.043780</td>\n",
       "      <td>0.009661</td>\n",
       "      <td>0.000000</td>\n",
       "    </tr>\n",
       "    <tr>\n",
       "      <th>6</th>\n",
       "      <td>0.043478</td>\n",
       "      <td>0.101850</td>\n",
       "      <td>0.062408</td>\n",
       "      <td>0.088583</td>\n",
       "      <td>0.132574</td>\n",
       "      <td>0.043780</td>\n",
       "      <td>1.000000</td>\n",
       "      <td>0.062324</td>\n",
       "      <td>0.102061</td>\n",
       "    </tr>\n",
       "    <tr>\n",
       "      <th>7</th>\n",
       "      <td>0.049086</td>\n",
       "      <td>0.061935</td>\n",
       "      <td>0.077355</td>\n",
       "      <td>0.027827</td>\n",
       "      <td>0.062719</td>\n",
       "      <td>0.009661</td>\n",
       "      <td>0.062324</td>\n",
       "      <td>1.000000</td>\n",
       "      <td>0.142126</td>\n",
       "    </tr>\n",
       "    <tr>\n",
       "      <th>8</th>\n",
       "      <td>0.051062</td>\n",
       "      <td>0.075156</td>\n",
       "      <td>0.048229</td>\n",
       "      <td>0.086923</td>\n",
       "      <td>0.122096</td>\n",
       "      <td>0.000000</td>\n",
       "      <td>0.102061</td>\n",
       "      <td>0.142126</td>\n",
       "      <td>1.000000</td>\n",
       "    </tr>\n",
       "  </tbody>\n",
       "</table>\n",
       "</div>"
      ],
      "text/plain": [
       "          0         1         2         3         4         5         6  \\\n",
       "0  1.000000  0.695198  0.155121  0.123748  0.159949  0.009658  0.043478   \n",
       "1  0.695198  1.000000  0.157152  0.109342  0.218513  0.010157  0.101850   \n",
       "2  0.155121  0.157152  1.000000  0.194034  0.265626  0.030481  0.062408   \n",
       "3  0.123748  0.109342  0.194034  1.000000  0.149796  0.081919  0.088583   \n",
       "4  0.159949  0.218513  0.265626  0.149796  1.000000  0.007716  0.132574   \n",
       "5  0.009658  0.010157  0.030481  0.081919  0.007716  1.000000  0.043780   \n",
       "6  0.043478  0.101850  0.062408  0.088583  0.132574  0.043780  1.000000   \n",
       "7  0.049086  0.061935  0.077355  0.027827  0.062719  0.009661  0.062324   \n",
       "8  0.051062  0.075156  0.048229  0.086923  0.122096  0.000000  0.102061   \n",
       "\n",
       "          7         8  \n",
       "0  0.049086  0.051062  \n",
       "1  0.061935  0.075156  \n",
       "2  0.077355  0.048229  \n",
       "3  0.027827  0.086923  \n",
       "4  0.062719  0.122096  \n",
       "5  0.009661  0.000000  \n",
       "6  0.062324  0.102061  \n",
       "7  1.000000  0.142126  \n",
       "8  0.142126  1.000000  "
      ]
     },
     "execution_count": 41,
     "metadata": {},
     "output_type": "execute_result"
    }
   ],
   "source": [
    "df_show = pd.DataFrame(cosine_similarities)\n",
    "df_show.head(9)"
   ]
  },
  {
   "cell_type": "code",
   "execution_count": 42,
   "id": "27e3bf0a",
   "metadata": {},
   "outputs": [
    {
     "data": {
      "text/html": [
       "<style type=\"text/css\">\n",
       "#T_f1831_row0_col0, #T_f1831_row1_col1, #T_f1831_row2_col2, #T_f1831_row3_col3, #T_f1831_row4_col4, #T_f1831_row5_col5, #T_f1831_row6_col6, #T_f1831_row7_col7 {\n",
       "  background-color: lightblue;\n",
       "}\n",
       "#T_f1831_row0_col1, #T_f1831_row1_col0, #T_f1831_row1_col4, #T_f1831_row2_col4, #T_f1831_row4_col1, #T_f1831_row4_col2, #T_f1831_row8_col8 {\n",
       "  background-color: green;\n",
       "}\n",
       "#T_f1831_row0_col2, #T_f1831_row0_col3, #T_f1831_row0_col4, #T_f1831_row0_col5, #T_f1831_row0_col6, #T_f1831_row0_col7, #T_f1831_row0_col8, #T_f1831_row1_col2, #T_f1831_row1_col3, #T_f1831_row1_col5, #T_f1831_row1_col6, #T_f1831_row1_col7, #T_f1831_row1_col8, #T_f1831_row2_col0, #T_f1831_row2_col1, #T_f1831_row2_col3, #T_f1831_row2_col5, #T_f1831_row2_col6, #T_f1831_row2_col7, #T_f1831_row2_col8, #T_f1831_row3_col0, #T_f1831_row3_col1, #T_f1831_row3_col2, #T_f1831_row3_col4, #T_f1831_row3_col5, #T_f1831_row3_col6, #T_f1831_row3_col7, #T_f1831_row3_col8, #T_f1831_row4_col0, #T_f1831_row4_col3, #T_f1831_row4_col5, #T_f1831_row4_col6, #T_f1831_row4_col7, #T_f1831_row4_col8, #T_f1831_row5_col0, #T_f1831_row5_col1, #T_f1831_row5_col2, #T_f1831_row5_col3, #T_f1831_row5_col4, #T_f1831_row5_col6, #T_f1831_row5_col7, #T_f1831_row5_col8, #T_f1831_row6_col0, #T_f1831_row6_col1, #T_f1831_row6_col2, #T_f1831_row6_col3, #T_f1831_row6_col4, #T_f1831_row6_col5, #T_f1831_row6_col7, #T_f1831_row6_col8, #T_f1831_row7_col0, #T_f1831_row7_col1, #T_f1831_row7_col2, #T_f1831_row7_col3, #T_f1831_row7_col4, #T_f1831_row7_col5, #T_f1831_row7_col6, #T_f1831_row7_col8, #T_f1831_row8_col0, #T_f1831_row8_col1, #T_f1831_row8_col2, #T_f1831_row8_col3, #T_f1831_row8_col4, #T_f1831_row8_col5, #T_f1831_row8_col6, #T_f1831_row8_col7 {\n",
       "  background-color: white;\n",
       "}\n",
       "</style>\n",
       "<table id=\"T_f1831\">\n",
       "  <thead>\n",
       "    <tr>\n",
       "      <th class=\"blank level0\" >&nbsp;</th>\n",
       "      <th id=\"T_f1831_level0_col0\" class=\"col_heading level0 col0\" >0</th>\n",
       "      <th id=\"T_f1831_level0_col1\" class=\"col_heading level0 col1\" >1</th>\n",
       "      <th id=\"T_f1831_level0_col2\" class=\"col_heading level0 col2\" >2</th>\n",
       "      <th id=\"T_f1831_level0_col3\" class=\"col_heading level0 col3\" >3</th>\n",
       "      <th id=\"T_f1831_level0_col4\" class=\"col_heading level0 col4\" >4</th>\n",
       "      <th id=\"T_f1831_level0_col5\" class=\"col_heading level0 col5\" >5</th>\n",
       "      <th id=\"T_f1831_level0_col6\" class=\"col_heading level0 col6\" >6</th>\n",
       "      <th id=\"T_f1831_level0_col7\" class=\"col_heading level0 col7\" >7</th>\n",
       "      <th id=\"T_f1831_level0_col8\" class=\"col_heading level0 col8\" >8</th>\n",
       "    </tr>\n",
       "  </thead>\n",
       "  <tbody>\n",
       "    <tr>\n",
       "      <th id=\"T_f1831_level0_row0\" class=\"row_heading level0 row0\" >0</th>\n",
       "      <td id=\"T_f1831_row0_col0\" class=\"data row0 col0\" >1.000000</td>\n",
       "      <td id=\"T_f1831_row0_col1\" class=\"data row0 col1\" >0.695198</td>\n",
       "      <td id=\"T_f1831_row0_col2\" class=\"data row0 col2\" >0.155121</td>\n",
       "      <td id=\"T_f1831_row0_col3\" class=\"data row0 col3\" >0.123748</td>\n",
       "      <td id=\"T_f1831_row0_col4\" class=\"data row0 col4\" >0.159949</td>\n",
       "      <td id=\"T_f1831_row0_col5\" class=\"data row0 col5\" >0.009658</td>\n",
       "      <td id=\"T_f1831_row0_col6\" class=\"data row0 col6\" >0.043478</td>\n",
       "      <td id=\"T_f1831_row0_col7\" class=\"data row0 col7\" >0.049086</td>\n",
       "      <td id=\"T_f1831_row0_col8\" class=\"data row0 col8\" >0.051062</td>\n",
       "    </tr>\n",
       "    <tr>\n",
       "      <th id=\"T_f1831_level0_row1\" class=\"row_heading level0 row1\" >1</th>\n",
       "      <td id=\"T_f1831_row1_col0\" class=\"data row1 col0\" >0.695198</td>\n",
       "      <td id=\"T_f1831_row1_col1\" class=\"data row1 col1\" >1.000000</td>\n",
       "      <td id=\"T_f1831_row1_col2\" class=\"data row1 col2\" >0.157152</td>\n",
       "      <td id=\"T_f1831_row1_col3\" class=\"data row1 col3\" >0.109342</td>\n",
       "      <td id=\"T_f1831_row1_col4\" class=\"data row1 col4\" >0.218513</td>\n",
       "      <td id=\"T_f1831_row1_col5\" class=\"data row1 col5\" >0.010157</td>\n",
       "      <td id=\"T_f1831_row1_col6\" class=\"data row1 col6\" >0.101850</td>\n",
       "      <td id=\"T_f1831_row1_col7\" class=\"data row1 col7\" >0.061935</td>\n",
       "      <td id=\"T_f1831_row1_col8\" class=\"data row1 col8\" >0.075156</td>\n",
       "    </tr>\n",
       "    <tr>\n",
       "      <th id=\"T_f1831_level0_row2\" class=\"row_heading level0 row2\" >2</th>\n",
       "      <td id=\"T_f1831_row2_col0\" class=\"data row2 col0\" >0.155121</td>\n",
       "      <td id=\"T_f1831_row2_col1\" class=\"data row2 col1\" >0.157152</td>\n",
       "      <td id=\"T_f1831_row2_col2\" class=\"data row2 col2\" >1.000000</td>\n",
       "      <td id=\"T_f1831_row2_col3\" class=\"data row2 col3\" >0.194034</td>\n",
       "      <td id=\"T_f1831_row2_col4\" class=\"data row2 col4\" >0.265626</td>\n",
       "      <td id=\"T_f1831_row2_col5\" class=\"data row2 col5\" >0.030481</td>\n",
       "      <td id=\"T_f1831_row2_col6\" class=\"data row2 col6\" >0.062408</td>\n",
       "      <td id=\"T_f1831_row2_col7\" class=\"data row2 col7\" >0.077355</td>\n",
       "      <td id=\"T_f1831_row2_col8\" class=\"data row2 col8\" >0.048229</td>\n",
       "    </tr>\n",
       "    <tr>\n",
       "      <th id=\"T_f1831_level0_row3\" class=\"row_heading level0 row3\" >3</th>\n",
       "      <td id=\"T_f1831_row3_col0\" class=\"data row3 col0\" >0.123748</td>\n",
       "      <td id=\"T_f1831_row3_col1\" class=\"data row3 col1\" >0.109342</td>\n",
       "      <td id=\"T_f1831_row3_col2\" class=\"data row3 col2\" >0.194034</td>\n",
       "      <td id=\"T_f1831_row3_col3\" class=\"data row3 col3\" >1.000000</td>\n",
       "      <td id=\"T_f1831_row3_col4\" class=\"data row3 col4\" >0.149796</td>\n",
       "      <td id=\"T_f1831_row3_col5\" class=\"data row3 col5\" >0.081919</td>\n",
       "      <td id=\"T_f1831_row3_col6\" class=\"data row3 col6\" >0.088583</td>\n",
       "      <td id=\"T_f1831_row3_col7\" class=\"data row3 col7\" >0.027827</td>\n",
       "      <td id=\"T_f1831_row3_col8\" class=\"data row3 col8\" >0.086923</td>\n",
       "    </tr>\n",
       "    <tr>\n",
       "      <th id=\"T_f1831_level0_row4\" class=\"row_heading level0 row4\" >4</th>\n",
       "      <td id=\"T_f1831_row4_col0\" class=\"data row4 col0\" >0.159949</td>\n",
       "      <td id=\"T_f1831_row4_col1\" class=\"data row4 col1\" >0.218513</td>\n",
       "      <td id=\"T_f1831_row4_col2\" class=\"data row4 col2\" >0.265626</td>\n",
       "      <td id=\"T_f1831_row4_col3\" class=\"data row4 col3\" >0.149796</td>\n",
       "      <td id=\"T_f1831_row4_col4\" class=\"data row4 col4\" >1.000000</td>\n",
       "      <td id=\"T_f1831_row4_col5\" class=\"data row4 col5\" >0.007716</td>\n",
       "      <td id=\"T_f1831_row4_col6\" class=\"data row4 col6\" >0.132574</td>\n",
       "      <td id=\"T_f1831_row4_col7\" class=\"data row4 col7\" >0.062719</td>\n",
       "      <td id=\"T_f1831_row4_col8\" class=\"data row4 col8\" >0.122096</td>\n",
       "    </tr>\n",
       "    <tr>\n",
       "      <th id=\"T_f1831_level0_row5\" class=\"row_heading level0 row5\" >5</th>\n",
       "      <td id=\"T_f1831_row5_col0\" class=\"data row5 col0\" >0.009658</td>\n",
       "      <td id=\"T_f1831_row5_col1\" class=\"data row5 col1\" >0.010157</td>\n",
       "      <td id=\"T_f1831_row5_col2\" class=\"data row5 col2\" >0.030481</td>\n",
       "      <td id=\"T_f1831_row5_col3\" class=\"data row5 col3\" >0.081919</td>\n",
       "      <td id=\"T_f1831_row5_col4\" class=\"data row5 col4\" >0.007716</td>\n",
       "      <td id=\"T_f1831_row5_col5\" class=\"data row5 col5\" >1.000000</td>\n",
       "      <td id=\"T_f1831_row5_col6\" class=\"data row5 col6\" >0.043780</td>\n",
       "      <td id=\"T_f1831_row5_col7\" class=\"data row5 col7\" >0.009661</td>\n",
       "      <td id=\"T_f1831_row5_col8\" class=\"data row5 col8\" >0.000000</td>\n",
       "    </tr>\n",
       "    <tr>\n",
       "      <th id=\"T_f1831_level0_row6\" class=\"row_heading level0 row6\" >6</th>\n",
       "      <td id=\"T_f1831_row6_col0\" class=\"data row6 col0\" >0.043478</td>\n",
       "      <td id=\"T_f1831_row6_col1\" class=\"data row6 col1\" >0.101850</td>\n",
       "      <td id=\"T_f1831_row6_col2\" class=\"data row6 col2\" >0.062408</td>\n",
       "      <td id=\"T_f1831_row6_col3\" class=\"data row6 col3\" >0.088583</td>\n",
       "      <td id=\"T_f1831_row6_col4\" class=\"data row6 col4\" >0.132574</td>\n",
       "      <td id=\"T_f1831_row6_col5\" class=\"data row6 col5\" >0.043780</td>\n",
       "      <td id=\"T_f1831_row6_col6\" class=\"data row6 col6\" >1.000000</td>\n",
       "      <td id=\"T_f1831_row6_col7\" class=\"data row6 col7\" >0.062324</td>\n",
       "      <td id=\"T_f1831_row6_col8\" class=\"data row6 col8\" >0.102061</td>\n",
       "    </tr>\n",
       "    <tr>\n",
       "      <th id=\"T_f1831_level0_row7\" class=\"row_heading level0 row7\" >7</th>\n",
       "      <td id=\"T_f1831_row7_col0\" class=\"data row7 col0\" >0.049086</td>\n",
       "      <td id=\"T_f1831_row7_col1\" class=\"data row7 col1\" >0.061935</td>\n",
       "      <td id=\"T_f1831_row7_col2\" class=\"data row7 col2\" >0.077355</td>\n",
       "      <td id=\"T_f1831_row7_col3\" class=\"data row7 col3\" >0.027827</td>\n",
       "      <td id=\"T_f1831_row7_col4\" class=\"data row7 col4\" >0.062719</td>\n",
       "      <td id=\"T_f1831_row7_col5\" class=\"data row7 col5\" >0.009661</td>\n",
       "      <td id=\"T_f1831_row7_col6\" class=\"data row7 col6\" >0.062324</td>\n",
       "      <td id=\"T_f1831_row7_col7\" class=\"data row7 col7\" >1.000000</td>\n",
       "      <td id=\"T_f1831_row7_col8\" class=\"data row7 col8\" >0.142126</td>\n",
       "    </tr>\n",
       "    <tr>\n",
       "      <th id=\"T_f1831_level0_row8\" class=\"row_heading level0 row8\" >8</th>\n",
       "      <td id=\"T_f1831_row8_col0\" class=\"data row8 col0\" >0.051062</td>\n",
       "      <td id=\"T_f1831_row8_col1\" class=\"data row8 col1\" >0.075156</td>\n",
       "      <td id=\"T_f1831_row8_col2\" class=\"data row8 col2\" >0.048229</td>\n",
       "      <td id=\"T_f1831_row8_col3\" class=\"data row8 col3\" >0.086923</td>\n",
       "      <td id=\"T_f1831_row8_col4\" class=\"data row8 col4\" >0.122096</td>\n",
       "      <td id=\"T_f1831_row8_col5\" class=\"data row8 col5\" >0.000000</td>\n",
       "      <td id=\"T_f1831_row8_col6\" class=\"data row8 col6\" >0.102061</td>\n",
       "      <td id=\"T_f1831_row8_col7\" class=\"data row8 col7\" >0.142126</td>\n",
       "      <td id=\"T_f1831_row8_col8\" class=\"data row8 col8\" >1.000000</td>\n",
       "    </tr>\n",
       "  </tbody>\n",
       "</table>\n"
      ],
      "text/plain": [
       "<pandas.io.formats.style.Styler at 0x25b405f6bc0>"
      ]
     },
     "execution_count": 42,
     "metadata": {},
     "output_type": "execute_result"
    }
   ],
   "source": [
    "df_show.style.applymap(lambda x: \"background-color: lightblue\" if x>=1.0 else \"background-color: green\" if x>=0.2 and x<1.0 else \"background-color: white\")"
   ]
  },
  {
   "cell_type": "code",
   "execution_count": 43,
   "id": "866af1f4",
   "metadata": {},
   "outputs": [
    {
     "name": "stdout",
     "output_type": "stream",
     "text": [
      "[(0.15512079719991662, 2), (0.15994914305652225, 4), (0.6951982684968354, 1)]\n",
      "[(0.15715171135957345, 2), (0.218512522363034, 4), (0.6951982684968354, 0)]\n",
      "[(0.15715171135957345, 1), (0.19403448802686324, 3), (0.26562584202409356, 4)]\n",
      "[(0.12374782171555312, 0), (0.14979560104276052, 4), (0.19403448802686324, 2)]\n",
      "[(0.15994914305652225, 0), (0.218512522363034, 1), (0.26562584202409356, 2)]\n",
      "[(0.03048080117011501, 2), (0.043780376453166577, 6), (0.08191914396190085, 3)]\n",
      "[(0.10185010798524011, 1), (0.1020611638551705, 8), (0.13257417789271964, 4)]\n",
      "[(0.06271940602042296, 4), (0.07735469936250719, 2), (0.14212571768388169, 8)]\n",
      "[(0.1020611638551705, 6), (0.12209577477360442, 4), (0.14212571768388169, 7)]\n"
     ]
    }
   ],
   "source": [
    "# với mỗi sản phẩm, lấy 3 sản phẩm tương quan nhất\n",
    "# function lay x san pham tuong quan nhat\n",
    "# def find_highest_score(cosine_similarities, nums = 3):\n",
    "results = {}\n",
    "\n",
    "for idx, row in df.iterrows():\n",
    "    similar_indices = cosine_similarities[idx].argsort()[-4:-1]\n",
    "    similar_items = [(cosine_similarities[idx][i]) for i in similar_indices]\n",
    "    similar_items = [(cosine_similarities[idx][i], df.index[i]) for i in similar_indices]\n",
    "    print(similar_items[0:])\n",
    "    results[idx] = similar_items[0:]"
   ]
  },
  {
   "cell_type": "code",
   "execution_count": 44,
   "id": "0704ed47",
   "metadata": {},
   "outputs": [
    {
     "data": {
      "text/plain": [
       "[(0.15512079719991662, 2), (0.15994914305652225, 4), (0.6951982684968354, 1)]"
      ]
     },
     "execution_count": 44,
     "metadata": {},
     "output_type": "execute_result"
    }
   ],
   "source": [
    "# người dùng chọn sản phẩm -> lấy đc id sp -> dò vào ma trận kết quả theo id -> ra đc các id của sản phẩm liên quan -> show sp liên quan\n",
    "results[0]"
   ]
  },
  {
   "cell_type": "code",
   "execution_count": null,
   "id": "c6fd19b7",
   "metadata": {},
   "outputs": [],
   "source": []
  },
  {
   "cell_type": "code",
   "execution_count": null,
   "id": "c3844ace",
   "metadata": {},
   "outputs": [],
   "source": []
  },
  {
   "cell_type": "code",
   "execution_count": null,
   "id": "0f80a8d9",
   "metadata": {},
   "outputs": [],
   "source": []
  }
 ],
 "metadata": {
  "kernelspec": {
   "display_name": "Python 3 (ipykernel)",
   "language": "python",
   "name": "python3"
  },
  "language_info": {
   "codemirror_mode": {
    "name": "ipython",
    "version": 3
   },
   "file_extension": ".py",
   "mimetype": "text/x-python",
   "name": "python",
   "nbconvert_exporter": "python",
   "pygments_lexer": "ipython3",
   "version": "3.10.4"
  }
 },
 "nbformat": 4,
 "nbformat_minor": 5
}
