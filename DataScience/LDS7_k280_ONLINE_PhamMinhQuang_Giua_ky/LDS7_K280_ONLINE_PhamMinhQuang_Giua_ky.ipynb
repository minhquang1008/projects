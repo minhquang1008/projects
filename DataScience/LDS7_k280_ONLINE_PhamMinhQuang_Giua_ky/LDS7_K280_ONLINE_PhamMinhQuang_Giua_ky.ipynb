{
 "cells": [
  {
   "cell_type": "markdown",
   "metadata": {
    "id": "47v24UxrhNRb"
   },
   "source": [
    "## Đề thi giữa kỳ:\n",
    "# LDS7: R PROGRAMMING LANGUAGE FOR DATA SCIENCE\n",
    "### Thời gian làm bài : <font color=\"red\">từ khi nhận đề đến 10h30, Chủ Nhật ngày 27/11/2022 </font>\n",
    "#### Đọc kỹ các thông tin dưới đây trước khi làm bài:\n",
    "- Download folder được share sau đó đổi tên folder và tập tin đề thi ở phần được tô đỏ là họ và tên của bạn LDS7_k280_ONLINE_<font color=\"red\">HoVaTen_</font>_Giua_ky và LDS7_k280_ONLINE__<font color=\"red\">HoVaTen</font>_Giua_ky.ipynb \n",
    "- Làm bài thi vào tập tin LDS7_k280_ONLINE_<font color=\"red\">HoVaTen_</font>_Giua_ky.ipynb trong folder LDS7_k280_ONLINE__<font color=\"red\">HoVaTen_</font>_Giua_ky\n",
    "- Upload folder chứa bài thi vào folder **LDS7_k280_ONLINE_HoVaTen** đã share trên Google Drive để GV chấm điểm.\n",
    "- Đến deadline, HV upload bài thi lên folder, HV không gửi bài thi sẽ không có điểm.\n",
    "- HV được sử dụng tài liệu.\n",
    "-\tHV sẽ bị trừ điểm nếu bài làm giống nhau.\n"
   ]
  },
  {
   "cell_type": "markdown",
   "metadata": {
    "id": "K7i6v1hSu9YT"
   },
   "source": [
    "#### <font color=\"red\">Chú ý: Tất cả các tập tin tạo ra ở Câu 4 HV nhớ nộp kèm luôn trong folder chứa bài thi.</font>"
   ]
  },
  {
   "cell_type": "markdown",
   "metadata": {
    "id": "CCZB6OAWtmD7"
   },
   "source": [
    "## Câu 1: Vector\n",
    "### Yêu cầu : Viết chương trình xử lý vector như sau\n",
    "1. Chương trình sẽ tạo ra 2 vector : vec1 và vec2 như sau :\n",
    "    -  Người dùng nhập số lượng phần tử cho vec1, vec2 lần lượt là n, m\n",
    "    -  Hệ thống tạo ra n phần tử số nguyên ngẫu nhiên cho vec1, m phần tử số nguyên ngẫu nhiên cho vec2\n",
    "2. Cho biết những phần tử chỉ có trong vec1 mà không có trong vec2\n",
    "3. Cho biết những phần tử xuất hiện trong cả vec1 và vec2\n",
    "4. Tạo 1 vector mới là vec12 chứa tất cả các phần tử của vec1 và vec2. Thống kê số lần xuất hiện của từng phần tử. Phần tử nào xuất hiện nhiều lần nhất ?\n",
    "5. Tạo 1 vector mới là vec_unique chỉ chứa những phần tử duy nhất từ vec12\n",
    "### Ví dụ :\n",
    "- Người dùng nhập n = 3\n",
    "- Người dùng nhập m= 2\n",
    "- Hệ thống tạo ra: vec1 = c(23, 18, 7), vec2 = c(15, 18)\n",
    "- Phần tử xuất hiện trong cả vec1 và vec2 là: 18\n",
    "- vec12 = c(23, 18, 7, 15, 18)\n",
    "#### Thống kê:\n",
    "- 23: xuất hiện 1 lần\n",
    "- 18: xuất hiện 2 lần\n",
    "- 7: xuất hiện 1 lần\n",
    "- 15: xuất hiện 1 lần\n",
    "- Phần tử xuất hiện nhiều nhất là 18 với 2 lần\n",
    "#### vec_unique = c(23, 18, 7, 15)"
   ]
  },
  {
   "cell_type": "code",
   "execution_count": 13,
   "metadata": {
    "id": "8QbTvyLjtqIK"
   },
   "outputs": [
    {
     "name": "stdout",
     "output_type": "stream",
     "text": [
      "Nhập số lượng phần tử vector 1: 3\n",
      "Nhập số lượng phần tử vector 2: 5\n",
      "[1] 886 852 781\n",
      "[1] 514 585 605 695  92\n"
     ]
    }
   ],
   "source": [
    "#Chương trình sẽ tạo ra 2 vector\n",
    "n=readline(prompt=\"Nhập số lượng phần tử vector 1: \")\n",
    "m=readline(prompt=\"Nhập số lượng phần tử vector 2: \")\n",
    "vec1=round(runif(n = n, 1, 1000),0)\n",
    "vec2=round(runif(n = m,1,1000),0)\n",
    "print(vec1)\n",
    "print(vec2)"
   ]
  },
  {
   "cell_type": "code",
   "execution_count": 14,
   "metadata": {},
   "outputs": [
    {
     "name": "stdout",
     "output_type": "stream",
     "text": [
      "[1] 886 852 781\n"
     ]
    }
   ],
   "source": [
    "#Cho biết những phần tử chỉ có trong vec1 mà không có trong vec2\n",
    "a_elements_not_in_b = setdiff(vec1, vec2)\n",
    "print(a_elements_not_in_b)"
   ]
  },
  {
   "cell_type": "code",
   "execution_count": 19,
   "metadata": {},
   "outputs": [
    {
     "name": "stdout",
     "output_type": "stream",
     "text": [
      "numeric(0)\n"
     ]
    }
   ],
   "source": [
    "#Cho biết những phần tử xuất hiện trong cả vec1 và vec2\n",
    "print(Reduce(intersect, list(vec1,vec2)))"
   ]
  },
  {
   "cell_type": "code",
   "execution_count": 22,
   "metadata": {},
   "outputs": [
    {
     "data": {
      "text/plain": [
       "vec12\n",
       " 92 514 585 605 695 781 852 886 \n",
       "  1   1   1   1   1   1   1   1 "
      ]
     },
     "metadata": {},
     "output_type": "display_data"
    }
   ],
   "source": [
    "#Tạo 1 vector mới là vec12 chứa tất cả các phần tử của vec1 và vec2. Thống kê số lần xuất hiện của từng phần tử. Phần tử nào xuất hiện nhiều lần nhất ?\n",
    "vec12<-c(vec1,vec2)\n",
    "sort(table(vec12),decreasing=TRUE)"
   ]
  },
  {
   "cell_type": "code",
   "execution_count": 28,
   "metadata": {},
   "outputs": [
    {
     "data": {
      "text/html": [
       "<style>\n",
       ".list-inline {list-style: none; margin:0; padding: 0}\n",
       ".list-inline>li {display: inline-block}\n",
       ".list-inline>li:not(:last-child)::after {content: \"\\00b7\"; padding: 0 .5ex}\n",
       "</style>\n",
       "<ol class=list-inline><li>886</li><li>852</li><li>781</li><li>514</li><li>585</li><li>605</li><li>695</li><li>92</li></ol>\n"
      ],
      "text/latex": [
       "\\begin{enumerate*}\n",
       "\\item 886\n",
       "\\item 852\n",
       "\\item 781\n",
       "\\item 514\n",
       "\\item 585\n",
       "\\item 605\n",
       "\\item 695\n",
       "\\item 92\n",
       "\\end{enumerate*}\n"
      ],
      "text/markdown": [
       "1. 886\n",
       "2. 852\n",
       "3. 781\n",
       "4. 514\n",
       "5. 585\n",
       "6. 605\n",
       "7. 695\n",
       "8. 92\n",
       "\n",
       "\n"
      ],
      "text/plain": [
       "[1] 886 852 781 514 585 605 695  92"
      ]
     },
     "metadata": {},
     "output_type": "display_data"
    }
   ],
   "source": [
    "#Tạo 1 vector mới là vec_unique chỉ chứa những phần tử duy nhất từ vec12\n",
    "vec_unique<-unique(vec12, incomparables = FALSE)\n",
    "vec_unique"
   ]
  },
  {
   "cell_type": "markdown",
   "metadata": {
    "id": "ypuaTTa8JJ_R"
   },
   "source": [
    "## Câu 2: Danh sách Sinh viên (Dataframe + Data Visualization)\n",
    "### Cho các tập tin dữ liệu liên quan đến sinh viên chứa trong folder **data**. Hãy thực hiện các yêu cầu được liệt kê bên dưới:"
   ]
  },
  {
   "cell_type": "markdown",
   "metadata": {
    "id": "yb442r32JJ_T"
   },
   "source": [
    "#### 1. Tạo dataframe df chứa danh sách các sinh viên khoa CN, khoa TO và khoa VL. Các danh sách này được đọc từ các tập tin sinh_vien_CN.csv, sinh_vien_TO.csv và sinh_vien_VL.csv trong folder data.\n"
   ]
  },
  {
   "cell_type": "code",
   "execution_count": 35,
   "metadata": {
    "id": "jyq3UpzPMXp4"
   },
   "outputs": [
    {
     "name": "stderr",
     "output_type": "stream",
     "text": [
      "\u001b[1mRows: \u001b[22m\u001b[34m500\u001b[39m \u001b[1mColumns: \u001b[22m\u001b[34m10\u001b[39m\n",
      "\u001b[36m──\u001b[39m \u001b[1mColumn specification\u001b[22m \u001b[36m────────────────────────────────────────────────────────────────────────────────────────────────\u001b[39m\n",
      "\u001b[1mDelimiter:\u001b[22m \",\"\n",
      "\u001b[31mchr\u001b[39m  (7): masv, ho, ten, email, didong, cmnd, makh\n",
      "\u001b[32mdbl\u001b[39m  (1): hocbong\n",
      "\u001b[33mlgl\u001b[39m  (1): gioitinh\n",
      "\u001b[34mdttm\u001b[39m (1): ngaysinh\n",
      "\n",
      "\u001b[36mℹ\u001b[39m Use `spec()` to retrieve the full column specification for this data.\n",
      "\u001b[36mℹ\u001b[39m Specify the column types or set `show_col_types = FALSE` to quiet this message.\n",
      "\u001b[1mRows: \u001b[22m\u001b[34m100\u001b[39m \u001b[1mColumns: \u001b[22m\u001b[34m10\u001b[39m\n",
      "\u001b[36m──\u001b[39m \u001b[1mColumn specification\u001b[22m \u001b[36m────────────────────────────────────────────────────────────────────────────────────────────────\u001b[39m\n",
      "\u001b[1mDelimiter:\u001b[22m \",\"\n",
      "\u001b[31mchr\u001b[39m  (7): masv, ho, ten, email, didong, cmnd, makh\n",
      "\u001b[32mdbl\u001b[39m  (1): hocbong\n",
      "\u001b[33mlgl\u001b[39m  (1): gioitinh\n",
      "\u001b[34mdttm\u001b[39m (1): ngaysinh\n",
      "\n",
      "\u001b[36mℹ\u001b[39m Use `spec()` to retrieve the full column specification for this data.\n",
      "\u001b[36mℹ\u001b[39m Specify the column types or set `show_col_types = FALSE` to quiet this message.\n",
      "\u001b[1mRows: \u001b[22m\u001b[34m400\u001b[39m \u001b[1mColumns: \u001b[22m\u001b[34m10\u001b[39m\n",
      "\u001b[36m──\u001b[39m \u001b[1mColumn specification\u001b[22m \u001b[36m────────────────────────────────────────────────────────────────────────────────────────────────\u001b[39m\n",
      "\u001b[1mDelimiter:\u001b[22m \",\"\n",
      "\u001b[31mchr\u001b[39m  (7): masv, ho, ten, email, didong, cmnd, makh\n",
      "\u001b[32mdbl\u001b[39m  (1): hocbong\n",
      "\u001b[33mlgl\u001b[39m  (1): gioitinh\n",
      "\u001b[34mdttm\u001b[39m (1): ngaysinh\n",
      "\n",
      "\u001b[36mℹ\u001b[39m Use `spec()` to retrieve the full column specification for this data.\n",
      "\u001b[36mℹ\u001b[39m Specify the column types or set `show_col_types = FALSE` to quiet this message.\n"
     ]
    }
   ],
   "source": [
    "library(readr)\n",
    "data1 <- read_csv(\"data\\\\sinh_vien_CN.csv\")\n",
    "data2 <- read_csv(\"data\\\\sinh_vien_TO.csv\")\n",
    "data3 <- read_csv(\"data\\\\sinh_vien_VL.csv\")\n",
    "df<-rbind(data1,data2,data3)\n",
    "df"
   ]
  },
  {
   "cell_type": "markdown",
   "metadata": {
    "id": "k7megExgJJ_j"
   },
   "source": [
    "#### 2. Hiển thị thông tin chung của dữ liệu: head, tail, summary, số dòng, số cột của dữ liệu."
   ]
  },
  {
   "cell_type": "code",
   "execution_count": 39,
   "metadata": {
    "id": "TizowWhTMYpG"
   },
   "outputs": [
    {
     "data": {
      "text/html": [
       "<table class=\"dataframe\">\n",
       "<caption>A tibble: 6 × 10</caption>\n",
       "<thead>\n",
       "\t<tr><th scope=col>masv</th><th scope=col>ho</th><th scope=col>ten</th><th scope=col>gioitinh</th><th scope=col>ngaysinh</th><th scope=col>email</th><th scope=col>didong</th><th scope=col>cmnd</th><th scope=col>hocbong</th><th scope=col>makh</th></tr>\n",
       "\t<tr><th scope=col>&lt;chr&gt;</th><th scope=col>&lt;chr&gt;</th><th scope=col>&lt;chr&gt;</th><th scope=col>&lt;lgl&gt;</th><th scope=col>&lt;dttm&gt;</th><th scope=col>&lt;chr&gt;</th><th scope=col>&lt;chr&gt;</th><th scope=col>&lt;chr&gt;</th><th scope=col>&lt;dbl&gt;</th><th scope=col>&lt;chr&gt;</th></tr>\n",
       "</thead>\n",
       "<tbody>\n",
       "\t<tr><td>C0001</td><td>Khương Thảo   </td><td>Loan </td><td>FALSE</td><td>1999-01-04</td><td>ktloan@gmail.com  </td><td>0987314518</td><td>586900775484</td><td>2e+06</td><td>CN</td></tr>\n",
       "\t<tr><td>C0002</td><td>Đặng Bạch     </td><td>Ngọc </td><td> TRUE</td><td>1999-11-11</td><td>dbngoc@gmail.com  </td><td>0987587327</td><td>274387352269</td><td>0e+00</td><td>CN</td></tr>\n",
       "\t<tr><td>C0003</td><td>Phạm Văn Minh </td><td>Thiện</td><td> TRUE</td><td>1999-11-23</td><td>pvmthien@gmail.com</td><td>0987858734</td><td>835772714136</td><td>0e+00</td><td>CN</td></tr>\n",
       "\t<tr><td>C0004</td><td>Đinh Thị Thanh</td><td>Dung </td><td>FALSE</td><td>1999-01-19</td><td>dttdung@gmail.com </td><td>0987508413</td><td>373064334392</td><td>1e+06</td><td>CN</td></tr>\n",
       "\t<tr><td>C0005</td><td>Trần Mạnh     </td><td>Thiện</td><td> TRUE</td><td>1999-08-19</td><td>tmthien@gmail.com </td><td>0987579776</td><td>233384596844</td><td>1e+06</td><td>CN</td></tr>\n",
       "\t<tr><td>C0006</td><td>Trần Văn Minh </td><td>Hiệu </td><td> TRUE</td><td>1999-12-12</td><td>tvmhieu@gmail.com </td><td>0168595875</td><td>065746412487</td><td>1e+06</td><td>CN</td></tr>\n",
       "</tbody>\n",
       "</table>\n"
      ],
      "text/latex": [
       "A tibble: 6 × 10\n",
       "\\begin{tabular}{llllllllll}\n",
       " masv & ho & ten & gioitinh & ngaysinh & email & didong & cmnd & hocbong & makh\\\\\n",
       " <chr> & <chr> & <chr> & <lgl> & <dttm> & <chr> & <chr> & <chr> & <dbl> & <chr>\\\\\n",
       "\\hline\n",
       "\t C0001 & Khương Thảo    & Loan  & FALSE & 1999-01-04 & ktloan@gmail.com   & 0987314518 & 586900775484 & 2e+06 & CN\\\\\n",
       "\t C0002 & Đặng Bạch      & Ngọc  &  TRUE & 1999-11-11 & dbngoc@gmail.com   & 0987587327 & 274387352269 & 0e+00 & CN\\\\\n",
       "\t C0003 & Phạm Văn Minh  & Thiện &  TRUE & 1999-11-23 & pvmthien@gmail.com & 0987858734 & 835772714136 & 0e+00 & CN\\\\\n",
       "\t C0004 & Đinh Thị Thanh & Dung  & FALSE & 1999-01-19 & dttdung@gmail.com  & 0987508413 & 373064334392 & 1e+06 & CN\\\\\n",
       "\t C0005 & Trần Mạnh      & Thiện &  TRUE & 1999-08-19 & tmthien@gmail.com  & 0987579776 & 233384596844 & 1e+06 & CN\\\\\n",
       "\t C0006 & Trần Văn Minh  & Hiệu  &  TRUE & 1999-12-12 & tvmhieu@gmail.com  & 0168595875 & 065746412487 & 1e+06 & CN\\\\\n",
       "\\end{tabular}\n"
      ],
      "text/markdown": [
       "\n",
       "A tibble: 6 × 10\n",
       "\n",
       "| masv &lt;chr&gt; | ho &lt;chr&gt; | ten &lt;chr&gt; | gioitinh &lt;lgl&gt; | ngaysinh &lt;dttm&gt; | email &lt;chr&gt; | didong &lt;chr&gt; | cmnd &lt;chr&gt; | hocbong &lt;dbl&gt; | makh &lt;chr&gt; |\n",
       "|---|---|---|---|---|---|---|---|---|---|\n",
       "| C0001 | Khương Thảo    | Loan  | FALSE | 1999-01-04 | ktloan@gmail.com   | 0987314518 | 586900775484 | 2e+06 | CN |\n",
       "| C0002 | Đặng Bạch      | Ngọc  |  TRUE | 1999-11-11 | dbngoc@gmail.com   | 0987587327 | 274387352269 | 0e+00 | CN |\n",
       "| C0003 | Phạm Văn Minh  | Thiện |  TRUE | 1999-11-23 | pvmthien@gmail.com | 0987858734 | 835772714136 | 0e+00 | CN |\n",
       "| C0004 | Đinh Thị Thanh | Dung  | FALSE | 1999-01-19 | dttdung@gmail.com  | 0987508413 | 373064334392 | 1e+06 | CN |\n",
       "| C0005 | Trần Mạnh      | Thiện |  TRUE | 1999-08-19 | tmthien@gmail.com  | 0987579776 | 233384596844 | 1e+06 | CN |\n",
       "| C0006 | Trần Văn Minh  | Hiệu  |  TRUE | 1999-12-12 | tvmhieu@gmail.com  | 0168595875 | 065746412487 | 1e+06 | CN |\n",
       "\n"
      ],
      "text/plain": [
       "  masv  ho             ten   gioitinh ngaysinh   email              didong    \n",
       "1 C0001 Khương Thảo    Loan  FALSE    1999-01-04 ktloan@gmail.com   0987314518\n",
       "2 C0002 Đặng Bạch      Ngọc   TRUE    1999-11-11 dbngoc@gmail.com   0987587327\n",
       "3 C0003 Phạm Văn Minh  Thiện  TRUE    1999-11-23 pvmthien@gmail.com 0987858734\n",
       "4 C0004 Đinh Thị Thanh Dung  FALSE    1999-01-19 dttdung@gmail.com  0987508413\n",
       "5 C0005 Trần Mạnh      Thiện  TRUE    1999-08-19 tmthien@gmail.com  0987579776\n",
       "6 C0006 Trần Văn Minh  Hiệu   TRUE    1999-12-12 tvmhieu@gmail.com  0168595875\n",
       "  cmnd         hocbong makh\n",
       "1 586900775484 2e+06   CN  \n",
       "2 274387352269 0e+00   CN  \n",
       "3 835772714136 0e+00   CN  \n",
       "4 373064334392 1e+06   CN  \n",
       "5 233384596844 1e+06   CN  \n",
       "6 065746412487 1e+06   CN  "
      ]
     },
     "metadata": {},
     "output_type": "display_data"
    },
    {
     "data": {
      "text/html": [
       "<table class=\"dataframe\">\n",
       "<caption>A tibble: 6 × 10</caption>\n",
       "<thead>\n",
       "\t<tr><th scope=col>masv</th><th scope=col>ho</th><th scope=col>ten</th><th scope=col>gioitinh</th><th scope=col>ngaysinh</th><th scope=col>email</th><th scope=col>didong</th><th scope=col>cmnd</th><th scope=col>hocbong</th><th scope=col>makh</th></tr>\n",
       "\t<tr><th scope=col>&lt;chr&gt;</th><th scope=col>&lt;chr&gt;</th><th scope=col>&lt;chr&gt;</th><th scope=col>&lt;lgl&gt;</th><th scope=col>&lt;dttm&gt;</th><th scope=col>&lt;chr&gt;</th><th scope=col>&lt;chr&gt;</th><th scope=col>&lt;chr&gt;</th><th scope=col>&lt;dbl&gt;</th><th scope=col>&lt;chr&gt;</th></tr>\n",
       "</thead>\n",
       "<tbody>\n",
       "\t<tr><td>V0995</td><td>Đàm Văn    </td><td>Vỹ   </td><td> TRUE</td><td>1999-03-30</td><td>dvvy@gmail.com   </td><td>0168924061</td><td>492158542835</td><td>1e+06</td><td>VL</td></tr>\n",
       "\t<tr><td>V0996</td><td>Trần Mạnh  </td><td>Thăng</td><td> TRUE</td><td>1999-06-21</td><td>tmthang@gmail.com</td><td>0987250062</td><td>768656897616</td><td>2e+06</td><td>VL</td></tr>\n",
       "\t<tr><td>V0997</td><td>Trần Vĩnh  </td><td>Thiện</td><td> TRUE</td><td>1999-07-23</td><td>tvthien@gmail.com</td><td>0987716502</td><td>468267857113</td><td>3e+06</td><td>VL</td></tr>\n",
       "\t<tr><td>V0998</td><td>Khương Thảo</td><td>Hạnh </td><td>FALSE</td><td>1999-08-16</td><td>kthanh@gmail.com </td><td>0913696608</td><td>702859343545</td><td>0e+00</td><td>VL</td></tr>\n",
       "\t<tr><td>V0999</td><td>Đinh Ngọc  </td><td>Ngọc </td><td> TRUE</td><td>1999-05-25</td><td>dnngoc@gmail.com </td><td>0913689521</td><td>187831202224</td><td>3e+06</td><td>VL</td></tr>\n",
       "\t<tr><td>V1000</td><td>Lý Mạnh    </td><td>Bảo  </td><td> TRUE</td><td>1999-06-03</td><td>lmbao@gmail.com  </td><td>0987656186</td><td>865173188581</td><td>0e+00</td><td>VL</td></tr>\n",
       "</tbody>\n",
       "</table>\n"
      ],
      "text/latex": [
       "A tibble: 6 × 10\n",
       "\\begin{tabular}{llllllllll}\n",
       " masv & ho & ten & gioitinh & ngaysinh & email & didong & cmnd & hocbong & makh\\\\\n",
       " <chr> & <chr> & <chr> & <lgl> & <dttm> & <chr> & <chr> & <chr> & <dbl> & <chr>\\\\\n",
       "\\hline\n",
       "\t V0995 & Đàm Văn     & Vỹ    &  TRUE & 1999-03-30 & dvvy@gmail.com    & 0168924061 & 492158542835 & 1e+06 & VL\\\\\n",
       "\t V0996 & Trần Mạnh   & Thăng &  TRUE & 1999-06-21 & tmthang@gmail.com & 0987250062 & 768656897616 & 2e+06 & VL\\\\\n",
       "\t V0997 & Trần Vĩnh   & Thiện &  TRUE & 1999-07-23 & tvthien@gmail.com & 0987716502 & 468267857113 & 3e+06 & VL\\\\\n",
       "\t V0998 & Khương Thảo & Hạnh  & FALSE & 1999-08-16 & kthanh@gmail.com  & 0913696608 & 702859343545 & 0e+00 & VL\\\\\n",
       "\t V0999 & Đinh Ngọc   & Ngọc  &  TRUE & 1999-05-25 & dnngoc@gmail.com  & 0913689521 & 187831202224 & 3e+06 & VL\\\\\n",
       "\t V1000 & Lý Mạnh     & Bảo   &  TRUE & 1999-06-03 & lmbao@gmail.com   & 0987656186 & 865173188581 & 0e+00 & VL\\\\\n",
       "\\end{tabular}\n"
      ],
      "text/markdown": [
       "\n",
       "A tibble: 6 × 10\n",
       "\n",
       "| masv &lt;chr&gt; | ho &lt;chr&gt; | ten &lt;chr&gt; | gioitinh &lt;lgl&gt; | ngaysinh &lt;dttm&gt; | email &lt;chr&gt; | didong &lt;chr&gt; | cmnd &lt;chr&gt; | hocbong &lt;dbl&gt; | makh &lt;chr&gt; |\n",
       "|---|---|---|---|---|---|---|---|---|---|\n",
       "| V0995 | Đàm Văn     | Vỹ    |  TRUE | 1999-03-30 | dvvy@gmail.com    | 0168924061 | 492158542835 | 1e+06 | VL |\n",
       "| V0996 | Trần Mạnh   | Thăng |  TRUE | 1999-06-21 | tmthang@gmail.com | 0987250062 | 768656897616 | 2e+06 | VL |\n",
       "| V0997 | Trần Vĩnh   | Thiện |  TRUE | 1999-07-23 | tvthien@gmail.com | 0987716502 | 468267857113 | 3e+06 | VL |\n",
       "| V0998 | Khương Thảo | Hạnh  | FALSE | 1999-08-16 | kthanh@gmail.com  | 0913696608 | 702859343545 | 0e+00 | VL |\n",
       "| V0999 | Đinh Ngọc   | Ngọc  |  TRUE | 1999-05-25 | dnngoc@gmail.com  | 0913689521 | 187831202224 | 3e+06 | VL |\n",
       "| V1000 | Lý Mạnh     | Bảo   |  TRUE | 1999-06-03 | lmbao@gmail.com   | 0987656186 | 865173188581 | 0e+00 | VL |\n",
       "\n"
      ],
      "text/plain": [
       "  masv  ho          ten   gioitinh ngaysinh   email             didong    \n",
       "1 V0995 Đàm Văn     Vỹ     TRUE    1999-03-30 dvvy@gmail.com    0168924061\n",
       "2 V0996 Trần Mạnh   Thăng  TRUE    1999-06-21 tmthang@gmail.com 0987250062\n",
       "3 V0997 Trần Vĩnh   Thiện  TRUE    1999-07-23 tvthien@gmail.com 0987716502\n",
       "4 V0998 Khương Thảo Hạnh  FALSE    1999-08-16 kthanh@gmail.com  0913696608\n",
       "5 V0999 Đinh Ngọc   Ngọc   TRUE    1999-05-25 dnngoc@gmail.com  0913689521\n",
       "6 V1000 Lý Mạnh     Bảo    TRUE    1999-06-03 lmbao@gmail.com   0987656186\n",
       "  cmnd         hocbong makh\n",
       "1 492158542835 1e+06   VL  \n",
       "2 768656897616 2e+06   VL  \n",
       "3 468267857113 3e+06   VL  \n",
       "4 702859343545 0e+00   VL  \n",
       "5 187831202224 3e+06   VL  \n",
       "6 865173188581 0e+00   VL  "
      ]
     },
     "metadata": {},
     "output_type": "display_data"
    },
    {
     "data": {
      "text/plain": [
       "     masv                ho                ten             gioitinh      \n",
       " Length:1000        Length:1000        Length:1000        Mode :logical  \n",
       " Class :character   Class :character   Class :character   FALSE:453      \n",
       " Mode  :character   Mode  :character   Mode  :character   TRUE :547      \n",
       "                                                                         \n",
       "                                                                         \n",
       "                                                                         \n",
       "    ngaysinh                        email              didong         \n",
       " Min.   :1999-01-01 00:00:00.0   Length:1000        Length:1000       \n",
       " 1st Qu.:1999-04-06 00:00:00.0   Class :character   Class :character  \n",
       " Median :1999-07-06 00:00:00.0   Mode  :character   Mode  :character  \n",
       " Mean   :1999-06-30 07:00:28.7                                        \n",
       " 3rd Qu.:1999-09-19 00:00:00.0                                        \n",
       " Max.   :1999-12-30 00:00:00.0                                        \n",
       "     cmnd              hocbong            makh          \n",
       " Length:1000        Min.   :      0   Length:1000       \n",
       " Class :character   1st Qu.:      0   Class :character  \n",
       " Mode  :character   Median :1000000   Mode  :character  \n",
       "                    Mean   :1467000                     \n",
       "                    3rd Qu.:3000000                     \n",
       "                    Max.   :3000000                     "
      ]
     },
     "metadata": {},
     "output_type": "display_data"
    },
    {
     "data": {
      "text/html": [
       "1000"
      ],
      "text/latex": [
       "1000"
      ],
      "text/markdown": [
       "1000"
      ],
      "text/plain": [
       "[1] 1000"
      ]
     },
     "metadata": {},
     "output_type": "display_data"
    },
    {
     "data": {
      "text/html": [
       "10"
      ],
      "text/latex": [
       "10"
      ],
      "text/markdown": [
       "10"
      ],
      "text/plain": [
       "[1] 10"
      ]
     },
     "metadata": {},
     "output_type": "display_data"
    }
   ],
   "source": [
    "head(df)\n",
    "tail(df)\n",
    "summary(df)\n",
    "nrow(df)\n",
    "ncol(df)"
   ]
  },
  {
   "cell_type": "markdown",
   "metadata": {
    "id": "j3j4fYsnJJ_n"
   },
   "source": [
    "#### 3. Tạo dataframe df_ket_qua với nội dung được đọc ra từ tập tin ket_qua.csv trong folder data."
   ]
  },
  {
   "cell_type": "code",
   "execution_count": 42,
   "metadata": {
    "id": "sdhxMTv_E1XQ"
   },
   "outputs": [
    {
     "name": "stderr",
     "output_type": "stream",
     "text": [
      "\u001b[1mRows: \u001b[22m\u001b[34m10000\u001b[39m \u001b[1mColumns: \u001b[22m\u001b[34m3\u001b[39m\n",
      "\u001b[36m──\u001b[39m \u001b[1mColumn specification\u001b[22m \u001b[36m────────────────────────────────────────────────────────────────────────────────────────────────\u001b[39m\n",
      "\u001b[1mDelimiter:\u001b[22m \",\"\n",
      "\u001b[31mchr\u001b[39m (2): masv, mamh\n",
      "\u001b[32mdbl\u001b[39m (1): diem\n",
      "\n",
      "\u001b[36mℹ\u001b[39m Use `spec()` to retrieve the full column specification for this data.\n",
      "\u001b[36mℹ\u001b[39m Specify the column types or set `show_col_types = FALSE` to quiet this message.\n"
     ]
    }
   ],
   "source": [
    "df_ket_qua <- read_csv(\"data\\\\ket_qua.csv\")"
   ]
  },
  {
   "cell_type": "markdown",
   "metadata": {
    "id": "9gU5rtPIJJ_w"
   },
   "source": [
    "#### 4. Tạo dataframe df_dtb từ df_ket_qua bằng cách nhóm theo masv và tính điểm trung bình cho mỗi sinh viên (gợi ý: dùng group_by và summarize)"
   ]
  },
  {
   "cell_type": "code",
   "execution_count": 49,
   "metadata": {
    "id": "ThJTZW62E11n"
   },
   "outputs": [
    {
     "data": {
      "text/html": [
       "<table class=\"dataframe\">\n",
       "<caption>A tibble: 6 × 2</caption>\n",
       "<thead>\n",
       "\t<tr><th scope=col>masv</th><th scope=col>diem_trung_binh</th></tr>\n",
       "\t<tr><th scope=col>&lt;chr&gt;</th><th scope=col>&lt;dbl&gt;</th></tr>\n",
       "</thead>\n",
       "<tbody>\n",
       "\t<tr><td>C0001</td><td>6.5</td></tr>\n",
       "\t<tr><td>C0002</td><td>7.2</td></tr>\n",
       "\t<tr><td>C0003</td><td>7.7</td></tr>\n",
       "\t<tr><td>C0004</td><td>6.9</td></tr>\n",
       "\t<tr><td>C0005</td><td>7.7</td></tr>\n",
       "\t<tr><td>C0006</td><td>7.8</td></tr>\n",
       "</tbody>\n",
       "</table>\n"
      ],
      "text/latex": [
       "A tibble: 6 × 2\n",
       "\\begin{tabular}{ll}\n",
       " masv & diem\\_trung\\_binh\\\\\n",
       " <chr> & <dbl>\\\\\n",
       "\\hline\n",
       "\t C0001 & 6.5\\\\\n",
       "\t C0002 & 7.2\\\\\n",
       "\t C0003 & 7.7\\\\\n",
       "\t C0004 & 6.9\\\\\n",
       "\t C0005 & 7.7\\\\\n",
       "\t C0006 & 7.8\\\\\n",
       "\\end{tabular}\n"
      ],
      "text/markdown": [
       "\n",
       "A tibble: 6 × 2\n",
       "\n",
       "| masv &lt;chr&gt; | diem_trung_binh &lt;dbl&gt; |\n",
       "|---|---|\n",
       "| C0001 | 6.5 |\n",
       "| C0002 | 7.2 |\n",
       "| C0003 | 7.7 |\n",
       "| C0004 | 6.9 |\n",
       "| C0005 | 7.7 |\n",
       "| C0006 | 7.8 |\n",
       "\n"
      ],
      "text/plain": [
       "  masv  diem_trung_binh\n",
       "1 C0001 6.5            \n",
       "2 C0002 7.2            \n",
       "3 C0003 7.7            \n",
       "4 C0004 6.9            \n",
       "5 C0005 7.7            \n",
       "6 C0006 7.8            "
      ]
     },
     "metadata": {},
     "output_type": "display_data"
    }
   ],
   "source": [
    "library(dplyr)\n",
    "df_dtb=df_ket_qua %>% group_by(masv) %>%summarise(diem_trung_binh = mean(diem))\n",
    "head(df_dtb)"
   ]
  },
  {
   "cell_type": "markdown",
   "metadata": {
    "id": "_cKzKBBXJJ_2"
   },
   "source": [
    "#### 5. Nối df_dtb vào df theo masv để có một dataframe chứa cả thông tin sinh viên và điểm trung bình."
   ]
  },
  {
   "cell_type": "code",
   "execution_count": 50,
   "metadata": {
    "id": "boG1jREYE2UR"
   },
   "outputs": [
    {
     "data": {
      "text/html": [
       "<table class=\"dataframe\">\n",
       "<caption>A data.frame: 6 × 11</caption>\n",
       "<thead>\n",
       "\t<tr><th></th><th scope=col>masv</th><th scope=col>ho</th><th scope=col>ten</th><th scope=col>gioitinh</th><th scope=col>ngaysinh</th><th scope=col>email</th><th scope=col>didong</th><th scope=col>cmnd</th><th scope=col>hocbong</th><th scope=col>makh</th><th scope=col>diem_trung_binh</th></tr>\n",
       "\t<tr><th></th><th scope=col>&lt;chr&gt;</th><th scope=col>&lt;chr&gt;</th><th scope=col>&lt;chr&gt;</th><th scope=col>&lt;lgl&gt;</th><th scope=col>&lt;dttm&gt;</th><th scope=col>&lt;chr&gt;</th><th scope=col>&lt;chr&gt;</th><th scope=col>&lt;chr&gt;</th><th scope=col>&lt;dbl&gt;</th><th scope=col>&lt;chr&gt;</th><th scope=col>&lt;dbl&gt;</th></tr>\n",
       "</thead>\n",
       "<tbody>\n",
       "\t<tr><th scope=row>1</th><td>C0001</td><td>Khương Thảo   </td><td>Loan </td><td>FALSE</td><td>1999-01-04</td><td>ktloan@gmail.com  </td><td>0987314518</td><td>586900775484</td><td>2e+06</td><td>CN</td><td>6.5</td></tr>\n",
       "\t<tr><th scope=row>2</th><td>C0002</td><td>Đặng Bạch     </td><td>Ngọc </td><td> TRUE</td><td>1999-11-11</td><td>dbngoc@gmail.com  </td><td>0987587327</td><td>274387352269</td><td>0e+00</td><td>CN</td><td>7.2</td></tr>\n",
       "\t<tr><th scope=row>3</th><td>C0003</td><td>Phạm Văn Minh </td><td>Thiện</td><td> TRUE</td><td>1999-11-23</td><td>pvmthien@gmail.com</td><td>0987858734</td><td>835772714136</td><td>0e+00</td><td>CN</td><td>7.7</td></tr>\n",
       "\t<tr><th scope=row>4</th><td>C0004</td><td>Đinh Thị Thanh</td><td>Dung </td><td>FALSE</td><td>1999-01-19</td><td>dttdung@gmail.com </td><td>0987508413</td><td>373064334392</td><td>1e+06</td><td>CN</td><td>6.9</td></tr>\n",
       "\t<tr><th scope=row>5</th><td>C0005</td><td>Trần Mạnh     </td><td>Thiện</td><td> TRUE</td><td>1999-08-19</td><td>tmthien@gmail.com </td><td>0987579776</td><td>233384596844</td><td>1e+06</td><td>CN</td><td>7.7</td></tr>\n",
       "\t<tr><th scope=row>6</th><td>C0006</td><td>Trần Văn Minh </td><td>Hiệu </td><td> TRUE</td><td>1999-12-12</td><td>tvmhieu@gmail.com </td><td>0168595875</td><td>065746412487</td><td>1e+06</td><td>CN</td><td>7.8</td></tr>\n",
       "</tbody>\n",
       "</table>\n"
      ],
      "text/latex": [
       "A data.frame: 6 × 11\n",
       "\\begin{tabular}{r|lllllllllll}\n",
       "  & masv & ho & ten & gioitinh & ngaysinh & email & didong & cmnd & hocbong & makh & diem\\_trung\\_binh\\\\\n",
       "  & <chr> & <chr> & <chr> & <lgl> & <dttm> & <chr> & <chr> & <chr> & <dbl> & <chr> & <dbl>\\\\\n",
       "\\hline\n",
       "\t1 & C0001 & Khương Thảo    & Loan  & FALSE & 1999-01-04 & ktloan@gmail.com   & 0987314518 & 586900775484 & 2e+06 & CN & 6.5\\\\\n",
       "\t2 & C0002 & Đặng Bạch      & Ngọc  &  TRUE & 1999-11-11 & dbngoc@gmail.com   & 0987587327 & 274387352269 & 0e+00 & CN & 7.2\\\\\n",
       "\t3 & C0003 & Phạm Văn Minh  & Thiện &  TRUE & 1999-11-23 & pvmthien@gmail.com & 0987858734 & 835772714136 & 0e+00 & CN & 7.7\\\\\n",
       "\t4 & C0004 & Đinh Thị Thanh & Dung  & FALSE & 1999-01-19 & dttdung@gmail.com  & 0987508413 & 373064334392 & 1e+06 & CN & 6.9\\\\\n",
       "\t5 & C0005 & Trần Mạnh      & Thiện &  TRUE & 1999-08-19 & tmthien@gmail.com  & 0987579776 & 233384596844 & 1e+06 & CN & 7.7\\\\\n",
       "\t6 & C0006 & Trần Văn Minh  & Hiệu  &  TRUE & 1999-12-12 & tvmhieu@gmail.com  & 0168595875 & 065746412487 & 1e+06 & CN & 7.8\\\\\n",
       "\\end{tabular}\n"
      ],
      "text/markdown": [
       "\n",
       "A data.frame: 6 × 11\n",
       "\n",
       "| <!--/--> | masv &lt;chr&gt; | ho &lt;chr&gt; | ten &lt;chr&gt; | gioitinh &lt;lgl&gt; | ngaysinh &lt;dttm&gt; | email &lt;chr&gt; | didong &lt;chr&gt; | cmnd &lt;chr&gt; | hocbong &lt;dbl&gt; | makh &lt;chr&gt; | diem_trung_binh &lt;dbl&gt; |\n",
       "|---|---|---|---|---|---|---|---|---|---|---|---|\n",
       "| 1 | C0001 | Khương Thảo    | Loan  | FALSE | 1999-01-04 | ktloan@gmail.com   | 0987314518 | 586900775484 | 2e+06 | CN | 6.5 |\n",
       "| 2 | C0002 | Đặng Bạch      | Ngọc  |  TRUE | 1999-11-11 | dbngoc@gmail.com   | 0987587327 | 274387352269 | 0e+00 | CN | 7.2 |\n",
       "| 3 | C0003 | Phạm Văn Minh  | Thiện |  TRUE | 1999-11-23 | pvmthien@gmail.com | 0987858734 | 835772714136 | 0e+00 | CN | 7.7 |\n",
       "| 4 | C0004 | Đinh Thị Thanh | Dung  | FALSE | 1999-01-19 | dttdung@gmail.com  | 0987508413 | 373064334392 | 1e+06 | CN | 6.9 |\n",
       "| 5 | C0005 | Trần Mạnh      | Thiện |  TRUE | 1999-08-19 | tmthien@gmail.com  | 0987579776 | 233384596844 | 1e+06 | CN | 7.7 |\n",
       "| 6 | C0006 | Trần Văn Minh  | Hiệu  |  TRUE | 1999-12-12 | tvmhieu@gmail.com  | 0168595875 | 065746412487 | 1e+06 | CN | 7.8 |\n",
       "\n"
      ],
      "text/plain": [
       "  masv  ho             ten   gioitinh ngaysinh   email              didong    \n",
       "1 C0001 Khương Thảo    Loan  FALSE    1999-01-04 ktloan@gmail.com   0987314518\n",
       "2 C0002 Đặng Bạch      Ngọc   TRUE    1999-11-11 dbngoc@gmail.com   0987587327\n",
       "3 C0003 Phạm Văn Minh  Thiện  TRUE    1999-11-23 pvmthien@gmail.com 0987858734\n",
       "4 C0004 Đinh Thị Thanh Dung  FALSE    1999-01-19 dttdung@gmail.com  0987508413\n",
       "5 C0005 Trần Mạnh      Thiện  TRUE    1999-08-19 tmthien@gmail.com  0987579776\n",
       "6 C0006 Trần Văn Minh  Hiệu   TRUE    1999-12-12 tvmhieu@gmail.com  0168595875\n",
       "  cmnd         hocbong makh diem_trung_binh\n",
       "1 586900775484 2e+06   CN   6.5            \n",
       "2 274387352269 0e+00   CN   7.2            \n",
       "3 835772714136 0e+00   CN   7.7            \n",
       "4 373064334392 1e+06   CN   6.9            \n",
       "5 233384596844 1e+06   CN   7.7            \n",
       "6 065746412487 1e+06   CN   7.8            "
      ]
     },
     "metadata": {},
     "output_type": "display_data"
    }
   ],
   "source": [
    "df_with_dtb = merge(x = df, y = df_dtb, by = \"masv\")\n",
    "head(df_with_dtb)"
   ]
  },
  {
   "cell_type": "markdown",
   "metadata": {
    "id": "n_a_DAdpJJ_7"
   },
   "source": [
    "#### 6. Cho biết 5 sinh viên có điểm lớn nhất của mỗi khoa, sắp tăng theo mã khoa và giảm theo điểm."
   ]
  },
  {
   "cell_type": "code",
   "execution_count": 60,
   "metadata": {
    "id": "BGV64TjvE23_"
   },
   "outputs": [
    {
     "data": {
      "text/html": [
       "<table class=\"dataframe\">\n",
       "<caption>A data.frame: 6 × 11</caption>\n",
       "<thead>\n",
       "\t<tr><th></th><th scope=col>masv</th><th scope=col>ho</th><th scope=col>ten</th><th scope=col>gioitinh</th><th scope=col>ngaysinh</th><th scope=col>email</th><th scope=col>didong</th><th scope=col>cmnd</th><th scope=col>hocbong</th><th scope=col>makh</th><th scope=col>diem_trung_binh</th></tr>\n",
       "\t<tr><th></th><th scope=col>&lt;chr&gt;</th><th scope=col>&lt;chr&gt;</th><th scope=col>&lt;chr&gt;</th><th scope=col>&lt;lgl&gt;</th><th scope=col>&lt;dttm&gt;</th><th scope=col>&lt;chr&gt;</th><th scope=col>&lt;chr&gt;</th><th scope=col>&lt;chr&gt;</th><th scope=col>&lt;dbl&gt;</th><th scope=col>&lt;chr&gt;</th><th scope=col>&lt;dbl&gt;</th></tr>\n",
       "</thead>\n",
       "<tbody>\n",
       "\t<tr><th scope=row>1</th><td>C0355</td><td>Văn Thị     </td><td>Mai  </td><td>FALSE</td><td>1999-11-10</td><td>vtmai@gmail.com  </td><td>0987327541</td><td>855354458643</td><td>0e+00</td><td>CN</td><td>8.75</td></tr>\n",
       "\t<tr><th scope=row>2</th><td>C0387</td><td>Lê Bạch     </td><td>Ngân </td><td>FALSE</td><td>1999-04-29</td><td>lbngan@gmail.com </td><td>0913158437</td><td>647119351103</td><td>0e+00</td><td>CN</td><td>8.70</td></tr>\n",
       "\t<tr><th scope=row>3</th><td>C0483</td><td>Lý Vĩnh     </td><td>Thiệu</td><td> TRUE</td><td>1999-06-21</td><td>lvthieu@gmail.com</td><td>0913453657</td><td>432742077115</td><td>0e+00</td><td>CN</td><td>8.70</td></tr>\n",
       "\t<tr><th scope=row>4</th><td>V0846</td><td>Lê Văn      </td><td>Lộc  </td><td> TRUE</td><td>1999-10-31</td><td>lvloc@gmail.com  </td><td>0913128685</td><td>658180634180</td><td>3e+06</td><td>VL</td><td>8.65</td></tr>\n",
       "\t<tr><th scope=row>5</th><td>C0154</td><td>Cao Văn Minh</td><td>Bảo  </td><td> TRUE</td><td>1999-05-11</td><td>cvmbao@gmail.com </td><td>0913598140</td><td>530460808272</td><td>3e+06</td><td>CN</td><td>8.60</td></tr>\n",
       "\t<tr><th scope=row>6</th><td>C0052</td><td>Lê Thị Thảo </td><td>Ly   </td><td>FALSE</td><td>1999-02-14</td><td>lttly@gmail.com  </td><td>0168434476</td><td>874368763621</td><td>1e+06</td><td>CN</td><td>8.55</td></tr>\n",
       "</tbody>\n",
       "</table>\n"
      ],
      "text/latex": [
       "A data.frame: 6 × 11\n",
       "\\begin{tabular}{r|lllllllllll}\n",
       "  & masv & ho & ten & gioitinh & ngaysinh & email & didong & cmnd & hocbong & makh & diem\\_trung\\_binh\\\\\n",
       "  & <chr> & <chr> & <chr> & <lgl> & <dttm> & <chr> & <chr> & <chr> & <dbl> & <chr> & <dbl>\\\\\n",
       "\\hline\n",
       "\t1 & C0355 & Văn Thị      & Mai   & FALSE & 1999-11-10 & vtmai@gmail.com   & 0987327541 & 855354458643 & 0e+00 & CN & 8.75\\\\\n",
       "\t2 & C0387 & Lê Bạch      & Ngân  & FALSE & 1999-04-29 & lbngan@gmail.com  & 0913158437 & 647119351103 & 0e+00 & CN & 8.70\\\\\n",
       "\t3 & C0483 & Lý Vĩnh      & Thiệu &  TRUE & 1999-06-21 & lvthieu@gmail.com & 0913453657 & 432742077115 & 0e+00 & CN & 8.70\\\\\n",
       "\t4 & V0846 & Lê Văn       & Lộc   &  TRUE & 1999-10-31 & lvloc@gmail.com   & 0913128685 & 658180634180 & 3e+06 & VL & 8.65\\\\\n",
       "\t5 & C0154 & Cao Văn Minh & Bảo   &  TRUE & 1999-05-11 & cvmbao@gmail.com  & 0913598140 & 530460808272 & 3e+06 & CN & 8.60\\\\\n",
       "\t6 & C0052 & Lê Thị Thảo  & Ly    & FALSE & 1999-02-14 & lttly@gmail.com   & 0168434476 & 874368763621 & 1e+06 & CN & 8.55\\\\\n",
       "\\end{tabular}\n"
      ],
      "text/markdown": [
       "\n",
       "A data.frame: 6 × 11\n",
       "\n",
       "| <!--/--> | masv &lt;chr&gt; | ho &lt;chr&gt; | ten &lt;chr&gt; | gioitinh &lt;lgl&gt; | ngaysinh &lt;dttm&gt; | email &lt;chr&gt; | didong &lt;chr&gt; | cmnd &lt;chr&gt; | hocbong &lt;dbl&gt; | makh &lt;chr&gt; | diem_trung_binh &lt;dbl&gt; |\n",
       "|---|---|---|---|---|---|---|---|---|---|---|---|\n",
       "| 1 | C0355 | Văn Thị      | Mai   | FALSE | 1999-11-10 | vtmai@gmail.com   | 0987327541 | 855354458643 | 0e+00 | CN | 8.75 |\n",
       "| 2 | C0387 | Lê Bạch      | Ngân  | FALSE | 1999-04-29 | lbngan@gmail.com  | 0913158437 | 647119351103 | 0e+00 | CN | 8.70 |\n",
       "| 3 | C0483 | Lý Vĩnh      | Thiệu |  TRUE | 1999-06-21 | lvthieu@gmail.com | 0913453657 | 432742077115 | 0e+00 | CN | 8.70 |\n",
       "| 4 | V0846 | Lê Văn       | Lộc   |  TRUE | 1999-10-31 | lvloc@gmail.com   | 0913128685 | 658180634180 | 3e+06 | VL | 8.65 |\n",
       "| 5 | C0154 | Cao Văn Minh | Bảo   |  TRUE | 1999-05-11 | cvmbao@gmail.com  | 0913598140 | 530460808272 | 3e+06 | CN | 8.60 |\n",
       "| 6 | C0052 | Lê Thị Thảo  | Ly    | FALSE | 1999-02-14 | lttly@gmail.com   | 0168434476 | 874368763621 | 1e+06 | CN | 8.55 |\n",
       "\n"
      ],
      "text/plain": [
       "  masv  ho           ten   gioitinh ngaysinh   email             didong    \n",
       "1 C0355 Văn Thị      Mai   FALSE    1999-11-10 vtmai@gmail.com   0987327541\n",
       "2 C0387 Lê Bạch      Ngân  FALSE    1999-04-29 lbngan@gmail.com  0913158437\n",
       "3 C0483 Lý Vĩnh      Thiệu  TRUE    1999-06-21 lvthieu@gmail.com 0913453657\n",
       "4 V0846 Lê Văn       Lộc    TRUE    1999-10-31 lvloc@gmail.com   0913128685\n",
       "5 C0154 Cao Văn Minh Bảo    TRUE    1999-05-11 cvmbao@gmail.com  0913598140\n",
       "6 C0052 Lê Thị Thảo  Ly    FALSE    1999-02-14 lttly@gmail.com   0168434476\n",
       "  cmnd         hocbong makh diem_trung_binh\n",
       "1 855354458643 0e+00   CN   8.75           \n",
       "2 647119351103 0e+00   CN   8.70           \n",
       "3 432742077115 0e+00   CN   8.70           \n",
       "4 658180634180 3e+06   VL   8.65           \n",
       "5 530460808272 3e+06   CN   8.60           \n",
       "6 874368763621 1e+06   CN   8.55           "
      ]
     },
     "metadata": {},
     "output_type": "display_data"
    }
   ],
   "source": [
    "head(arrange(df_with_dtb, desc(diem_trung_binh)))"
   ]
  },
  {
   "cell_type": "code",
   "execution_count": 75,
   "metadata": {},
   "outputs": [
    {
     "data": {
      "text/html": [
       "<table class=\"dataframe\">\n",
       "<caption>A data.frame: 15 × 4</caption>\n",
       "<thead>\n",
       "\t<tr><th scope=col>makh</th><th scope=col>ho</th><th scope=col>ten</th><th scope=col>diem_trung_binh</th></tr>\n",
       "\t<tr><th scope=col>&lt;chr&gt;</th><th scope=col>&lt;chr&gt;</th><th scope=col>&lt;chr&gt;</th><th scope=col>&lt;dbl&gt;</th></tr>\n",
       "</thead>\n",
       "<tbody>\n",
       "\t<tr><td>CN</td><td>Văn Thị      </td><td>Mai  </td><td>8.75</td></tr>\n",
       "\t<tr><td>CN</td><td>Lê Bạch      </td><td>Ngân </td><td>8.70</td></tr>\n",
       "\t<tr><td>CN</td><td>Lý Vĩnh      </td><td>Thiệu</td><td>8.70</td></tr>\n",
       "\t<tr><td>CN</td><td>Cao Văn Minh </td><td>Bảo  </td><td>8.60</td></tr>\n",
       "\t<tr><td>CN</td><td>Lê Thị Thảo  </td><td>Ly   </td><td>8.55</td></tr>\n",
       "\t<tr><td>TO</td><td>Trần Thị Thảo</td><td>Nhung</td><td>8.35</td></tr>\n",
       "\t<tr><td>TO</td><td>Văn Văn      </td><td>Vỹ   </td><td>8.25</td></tr>\n",
       "\t<tr><td>TO</td><td>Đàm Bạch     </td><td>Ngân </td><td>8.25</td></tr>\n",
       "\t<tr><td>TO</td><td>Thái Văn Minh</td><td>Kiệt </td><td>8.20</td></tr>\n",
       "\t<tr><td>TO</td><td>Khương Thị   </td><td>Loan </td><td>8.15</td></tr>\n",
       "\t<tr><td>VL</td><td>Lê Văn       </td><td>Lộc  </td><td>8.65</td></tr>\n",
       "\t<tr><td>VL</td><td>Cao Thảo     </td><td>Ly   </td><td>8.45</td></tr>\n",
       "\t<tr><td>VL</td><td>Mã Phú       </td><td>Tâm  </td><td>8.45</td></tr>\n",
       "\t<tr><td>VL</td><td>Thái Nam     </td><td>Tuấn </td><td>8.45</td></tr>\n",
       "\t<tr><td>VL</td><td>Trần Mạnh    </td><td>Thiệu</td><td>8.45</td></tr>\n",
       "</tbody>\n",
       "</table>\n"
      ],
      "text/latex": [
       "A data.frame: 15 × 4\n",
       "\\begin{tabular}{llll}\n",
       " makh & ho & ten & diem\\_trung\\_binh\\\\\n",
       " <chr> & <chr> & <chr> & <dbl>\\\\\n",
       "\\hline\n",
       "\t CN & Văn Thị       & Mai   & 8.75\\\\\n",
       "\t CN & Lê Bạch       & Ngân  & 8.70\\\\\n",
       "\t CN & Lý Vĩnh       & Thiệu & 8.70\\\\\n",
       "\t CN & Cao Văn Minh  & Bảo   & 8.60\\\\\n",
       "\t CN & Lê Thị Thảo   & Ly    & 8.55\\\\\n",
       "\t TO & Trần Thị Thảo & Nhung & 8.35\\\\\n",
       "\t TO & Văn Văn       & Vỹ    & 8.25\\\\\n",
       "\t TO & Đàm Bạch      & Ngân  & 8.25\\\\\n",
       "\t TO & Thái Văn Minh & Kiệt  & 8.20\\\\\n",
       "\t TO & Khương Thị    & Loan  & 8.15\\\\\n",
       "\t VL & Lê Văn        & Lộc   & 8.65\\\\\n",
       "\t VL & Cao Thảo      & Ly    & 8.45\\\\\n",
       "\t VL & Mã Phú        & Tâm   & 8.45\\\\\n",
       "\t VL & Thái Nam      & Tuấn  & 8.45\\\\\n",
       "\t VL & Trần Mạnh     & Thiệu & 8.45\\\\\n",
       "\\end{tabular}\n"
      ],
      "text/markdown": [
       "\n",
       "A data.frame: 15 × 4\n",
       "\n",
       "| makh &lt;chr&gt; | ho &lt;chr&gt; | ten &lt;chr&gt; | diem_trung_binh &lt;dbl&gt; |\n",
       "|---|---|---|---|\n",
       "| CN | Văn Thị       | Mai   | 8.75 |\n",
       "| CN | Lê Bạch       | Ngân  | 8.70 |\n",
       "| CN | Lý Vĩnh       | Thiệu | 8.70 |\n",
       "| CN | Cao Văn Minh  | Bảo   | 8.60 |\n",
       "| CN | Lê Thị Thảo   | Ly    | 8.55 |\n",
       "| TO | Trần Thị Thảo | Nhung | 8.35 |\n",
       "| TO | Văn Văn       | Vỹ    | 8.25 |\n",
       "| TO | Đàm Bạch      | Ngân  | 8.25 |\n",
       "| TO | Thái Văn Minh | Kiệt  | 8.20 |\n",
       "| TO | Khương Thị    | Loan  | 8.15 |\n",
       "| VL | Lê Văn        | Lộc   | 8.65 |\n",
       "| VL | Cao Thảo      | Ly    | 8.45 |\n",
       "| VL | Mã Phú        | Tâm   | 8.45 |\n",
       "| VL | Thái Nam      | Tuấn  | 8.45 |\n",
       "| VL | Trần Mạnh     | Thiệu | 8.45 |\n",
       "\n"
      ],
      "text/plain": [
       "   makh ho            ten   diem_trung_binh\n",
       "1  CN   Văn Thị       Mai   8.75           \n",
       "2  CN   Lê Bạch       Ngân  8.70           \n",
       "3  CN   Lý Vĩnh       Thiệu 8.70           \n",
       "4  CN   Cao Văn Minh  Bảo   8.60           \n",
       "5  CN   Lê Thị Thảo   Ly    8.55           \n",
       "6  TO   Trần Thị Thảo Nhung 8.35           \n",
       "7  TO   Văn Văn       Vỹ    8.25           \n",
       "8  TO   Đàm Bạch      Ngân  8.25           \n",
       "9  TO   Thái Văn Minh Kiệt  8.20           \n",
       "10 TO   Khương Thị    Loan  8.15           \n",
       "11 VL   Lê Văn        Lộc   8.65           \n",
       "12 VL   Cao Thảo      Ly    8.45           \n",
       "13 VL   Mã Phú        Tâm   8.45           \n",
       "14 VL   Thái Nam      Tuấn  8.45           \n",
       "15 VL   Trần Mạnh     Thiệu 8.45           "
      ]
     },
     "metadata": {},
     "output_type": "display_data"
    }
   ],
   "source": [
    "cn_group=head(arrange(subset(df_with_dtb, (makh == 'CN'), select=c(makh,ho,ten,diem_trung_binh)),desc(diem_trung_binh),group_by=makh),5)\n",
    "vl_group=head(arrange(subset(df_with_dtb, (makh == 'VL'), select=c(makh,ho,ten,diem_trung_binh)),desc(diem_trung_binh),group_by=makh),5)\n",
    "to_group=head(arrange(subset(df_with_dtb, (makh == 'TO'), select=c(makh,ho,ten,diem_trung_binh)),desc(diem_trung_binh),group_by=makh),5)\n",
    "top_5=rbind(cn_group,vl_group,to_group)\n",
    "top_5=arrange(top_5,group_by=makh)\n",
    "top_5"
   ]
  },
  {
   "cell_type": "markdown",
   "metadata": {
    "id": "Ca2xIATCJJ_-"
   },
   "source": [
    "#### 7. Trong dataframe df tạo thêm cột **ketqua** với kết quả là Giỏi nếu điểm>=9, kết quả là Khá nếu điểm<9 và điểm >=6.5, kết quả là Trung bình nếu điểm <6.5 và điểm >=5, kết quả là Yếu nếu điểm<5"
   ]
  },
  {
   "cell_type": "code",
   "execution_count": 94,
   "metadata": {},
   "outputs": [
    {
     "data": {
      "text/html": [
       "<table class=\"dataframe\">\n",
       "<caption>A data.frame: 6 × 12</caption>\n",
       "<thead>\n",
       "\t<tr><th></th><th scope=col>masv</th><th scope=col>ho</th><th scope=col>ten</th><th scope=col>gioitinh</th><th scope=col>ngaysinh</th><th scope=col>email</th><th scope=col>didong</th><th scope=col>cmnd</th><th scope=col>hocbong</th><th scope=col>makh</th><th scope=col>diem_trung_binh</th><th scope=col>ketqua</th></tr>\n",
       "\t<tr><th></th><th scope=col>&lt;chr&gt;</th><th scope=col>&lt;chr&gt;</th><th scope=col>&lt;chr&gt;</th><th scope=col>&lt;lgl&gt;</th><th scope=col>&lt;dttm&gt;</th><th scope=col>&lt;chr&gt;</th><th scope=col>&lt;chr&gt;</th><th scope=col>&lt;chr&gt;</th><th scope=col>&lt;dbl&gt;</th><th scope=col>&lt;chr&gt;</th><th scope=col>&lt;dbl&gt;</th><th scope=col>&lt;chr&gt;</th></tr>\n",
       "</thead>\n",
       "<tbody>\n",
       "\t<tr><th scope=row>1</th><td>C0001</td><td>Khương Thảo   </td><td>Loan </td><td>FALSE</td><td>1999-01-04</td><td>ktloan@gmail.com  </td><td>0987314518</td><td>586900775484</td><td>2e+06</td><td>CN</td><td>6.5</td><td>khá</td></tr>\n",
       "\t<tr><th scope=row>2</th><td>C0002</td><td>Đặng Bạch     </td><td>Ngọc </td><td> TRUE</td><td>1999-11-11</td><td>dbngoc@gmail.com  </td><td>0987587327</td><td>274387352269</td><td>0e+00</td><td>CN</td><td>7.2</td><td>khá</td></tr>\n",
       "\t<tr><th scope=row>3</th><td>C0003</td><td>Phạm Văn Minh </td><td>Thiện</td><td> TRUE</td><td>1999-11-23</td><td>pvmthien@gmail.com</td><td>0987858734</td><td>835772714136</td><td>0e+00</td><td>CN</td><td>7.7</td><td>khá</td></tr>\n",
       "\t<tr><th scope=row>4</th><td>C0004</td><td>Đinh Thị Thanh</td><td>Dung </td><td>FALSE</td><td>1999-01-19</td><td>dttdung@gmail.com </td><td>0987508413</td><td>373064334392</td><td>1e+06</td><td>CN</td><td>6.9</td><td>khá</td></tr>\n",
       "\t<tr><th scope=row>5</th><td>C0005</td><td>Trần Mạnh     </td><td>Thiện</td><td> TRUE</td><td>1999-08-19</td><td>tmthien@gmail.com </td><td>0987579776</td><td>233384596844</td><td>1e+06</td><td>CN</td><td>7.7</td><td>khá</td></tr>\n",
       "\t<tr><th scope=row>6</th><td>C0006</td><td>Trần Văn Minh </td><td>Hiệu </td><td> TRUE</td><td>1999-12-12</td><td>tvmhieu@gmail.com </td><td>0168595875</td><td>065746412487</td><td>1e+06</td><td>CN</td><td>7.8</td><td>khá</td></tr>\n",
       "</tbody>\n",
       "</table>\n"
      ],
      "text/latex": [
       "A data.frame: 6 × 12\n",
       "\\begin{tabular}{r|llllllllllll}\n",
       "  & masv & ho & ten & gioitinh & ngaysinh & email & didong & cmnd & hocbong & makh & diem\\_trung\\_binh & ketqua\\\\\n",
       "  & <chr> & <chr> & <chr> & <lgl> & <dttm> & <chr> & <chr> & <chr> & <dbl> & <chr> & <dbl> & <chr>\\\\\n",
       "\\hline\n",
       "\t1 & C0001 & Khương Thảo    & Loan  & FALSE & 1999-01-04 & ktloan@gmail.com   & 0987314518 & 586900775484 & 2e+06 & CN & 6.5 & khá\\\\\n",
       "\t2 & C0002 & Đặng Bạch      & Ngọc  &  TRUE & 1999-11-11 & dbngoc@gmail.com   & 0987587327 & 274387352269 & 0e+00 & CN & 7.2 & khá\\\\\n",
       "\t3 & C0003 & Phạm Văn Minh  & Thiện &  TRUE & 1999-11-23 & pvmthien@gmail.com & 0987858734 & 835772714136 & 0e+00 & CN & 7.7 & khá\\\\\n",
       "\t4 & C0004 & Đinh Thị Thanh & Dung  & FALSE & 1999-01-19 & dttdung@gmail.com  & 0987508413 & 373064334392 & 1e+06 & CN & 6.9 & khá\\\\\n",
       "\t5 & C0005 & Trần Mạnh      & Thiện &  TRUE & 1999-08-19 & tmthien@gmail.com  & 0987579776 & 233384596844 & 1e+06 & CN & 7.7 & khá\\\\\n",
       "\t6 & C0006 & Trần Văn Minh  & Hiệu  &  TRUE & 1999-12-12 & tvmhieu@gmail.com  & 0168595875 & 065746412487 & 1e+06 & CN & 7.8 & khá\\\\\n",
       "\\end{tabular}\n"
      ],
      "text/markdown": [
       "\n",
       "A data.frame: 6 × 12\n",
       "\n",
       "| <!--/--> | masv &lt;chr&gt; | ho &lt;chr&gt; | ten &lt;chr&gt; | gioitinh &lt;lgl&gt; | ngaysinh &lt;dttm&gt; | email &lt;chr&gt; | didong &lt;chr&gt; | cmnd &lt;chr&gt; | hocbong &lt;dbl&gt; | makh &lt;chr&gt; | diem_trung_binh &lt;dbl&gt; | ketqua &lt;chr&gt; |\n",
       "|---|---|---|---|---|---|---|---|---|---|---|---|---|\n",
       "| 1 | C0001 | Khương Thảo    | Loan  | FALSE | 1999-01-04 | ktloan@gmail.com   | 0987314518 | 586900775484 | 2e+06 | CN | 6.5 | khá |\n",
       "| 2 | C0002 | Đặng Bạch      | Ngọc  |  TRUE | 1999-11-11 | dbngoc@gmail.com   | 0987587327 | 274387352269 | 0e+00 | CN | 7.2 | khá |\n",
       "| 3 | C0003 | Phạm Văn Minh  | Thiện |  TRUE | 1999-11-23 | pvmthien@gmail.com | 0987858734 | 835772714136 | 0e+00 | CN | 7.7 | khá |\n",
       "| 4 | C0004 | Đinh Thị Thanh | Dung  | FALSE | 1999-01-19 | dttdung@gmail.com  | 0987508413 | 373064334392 | 1e+06 | CN | 6.9 | khá |\n",
       "| 5 | C0005 | Trần Mạnh      | Thiện |  TRUE | 1999-08-19 | tmthien@gmail.com  | 0987579776 | 233384596844 | 1e+06 | CN | 7.7 | khá |\n",
       "| 6 | C0006 | Trần Văn Minh  | Hiệu  |  TRUE | 1999-12-12 | tvmhieu@gmail.com  | 0168595875 | 065746412487 | 1e+06 | CN | 7.8 | khá |\n",
       "\n"
      ],
      "text/plain": [
       "  masv  ho             ten   gioitinh ngaysinh   email              didong    \n",
       "1 C0001 Khương Thảo    Loan  FALSE    1999-01-04 ktloan@gmail.com   0987314518\n",
       "2 C0002 Đặng Bạch      Ngọc   TRUE    1999-11-11 dbngoc@gmail.com   0987587327\n",
       "3 C0003 Phạm Văn Minh  Thiện  TRUE    1999-11-23 pvmthien@gmail.com 0987858734\n",
       "4 C0004 Đinh Thị Thanh Dung  FALSE    1999-01-19 dttdung@gmail.com  0987508413\n",
       "5 C0005 Trần Mạnh      Thiện  TRUE    1999-08-19 tmthien@gmail.com  0987579776\n",
       "6 C0006 Trần Văn Minh  Hiệu   TRUE    1999-12-12 tvmhieu@gmail.com  0168595875\n",
       "  cmnd         hocbong makh diem_trung_binh ketqua\n",
       "1 586900775484 2e+06   CN   6.5             khá   \n",
       "2 274387352269 0e+00   CN   7.2             khá   \n",
       "3 835772714136 0e+00   CN   7.7             khá   \n",
       "4 373064334392 1e+06   CN   6.9             khá   \n",
       "5 233384596844 1e+06   CN   7.7             khá   \n",
       "6 065746412487 1e+06   CN   7.8             khá   "
      ]
     },
     "metadata": {},
     "output_type": "display_data"
    }
   ],
   "source": [
    "df_with_dtb$ketqua=df_with_dtb$diem_trung_binh\n",
    "for (i in 1:length(df_with_dtb$ketqua)){if (df_with_dtb$ketqua[i]>=9){df_with_dtb$ketqua[i]='giỏi'}\n",
    "else if (df_with_dtb$ketqua[i]<9&df_with_dtb$ketqua[i]>=6.5){df_with_dtb$ketqua[i]='khá'}\n",
    "else if (df_with_dtb$ketqua[i]<6.5&df_with_dtb$ketqua[i]>=5){df_with_dtb$ketqua[i]='trung bình'}\n",
    "else {df_with_dtb$ketqua[i]='yếu'}\n",
    "                                      }\n",
    "head(df_with_dtb)"
   ]
  },
  {
   "cell_type": "markdown",
   "metadata": {
    "id": "JBkcW245JKAF"
   },
   "source": [
    "#### 8. Cho biết mỗi khoa có bao nhiêu sinh viên khá? Vẽ barplot thể hiện số lượng sinh viên giỏi của từng khoa."
   ]
  },
  {
   "cell_type": "code",
   "execution_count": 107,
   "metadata": {
    "id": "qhzslj2oE38n"
   },
   "outputs": [
    {
     "data": {
      "image/png": "[encoded data removed]",
      "text/plain": [
       "Plot with title \"barplot thể hiện số lượng sinh viên giỏi của từng khoa\""
      ]
     },
     "metadata": {
      "image/png": {
       "height": 420,
       "width": 420
      }
     },
     "output_type": "display_data"
    }
   ],
   "source": [
    "sl_gioi_cn<-nrow(df_with_dtb %>%\n",
    "  filter(makh=='CN',ketqua=='khá'))\n",
    "sl_gioi_vl<-nrow(df_with_dtb %>%\n",
    "  filter(makh=='VL',ketqua=='khá'))\n",
    "sl_gioi_to<-nrow(df_with_dtb %>%\n",
    "  filter(makh=='TO',ketqua=='khá'))\n",
    "ploting<-c(sl_gioi_cn,sl_gioi_vl,sl_gioi_to)\n",
    "M<-c('CN','VL','TO')\n",
    "barplot(ploting,xlab='khoa',ylab='số lượng sinh viên giỏi',main='barplot thể hiện số lượng sinh viên giỏi của từng khoa',names.arg=M,col='yellow',border='red')"
   ]
  },
  {
   "cell_type": "markdown",
   "metadata": {
    "id": "wEG12KKDRoEU"
   },
   "source": [
    "#### 9. Vẽ biểu đồ boxplot cho cột điểm (điểm trung bình) trong dataframe df. Nhận xét.   "
   ]
  },
  {
   "cell_type": "code",
   "execution_count": 109,
   "metadata": {
    "id": "wy3tp4JzE4eH"
   },
   "outputs": [
    {
     "data": {
      "image/png": "[encoded data removed]",
      "text/plain": [
       "Plot with title \"Điểm trung bình\""
      ]
     },
     "metadata": {
      "image/png": {
       "height": 420,
       "width": 420
      }
     },
     "output_type": "display_data"
    }
   ],
   "source": [
    "boxplot(df_with_dtb$diem_trung_binh,main='Điểm trung bình')\n",
    "#Nhận xét: điểm trung bình phân bố chủ yếu từ 6.75 đến 7.5"
   ]
  },
  {
   "cell_type": "markdown",
   "metadata": {
    "id": "cC-W1-EdUSWK"
   },
   "source": [
    "#### 10. Vẽ biểu đồ barplot thể hiện điểm trung bình của mỗi khoa. Nhận xét. (Gợi ý: tính điểm trung bình cho từng khoa và thể hiện lên biểu đồ)"
   ]
  },
  {
   "cell_type": "code",
   "execution_count": 180,
   "metadata": {
    "id": "YiWZlxmDE48_"
   },
   "outputs": [
    {
     "data": {
      "image/png": "[encoded data removed]",
      "text/plain": [
       "Plot with title \"barplot thể hiện điểm trung bình của mỗi khoa\""
      ]
     },
     "metadata": {
      "image/png": {
       "height": 420,
       "width": 420
      }
     },
     "output_type": "display_data"
    }
   ],
   "source": [
    "diem_tb_cn<-mean((df_with_dtb %>%\n",
    "  filter(makh=='CN'))$diem_trung_binh)\n",
    "diem_tb_vl<-mean((df_with_dtb %>%\n",
    "  filter(makh=='VL'))$diem_trung_binh)\n",
    "diem_tb_to<-mean((df_with_dtb %>%\n",
    "  filter(makh=='TO'))$diem_trung_binh)\n",
    "ploting<-c(diem_tb_cn,diem_tb_vl,diem_tb_to)\n",
    "M<-c('CN','VL','TO')\n",
    "barplot(ploting,xlab='khoa',ylab='điểm trung bình',main='barplot thể hiện điểm trung bình của mỗi khoa',names.arg=M,col='green')\n",
    "#Nhận xét, điểm trung bình các khoa tương đối ngang nhau"
   ]
  },
  {
   "cell_type": "markdown",
   "metadata": {
    "id": "OF0ymOCpJKAI"
   },
   "source": [
    "#### 11. Vẽ biểu đồ thể hiện điểm số của sinh viên mỗi khoa theo giới tính. Nhận xét. "
   ]
  },
  {
   "cell_type": "code",
   "execution_count": 172,
   "metadata": {
    "id": "j0rHL88LE5an"
   },
   "outputs": [
    {
     "data": {
      "image/png": "[encoded data removed]",
      "text/plain": [
       "Plot with title \"biểu đồ thể hiện điểm số của sinh viên mỗi khoa theo giới tính\""
      ]
     },
     "metadata": {
      "image/png": {
       "height": 420,
       "width": 420
      }
     },
     "output_type": "display_data"
    }
   ],
   "source": [
    "#điểm trung bình củng tương đối đều nhau theo giới tính\n",
    "diem_tb_cn_nam<-mean((df_with_dtb %>%\n",
    "  filter(makh=='CN'&gioitinh==TRUE))$diem_trung_binh)\n",
    "diem_tb_cn_nu<-mean((df_with_dtb %>%\n",
    "  filter(makh=='CN'&gioitinh==FALSE))$diem_trung_binh)\n",
    "diem_tb_vl_nam<-mean((df_with_dtb %>%\n",
    "  filter(makh=='VL'&gioitinh==TRUE))$diem_trung_binh)\n",
    "diem_tb_vl_nu<-mean((df_with_dtb %>%\n",
    "  filter(makh=='VL'&gioitinh==FALSE))$diem_trung_binh)\n",
    "diem_tb_to_nam<-mean((df_with_dtb %>%\n",
    "  filter(makh=='TO'&gioitinh==TRUE))$diem_trung_binh)\n",
    "diem_tb_to_nu<-mean((df_with_dtb %>%\n",
    "  filter(makh=='TO'&gioitinh==FALSE))$diem_trung_binh)\n",
    "ploting<-c(diem_tb_cn,diem_tb_vl,diem_tb_to)\n",
    "vec_cn<-c(diem_tb_cn_nam,diem_tb_cn_nu)\n",
    "vec_vl<-c(diem_tb_vl_nam,diem_tb_vl_nu)\n",
    "vec_to<-c(diem_tb_to_nam,diem_tb_to_nu)\n",
    "vec_gioitinh<-c('nam','nữ')\n",
    "plotting<-c(vec_cn,vec_vl,vec_to)\n",
    "new_df<-data.frame(vec_cn,vec_vl,vec_to,vec_gioitinh)\n",
    "khoa<-c('CN','VL','TO')\n",
    "Nam<-c((new_df%>%filter(vec_gioitinh=='nam'))$vec_cn,(new_df%>%filter(vec_gioitinh=='nam'))$vec_vl,(new_df%>%filter(vec_gioitinh=='nam'))$vec_to)\n",
    "Nu<-c((new_df%>%filter(vec_gioitinh=='nữ'))$vec_cn,(new_df%>%filter(vec_gioitinh=='nữ'))$vec_vl,(new_df%>%filter(vec_gioitinh=='nữ'))$vec_to)\n",
    "data_tree<-data.frame(row.names=khoa,Nam,Nu)\n",
    "barplot(t(as.matrix(data_tree)),beside=TRUE,main='biểu đồ thể hiện điểm số của sinh viên mỗi khoa theo giới tính',col=c('blue','red'))\n",
    "legend('right',c('male','female'),cex=0.9,fill=c('blue','red'))"
   ]
  },
  {
   "cell_type": "markdown",
   "metadata": {
    "id": "WJmm3cWBydJP"
   },
   "source": [
    "#### 12. Vẽ biểu đồ phân bố điểm của mỗi khoa. Nhận xét."
   ]
  },
  {
   "cell_type": "code",
   "execution_count": 181,
   "metadata": {
    "id": "JtqQt8Tgygdm"
   },
   "outputs": [
    {
     "data": {
      "image/png": "[encoded data removed]",
      "text/plain": [
       "Plot with title \"histogram điểm khoa CN\""
      ]
     },
     "metadata": {
      "image/png": {
       "height": 420,
       "width": 420
      }
     },
     "output_type": "display_data"
    },
    {
     "data": {
      "image/png": "[encoded data removed]",
      "text/plain": [
       "Plot with title \"histogram điểm khoa VL\""
      ]
     },
     "metadata": {
      "image/png": {
       "height": 420,
       "width": 420
      }
     },
     "output_type": "display_data"
    },
    {
     "data": {
      "image/png": "[encoded data removed]",
      "text/plain": [
       "Plot with title \"histogram điểm khoa TO\""
      ]
     },
     "metadata": {
      "image/png": {
       "height": 420,
       "width": 420
      }
     },
     "output_type": "display_data"
    }
   ],
   "source": [
    "hist((df_with_dtb%>%filter(makh=='CN'))$diem_trung_binh,main='histogram điểm khoa CN',xlab='điểm trung bình',xlim=c(0,10),col='green')\n",
    "hist((df_with_dtb%>%filter(makh=='VL'))$diem_trung_binh,main='histogram điểm khoa VL',xlab='điểm trung bình',xlim=c(0,10),col='green')\n",
    "hist((df_with_dtb%>%filter(makh=='TO'))$diem_trung_binh,main='histogram điểm khoa TO',xlab='điểm trung bình',xlim=c(0,10),col='green')"
   ]
  },
  {
   "cell_type": "markdown",
   "metadata": {
    "id": "7l2OXoc2ieAB"
   },
   "source": [
    "## Câu 3: canxi (Dataframe, Làm việc với tập tin, Data visualization)\n",
    "### Cho dữ liệu canxi.xlsx. Hãy thực hiện các yêu cầu được liệt kê bên dưới\n",
    "\n"
   ]
  },
  {
   "cell_type": "markdown",
   "metadata": {
    "id": "AR7b4V_Mjnhn"
   },
   "source": [
    "#### 1. Đọc dữ liệu. Xem thông tin dữ liệu với head(), tail(), str(), summary().\n"
   ]
  },
  {
   "cell_type": "code",
   "execution_count": 222,
   "metadata": {
    "id": "FwlvAFB7E6RX"
   },
   "outputs": [
    {
     "name": "stderr",
     "output_type": "stream",
     "text": [
      "Installing package into 'C:/Users/ASUS/AppData/Local/R/win-library/4.2'\n",
      "(as 'lib' is unspecified)\n",
      "\n"
     ]
    },
    {
     "name": "stdout",
     "output_type": "stream",
     "text": [
      "package 'rJava' successfully unpacked and MD5 sums checked\n",
      "\n",
      "The downloaded binary packages are in\n",
      "\tC:\\Users\\ASUS\\AppData\\Local\\Temp\\RtmpOyvZc7\\downloaded_packages\n"
     ]
    },
    {
     "name": "stderr",
     "output_type": "stream",
     "text": [
      "java.home option: \n",
      "\n",
      "JAVA_HOME environment variable: C:/Program Files/Java/jre1.8.0_333/\n",
      "\n",
      "Warning message in fun(libname, pkgname):\n",
      "\"Java home setting is INVALID, it will be ignored.\n",
      "Please do NOT set it unless you want to override system settings.\"\n",
      "Installing package into 'C:/Users/ASUS/AppData/Local/R/win-library/4.2'\n",
      "(as 'lib' is unspecified)\n",
      "\n"
     ]
    },
    {
     "name": "stdout",
     "output_type": "stream",
     "text": [
      "package 'xlsxjars' successfully unpacked and MD5 sums checked\n",
      "\n",
      "The downloaded binary packages are in\n",
      "\tC:\\Users\\ASUS\\AppData\\Local\\Temp\\RtmpOyvZc7\\downloaded_packages\n"
     ]
    }
   ],
   "source": [
    "install.packages(\"rJava\")\n",
    "library(\"rJava\")\n",
    "install.packages(\"xlsxjars\")\n",
    "library(\"xlsxjars\")"
   ]
  },
  {
   "cell_type": "code",
   "execution_count": 223,
   "metadata": {},
   "outputs": [
    {
     "name": "stderr",
     "output_type": "stream",
     "text": [
      "Installing package into 'C:/Users/ASUS/AppData/Local/R/win-library/4.2'\n",
      "(as 'lib' is unspecified)\n",
      "\n"
     ]
    },
    {
     "name": "stdout",
     "output_type": "stream",
     "text": [
      "package 'xlsx' successfully unpacked and MD5 sums checked\n",
      "\n",
      "The downloaded binary packages are in\n",
      "\tC:\\Users\\ASUS\\AppData\\Local\\Temp\\RtmpOyvZc7\\downloaded_packages\n"
     ]
    }
   ],
   "source": [
    "install.packages(\"xlsx\")\n",
    "library(\"xlsx\")"
   ]
  },
  {
   "cell_type": "code",
   "execution_count": 226,
   "metadata": {},
   "outputs": [
    {
     "data": {
      "text/html": [
       "<table class=\"dataframe\">\n",
       "<caption>A data.frame: 6 × 3</caption>\n",
       "<thead>\n",
       "\t<tr><th></th><th scope=col>response_number</th><th scope=col>knowledge_score</th><th scope=col>calcium_intake</th></tr>\n",
       "\t<tr><th></th><th scope=col>&lt;dbl&gt;</th><th scope=col>&lt;dbl&gt;</th><th scope=col>&lt;dbl&gt;</th></tr>\n",
       "</thead>\n",
       "<tbody>\n",
       "\t<tr><th scope=row>1</th><td>1</td><td>1.0</td><td>0.450</td></tr>\n",
       "\t<tr><th scope=row>2</th><td>2</td><td>4.2</td><td>1.050</td></tr>\n",
       "\t<tr><th scope=row>3</th><td>3</td><td>3.8</td><td>0.900</td></tr>\n",
       "\t<tr><th scope=row>4</th><td>4</td><td>1.5</td><td>0.525</td></tr>\n",
       "\t<tr><th scope=row>5</th><td>5</td><td>2.2</td><td>0.710</td></tr>\n",
       "\t<tr><th scope=row>6</th><td>6</td><td>3.2</td><td>0.854</td></tr>\n",
       "</tbody>\n",
       "</table>\n"
      ],
      "text/latex": [
       "A data.frame: 6 × 3\n",
       "\\begin{tabular}{r|lll}\n",
       "  & response\\_number & knowledge\\_score & calcium\\_intake\\\\\n",
       "  & <dbl> & <dbl> & <dbl>\\\\\n",
       "\\hline\n",
       "\t1 & 1 & 1.0 & 0.450\\\\\n",
       "\t2 & 2 & 4.2 & 1.050\\\\\n",
       "\t3 & 3 & 3.8 & 0.900\\\\\n",
       "\t4 & 4 & 1.5 & 0.525\\\\\n",
       "\t5 & 5 & 2.2 & 0.710\\\\\n",
       "\t6 & 6 & 3.2 & 0.854\\\\\n",
       "\\end{tabular}\n"
      ],
      "text/markdown": [
       "\n",
       "A data.frame: 6 × 3\n",
       "\n",
       "| <!--/--> | response_number &lt;dbl&gt; | knowledge_score &lt;dbl&gt; | calcium_intake &lt;dbl&gt; |\n",
       "|---|---|---|---|\n",
       "| 1 | 1 | 1.0 | 0.450 |\n",
       "| 2 | 2 | 4.2 | 1.050 |\n",
       "| 3 | 3 | 3.8 | 0.900 |\n",
       "| 4 | 4 | 1.5 | 0.525 |\n",
       "| 5 | 5 | 2.2 | 0.710 |\n",
       "| 6 | 6 | 3.2 | 0.854 |\n",
       "\n"
      ],
      "text/plain": [
       "  response_number knowledge_score calcium_intake\n",
       "1 1               1.0             0.450         \n",
       "2 2               4.2             1.050         \n",
       "3 3               3.8             0.900         \n",
       "4 4               1.5             0.525         \n",
       "5 5               2.2             0.710         \n",
       "6 6               3.2             0.854         "
      ]
     },
     "metadata": {},
     "output_type": "display_data"
    },
    {
     "data": {
      "text/html": [
       "<table class=\"dataframe\">\n",
       "<caption>A data.frame: 6 × 3</caption>\n",
       "<thead>\n",
       "\t<tr><th></th><th scope=col>response_number</th><th scope=col>knowledge_score</th><th scope=col>calcium_intake</th></tr>\n",
       "\t<tr><th></th><th scope=col>&lt;dbl&gt;</th><th scope=col>&lt;dbl&gt;</th><th scope=col>&lt;dbl&gt;</th></tr>\n",
       "</thead>\n",
       "<tbody>\n",
       "\t<tr><th scope=row>15</th><td>15</td><td>2.2</td><td>0.583</td></tr>\n",
       "\t<tr><th scope=row>16</th><td>16</td><td>4.5</td><td>0.850</td></tr>\n",
       "\t<tr><th scope=row>17</th><td>17</td><td>1.8</td><td>0.798</td></tr>\n",
       "\t<tr><th scope=row>18</th><td>18</td><td>2.4</td><td>0.754</td></tr>\n",
       "\t<tr><th scope=row>19</th><td>19</td><td>3.0</td><td>0.805</td></tr>\n",
       "\t<tr><th scope=row>20</th><td>20</td><td>4.3</td><td>1.085</td></tr>\n",
       "</tbody>\n",
       "</table>\n"
      ],
      "text/latex": [
       "A data.frame: 6 × 3\n",
       "\\begin{tabular}{r|lll}\n",
       "  & response\\_number & knowledge\\_score & calcium\\_intake\\\\\n",
       "  & <dbl> & <dbl> & <dbl>\\\\\n",
       "\\hline\n",
       "\t15 & 15 & 2.2 & 0.583\\\\\n",
       "\t16 & 16 & 4.5 & 0.850\\\\\n",
       "\t17 & 17 & 1.8 & 0.798\\\\\n",
       "\t18 & 18 & 2.4 & 0.754\\\\\n",
       "\t19 & 19 & 3.0 & 0.805\\\\\n",
       "\t20 & 20 & 4.3 & 1.085\\\\\n",
       "\\end{tabular}\n"
      ],
      "text/markdown": [
       "\n",
       "A data.frame: 6 × 3\n",
       "\n",
       "| <!--/--> | response_number &lt;dbl&gt; | knowledge_score &lt;dbl&gt; | calcium_intake &lt;dbl&gt; |\n",
       "|---|---|---|---|\n",
       "| 15 | 15 | 2.2 | 0.583 |\n",
       "| 16 | 16 | 4.5 | 0.850 |\n",
       "| 17 | 17 | 1.8 | 0.798 |\n",
       "| 18 | 18 | 2.4 | 0.754 |\n",
       "| 19 | 19 | 3.0 | 0.805 |\n",
       "| 20 | 20 | 4.3 | 1.085 |\n",
       "\n"
      ],
      "text/plain": [
       "   response_number knowledge_score calcium_intake\n",
       "15 15              2.2             0.583         \n",
       "16 16              4.5             0.850         \n",
       "17 17              1.8             0.798         \n",
       "18 18              2.4             0.754         \n",
       "19 19              3.0             0.805         \n",
       "20 20              4.3             1.085         "
      ]
     },
     "metadata": {},
     "output_type": "display_data"
    },
    {
     "name": "stdout",
     "output_type": "stream",
     "text": [
      "'data.frame':\t20 obs. of  3 variables:\n",
      " $ response_number: num  1 2 3 4 5 6 7 8 9 10 ...\n",
      " $ knowledge_score: num  1 4.2 3.8 1.5 2.2 3.2 4 1.4 2.6 3.2 ...\n",
      " $ calcium_intake : num  0.45 1.05 0.9 0.525 0.71 0.854 0.8 0.493 0.73 0.894 ...\n"
     ]
    },
    {
     "data": {
      "text/plain": [
       " response_number knowledge_score calcium_intake  \n",
       " Min.   : 1.00   Min.   :1.00    Min.   :0.4500  \n",
       " 1st Qu.: 5.75   1st Qu.:2.20    1st Qu.:0.7250  \n",
       " Median :10.50   Median :2.90    Median :0.7990  \n",
       " Mean   :10.50   Mean   :2.96    Mean   :0.7851  \n",
       " 3rd Qu.:15.25   3rd Qu.:3.85    3rd Qu.:0.8955  \n",
       " Max.   :20.00   Max.   :4.80    Max.   :1.0850  "
      ]
     },
     "metadata": {},
     "output_type": "display_data"
    }
   ],
   "source": [
    "data<-read.xlsx(\"canxi.xlsx\",sheetIndex=1)\n",
    "head(data) \n",
    "tail(data)\n",
    "str(data)\n",
    "summary(data)"
   ]
  },
  {
   "cell_type": "markdown",
   "metadata": {
    "id": "e4qomm4ZjsNt"
   },
   "source": [
    "#### 2. Vẽ biểu đồ phân phối tần suất của knowledge_score. Nhận xét.\n"
   ]
  },
  {
   "cell_type": "code",
   "execution_count": 228,
   "metadata": {
    "id": "7FVMATcbE6sv"
   },
   "outputs": [
    {
     "data": {
      "image/png": "[encoded data removed]",
      "text/plain": [
       "Plot with title \"Histogram of knowledge_score\""
      ]
     },
     "metadata": {
      "image/png": {
       "height": 420,
       "width": 420
      }
     },
     "output_type": "display_data"
    }
   ],
   "source": [
    "hist(data$knowledge_score,main='Histogram of knowledge_score',xlab='knowledge_score')"
   ]
  },
  {
   "cell_type": "markdown",
   "metadata": {
    "id": "mXukDFM5jxxU"
   },
   "source": [
    "#### 3. Thực hiện các thống kê cơ bản cho knowledge_score và calcium_intake (mean, median, max, min)"
   ]
  },
  {
   "cell_type": "code",
   "execution_count": 230,
   "metadata": {
    "id": "y6uIBmyHE7r3"
   },
   "outputs": [
    {
     "data": {
      "text/html": [
       "2.96"
      ],
      "text/latex": [
       "2.96"
      ],
      "text/markdown": [
       "2.96"
      ],
      "text/plain": [
       "[1] 2.96"
      ]
     },
     "metadata": {},
     "output_type": "display_data"
    },
    {
     "data": {
      "text/html": [
       "2.9"
      ],
      "text/latex": [
       "2.9"
      ],
      "text/markdown": [
       "2.9"
      ],
      "text/plain": [
       "[1] 2.9"
      ]
     },
     "metadata": {},
     "output_type": "display_data"
    },
    {
     "data": {
      "text/html": [
       "4.8"
      ],
      "text/latex": [
       "4.8"
      ],
      "text/markdown": [
       "4.8"
      ],
      "text/plain": [
       "[1] 4.8"
      ]
     },
     "metadata": {},
     "output_type": "display_data"
    },
    {
     "data": {
      "text/html": [
       "1"
      ],
      "text/latex": [
       "1"
      ],
      "text/markdown": [
       "1"
      ],
      "text/plain": [
       "[1] 1"
      ]
     },
     "metadata": {},
     "output_type": "display_data"
    },
    {
     "data": {
      "text/html": [
       "0.7851"
      ],
      "text/latex": [
       "0.7851"
      ],
      "text/markdown": [
       "0.7851"
      ],
      "text/plain": [
       "[1] 0.7851"
      ]
     },
     "metadata": {},
     "output_type": "display_data"
    },
    {
     "data": {
      "text/html": [
       "0.799"
      ],
      "text/latex": [
       "0.799"
      ],
      "text/markdown": [
       "0.799"
      ],
      "text/plain": [
       "[1] 0.799"
      ]
     },
     "metadata": {},
     "output_type": "display_data"
    },
    {
     "data": {
      "text/html": [
       "1.085"
      ],
      "text/latex": [
       "1.085"
      ],
      "text/markdown": [
       "1.085"
      ],
      "text/plain": [
       "[1] 1.085"
      ]
     },
     "metadata": {},
     "output_type": "display_data"
    },
    {
     "data": {
      "text/html": [
       "0.45"
      ],
      "text/latex": [
       "0.45"
      ],
      "text/markdown": [
       "0.45"
      ],
      "text/plain": [
       "[1] 0.45"
      ]
     },
     "metadata": {},
     "output_type": "display_data"
    }
   ],
   "source": [
    "mean(data$knowledge_score)\n",
    "median(data$knowledge_score)\n",
    "max(data$knowledge_score)\n",
    "min(data$knowledge_score)\n",
    "mean(data$calcium_intake)\n",
    "median(data$calcium_intake)\n",
    "max(data$calcium_intake)\n",
    "min(data$calcium_intake)"
   ]
  },
  {
   "cell_type": "markdown",
   "metadata": {
    "id": "6-A3BWvVkC3H"
   },
   "source": [
    "#### 4. Vẽ boxplot cho knowledge_score và cho calcium_intake. knowledge_score có outlier hay không? calcium_intake có outlier hay không? Nhận xét"
   ]
  },
  {
   "cell_type": "code",
   "execution_count": 232,
   "metadata": {
    "id": "XuKs4L4xE9d4"
   },
   "outputs": [
    {
     "data": {
      "image/png": "[encoded data removed]",
      "text/plain": [
       "Plot with title \"boxplot of knowledge_score\""
      ]
     },
     "metadata": {
      "image/png": {
       "height": 420,
       "width": 420
      }
     },
     "output_type": "display_data"
    },
    {
     "data": {
      "image/png": "[encoded data removed]",
      "text/plain": [
       "Plot with title \"calcium_intake\""
      ]
     },
     "metadata": {
      "image/png": {
       "height": 420,
       "width": 420
      }
     },
     "output_type": "display_data"
    }
   ],
   "source": [
    "boxplot(data$knowledge_score,main='boxplot of knowledge_score')\n",
    "#knowledge_score không có outlier\n",
    "boxplot(data$calcium_intake,main='calcium_intake')\n",
    "#calcium_intake có 1 outlier"
   ]
  },
  {
   "cell_type": "markdown",
   "metadata": {
    "id": "7wvKajNIkPtn"
   },
   "source": [
    "#### 5. Vẽ biểu đồ thể hiện mối quan hệ giữa knowledge_score và calcium_intake. Nhận xét."
   ]
  },
  {
   "cell_type": "code",
   "execution_count": 235,
   "metadata": {
    "id": "-XkghVV1E-B_"
   },
   "outputs": [
    {
     "data": {
      "image/png": "[encoded data removed]",
      "text/plain": [
       "Plot with title \"mối quan hệ giữa knowledge_score và calcium_intake\""
      ]
     },
     "metadata": {
      "image/png": {
       "height": 420,
       "width": 420
      }
     },
     "output_type": "display_data"
    }
   ],
   "source": [
    "plot(x=data$knowledge_score,y=data$calcium_intake,xlab='knowledge_score',ylab='calcium_intake',col='green',main='mối quan hệ giữa knowledge_score và calcium_intake')\n",
    "#2 chỉ số này tuyến tính thuận"
   ]
  },
  {
   "cell_type": "markdown",
   "metadata": {
    "id": "Q0rLhFgIxv3F"
   },
   "source": [
    "## Câu 4: Cho dữ liệu fruit_data_with_colors.txt (Dataframe, Làm việc với tập tin)\n",
    "### Hãy thực hiện các yêu cầu sau:"
   ]
  },
  {
   "cell_type": "markdown",
   "metadata": {
    "id": "r9GUwzs1x5eq"
   },
   "source": [
    "#### 1. Đọc dữ liệu. Xem thông tin dữ liệu với head(), tail(), str(), summary()."
   ]
  },
  {
   "cell_type": "code",
   "execution_count": 245,
   "metadata": {
    "id": "tNwh-AT_E-hP"
   },
   "outputs": [
    {
     "name": "stdout",
     "output_type": "stream",
     "text": [
      "  fruit_label fruit_name fruit_subtype mass width height color_score\n",
      "1           1      apple  granny_smith  192   8.4    7.3        0.55\n",
      "2           1      apple  granny_smith  180   8.0    6.8        0.59\n",
      "3           1      apple  granny_smith  176   7.4    7.2        0.60\n",
      "4           2   mandarin      mandarin   86   6.2    4.7        0.80\n",
      "5           2   mandarin      mandarin   84   6.0    4.6        0.79\n",
      "6           2   mandarin      mandarin   80   5.8    4.3        0.77\n",
      "   fruit_label fruit_name fruit_subtype mass width height color_score\n",
      "54           4      lemon       unknown  120   6.0    8.4        0.74\n",
      "55           4      lemon       unknown  116   6.1    8.5        0.71\n",
      "56           4      lemon       unknown  116   6.3    7.7        0.72\n",
      "57           4      lemon       unknown  116   5.9    8.1        0.73\n",
      "58           4      lemon       unknown  152   6.5    8.5        0.72\n",
      "59           4      lemon       unknown  118   6.1    8.1        0.70\n",
      "'data.frame':\t59 obs. of  7 variables:\n",
      " $ fruit_label  : int  1 1 1 2 2 2 2 2 1 1 ...\n",
      " $ fruit_name   : chr  \"apple\" \"apple\" \"apple\" \"mandarin\" ...\n",
      " $ fruit_subtype: chr  \"granny_smith\" \"granny_smith\" \"granny_smith\" \"mandarin\" ...\n",
      " $ mass         : int  192 180 176 86 84 80 80 76 178 172 ...\n",
      " $ width        : num  8.4 8 7.4 6.2 6 5.8 5.9 5.8 7.1 7.4 ...\n",
      " $ height       : num  7.3 6.8 7.2 4.7 4.6 4.3 4.3 4 7.8 7 ...\n",
      " $ color_score  : num  0.55 0.59 0.6 0.8 0.79 0.77 0.81 0.81 0.92 0.89 ...\n",
      "NULL\n",
      "  fruit_label     fruit_name        fruit_subtype           mass      \n",
      " Min.   :1.000   Length:59          Length:59          Min.   : 76.0  \n",
      " 1st Qu.:1.000   Class :character   Class :character   1st Qu.:140.0  \n",
      " Median :3.000   Mode  :character   Mode  :character   Median :158.0  \n",
      " Mean   :2.542                                         Mean   :163.1  \n",
      " 3rd Qu.:4.000                                         3rd Qu.:177.0  \n",
      " Max.   :4.000                                         Max.   :362.0  \n",
      "     width           height        color_score    \n",
      " Min.   :5.800   Min.   : 4.000   Min.   :0.5500  \n",
      " 1st Qu.:6.600   1st Qu.: 7.200   1st Qu.:0.7200  \n",
      " Median :7.200   Median : 7.600   Median :0.7500  \n",
      " Mean   :7.105   Mean   : 7.693   Mean   :0.7629  \n",
      " 3rd Qu.:7.500   3rd Qu.: 8.200   3rd Qu.:0.8100  \n",
      " Max.   :9.600   Max.   :10.500   Max.   :0.9300  \n"
     ]
    }
   ],
   "source": [
    "df<-read.table('fruit_data_with_colors.txt',encoding='UTF-8',header = TRUE)\n",
    "print(head(df))\n",
    "print(tail(df))\n",
    "print(str(df))\n",
    "print(summary(df))"
   ]
  },
  {
   "cell_type": "markdown",
   "metadata": {
    "id": "XtyVOCa2x6PR"
   },
   "source": [
    "#### 2. Hãy cho biết kiểu dữ liệu của cột fruit_name và fruit_subtype. Nếu kiểu dữ liệu không phải là factor thì hãy chuyển thành factor"
   ]
  },
  {
   "cell_type": "code",
   "execution_count": 251,
   "metadata": {
    "id": "T94iX2LzE_OX"
   },
   "outputs": [
    {
     "data": {
      "text/html": [
       "<style>\n",
       ".list-inline {list-style: none; margin:0; padding: 0}\n",
       ".list-inline>li {display: inline-block}\n",
       ".list-inline>li:not(:last-child)::after {content: \"\\00b7\"; padding: 0 .5ex}\n",
       "</style>\n",
       "<ol class=list-inline><li>'factor'</li><li>'factor'</li><li>'factor'</li><li>'factor'</li><li>'factor'</li><li>'factor'</li><li>'factor'</li><li>'factor'</li><li>'factor'</li><li>'factor'</li><li>'factor'</li><li>'factor'</li><li>'factor'</li><li>'factor'</li><li>'factor'</li><li>'factor'</li><li>'factor'</li><li>'factor'</li><li>'factor'</li><li>'factor'</li><li>'factor'</li><li>'factor'</li><li>'factor'</li><li>'factor'</li><li>'factor'</li><li>'factor'</li><li>'factor'</li><li>'factor'</li><li>'factor'</li><li>'factor'</li><li>'factor'</li><li>'factor'</li><li>'factor'</li><li>'factor'</li><li>'factor'</li><li>'factor'</li><li>'factor'</li><li>'factor'</li><li>'factor'</li><li>'factor'</li><li>'factor'</li><li>'factor'</li><li>'factor'</li><li>'factor'</li><li>'factor'</li><li>'factor'</li><li>'factor'</li><li>'factor'</li><li>'factor'</li><li>'factor'</li><li>'factor'</li><li>'factor'</li><li>'factor'</li><li>'factor'</li><li>'factor'</li><li>'factor'</li><li>'factor'</li><li>'factor'</li><li>'factor'</li></ol>\n"
      ],
      "text/latex": [
       "\\begin{enumerate*}\n",
       "\\item 'factor'\n",
       "\\item 'factor'\n",
       "\\item 'factor'\n",
       "\\item 'factor'\n",
       "\\item 'factor'\n",
       "\\item 'factor'\n",
       "\\item 'factor'\n",
       "\\item 'factor'\n",
       "\\item 'factor'\n",
       "\\item 'factor'\n",
       "\\item 'factor'\n",
       "\\item 'factor'\n",
       "\\item 'factor'\n",
       "\\item 'factor'\n",
       "\\item 'factor'\n",
       "\\item 'factor'\n",
       "\\item 'factor'\n",
       "\\item 'factor'\n",
       "\\item 'factor'\n",
       "\\item 'factor'\n",
       "\\item 'factor'\n",
       "\\item 'factor'\n",
       "\\item 'factor'\n",
       "\\item 'factor'\n",
       "\\item 'factor'\n",
       "\\item 'factor'\n",
       "\\item 'factor'\n",
       "\\item 'factor'\n",
       "\\item 'factor'\n",
       "\\item 'factor'\n",
       "\\item 'factor'\n",
       "\\item 'factor'\n",
       "\\item 'factor'\n",
       "\\item 'factor'\n",
       "\\item 'factor'\n",
       "\\item 'factor'\n",
       "\\item 'factor'\n",
       "\\item 'factor'\n",
       "\\item 'factor'\n",
       "\\item 'factor'\n",
       "\\item 'factor'\n",
       "\\item 'factor'\n",
       "\\item 'factor'\n",
       "\\item 'factor'\n",
       "\\item 'factor'\n",
       "\\item 'factor'\n",
       "\\item 'factor'\n",
       "\\item 'factor'\n",
       "\\item 'factor'\n",
       "\\item 'factor'\n",
       "\\item 'factor'\n",
       "\\item 'factor'\n",
       "\\item 'factor'\n",
       "\\item 'factor'\n",
       "\\item 'factor'\n",
       "\\item 'factor'\n",
       "\\item 'factor'\n",
       "\\item 'factor'\n",
       "\\item 'factor'\n",
       "\\end{enumerate*}\n"
      ],
      "text/markdown": [
       "1. 'factor'\n",
       "2. 'factor'\n",
       "3. 'factor'\n",
       "4. 'factor'\n",
       "5. 'factor'\n",
       "6. 'factor'\n",
       "7. 'factor'\n",
       "8. 'factor'\n",
       "9. 'factor'\n",
       "10. 'factor'\n",
       "11. 'factor'\n",
       "12. 'factor'\n",
       "13. 'factor'\n",
       "14. 'factor'\n",
       "15. 'factor'\n",
       "16. 'factor'\n",
       "17. 'factor'\n",
       "18. 'factor'\n",
       "19. 'factor'\n",
       "20. 'factor'\n",
       "21. 'factor'\n",
       "22. 'factor'\n",
       "23. 'factor'\n",
       "24. 'factor'\n",
       "25. 'factor'\n",
       "26. 'factor'\n",
       "27. 'factor'\n",
       "28. 'factor'\n",
       "29. 'factor'\n",
       "30. 'factor'\n",
       "31. 'factor'\n",
       "32. 'factor'\n",
       "33. 'factor'\n",
       "34. 'factor'\n",
       "35. 'factor'\n",
       "36. 'factor'\n",
       "37. 'factor'\n",
       "38. 'factor'\n",
       "39. 'factor'\n",
       "40. 'factor'\n",
       "41. 'factor'\n",
       "42. 'factor'\n",
       "43. 'factor'\n",
       "44. 'factor'\n",
       "45. 'factor'\n",
       "46. 'factor'\n",
       "47. 'factor'\n",
       "48. 'factor'\n",
       "49. 'factor'\n",
       "50. 'factor'\n",
       "51. 'factor'\n",
       "52. 'factor'\n",
       "53. 'factor'\n",
       "54. 'factor'\n",
       "55. 'factor'\n",
       "56. 'factor'\n",
       "57. 'factor'\n",
       "58. 'factor'\n",
       "59. 'factor'\n",
       "\n",
       "\n"
      ],
      "text/plain": [
       " [1] \"factor\" \"factor\" \"factor\" \"factor\" \"factor\" \"factor\" \"factor\" \"factor\"\n",
       " [9] \"factor\" \"factor\" \"factor\" \"factor\" \"factor\" \"factor\" \"factor\" \"factor\"\n",
       "[17] \"factor\" \"factor\" \"factor\" \"factor\" \"factor\" \"factor\" \"factor\" \"factor\"\n",
       "[25] \"factor\" \"factor\" \"factor\" \"factor\" \"factor\" \"factor\" \"factor\" \"factor\"\n",
       "[33] \"factor\" \"factor\" \"factor\" \"factor\" \"factor\" \"factor\" \"factor\" \"factor\"\n",
       "[41] \"factor\" \"factor\" \"factor\" \"factor\" \"factor\" \"factor\" \"factor\" \"factor\"\n",
       "[49] \"factor\" \"factor\" \"factor\" \"factor\" \"factor\" \"factor\" \"factor\" \"factor\"\n",
       "[57] \"factor\" \"factor\" \"factor\""
      ]
     },
     "metadata": {},
     "output_type": "display_data"
    },
    {
     "data": {
      "text/html": [
       "<style>\n",
       ".list-inline {list-style: none; margin:0; padding: 0}\n",
       ".list-inline>li {display: inline-block}\n",
       ".list-inline>li:not(:last-child)::after {content: \"\\00b7\"; padding: 0 .5ex}\n",
       "</style>\n",
       "<ol class=list-inline><li>'factor'</li><li>'factor'</li><li>'factor'</li><li>'factor'</li><li>'factor'</li><li>'factor'</li><li>'factor'</li><li>'factor'</li><li>'factor'</li><li>'factor'</li><li>'factor'</li><li>'factor'</li><li>'factor'</li><li>'factor'</li><li>'factor'</li><li>'factor'</li><li>'factor'</li><li>'factor'</li><li>'factor'</li><li>'factor'</li><li>'factor'</li><li>'factor'</li><li>'factor'</li><li>'factor'</li><li>'factor'</li><li>'factor'</li><li>'factor'</li><li>'factor'</li><li>'factor'</li><li>'factor'</li><li>'factor'</li><li>'factor'</li><li>'factor'</li><li>'factor'</li><li>'factor'</li><li>'factor'</li><li>'factor'</li><li>'factor'</li><li>'factor'</li><li>'factor'</li><li>'factor'</li><li>'factor'</li><li>'factor'</li><li>'factor'</li><li>'factor'</li><li>'factor'</li><li>'factor'</li><li>'factor'</li><li>'factor'</li><li>'factor'</li><li>'factor'</li><li>'factor'</li><li>'factor'</li><li>'factor'</li><li>'factor'</li><li>'factor'</li><li>'factor'</li><li>'factor'</li><li>'factor'</li></ol>\n"
      ],
      "text/latex": [
       "\\begin{enumerate*}\n",
       "\\item 'factor'\n",
       "\\item 'factor'\n",
       "\\item 'factor'\n",
       "\\item 'factor'\n",
       "\\item 'factor'\n",
       "\\item 'factor'\n",
       "\\item 'factor'\n",
       "\\item 'factor'\n",
       "\\item 'factor'\n",
       "\\item 'factor'\n",
       "\\item 'factor'\n",
       "\\item 'factor'\n",
       "\\item 'factor'\n",
       "\\item 'factor'\n",
       "\\item 'factor'\n",
       "\\item 'factor'\n",
       "\\item 'factor'\n",
       "\\item 'factor'\n",
       "\\item 'factor'\n",
       "\\item 'factor'\n",
       "\\item 'factor'\n",
       "\\item 'factor'\n",
       "\\item 'factor'\n",
       "\\item 'factor'\n",
       "\\item 'factor'\n",
       "\\item 'factor'\n",
       "\\item 'factor'\n",
       "\\item 'factor'\n",
       "\\item 'factor'\n",
       "\\item 'factor'\n",
       "\\item 'factor'\n",
       "\\item 'factor'\n",
       "\\item 'factor'\n",
       "\\item 'factor'\n",
       "\\item 'factor'\n",
       "\\item 'factor'\n",
       "\\item 'factor'\n",
       "\\item 'factor'\n",
       "\\item 'factor'\n",
       "\\item 'factor'\n",
       "\\item 'factor'\n",
       "\\item 'factor'\n",
       "\\item 'factor'\n",
       "\\item 'factor'\n",
       "\\item 'factor'\n",
       "\\item 'factor'\n",
       "\\item 'factor'\n",
       "\\item 'factor'\n",
       "\\item 'factor'\n",
       "\\item 'factor'\n",
       "\\item 'factor'\n",
       "\\item 'factor'\n",
       "\\item 'factor'\n",
       "\\item 'factor'\n",
       "\\item 'factor'\n",
       "\\item 'factor'\n",
       "\\item 'factor'\n",
       "\\item 'factor'\n",
       "\\item 'factor'\n",
       "\\end{enumerate*}\n"
      ],
      "text/markdown": [
       "1. 'factor'\n",
       "2. 'factor'\n",
       "3. 'factor'\n",
       "4. 'factor'\n",
       "5. 'factor'\n",
       "6. 'factor'\n",
       "7. 'factor'\n",
       "8. 'factor'\n",
       "9. 'factor'\n",
       "10. 'factor'\n",
       "11. 'factor'\n",
       "12. 'factor'\n",
       "13. 'factor'\n",
       "14. 'factor'\n",
       "15. 'factor'\n",
       "16. 'factor'\n",
       "17. 'factor'\n",
       "18. 'factor'\n",
       "19. 'factor'\n",
       "20. 'factor'\n",
       "21. 'factor'\n",
       "22. 'factor'\n",
       "23. 'factor'\n",
       "24. 'factor'\n",
       "25. 'factor'\n",
       "26. 'factor'\n",
       "27. 'factor'\n",
       "28. 'factor'\n",
       "29. 'factor'\n",
       "30. 'factor'\n",
       "31. 'factor'\n",
       "32. 'factor'\n",
       "33. 'factor'\n",
       "34. 'factor'\n",
       "35. 'factor'\n",
       "36. 'factor'\n",
       "37. 'factor'\n",
       "38. 'factor'\n",
       "39. 'factor'\n",
       "40. 'factor'\n",
       "41. 'factor'\n",
       "42. 'factor'\n",
       "43. 'factor'\n",
       "44. 'factor'\n",
       "45. 'factor'\n",
       "46. 'factor'\n",
       "47. 'factor'\n",
       "48. 'factor'\n",
       "49. 'factor'\n",
       "50. 'factor'\n",
       "51. 'factor'\n",
       "52. 'factor'\n",
       "53. 'factor'\n",
       "54. 'factor'\n",
       "55. 'factor'\n",
       "56. 'factor'\n",
       "57. 'factor'\n",
       "58. 'factor'\n",
       "59. 'factor'\n",
       "\n",
       "\n"
      ],
      "text/plain": [
       " [1] \"factor\" \"factor\" \"factor\" \"factor\" \"factor\" \"factor\" \"factor\" \"factor\"\n",
       " [9] \"factor\" \"factor\" \"factor\" \"factor\" \"factor\" \"factor\" \"factor\" \"factor\"\n",
       "[17] \"factor\" \"factor\" \"factor\" \"factor\" \"factor\" \"factor\" \"factor\" \"factor\"\n",
       "[25] \"factor\" \"factor\" \"factor\" \"factor\" \"factor\" \"factor\" \"factor\" \"factor\"\n",
       "[33] \"factor\" \"factor\" \"factor\" \"factor\" \"factor\" \"factor\" \"factor\" \"factor\"\n",
       "[41] \"factor\" \"factor\" \"factor\" \"factor\" \"factor\" \"factor\" \"factor\" \"factor\"\n",
       "[49] \"factor\" \"factor\" \"factor\" \"factor\" \"factor\" \"factor\" \"factor\" \"factor\"\n",
       "[57] \"factor\" \"factor\" \"factor\""
      ]
     },
     "metadata": {},
     "output_type": "display_data"
    }
   ],
   "source": [
    "sapply(df$fruit_name, class)\n",
    "sapply(df$fruit_subtype, class)\n",
    "df$fruit_name<-as.factor(df$fruit_name)\n",
    "df$fruit_subtype<-as.factor(df$fruit_subtype)"
   ]
  },
  {
   "cell_type": "markdown",
   "metadata": {
    "id": "OKqNGFcix9xq"
   },
   "source": [
    "#### 3. Có bao nhiêu loại fruit_name? Đó là những loại nào? Có bao nhiêu loại fruit_subtype? Đó là những loại nào?"
   ]
  },
  {
   "cell_type": "code",
   "execution_count": 253,
   "metadata": {
    "id": "qroaWCgzE_zn"
   },
   "outputs": [
    {
     "data": {
      "text/html": [
       "<style>\n",
       ".list-inline {list-style: none; margin:0; padding: 0}\n",
       ".list-inline>li {display: inline-block}\n",
       ".list-inline>li:not(:last-child)::after {content: \"\\00b7\"; padding: 0 .5ex}\n",
       "</style>\n",
       "<ol class=list-inline><li>apple</li><li>mandarin</li><li>orange</li><li>lemon</li></ol>\n",
       "\n",
       "<details>\n",
       "\t<summary style=display:list-item;cursor:pointer>\n",
       "\t\t<strong>Levels</strong>:\n",
       "\t</summary>\n",
       "\t<style>\n",
       "\t.list-inline {list-style: none; margin:0; padding: 0}\n",
       "\t.list-inline>li {display: inline-block}\n",
       "\t.list-inline>li:not(:last-child)::after {content: \"\\00b7\"; padding: 0 .5ex}\n",
       "\t</style>\n",
       "\t<ol class=list-inline><li>'apple'</li><li>'lemon'</li><li>'mandarin'</li><li>'orange'</li></ol>\n",
       "</details>"
      ],
      "text/latex": [
       "\\begin{enumerate*}\n",
       "\\item apple\n",
       "\\item mandarin\n",
       "\\item orange\n",
       "\\item lemon\n",
       "\\end{enumerate*}\n",
       "\n",
       "\\emph{Levels}: \\begin{enumerate*}\n",
       "\\item 'apple'\n",
       "\\item 'lemon'\n",
       "\\item 'mandarin'\n",
       "\\item 'orange'\n",
       "\\end{enumerate*}\n"
      ],
      "text/markdown": [
       "1. apple\n",
       "2. mandarin\n",
       "3. orange\n",
       "4. lemon\n",
       "\n",
       "\n",
       "\n",
       "**Levels**: 1. 'apple'\n",
       "2. 'lemon'\n",
       "3. 'mandarin'\n",
       "4. 'orange'\n",
       "\n",
       "\n"
      ],
      "text/plain": [
       "[1] apple    mandarin orange   lemon   \n",
       "Levels: apple lemon mandarin orange"
      ]
     },
     "metadata": {},
     "output_type": "display_data"
    },
    {
     "data": {
      "text/html": [
       "<style>\n",
       ".list-inline {list-style: none; margin:0; padding: 0}\n",
       ".list-inline>li {display: inline-block}\n",
       ".list-inline>li:not(:last-child)::after {content: \"\\00b7\"; padding: 0 .5ex}\n",
       "</style>\n",
       "<ol class=list-inline><li>granny_smith</li><li>mandarin</li><li>braeburn</li><li>golden_delicious</li><li>cripps_pink</li><li>spanish_jumbo</li><li>selected_seconds</li><li>turkey_navel</li><li>spanish_belsan</li><li>unknown</li></ol>\n",
       "\n",
       "<details>\n",
       "\t<summary style=display:list-item;cursor:pointer>\n",
       "\t\t<strong>Levels</strong>:\n",
       "\t</summary>\n",
       "\t<style>\n",
       "\t.list-inline {list-style: none; margin:0; padding: 0}\n",
       "\t.list-inline>li {display: inline-block}\n",
       "\t.list-inline>li:not(:last-child)::after {content: \"\\00b7\"; padding: 0 .5ex}\n",
       "\t</style>\n",
       "\t<ol class=list-inline><li>'braeburn'</li><li>'cripps_pink'</li><li>'golden_delicious'</li><li>'granny_smith'</li><li>'mandarin'</li><li>'selected_seconds'</li><li>'spanish_belsan'</li><li>'spanish_jumbo'</li><li>'turkey_navel'</li><li>'unknown'</li></ol>\n",
       "</details>"
      ],
      "text/latex": [
       "\\begin{enumerate*}\n",
       "\\item granny\\_smith\n",
       "\\item mandarin\n",
       "\\item braeburn\n",
       "\\item golden\\_delicious\n",
       "\\item cripps\\_pink\n",
       "\\item spanish\\_jumbo\n",
       "\\item selected\\_seconds\n",
       "\\item turkey\\_navel\n",
       "\\item spanish\\_belsan\n",
       "\\item unknown\n",
       "\\end{enumerate*}\n",
       "\n",
       "\\emph{Levels}: \\begin{enumerate*}\n",
       "\\item 'braeburn'\n",
       "\\item 'cripps\\_pink'\n",
       "\\item 'golden\\_delicious'\n",
       "\\item 'granny\\_smith'\n",
       "\\item 'mandarin'\n",
       "\\item 'selected\\_seconds'\n",
       "\\item 'spanish\\_belsan'\n",
       "\\item 'spanish\\_jumbo'\n",
       "\\item 'turkey\\_navel'\n",
       "\\item 'unknown'\n",
       "\\end{enumerate*}\n"
      ],
      "text/markdown": [
       "1. granny_smith\n",
       "2. mandarin\n",
       "3. braeburn\n",
       "4. golden_delicious\n",
       "5. cripps_pink\n",
       "6. spanish_jumbo\n",
       "7. selected_seconds\n",
       "8. turkey_navel\n",
       "9. spanish_belsan\n",
       "10. unknown\n",
       "\n",
       "\n",
       "\n",
       "**Levels**: 1. 'braeburn'\n",
       "2. 'cripps_pink'\n",
       "3. 'golden_delicious'\n",
       "4. 'granny_smith'\n",
       "5. 'mandarin'\n",
       "6. 'selected_seconds'\n",
       "7. 'spanish_belsan'\n",
       "8. 'spanish_jumbo'\n",
       "9. 'turkey_navel'\n",
       "10. 'unknown'\n",
       "\n",
       "\n"
      ],
      "text/plain": [
       " [1] granny_smith     mandarin         braeburn         golden_delicious\n",
       " [5] cripps_pink      spanish_jumbo    selected_seconds turkey_navel    \n",
       " [9] spanish_belsan   unknown         \n",
       "10 Levels: braeburn cripps_pink golden_delicious granny_smith ... unknown"
      ]
     },
     "metadata": {},
     "output_type": "display_data"
    }
   ],
   "source": [
    "unique(df$fruit_name)\n",
    "unique(df$fruit_subtype)"
   ]
  },
  {
   "cell_type": "markdown",
   "metadata": {
    "id": "n7NI1xT9yAqK"
   },
   "source": [
    "#### 4. Hãy lọc ra tất cả các dòng dữ liệu có fruit_name là 'apple' chứa vào dataframe df_apple. Hãy cho biết có bao nhiêu dòng dữ liệu thỏa điều kiện này?"
   ]
  },
  {
   "cell_type": "code",
   "execution_count": 255,
   "metadata": {
    "id": "tUViYMNUFAfv"
   },
   "outputs": [
    {
     "data": {
      "text/html": [
       "19"
      ],
      "text/latex": [
       "19"
      ],
      "text/markdown": [
       "19"
      ],
      "text/plain": [
       "[1] 19"
      ]
     },
     "metadata": {},
     "output_type": "display_data"
    }
   ],
   "source": [
    "df_apple<-df%>%\n",
    "  filter(fruit_name=='apple')\n",
    "nrow(df_apple)"
   ]
  },
  {
   "cell_type": "markdown",
   "metadata": {
    "id": "vUDT8ty2yDLi"
   },
   "source": [
    "#### 5. Hãy lưu dataframe df_apple vào tập tin apple.csv"
   ]
  },
  {
   "cell_type": "code",
   "execution_count": 256,
   "metadata": {
    "id": "sW6CWmfEFBY3"
   },
   "outputs": [],
   "source": [
    "write.csv(df_apple,\"apple.csv\", row.names = FALSE)"
   ]
  },
  {
   "cell_type": "markdown",
   "metadata": {
    "id": "ZQxEjo-kyHAJ"
   },
   "source": [
    "#### 6. Hãy lọc ra tất cả các dòng dữ liệu có fruit_subtype là 'golden_delicious' chứa vào dataframe df_golden_delicious. Hãy cho biết có bao nhiêu dòng dữ liệu thỏa điều kiện này?"
   ]
  },
  {
   "cell_type": "code",
   "execution_count": 257,
   "metadata": {
    "id": "qE7ZLqGpFB9A"
   },
   "outputs": [
    {
     "data": {
      "text/html": [
       "5"
      ],
      "text/latex": [
       "5"
      ],
      "text/markdown": [
       "5"
      ],
      "text/plain": [
       "[1] 5"
      ]
     },
     "metadata": {},
     "output_type": "display_data"
    }
   ],
   "source": [
    "df_golden_delicious<-df%>%\n",
    "  filter(fruit_subtype=='golden_delicious')\n",
    "nrow(df_golden_delicious)"
   ]
  },
  {
   "cell_type": "markdown",
   "metadata": {
    "id": "_23u2VYayKMq"
   },
   "source": [
    "#### 7. Hãy lưu dataframe df_golden_delicious vào tập tin golden_delicious.xlsx"
   ]
  },
  {
   "cell_type": "code",
   "execution_count": 259,
   "metadata": {
    "id": "BtBLvy1DFCl-"
   },
   "outputs": [],
   "source": [
    "library(\"writexl\")\n",
    "write_xlsx(df_golden_delicious,\"golden_delicious.xlsx\")"
   ]
  },
  {
   "cell_type": "markdown",
   "metadata": {
    "id": "vjbpyruN0_iT"
   },
   "source": [
    "#### 8. Hãy lưu dataframe df_golden_delicious vào tập tin golden_delicious.xml"
   ]
  },
  {
   "cell_type": "code",
   "execution_count": 267,
   "metadata": {
    "id": "InOh23TuFDGe"
   },
   "outputs": [
    {
     "data": {
      "text/html": [
       "'golden_delicious.xml'"
      ],
      "text/latex": [
       "'golden\\_delicious.xml'"
      ],
      "text/markdown": [
       "'golden_delicious.xml'"
      ],
      "text/plain": [
       "[1] \"golden_delicious.xml\""
      ]
     },
     "metadata": {},
     "output_type": "display_data"
    }
   ],
   "source": [
    "library(\"XML\")\n",
    "doc_xml <- newXMLDoc(isHTML = FALSE)\n",
    "table_node <- newXMLNode(\"table\", doc = doc_xml)\n",
    "row_data <- apply(df, 1, function(x) {\n",
    "  z1 <- newXMLNode('row') # create a new node for each row\n",
    "  addChildren(z1, lapply(names(x), function(y) newXMLNode(y, x[y])))\n",
    "})\n",
    "xmlParent(row_data) <- table_node\n",
    "saveXML(doc_xml, file = \"golden_delicious.xml\")"
   ]
  },
  {
   "cell_type": "markdown",
   "metadata": {
    "id": "n7WDDL0YyNKy"
   },
   "source": [
    "#### 9. Nhóm theo fruit_subtype, hãy thống kê số lượng mẫu theo từng subtype; max và min từng cột mass, width, height. (Gợi ý: dùng group_by() và summarize())"
   ]
  },
  {
   "cell_type": "code",
   "execution_count": 272,
   "metadata": {
    "id": "NO0gPNjqFDnf"
   },
   "outputs": [
    {
     "data": {
      "text/html": [
       "<table class=\"dataframe\">\n",
       "<caption>A tibble: 10 × 8</caption>\n",
       "<thead>\n",
       "\t<tr><th scope=col>fruit_subtype</th><th scope=col>count</th><th scope=col>max.mass</th><th scope=col>min.mass</th><th scope=col>max.width</th><th scope=col>min.width</th><th scope=col>max.height</th><th scope=col>min.height</th></tr>\n",
       "\t<tr><th scope=col>&lt;fct&gt;</th><th scope=col>&lt;int&gt;</th><th scope=col>&lt;int&gt;</th><th scope=col>&lt;int&gt;</th><th scope=col>&lt;dbl&gt;</th><th scope=col>&lt;dbl&gt;</th><th scope=col>&lt;dbl&gt;</th><th scope=col>&lt;dbl&gt;</th></tr>\n",
       "</thead>\n",
       "<tbody>\n",
       "\t<tr><td>braeburn        </td><td> 5</td><td>178</td><td>178</td><td>7.4</td><td>7.4</td><td> 7.8</td><td> 7.8</td></tr>\n",
       "\t<tr><td>cripps_pink     </td><td> 6</td><td>170</td><td>170</td><td>7.6</td><td>7.6</td><td> 7.9</td><td> 7.9</td></tr>\n",
       "\t<tr><td>golden_delicious</td><td> 5</td><td>168</td><td>168</td><td>7.7</td><td>7.7</td><td> 7.7</td><td> 7.7</td></tr>\n",
       "\t<tr><td>granny_smith    </td><td> 3</td><td>192</td><td>192</td><td>8.4</td><td>8.4</td><td> 7.3</td><td> 7.3</td></tr>\n",
       "\t<tr><td>mandarin        </td><td> 5</td><td> 86</td><td> 86</td><td>6.2</td><td>6.2</td><td> 4.7</td><td> 4.7</td></tr>\n",
       "\t<tr><td>selected_seconds</td><td> 6</td><td>210</td><td>210</td><td>7.8</td><td>7.8</td><td> 9.2</td><td> 9.2</td></tr>\n",
       "\t<tr><td>spanish_belsan  </td><td> 6</td><td>216</td><td>216</td><td>7.3</td><td>7.3</td><td>10.5</td><td>10.5</td></tr>\n",
       "\t<tr><td>spanish_jumbo   </td><td> 3</td><td>362</td><td>362</td><td>9.6</td><td>9.6</td><td> 9.4</td><td> 9.4</td></tr>\n",
       "\t<tr><td>turkey_navel    </td><td>10</td><td>190</td><td>190</td><td>7.6</td><td>7.6</td><td> 8.2</td><td> 8.2</td></tr>\n",
       "\t<tr><td>unknown         </td><td>10</td><td>152</td><td>152</td><td>6.5</td><td>6.5</td><td> 8.7</td><td> 8.7</td></tr>\n",
       "</tbody>\n",
       "</table>\n"
      ],
      "text/latex": [
       "A tibble: 10 × 8\n",
       "\\begin{tabular}{llllllll}\n",
       " fruit\\_subtype & count & max.mass & min.mass & max.width & min.width & max.height & min.height\\\\\n",
       " <fct> & <int> & <int> & <int> & <dbl> & <dbl> & <dbl> & <dbl>\\\\\n",
       "\\hline\n",
       "\t braeburn         &  5 & 178 & 178 & 7.4 & 7.4 &  7.8 &  7.8\\\\\n",
       "\t cripps\\_pink      &  6 & 170 & 170 & 7.6 & 7.6 &  7.9 &  7.9\\\\\n",
       "\t golden\\_delicious &  5 & 168 & 168 & 7.7 & 7.7 &  7.7 &  7.7\\\\\n",
       "\t granny\\_smith     &  3 & 192 & 192 & 8.4 & 8.4 &  7.3 &  7.3\\\\\n",
       "\t mandarin         &  5 &  86 &  86 & 6.2 & 6.2 &  4.7 &  4.7\\\\\n",
       "\t selected\\_seconds &  6 & 210 & 210 & 7.8 & 7.8 &  9.2 &  9.2\\\\\n",
       "\t spanish\\_belsan   &  6 & 216 & 216 & 7.3 & 7.3 & 10.5 & 10.5\\\\\n",
       "\t spanish\\_jumbo    &  3 & 362 & 362 & 9.6 & 9.6 &  9.4 &  9.4\\\\\n",
       "\t turkey\\_navel     & 10 & 190 & 190 & 7.6 & 7.6 &  8.2 &  8.2\\\\\n",
       "\t unknown          & 10 & 152 & 152 & 6.5 & 6.5 &  8.7 &  8.7\\\\\n",
       "\\end{tabular}\n"
      ],
      "text/markdown": [
       "\n",
       "A tibble: 10 × 8\n",
       "\n",
       "| fruit_subtype &lt;fct&gt; | count &lt;int&gt; | max.mass &lt;int&gt; | min.mass &lt;int&gt; | max.width &lt;dbl&gt; | min.width &lt;dbl&gt; | max.height &lt;dbl&gt; | min.height &lt;dbl&gt; |\n",
       "|---|---|---|---|---|---|---|---|\n",
       "| braeburn         |  5 | 178 | 178 | 7.4 | 7.4 |  7.8 |  7.8 |\n",
       "| cripps_pink      |  6 | 170 | 170 | 7.6 | 7.6 |  7.9 |  7.9 |\n",
       "| golden_delicious |  5 | 168 | 168 | 7.7 | 7.7 |  7.7 |  7.7 |\n",
       "| granny_smith     |  3 | 192 | 192 | 8.4 | 8.4 |  7.3 |  7.3 |\n",
       "| mandarin         |  5 |  86 |  86 | 6.2 | 6.2 |  4.7 |  4.7 |\n",
       "| selected_seconds |  6 | 210 | 210 | 7.8 | 7.8 |  9.2 |  9.2 |\n",
       "| spanish_belsan   |  6 | 216 | 216 | 7.3 | 7.3 | 10.5 | 10.5 |\n",
       "| spanish_jumbo    |  3 | 362 | 362 | 9.6 | 9.6 |  9.4 |  9.4 |\n",
       "| turkey_navel     | 10 | 190 | 190 | 7.6 | 7.6 |  8.2 |  8.2 |\n",
       "| unknown          | 10 | 152 | 152 | 6.5 | 6.5 |  8.7 |  8.7 |\n",
       "\n"
      ],
      "text/plain": [
       "   fruit_subtype    count max.mass min.mass max.width min.width max.height\n",
       "1  braeburn          5    178      178      7.4       7.4        7.8      \n",
       "2  cripps_pink       6    170      170      7.6       7.6        7.9      \n",
       "3  golden_delicious  5    168      168      7.7       7.7        7.7      \n",
       "4  granny_smith      3    192      192      8.4       8.4        7.3      \n",
       "5  mandarin          5     86       86      6.2       6.2        4.7      \n",
       "6  selected_seconds  6    210      210      7.8       7.8        9.2      \n",
       "7  spanish_belsan    6    216      216      7.3       7.3       10.5      \n",
       "8  spanish_jumbo     3    362      362      9.6       9.6        9.4      \n",
       "9  turkey_navel     10    190      190      7.6       7.6        8.2      \n",
       "10 unknown          10    152      152      6.5       6.5        8.7      \n",
       "   min.height\n",
       "1   7.8      \n",
       "2   7.9      \n",
       "3   7.7      \n",
       "4   7.3      \n",
       "5   4.7      \n",
       "6   9.2      \n",
       "7  10.5      \n",
       "8   9.4      \n",
       "9   8.2      \n",
       "10  8.7      "
      ]
     },
     "metadata": {},
     "output_type": "display_data"
    }
   ],
   "source": [
    "group=group_by(df,fruit_subtype)\n",
    "summary=summarize(group,\n",
    "                 count=n(),\n",
    "                 max.mass=max(mass,na.rm=T),\n",
    "                 min.mass=max(mass,na.rm=T),\n",
    "                 max.width=max(width,na.rm=T),\n",
    "                 min.width=max(width,na.rm=T),\n",
    "                 max.height=max(height,na.rm=T),\n",
    "                 min.height=max(height,na.rm=T),              \n",
    "                 )\n",
    "summary"
   ]
  },
  {
   "cell_type": "markdown",
   "metadata": {
    "id": "v8SrXs7qyPwB"
   },
   "source": [
    "#### 10. Hãy lưu kết quả thống kê trên vào file subtype_summarize.json"
   ]
  },
  {
   "cell_type": "code",
   "execution_count": 274,
   "metadata": {
    "id": "vium5ArUFEOW"
   },
   "outputs": [],
   "source": [
    "library('httr')\n",
    "library('jsonlite')\n",
    "x <- toJSON(summary)\n",
    "write(x,file='subtype_summarize.json')"
   ]
  },
  {
   "cell_type": "markdown",
   "metadata": {
    "id": "Y2EqFZgDySTp"
   },
   "source": [
    "#### 11. Đọc file subtype_summarize.json vừa lưu. In nội dung."
   ]
  },
  {
   "cell_type": "code",
   "execution_count": 275,
   "metadata": {
    "id": "xo6XGpYMJKAS",
    "scrolled": true
   },
   "outputs": [
    {
     "data": {
      "text/html": [
       "<table class=\"dataframe\">\n",
       "<caption>A data.frame: 10 × 8</caption>\n",
       "<thead>\n",
       "\t<tr><th></th><th scope=col>fruit_subtype</th><th scope=col>count</th><th scope=col>max.mass</th><th scope=col>min.mass</th><th scope=col>max.width</th><th scope=col>min.width</th><th scope=col>max.height</th><th scope=col>min.height</th></tr>\n",
       "\t<tr><th></th><th scope=col>&lt;chr&gt;</th><th scope=col>&lt;int&gt;</th><th scope=col>&lt;int&gt;</th><th scope=col>&lt;int&gt;</th><th scope=col>&lt;dbl&gt;</th><th scope=col>&lt;dbl&gt;</th><th scope=col>&lt;dbl&gt;</th><th scope=col>&lt;dbl&gt;</th></tr>\n",
       "</thead>\n",
       "<tbody>\n",
       "\t<tr><th scope=row>1</th><td>braeburn        </td><td> 5</td><td>178</td><td>178</td><td>7.4</td><td>7.4</td><td> 7.8</td><td> 7.8</td></tr>\n",
       "\t<tr><th scope=row>2</th><td>cripps_pink     </td><td> 6</td><td>170</td><td>170</td><td>7.6</td><td>7.6</td><td> 7.9</td><td> 7.9</td></tr>\n",
       "\t<tr><th scope=row>3</th><td>golden_delicious</td><td> 5</td><td>168</td><td>168</td><td>7.7</td><td>7.7</td><td> 7.7</td><td> 7.7</td></tr>\n",
       "\t<tr><th scope=row>4</th><td>granny_smith    </td><td> 3</td><td>192</td><td>192</td><td>8.4</td><td>8.4</td><td> 7.3</td><td> 7.3</td></tr>\n",
       "\t<tr><th scope=row>5</th><td>mandarin        </td><td> 5</td><td> 86</td><td> 86</td><td>6.2</td><td>6.2</td><td> 4.7</td><td> 4.7</td></tr>\n",
       "\t<tr><th scope=row>6</th><td>selected_seconds</td><td> 6</td><td>210</td><td>210</td><td>7.8</td><td>7.8</td><td> 9.2</td><td> 9.2</td></tr>\n",
       "\t<tr><th scope=row>7</th><td>spanish_belsan  </td><td> 6</td><td>216</td><td>216</td><td>7.3</td><td>7.3</td><td>10.5</td><td>10.5</td></tr>\n",
       "\t<tr><th scope=row>8</th><td>spanish_jumbo   </td><td> 3</td><td>362</td><td>362</td><td>9.6</td><td>9.6</td><td> 9.4</td><td> 9.4</td></tr>\n",
       "\t<tr><th scope=row>9</th><td>turkey_navel    </td><td>10</td><td>190</td><td>190</td><td>7.6</td><td>7.6</td><td> 8.2</td><td> 8.2</td></tr>\n",
       "\t<tr><th scope=row>10</th><td>unknown         </td><td>10</td><td>152</td><td>152</td><td>6.5</td><td>6.5</td><td> 8.7</td><td> 8.7</td></tr>\n",
       "</tbody>\n",
       "</table>\n"
      ],
      "text/latex": [
       "A data.frame: 10 × 8\n",
       "\\begin{tabular}{r|llllllll}\n",
       "  & fruit\\_subtype & count & max.mass & min.mass & max.width & min.width & max.height & min.height\\\\\n",
       "  & <chr> & <int> & <int> & <int> & <dbl> & <dbl> & <dbl> & <dbl>\\\\\n",
       "\\hline\n",
       "\t1 & braeburn         &  5 & 178 & 178 & 7.4 & 7.4 &  7.8 &  7.8\\\\\n",
       "\t2 & cripps\\_pink      &  6 & 170 & 170 & 7.6 & 7.6 &  7.9 &  7.9\\\\\n",
       "\t3 & golden\\_delicious &  5 & 168 & 168 & 7.7 & 7.7 &  7.7 &  7.7\\\\\n",
       "\t4 & granny\\_smith     &  3 & 192 & 192 & 8.4 & 8.4 &  7.3 &  7.3\\\\\n",
       "\t5 & mandarin         &  5 &  86 &  86 & 6.2 & 6.2 &  4.7 &  4.7\\\\\n",
       "\t6 & selected\\_seconds &  6 & 210 & 210 & 7.8 & 7.8 &  9.2 &  9.2\\\\\n",
       "\t7 & spanish\\_belsan   &  6 & 216 & 216 & 7.3 & 7.3 & 10.5 & 10.5\\\\\n",
       "\t8 & spanish\\_jumbo    &  3 & 362 & 362 & 9.6 & 9.6 &  9.4 &  9.4\\\\\n",
       "\t9 & turkey\\_navel     & 10 & 190 & 190 & 7.6 & 7.6 &  8.2 &  8.2\\\\\n",
       "\t10 & unknown          & 10 & 152 & 152 & 6.5 & 6.5 &  8.7 &  8.7\\\\\n",
       "\\end{tabular}\n"
      ],
      "text/markdown": [
       "\n",
       "A data.frame: 10 × 8\n",
       "\n",
       "| <!--/--> | fruit_subtype &lt;chr&gt; | count &lt;int&gt; | max.mass &lt;int&gt; | min.mass &lt;int&gt; | max.width &lt;dbl&gt; | min.width &lt;dbl&gt; | max.height &lt;dbl&gt; | min.height &lt;dbl&gt; |\n",
       "|---|---|---|---|---|---|---|---|---|\n",
       "| 1 | braeburn         |  5 | 178 | 178 | 7.4 | 7.4 |  7.8 |  7.8 |\n",
       "| 2 | cripps_pink      |  6 | 170 | 170 | 7.6 | 7.6 |  7.9 |  7.9 |\n",
       "| 3 | golden_delicious |  5 | 168 | 168 | 7.7 | 7.7 |  7.7 |  7.7 |\n",
       "| 4 | granny_smith     |  3 | 192 | 192 | 8.4 | 8.4 |  7.3 |  7.3 |\n",
       "| 5 | mandarin         |  5 |  86 |  86 | 6.2 | 6.2 |  4.7 |  4.7 |\n",
       "| 6 | selected_seconds |  6 | 210 | 210 | 7.8 | 7.8 |  9.2 |  9.2 |\n",
       "| 7 | spanish_belsan   |  6 | 216 | 216 | 7.3 | 7.3 | 10.5 | 10.5 |\n",
       "| 8 | spanish_jumbo    |  3 | 362 | 362 | 9.6 | 9.6 |  9.4 |  9.4 |\n",
       "| 9 | turkey_navel     | 10 | 190 | 190 | 7.6 | 7.6 |  8.2 |  8.2 |\n",
       "| 10 | unknown          | 10 | 152 | 152 | 6.5 | 6.5 |  8.7 |  8.7 |\n",
       "\n"
      ],
      "text/plain": [
       "   fruit_subtype    count max.mass min.mass max.width min.width max.height\n",
       "1  braeburn          5    178      178      7.4       7.4        7.8      \n",
       "2  cripps_pink       6    170      170      7.6       7.6        7.9      \n",
       "3  golden_delicious  5    168      168      7.7       7.7        7.7      \n",
       "4  granny_smith      3    192      192      8.4       8.4        7.3      \n",
       "5  mandarin          5     86       86      6.2       6.2        4.7      \n",
       "6  selected_seconds  6    210      210      7.8       7.8        9.2      \n",
       "7  spanish_belsan    6    216      216      7.3       7.3       10.5      \n",
       "8  spanish_jumbo     3    362      362      9.6       9.6        9.4      \n",
       "9  turkey_navel     10    190      190      7.6       7.6        8.2      \n",
       "10 unknown          10    152      152      6.5       6.5        8.7      \n",
       "   min.height\n",
       "1   7.8      \n",
       "2   7.9      \n",
       "3   7.7      \n",
       "4   7.3      \n",
       "5   4.7      \n",
       "6   9.2      \n",
       "7  10.5      \n",
       "8   9.4      \n",
       "9   8.2      \n",
       "10  8.7      "
      ]
     },
     "metadata": {},
     "output_type": "display_data"
    }
   ],
   "source": [
    "json_text<-fromJSON('subtype_summarize.json')\n",
    "printing<-as.data.frame(json_text)\n",
    "printing"
   ]
  },
  {
   "cell_type": "markdown",
   "metadata": {},
   "source": [
    "#quangpham2311"
   ]
  }
 ],
 "metadata": {
  "colab": {
   "collapsed_sections": [
    "Ca2xIATCJJ_-",
    "wEG12KKDRoEU",
    "cC-W1-EdUSWK",
    "OF0ymOCpJKAI",
    "WJmm3cWBydJP",
    "AR7b4V_Mjnhn",
    "e4qomm4ZjsNt",
    "mXukDFM5jxxU",
    "6-A3BWvVkC3H",
    "r9GUwzs1x5eq",
    "XtyVOCa2x6PR",
    "OKqNGFcix9xq",
    "n7NI1xT9yAqK",
    "vUDT8ty2yDLi",
    "ZQxEjo-kyHAJ",
    "_23u2VYayKMq",
    "vjbpyruN0_iT",
    "n7WDDL0YyNKy",
    "v8SrXs7qyPwB",
    "Y2EqFZgDySTp"
   ],
   "provenance": []
  },
  "kernelspec": {
   "display_name": "R",
   "language": "R",
   "name": "ir"
  },
  "language_info": {
   "codemirror_mode": "r",
   "file_extension": ".r",
   "mimetype": "text/x-r-source",
   "name": "R",
   "pygments_lexer": "r",
   "version": "4.2.2"
  }
 },
 "nbformat": 4,
 "nbformat_minor": 1
}
