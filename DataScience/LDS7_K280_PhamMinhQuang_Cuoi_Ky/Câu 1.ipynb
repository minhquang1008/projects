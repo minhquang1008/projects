{
 "cells": [
  {
   "cell_type": "code",
   "execution_count": 1,
   "id": "9e93377a",
   "metadata": {},
   "outputs": [
    {
     "name": "stderr",
     "output_type": "stream",
     "text": [
      "Installing package into 'C:/Users/ASUS/AppData/Local/R/win-library/4.2'\n",
      "(as 'lib' is unspecified)\n",
      "\n"
     ]
    },
    {
     "name": "stdout",
     "output_type": "stream",
     "text": [
      "package 'titanic' successfully unpacked and MD5 sums checked\n",
      "\n",
      "The downloaded binary packages are in\n",
      "\tC:\\Users\\ASUS\\AppData\\Local\\Temp\\RtmpUpHPbx\\downloaded_packages\n"
     ]
    }
   ],
   "source": [
    "install.packages('titanic')\n",
    "library('titanic')"
   ]
  },
  {
   "cell_type": "code",
   "execution_count": 2,
   "id": "152889b3",
   "metadata": {},
   "outputs": [
    {
     "data": {
      "text/html": [
       "<table class=\"dataframe\">\n",
       "<caption>A data.frame: 6 × 12</caption>\n",
       "<thead>\n",
       "\t<tr><th></th><th scope=col>PassengerId</th><th scope=col>Survived</th><th scope=col>Pclass</th><th scope=col>Name</th><th scope=col>Sex</th><th scope=col>Age</th><th scope=col>SibSp</th><th scope=col>Parch</th><th scope=col>Ticket</th><th scope=col>Fare</th><th scope=col>Cabin</th><th scope=col>Embarked</th></tr>\n",
       "\t<tr><th></th><th scope=col>&lt;int&gt;</th><th scope=col>&lt;int&gt;</th><th scope=col>&lt;int&gt;</th><th scope=col>&lt;chr&gt;</th><th scope=col>&lt;chr&gt;</th><th scope=col>&lt;dbl&gt;</th><th scope=col>&lt;int&gt;</th><th scope=col>&lt;int&gt;</th><th scope=col>&lt;chr&gt;</th><th scope=col>&lt;dbl&gt;</th><th scope=col>&lt;chr&gt;</th><th scope=col>&lt;chr&gt;</th></tr>\n",
       "</thead>\n",
       "<tbody>\n",
       "\t<tr><th scope=row>1</th><td>1</td><td>0</td><td>3</td><td>Braund, Mr. Owen Harris                            </td><td>male  </td><td>22</td><td>1</td><td>0</td><td>A/5 21171       </td><td> 7.2500</td><td>    </td><td>S</td></tr>\n",
       "\t<tr><th scope=row>2</th><td>2</td><td>1</td><td>1</td><td>Cumings, Mrs. John Bradley (Florence Briggs Thayer)</td><td>female</td><td>38</td><td>1</td><td>0</td><td>PC 17599        </td><td>71.2833</td><td>C85 </td><td>C</td></tr>\n",
       "\t<tr><th scope=row>3</th><td>3</td><td>1</td><td>3</td><td>Heikkinen, Miss. Laina                             </td><td>female</td><td>26</td><td>0</td><td>0</td><td>STON/O2. 3101282</td><td> 7.9250</td><td>    </td><td>S</td></tr>\n",
       "\t<tr><th scope=row>4</th><td>4</td><td>1</td><td>1</td><td>Futrelle, Mrs. Jacques Heath (Lily May Peel)       </td><td>female</td><td>35</td><td>1</td><td>0</td><td>113803          </td><td>53.1000</td><td>C123</td><td>S</td></tr>\n",
       "\t<tr><th scope=row>5</th><td>5</td><td>0</td><td>3</td><td>Allen, Mr. William Henry                           </td><td>male  </td><td>35</td><td>0</td><td>0</td><td>373450          </td><td> 8.0500</td><td>    </td><td>S</td></tr>\n",
       "\t<tr><th scope=row>6</th><td>6</td><td>0</td><td>3</td><td>Moran, Mr. James                                   </td><td>male  </td><td>NA</td><td>0</td><td>0</td><td>330877          </td><td> 8.4583</td><td>    </td><td>Q</td></tr>\n",
       "</tbody>\n",
       "</table>\n"
      ],
      "text/latex": [
       "A data.frame: 6 × 12\n",
       "\\begin{tabular}{r|llllllllllll}\n",
       "  & PassengerId & Survived & Pclass & Name & Sex & Age & SibSp & Parch & Ticket & Fare & Cabin & Embarked\\\\\n",
       "  & <int> & <int> & <int> & <chr> & <chr> & <dbl> & <int> & <int> & <chr> & <dbl> & <chr> & <chr>\\\\\n",
       "\\hline\n",
       "\t1 & 1 & 0 & 3 & Braund, Mr. Owen Harris                             & male   & 22 & 1 & 0 & A/5 21171        &  7.2500 &      & S\\\\\n",
       "\t2 & 2 & 1 & 1 & Cumings, Mrs. John Bradley (Florence Briggs Thayer) & female & 38 & 1 & 0 & PC 17599         & 71.2833 & C85  & C\\\\\n",
       "\t3 & 3 & 1 & 3 & Heikkinen, Miss. Laina                              & female & 26 & 0 & 0 & STON/O2. 3101282 &  7.9250 &      & S\\\\\n",
       "\t4 & 4 & 1 & 1 & Futrelle, Mrs. Jacques Heath (Lily May Peel)        & female & 35 & 1 & 0 & 113803           & 53.1000 & C123 & S\\\\\n",
       "\t5 & 5 & 0 & 3 & Allen, Mr. William Henry                            & male   & 35 & 0 & 0 & 373450           &  8.0500 &      & S\\\\\n",
       "\t6 & 6 & 0 & 3 & Moran, Mr. James                                    & male   & NA & 0 & 0 & 330877           &  8.4583 &      & Q\\\\\n",
       "\\end{tabular}\n"
      ],
      "text/markdown": [
       "\n",
       "A data.frame: 6 × 12\n",
       "\n",
       "| <!--/--> | PassengerId &lt;int&gt; | Survived &lt;int&gt; | Pclass &lt;int&gt; | Name &lt;chr&gt; | Sex &lt;chr&gt; | Age &lt;dbl&gt; | SibSp &lt;int&gt; | Parch &lt;int&gt; | Ticket &lt;chr&gt; | Fare &lt;dbl&gt; | Cabin &lt;chr&gt; | Embarked &lt;chr&gt; |\n",
       "|---|---|---|---|---|---|---|---|---|---|---|---|---|\n",
       "| 1 | 1 | 0 | 3 | Braund, Mr. Owen Harris                             | male   | 22 | 1 | 0 | A/5 21171        |  7.2500 | <!----> | S |\n",
       "| 2 | 2 | 1 | 1 | Cumings, Mrs. John Bradley (Florence Briggs Thayer) | female | 38 | 1 | 0 | PC 17599         | 71.2833 | C85  | C |\n",
       "| 3 | 3 | 1 | 3 | Heikkinen, Miss. Laina                              | female | 26 | 0 | 0 | STON/O2. 3101282 |  7.9250 | <!----> | S |\n",
       "| 4 | 4 | 1 | 1 | Futrelle, Mrs. Jacques Heath (Lily May Peel)        | female | 35 | 1 | 0 | 113803           | 53.1000 | C123 | S |\n",
       "| 5 | 5 | 0 | 3 | Allen, Mr. William Henry                            | male   | 35 | 0 | 0 | 373450           |  8.0500 | <!----> | S |\n",
       "| 6 | 6 | 0 | 3 | Moran, Mr. James                                    | male   | NA | 0 | 0 | 330877           |  8.4583 | <!----> | Q |\n",
       "\n"
      ],
      "text/plain": [
       "  PassengerId Survived Pclass\n",
       "1 1           0        3     \n",
       "2 2           1        1     \n",
       "3 3           1        3     \n",
       "4 4           1        1     \n",
       "5 5           0        3     \n",
       "6 6           0        3     \n",
       "  Name                                                Sex    Age SibSp Parch\n",
       "1 Braund, Mr. Owen Harris                             male   22  1     0    \n",
       "2 Cumings, Mrs. John Bradley (Florence Briggs Thayer) female 38  1     0    \n",
       "3 Heikkinen, Miss. Laina                              female 26  0     0    \n",
       "4 Futrelle, Mrs. Jacques Heath (Lily May Peel)        female 35  1     0    \n",
       "5 Allen, Mr. William Henry                            male   35  0     0    \n",
       "6 Moran, Mr. James                                    male   NA  0     0    \n",
       "  Ticket           Fare    Cabin Embarked\n",
       "1 A/5 21171         7.2500       S       \n",
       "2 PC 17599         71.2833 C85   C       \n",
       "3 STON/O2. 3101282  7.9250       S       \n",
       "4 113803           53.1000 C123  S       \n",
       "5 373450            8.0500       S       \n",
       "6 330877            8.4583       Q       "
      ]
     },
     "metadata": {},
     "output_type": "display_data"
    },
    {
     "data": {
      "text/html": [
       "<table class=\"dataframe\">\n",
       "<caption>A data.frame: 6 × 12</caption>\n",
       "<thead>\n",
       "\t<tr><th></th><th scope=col>PassengerId</th><th scope=col>Survived</th><th scope=col>Pclass</th><th scope=col>Name</th><th scope=col>Sex</th><th scope=col>Age</th><th scope=col>SibSp</th><th scope=col>Parch</th><th scope=col>Ticket</th><th scope=col>Fare</th><th scope=col>Cabin</th><th scope=col>Embarked</th></tr>\n",
       "\t<tr><th></th><th scope=col>&lt;int&gt;</th><th scope=col>&lt;int&gt;</th><th scope=col>&lt;int&gt;</th><th scope=col>&lt;chr&gt;</th><th scope=col>&lt;chr&gt;</th><th scope=col>&lt;dbl&gt;</th><th scope=col>&lt;int&gt;</th><th scope=col>&lt;int&gt;</th><th scope=col>&lt;chr&gt;</th><th scope=col>&lt;dbl&gt;</th><th scope=col>&lt;chr&gt;</th><th scope=col>&lt;chr&gt;</th></tr>\n",
       "</thead>\n",
       "<tbody>\n",
       "\t<tr><th scope=row>886</th><td>886</td><td>0</td><td>3</td><td>Rice, Mrs. William (Margaret Norton)    </td><td>female</td><td>39</td><td>0</td><td>5</td><td>382652    </td><td>29.125</td><td>    </td><td>Q</td></tr>\n",
       "\t<tr><th scope=row>887</th><td>887</td><td>0</td><td>2</td><td>Montvila, Rev. Juozas                   </td><td>male  </td><td>27</td><td>0</td><td>0</td><td>211536    </td><td>13.000</td><td>    </td><td>S</td></tr>\n",
       "\t<tr><th scope=row>888</th><td>888</td><td>1</td><td>1</td><td>Graham, Miss. Margaret Edith            </td><td>female</td><td>19</td><td>0</td><td>0</td><td>112053    </td><td>30.000</td><td>B42 </td><td>S</td></tr>\n",
       "\t<tr><th scope=row>889</th><td>889</td><td>0</td><td>3</td><td>Johnston, Miss. Catherine Helen \"Carrie\"</td><td>female</td><td>NA</td><td>1</td><td>2</td><td>W./C. 6607</td><td>23.450</td><td>    </td><td>S</td></tr>\n",
       "\t<tr><th scope=row>890</th><td>890</td><td>1</td><td>1</td><td>Behr, Mr. Karl Howell                   </td><td>male  </td><td>26</td><td>0</td><td>0</td><td>111369    </td><td>30.000</td><td>C148</td><td>C</td></tr>\n",
       "\t<tr><th scope=row>891</th><td>891</td><td>0</td><td>3</td><td>Dooley, Mr. Patrick                     </td><td>male  </td><td>32</td><td>0</td><td>0</td><td>370376    </td><td> 7.750</td><td>    </td><td>Q</td></tr>\n",
       "</tbody>\n",
       "</table>\n"
      ],
      "text/latex": [
       "A data.frame: 6 × 12\n",
       "\\begin{tabular}{r|llllllllllll}\n",
       "  & PassengerId & Survived & Pclass & Name & Sex & Age & SibSp & Parch & Ticket & Fare & Cabin & Embarked\\\\\n",
       "  & <int> & <int> & <int> & <chr> & <chr> & <dbl> & <int> & <int> & <chr> & <dbl> & <chr> & <chr>\\\\\n",
       "\\hline\n",
       "\t886 & 886 & 0 & 3 & Rice, Mrs. William (Margaret Norton)     & female & 39 & 0 & 5 & 382652     & 29.125 &      & Q\\\\\n",
       "\t887 & 887 & 0 & 2 & Montvila, Rev. Juozas                    & male   & 27 & 0 & 0 & 211536     & 13.000 &      & S\\\\\n",
       "\t888 & 888 & 1 & 1 & Graham, Miss. Margaret Edith             & female & 19 & 0 & 0 & 112053     & 30.000 & B42  & S\\\\\n",
       "\t889 & 889 & 0 & 3 & Johnston, Miss. Catherine Helen \"Carrie\" & female & NA & 1 & 2 & W./C. 6607 & 23.450 &      & S\\\\\n",
       "\t890 & 890 & 1 & 1 & Behr, Mr. Karl Howell                    & male   & 26 & 0 & 0 & 111369     & 30.000 & C148 & C\\\\\n",
       "\t891 & 891 & 0 & 3 & Dooley, Mr. Patrick                      & male   & 32 & 0 & 0 & 370376     &  7.750 &      & Q\\\\\n",
       "\\end{tabular}\n"
      ],
      "text/markdown": [
       "\n",
       "A data.frame: 6 × 12\n",
       "\n",
       "| <!--/--> | PassengerId &lt;int&gt; | Survived &lt;int&gt; | Pclass &lt;int&gt; | Name &lt;chr&gt; | Sex &lt;chr&gt; | Age &lt;dbl&gt; | SibSp &lt;int&gt; | Parch &lt;int&gt; | Ticket &lt;chr&gt; | Fare &lt;dbl&gt; | Cabin &lt;chr&gt; | Embarked &lt;chr&gt; |\n",
       "|---|---|---|---|---|---|---|---|---|---|---|---|---|\n",
       "| 886 | 886 | 0 | 3 | Rice, Mrs. William (Margaret Norton)     | female | 39 | 0 | 5 | 382652     | 29.125 | <!----> | Q |\n",
       "| 887 | 887 | 0 | 2 | Montvila, Rev. Juozas                    | male   | 27 | 0 | 0 | 211536     | 13.000 | <!----> | S |\n",
       "| 888 | 888 | 1 | 1 | Graham, Miss. Margaret Edith             | female | 19 | 0 | 0 | 112053     | 30.000 | B42  | S |\n",
       "| 889 | 889 | 0 | 3 | Johnston, Miss. Catherine Helen \"Carrie\" | female | NA | 1 | 2 | W./C. 6607 | 23.450 | <!----> | S |\n",
       "| 890 | 890 | 1 | 1 | Behr, Mr. Karl Howell                    | male   | 26 | 0 | 0 | 111369     | 30.000 | C148 | C |\n",
       "| 891 | 891 | 0 | 3 | Dooley, Mr. Patrick                      | male   | 32 | 0 | 0 | 370376     |  7.750 | <!----> | Q |\n",
       "\n"
      ],
      "text/plain": [
       "    PassengerId Survived Pclass Name                                     Sex   \n",
       "886 886         0        3      Rice, Mrs. William (Margaret Norton)     female\n",
       "887 887         0        2      Montvila, Rev. Juozas                    male  \n",
       "888 888         1        1      Graham, Miss. Margaret Edith             female\n",
       "889 889         0        3      Johnston, Miss. Catherine Helen \"Carrie\" female\n",
       "890 890         1        1      Behr, Mr. Karl Howell                    male  \n",
       "891 891         0        3      Dooley, Mr. Patrick                      male  \n",
       "    Age SibSp Parch Ticket     Fare   Cabin Embarked\n",
       "886 39  0     5     382652     29.125       Q       \n",
       "887 27  0     0     211536     13.000       S       \n",
       "888 19  0     0     112053     30.000 B42   S       \n",
       "889 NA  1     2     W./C. 6607 23.450       S       \n",
       "890 26  0     0     111369     30.000 C148  C       \n",
       "891 32  0     0     370376      7.750       Q       "
      ]
     },
     "metadata": {},
     "output_type": "display_data"
    },
    {
     "name": "stdout",
     "output_type": "stream",
     "text": [
      "'data.frame':\t891 obs. of  12 variables:\n",
      " $ PassengerId: int  1 2 3 4 5 6 7 8 9 10 ...\n",
      " $ Survived   : int  0 1 1 1 0 0 0 0 1 1 ...\n",
      " $ Pclass     : int  3 1 3 1 3 3 1 3 3 2 ...\n",
      " $ Name       : chr  \"Braund, Mr. Owen Harris\" \"Cumings, Mrs. John Bradley (Florence Briggs Thayer)\" \"Heikkinen, Miss. Laina\" \"Futrelle, Mrs. Jacques Heath (Lily May Peel)\" ...\n",
      " $ Sex        : chr  \"male\" \"female\" \"female\" \"female\" ...\n",
      " $ Age        : num  22 38 26 35 35 NA 54 2 27 14 ...\n",
      " $ SibSp      : int  1 1 0 1 0 0 0 3 0 1 ...\n",
      " $ Parch      : int  0 0 0 0 0 0 0 1 2 0 ...\n",
      " $ Ticket     : chr  \"A/5 21171\" \"PC 17599\" \"STON/O2. 3101282\" \"113803\" ...\n",
      " $ Fare       : num  7.25 71.28 7.92 53.1 8.05 ...\n",
      " $ Cabin      : chr  \"\" \"C85\" \"\" \"C123\" ...\n",
      " $ Embarked   : chr  \"S\" \"C\" \"S\" \"S\" ...\n"
     ]
    },
    {
     "data": {
      "text/plain": [
       "  PassengerId       Survived          Pclass          Name          \n",
       " Min.   :  1.0   Min.   :0.0000   Min.   :1.000   Length:891        \n",
       " 1st Qu.:223.5   1st Qu.:0.0000   1st Qu.:2.000   Class :character  \n",
       " Median :446.0   Median :0.0000   Median :3.000   Mode  :character  \n",
       " Mean   :446.0   Mean   :0.3838   Mean   :2.309                     \n",
       " 3rd Qu.:668.5   3rd Qu.:1.0000   3rd Qu.:3.000                     \n",
       " Max.   :891.0   Max.   :1.0000   Max.   :3.000                     \n",
       "                                                                    \n",
       "     Sex                 Age            SibSp           Parch       \n",
       " Length:891         Min.   : 0.42   Min.   :0.000   Min.   :0.0000  \n",
       " Class :character   1st Qu.:20.12   1st Qu.:0.000   1st Qu.:0.0000  \n",
       " Mode  :character   Median :28.00   Median :0.000   Median :0.0000  \n",
       "                    Mean   :29.70   Mean   :0.523   Mean   :0.3816  \n",
       "                    3rd Qu.:38.00   3rd Qu.:1.000   3rd Qu.:0.0000  \n",
       "                    Max.   :80.00   Max.   :8.000   Max.   :6.0000  \n",
       "                    NA's   :177                                     \n",
       "    Ticket               Fare           Cabin             Embarked        \n",
       " Length:891         Min.   :  0.00   Length:891         Length:891        \n",
       " Class :character   1st Qu.:  7.91   Class :character   Class :character  \n",
       " Mode  :character   Median : 14.45   Mode  :character   Mode  :character  \n",
       "                    Mean   : 32.20                                        \n",
       "                    3rd Qu.: 31.00                                        \n",
       "                    Max.   :512.33                                        \n",
       "                                                                          "
      ]
     },
     "metadata": {},
     "output_type": "display_data"
    }
   ],
   "source": [
    "#1. Đọc dữ liệu titanic_train. Xem thông tin dữ liệu với head(), tail(), str(), summary().\n",
    "head(titanic_train)\n",
    "tail(titanic_train)\n",
    "str(titanic_train)\n",
    "summary(titanic_train)"
   ]
  },
  {
   "cell_type": "code",
   "execution_count": 3,
   "id": "1dff3dbe",
   "metadata": {},
   "outputs": [
    {
     "name": "stdout",
     "output_type": "stream",
     "text": [
      "[1] \"số dòng\"\n",
      "[1] 891\n",
      "[1] \"số cột\"\n",
      "[1] 8\n"
     ]
    }
   ],
   "source": [
    "#Tạo titanic_sub từ titanic_train chỉ chứa các cột: 'Survived', 'Pclass', 'Sex', 'Age','SibSp', 'Parch', 'Fare', 'Embarked'. Cho biết dữ liệu có bao nhiêu dòng, cột?\n",
    "titanic_sub=titanic_train[,c('Survived', 'Pclass', 'Sex', 'Age',\n",
    "'SibSp', 'Parch', 'Fare', 'Embarked')]\n",
    "print('số dòng')\n",
    "print(nrow(titanic_sub))\n",
    "print('số cột')\n",
    "print(ncol(titanic_sub))"
   ]
  },
  {
   "cell_type": "code",
   "execution_count": 4,
   "id": "5bba83e5",
   "metadata": {},
   "outputs": [
    {
     "data": {
      "text/html": [
       "<table class=\"dataframe\">\n",
       "<caption>A data.frame: 6 × 8</caption>\n",
       "<thead>\n",
       "\t<tr><th></th><th scope=col>Survived</th><th scope=col>Pclass</th><th scope=col>Sex</th><th scope=col>Age</th><th scope=col>SibSp</th><th scope=col>Parch</th><th scope=col>Fare</th><th scope=col>Embarked</th></tr>\n",
       "\t<tr><th></th><th scope=col>&lt;int&gt;</th><th scope=col>&lt;int&gt;</th><th scope=col>&lt;chr&gt;</th><th scope=col>&lt;dbl&gt;</th><th scope=col>&lt;int&gt;</th><th scope=col>&lt;int&gt;</th><th scope=col>&lt;dbl&gt;</th><th scope=col>&lt;chr&gt;</th></tr>\n",
       "</thead>\n",
       "<tbody>\n",
       "\t<tr><th scope=row>1</th><td>0</td><td>3</td><td>male  </td><td>22</td><td>1</td><td>0</td><td> 7.2500</td><td>S</td></tr>\n",
       "\t<tr><th scope=row>2</th><td>1</td><td>1</td><td>female</td><td>38</td><td>1</td><td>0</td><td>71.2833</td><td>C</td></tr>\n",
       "\t<tr><th scope=row>3</th><td>1</td><td>3</td><td>female</td><td>26</td><td>0</td><td>0</td><td> 7.9250</td><td>S</td></tr>\n",
       "\t<tr><th scope=row>4</th><td>1</td><td>1</td><td>female</td><td>35</td><td>1</td><td>0</td><td>53.1000</td><td>S</td></tr>\n",
       "\t<tr><th scope=row>5</th><td>0</td><td>3</td><td>male  </td><td>35</td><td>0</td><td>0</td><td> 8.0500</td><td>S</td></tr>\n",
       "\t<tr><th scope=row>6</th><td>0</td><td>3</td><td>male  </td><td>NA</td><td>0</td><td>0</td><td> 8.4583</td><td>Q</td></tr>\n",
       "</tbody>\n",
       "</table>\n"
      ],
      "text/latex": [
       "A data.frame: 6 × 8\n",
       "\\begin{tabular}{r|llllllll}\n",
       "  & Survived & Pclass & Sex & Age & SibSp & Parch & Fare & Embarked\\\\\n",
       "  & <int> & <int> & <chr> & <dbl> & <int> & <int> & <dbl> & <chr>\\\\\n",
       "\\hline\n",
       "\t1 & 0 & 3 & male   & 22 & 1 & 0 &  7.2500 & S\\\\\n",
       "\t2 & 1 & 1 & female & 38 & 1 & 0 & 71.2833 & C\\\\\n",
       "\t3 & 1 & 3 & female & 26 & 0 & 0 &  7.9250 & S\\\\\n",
       "\t4 & 1 & 1 & female & 35 & 1 & 0 & 53.1000 & S\\\\\n",
       "\t5 & 0 & 3 & male   & 35 & 0 & 0 &  8.0500 & S\\\\\n",
       "\t6 & 0 & 3 & male   & NA & 0 & 0 &  8.4583 & Q\\\\\n",
       "\\end{tabular}\n"
      ],
      "text/markdown": [
       "\n",
       "A data.frame: 6 × 8\n",
       "\n",
       "| <!--/--> | Survived &lt;int&gt; | Pclass &lt;int&gt; | Sex &lt;chr&gt; | Age &lt;dbl&gt; | SibSp &lt;int&gt; | Parch &lt;int&gt; | Fare &lt;dbl&gt; | Embarked &lt;chr&gt; |\n",
       "|---|---|---|---|---|---|---|---|---|\n",
       "| 1 | 0 | 3 | male   | 22 | 1 | 0 |  7.2500 | S |\n",
       "| 2 | 1 | 1 | female | 38 | 1 | 0 | 71.2833 | C |\n",
       "| 3 | 1 | 3 | female | 26 | 0 | 0 |  7.9250 | S |\n",
       "| 4 | 1 | 1 | female | 35 | 1 | 0 | 53.1000 | S |\n",
       "| 5 | 0 | 3 | male   | 35 | 0 | 0 |  8.0500 | S |\n",
       "| 6 | 0 | 3 | male   | NA | 0 | 0 |  8.4583 | Q |\n",
       "\n"
      ],
      "text/plain": [
       "  Survived Pclass Sex    Age SibSp Parch Fare    Embarked\n",
       "1 0        3      male   22  1     0      7.2500 S       \n",
       "2 1        1      female 38  1     0     71.2833 C       \n",
       "3 1        3      female 26  0     0      7.9250 S       \n",
       "4 1        1      female 35  1     0     53.1000 S       \n",
       "5 0        3      male   35  0     0      8.0500 S       \n",
       "6 0        3      male   NA  0     0      8.4583 Q       "
      ]
     },
     "metadata": {},
     "output_type": "display_data"
    }
   ],
   "source": [
    "head(titanic_sub)"
   ]
  },
  {
   "cell_type": "code",
   "execution_count": 5,
   "id": "29e76adb",
   "metadata": {},
   "outputs": [],
   "source": [
    "#3. Trong titanic_sub có na (dữ liệu thiếu/ null) không? Nếu có xóa bỏ tất cả các dòng có chứa na. Cho biết dữ liệu lúc này còn bao nhiêu dòng? In thống kê chung.\n",
    "titanic_sub<-titanic_sub[colSums(!is.na(titanic_sub))>0]"
   ]
  },
  {
   "cell_type": "code",
   "execution_count": 6,
   "id": "c2ba32eb",
   "metadata": {},
   "outputs": [],
   "source": [
    "titanic_sub<-na.omit(titanic_sub)"
   ]
  },
  {
   "cell_type": "code",
   "execution_count": 7,
   "id": "d59180bd",
   "metadata": {},
   "outputs": [],
   "source": [
    "#trong embarked có null nhưng ở dạng str rỗng\n",
    "titanic_sub$Embarked[titanic_sub$Embarked == 'C'] <- 0\n",
    "titanic_sub$Embarked[titanic_sub$Embarked == 'Q'] <- 1\n",
    "titanic_sub$Embarked[titanic_sub$Embarked == 'S'] <- 2\n",
    "titanic_sub$Embarked<-as.numeric(titanic_sub$Embarked)\n",
    "titanic_sub=na.omit(titanic_sub,titanic_sub$Embarked)"
   ]
  },
  {
   "cell_type": "code",
   "execution_count": 8,
   "id": "0d084baa",
   "metadata": {},
   "outputs": [],
   "source": [
    "titanic_sub$Sex[titanic_sub$Sex == 'female'] <- 0\n",
    "titanic_sub$Sex[titanic_sub$Sex == 'male'] <- 1\n",
    "titanic_sub$Sex <- unclass(titanic_sub$Sex)\n",
    "titanic_sub$Sex<-as.factor(titanic_sub$Sex)\n",
    "titanic_sub$Sex<-as.numeric(paste(titanic_sub$Sex))"
   ]
  },
  {
   "cell_type": "code",
   "execution_count": 9,
   "id": "7389ab6e",
   "metadata": {},
   "outputs": [
    {
     "name": "stdout",
     "output_type": "stream",
     "text": [
      "[1] \"số dòng còn lại:\"\n",
      "[1] 712\n",
      "[1] \"thống kê chung:\"\n"
     ]
    },
    {
     "data": {
      "text/html": [
       "<table class=\"dataframe\">\n",
       "<caption>A data.frame: 6 × 8</caption>\n",
       "<thead>\n",
       "\t<tr><th></th><th scope=col>Survived</th><th scope=col>Pclass</th><th scope=col>Sex</th><th scope=col>Age</th><th scope=col>SibSp</th><th scope=col>Parch</th><th scope=col>Fare</th><th scope=col>Embarked</th></tr>\n",
       "\t<tr><th></th><th scope=col>&lt;int&gt;</th><th scope=col>&lt;int&gt;</th><th scope=col>&lt;dbl&gt;</th><th scope=col>&lt;dbl&gt;</th><th scope=col>&lt;int&gt;</th><th scope=col>&lt;int&gt;</th><th scope=col>&lt;dbl&gt;</th><th scope=col>&lt;dbl&gt;</th></tr>\n",
       "</thead>\n",
       "<tbody>\n",
       "\t<tr><th scope=row>1</th><td>0</td><td>3</td><td>1</td><td>22</td><td>1</td><td>0</td><td> 7.2500</td><td>2</td></tr>\n",
       "\t<tr><th scope=row>2</th><td>1</td><td>1</td><td>0</td><td>38</td><td>1</td><td>0</td><td>71.2833</td><td>0</td></tr>\n",
       "\t<tr><th scope=row>3</th><td>1</td><td>3</td><td>0</td><td>26</td><td>0</td><td>0</td><td> 7.9250</td><td>2</td></tr>\n",
       "\t<tr><th scope=row>4</th><td>1</td><td>1</td><td>0</td><td>35</td><td>1</td><td>0</td><td>53.1000</td><td>2</td></tr>\n",
       "\t<tr><th scope=row>5</th><td>0</td><td>3</td><td>1</td><td>35</td><td>0</td><td>0</td><td> 8.0500</td><td>2</td></tr>\n",
       "\t<tr><th scope=row>7</th><td>0</td><td>1</td><td>1</td><td>54</td><td>0</td><td>0</td><td>51.8625</td><td>2</td></tr>\n",
       "</tbody>\n",
       "</table>\n"
      ],
      "text/latex": [
       "A data.frame: 6 × 8\n",
       "\\begin{tabular}{r|llllllll}\n",
       "  & Survived & Pclass & Sex & Age & SibSp & Parch & Fare & Embarked\\\\\n",
       "  & <int> & <int> & <dbl> & <dbl> & <int> & <int> & <dbl> & <dbl>\\\\\n",
       "\\hline\n",
       "\t1 & 0 & 3 & 1 & 22 & 1 & 0 &  7.2500 & 2\\\\\n",
       "\t2 & 1 & 1 & 0 & 38 & 1 & 0 & 71.2833 & 0\\\\\n",
       "\t3 & 1 & 3 & 0 & 26 & 0 & 0 &  7.9250 & 2\\\\\n",
       "\t4 & 1 & 1 & 0 & 35 & 1 & 0 & 53.1000 & 2\\\\\n",
       "\t5 & 0 & 3 & 1 & 35 & 0 & 0 &  8.0500 & 2\\\\\n",
       "\t7 & 0 & 1 & 1 & 54 & 0 & 0 & 51.8625 & 2\\\\\n",
       "\\end{tabular}\n"
      ],
      "text/markdown": [
       "\n",
       "A data.frame: 6 × 8\n",
       "\n",
       "| <!--/--> | Survived &lt;int&gt; | Pclass &lt;int&gt; | Sex &lt;dbl&gt; | Age &lt;dbl&gt; | SibSp &lt;int&gt; | Parch &lt;int&gt; | Fare &lt;dbl&gt; | Embarked &lt;dbl&gt; |\n",
       "|---|---|---|---|---|---|---|---|---|\n",
       "| 1 | 0 | 3 | 1 | 22 | 1 | 0 |  7.2500 | 2 |\n",
       "| 2 | 1 | 1 | 0 | 38 | 1 | 0 | 71.2833 | 0 |\n",
       "| 3 | 1 | 3 | 0 | 26 | 0 | 0 |  7.9250 | 2 |\n",
       "| 4 | 1 | 1 | 0 | 35 | 1 | 0 | 53.1000 | 2 |\n",
       "| 5 | 0 | 3 | 1 | 35 | 0 | 0 |  8.0500 | 2 |\n",
       "| 7 | 0 | 1 | 1 | 54 | 0 | 0 | 51.8625 | 2 |\n",
       "\n"
      ],
      "text/plain": [
       "  Survived Pclass Sex Age SibSp Parch Fare    Embarked\n",
       "1 0        3      1   22  1     0      7.2500 2       \n",
       "2 1        1      0   38  1     0     71.2833 0       \n",
       "3 1        3      0   26  0     0      7.9250 2       \n",
       "4 1        1      0   35  1     0     53.1000 2       \n",
       "5 0        3      1   35  0     0      8.0500 2       \n",
       "7 0        1      1   54  0     0     51.8625 2       "
      ]
     },
     "metadata": {},
     "output_type": "display_data"
    },
    {
     "data": {
      "text/html": [
       "<table class=\"dataframe\">\n",
       "<caption>A data.frame: 6 × 8</caption>\n",
       "<thead>\n",
       "\t<tr><th></th><th scope=col>Survived</th><th scope=col>Pclass</th><th scope=col>Sex</th><th scope=col>Age</th><th scope=col>SibSp</th><th scope=col>Parch</th><th scope=col>Fare</th><th scope=col>Embarked</th></tr>\n",
       "\t<tr><th></th><th scope=col>&lt;int&gt;</th><th scope=col>&lt;int&gt;</th><th scope=col>&lt;dbl&gt;</th><th scope=col>&lt;dbl&gt;</th><th scope=col>&lt;int&gt;</th><th scope=col>&lt;int&gt;</th><th scope=col>&lt;dbl&gt;</th><th scope=col>&lt;dbl&gt;</th></tr>\n",
       "</thead>\n",
       "<tbody>\n",
       "\t<tr><th scope=row>885</th><td>0</td><td>3</td><td>1</td><td>25</td><td>0</td><td>0</td><td> 7.050</td><td>2</td></tr>\n",
       "\t<tr><th scope=row>886</th><td>0</td><td>3</td><td>0</td><td>39</td><td>0</td><td>5</td><td>29.125</td><td>1</td></tr>\n",
       "\t<tr><th scope=row>887</th><td>0</td><td>2</td><td>1</td><td>27</td><td>0</td><td>0</td><td>13.000</td><td>2</td></tr>\n",
       "\t<tr><th scope=row>888</th><td>1</td><td>1</td><td>0</td><td>19</td><td>0</td><td>0</td><td>30.000</td><td>2</td></tr>\n",
       "\t<tr><th scope=row>890</th><td>1</td><td>1</td><td>1</td><td>26</td><td>0</td><td>0</td><td>30.000</td><td>0</td></tr>\n",
       "\t<tr><th scope=row>891</th><td>0</td><td>3</td><td>1</td><td>32</td><td>0</td><td>0</td><td> 7.750</td><td>1</td></tr>\n",
       "</tbody>\n",
       "</table>\n"
      ],
      "text/latex": [
       "A data.frame: 6 × 8\n",
       "\\begin{tabular}{r|llllllll}\n",
       "  & Survived & Pclass & Sex & Age & SibSp & Parch & Fare & Embarked\\\\\n",
       "  & <int> & <int> & <dbl> & <dbl> & <int> & <int> & <dbl> & <dbl>\\\\\n",
       "\\hline\n",
       "\t885 & 0 & 3 & 1 & 25 & 0 & 0 &  7.050 & 2\\\\\n",
       "\t886 & 0 & 3 & 0 & 39 & 0 & 5 & 29.125 & 1\\\\\n",
       "\t887 & 0 & 2 & 1 & 27 & 0 & 0 & 13.000 & 2\\\\\n",
       "\t888 & 1 & 1 & 0 & 19 & 0 & 0 & 30.000 & 2\\\\\n",
       "\t890 & 1 & 1 & 1 & 26 & 0 & 0 & 30.000 & 0\\\\\n",
       "\t891 & 0 & 3 & 1 & 32 & 0 & 0 &  7.750 & 1\\\\\n",
       "\\end{tabular}\n"
      ],
      "text/markdown": [
       "\n",
       "A data.frame: 6 × 8\n",
       "\n",
       "| <!--/--> | Survived &lt;int&gt; | Pclass &lt;int&gt; | Sex &lt;dbl&gt; | Age &lt;dbl&gt; | SibSp &lt;int&gt; | Parch &lt;int&gt; | Fare &lt;dbl&gt; | Embarked &lt;dbl&gt; |\n",
       "|---|---|---|---|---|---|---|---|---|\n",
       "| 885 | 0 | 3 | 1 | 25 | 0 | 0 |  7.050 | 2 |\n",
       "| 886 | 0 | 3 | 0 | 39 | 0 | 5 | 29.125 | 1 |\n",
       "| 887 | 0 | 2 | 1 | 27 | 0 | 0 | 13.000 | 2 |\n",
       "| 888 | 1 | 1 | 0 | 19 | 0 | 0 | 30.000 | 2 |\n",
       "| 890 | 1 | 1 | 1 | 26 | 0 | 0 | 30.000 | 0 |\n",
       "| 891 | 0 | 3 | 1 | 32 | 0 | 0 |  7.750 | 1 |\n",
       "\n"
      ],
      "text/plain": [
       "    Survived Pclass Sex Age SibSp Parch Fare   Embarked\n",
       "885 0        3      1   25  0     0      7.050 2       \n",
       "886 0        3      0   39  0     5     29.125 1       \n",
       "887 0        2      1   27  0     0     13.000 2       \n",
       "888 1        1      0   19  0     0     30.000 2       \n",
       "890 1        1      1   26  0     0     30.000 0       \n",
       "891 0        3      1   32  0     0      7.750 1       "
      ]
     },
     "metadata": {},
     "output_type": "display_data"
    },
    {
     "name": "stdout",
     "output_type": "stream",
     "text": [
      "'data.frame':\t712 obs. of  8 variables:\n",
      " $ Survived: int  0 1 1 1 0 0 0 1 1 1 ...\n",
      " $ Pclass  : int  3 1 3 1 3 1 3 3 2 3 ...\n",
      " $ Sex     : num  1 0 0 0 1 1 1 0 0 0 ...\n",
      " $ Age     : num  22 38 26 35 35 54 2 27 14 4 ...\n",
      " $ SibSp   : int  1 1 0 1 0 0 3 0 1 1 ...\n",
      " $ Parch   : int  0 0 0 0 0 0 1 2 0 1 ...\n",
      " $ Fare    : num  7.25 71.28 7.92 53.1 8.05 ...\n",
      " $ Embarked: num  2 0 2 2 2 2 2 2 0 2 ...\n",
      " - attr(*, \"na.action\")= 'omit' Named int [1:2] 47 663\n",
      "  ..- attr(*, \"names\")= chr [1:2] \"62\" \"830\"\n"
     ]
    },
    {
     "data": {
      "text/plain": [
       "    Survived          Pclass          Sex              Age       \n",
       " Min.   :0.0000   Min.   :1.00   Min.   :0.0000   Min.   : 0.42  \n",
       " 1st Qu.:0.0000   1st Qu.:1.00   1st Qu.:0.0000   1st Qu.:20.00  \n",
       " Median :0.0000   Median :2.00   Median :1.0000   Median :28.00  \n",
       " Mean   :0.4045   Mean   :2.24   Mean   :0.6362   Mean   :29.64  \n",
       " 3rd Qu.:1.0000   3rd Qu.:3.00   3rd Qu.:1.0000   3rd Qu.:38.00  \n",
       " Max.   :1.0000   Max.   :3.00   Max.   :1.0000   Max.   :80.00  \n",
       "     SibSp           Parch             Fare           Embarked    \n",
       " Min.   :0.000   Min.   :0.0000   Min.   :  0.00   Min.   :0.000  \n",
       " 1st Qu.:0.000   1st Qu.:0.0000   1st Qu.:  8.05   1st Qu.:2.000  \n",
       " Median :0.000   Median :0.0000   Median : 15.65   Median :2.000  \n",
       " Mean   :0.514   Mean   :0.4326   Mean   : 34.57   Mean   :1.596  \n",
       " 3rd Qu.:1.000   3rd Qu.:1.0000   3rd Qu.: 33.00   3rd Qu.:2.000  \n",
       " Max.   :5.000   Max.   :6.0000   Max.   :512.33   Max.   :2.000  "
      ]
     },
     "metadata": {},
     "output_type": "display_data"
    }
   ],
   "source": [
    "print('số dòng còn lại:')\n",
    "print(nrow(titanic_sub))\n",
    "print('thống kê chung:')\n",
    "head(titanic_sub)\n",
    "tail(titanic_sub)\n",
    "str(titanic_sub)\n",
    "summary(titanic_sub)"
   ]
  },
  {
   "cell_type": "code",
   "execution_count": 10,
   "id": "2dde5819",
   "metadata": {},
   "outputs": [
    {
     "name": "stderr",
     "output_type": "stream",
     "text": [
      "Warning message:\n",
      "\"\u001b[1m\u001b[22mThe dot-dot notation (`..count..`) was deprecated in ggplot2 3.4.0.\n",
      "\u001b[36mℹ\u001b[39m Please use `after_stat(count)` instead.\"\n",
      "\u001b[1m\u001b[22m`stat_bin()` using `bins = 30`. Pick better value with `binwidth`.\n"
     ]
    },
    {
     "data": {
      "image/png": "[encoded data removed]",
      "text/plain": [
       "plot without title"
      ]
     },
     "metadata": {
      "image/png": {
       "height": 420,
       "width": 420
      }
     },
     "output_type": "display_data"
    }
   ],
   "source": [
    "#4. Vẽ biểu đồ phân phối tần suất của Age. Nhận xét\n",
    "library('ggplot2')\n",
    "ggplot(data=titanic_sub,aes(titanic_sub$Age))+\n",
    "geom_histogram(col='red',aes(fill=..count..))+\n",
    "scale_fill_gradient('Count',low='green',high='red')"
   ]
  },
  {
   "cell_type": "markdown",
   "id": "a92603b1",
   "metadata": {},
   "source": [
    "Phân phối gần như phân phối chuẩn, tuổi từ 20 đến 40 chiếm đa số"
   ]
  },
  {
   "cell_type": "code",
   "execution_count": 11,
   "id": "450a2eb7",
   "metadata": {},
   "outputs": [],
   "source": [
    "#5. Thực hiện các thống kê cơ bản cho Age và Fare (mean, median, mode, max, min,range)"
   ]
  },
  {
   "cell_type": "code",
   "execution_count": 12,
   "id": "926aa60c",
   "metadata": {},
   "outputs": [
    {
     "data": {
      "text/html": [
       "29.6420926966292"
      ],
      "text/latex": [
       "29.6420926966292"
      ],
      "text/markdown": [
       "29.6420926966292"
      ],
      "text/plain": [
       "[1] 29.64209"
      ]
     },
     "metadata": {},
     "output_type": "display_data"
    },
    {
     "data": {
      "text/html": [
       "34.5672514044944"
      ],
      "text/latex": [
       "34.5672514044944"
      ],
      "text/markdown": [
       "34.5672514044944"
      ],
      "text/plain": [
       "[1] 34.56725"
      ]
     },
     "metadata": {},
     "output_type": "display_data"
    },
    {
     "data": {
      "text/html": [
       "28"
      ],
      "text/latex": [
       "28"
      ],
      "text/markdown": [
       "28"
      ],
      "text/plain": [
       "[1] 28"
      ]
     },
     "metadata": {},
     "output_type": "display_data"
    },
    {
     "data": {
      "text/html": [
       "15.64585"
      ],
      "text/latex": [
       "15.64585"
      ],
      "text/markdown": [
       "15.64585"
      ],
      "text/plain": [
       "[1] 15.64585"
      ]
     },
     "metadata": {},
     "output_type": "display_data"
    }
   ],
   "source": [
    "mean(titanic_sub$Age)\n",
    "mean(titanic_sub$Fare)\n",
    "median(titanic_sub$Age)\n",
    "median(titanic_sub$Fare)"
   ]
  },
  {
   "cell_type": "code",
   "execution_count": 13,
   "id": "523354f2",
   "metadata": {},
   "outputs": [],
   "source": [
    "getmode = function(v){\n",
    "  uniqv = unique(v)\n",
    "  uniqv[which.max(tabulate(match(v, uniqv)))]\n",
    "}"
   ]
  },
  {
   "cell_type": "code",
   "execution_count": 14,
   "id": "8f8d0734",
   "metadata": {},
   "outputs": [
    {
     "data": {
      "text/html": [
       "24"
      ],
      "text/latex": [
       "24"
      ],
      "text/markdown": [
       "24"
      ],
      "text/plain": [
       "[1] 24"
      ]
     },
     "metadata": {},
     "output_type": "display_data"
    },
    {
     "data": {
      "text/html": [
       "13"
      ],
      "text/latex": [
       "13"
      ],
      "text/markdown": [
       "13"
      ],
      "text/plain": [
       "[1] 13"
      ]
     },
     "metadata": {},
     "output_type": "display_data"
    }
   ],
   "source": [
    "getmode(titanic_sub$Age)\n",
    "getmode(titanic_sub$Fare)"
   ]
  },
  {
   "cell_type": "code",
   "execution_count": 15,
   "id": "e251d4ac",
   "metadata": {},
   "outputs": [
    {
     "data": {
      "text/html": [
       "80"
      ],
      "text/latex": [
       "80"
      ],
      "text/markdown": [
       "80"
      ],
      "text/plain": [
       "[1] 80"
      ]
     },
     "metadata": {},
     "output_type": "display_data"
    },
    {
     "data": {
      "text/html": [
       "512.3292"
      ],
      "text/latex": [
       "512.3292"
      ],
      "text/markdown": [
       "512.3292"
      ],
      "text/plain": [
       "[1] 512.3292"
      ]
     },
     "metadata": {},
     "output_type": "display_data"
    },
    {
     "data": {
      "text/html": [
       "0.42"
      ],
      "text/latex": [
       "0.42"
      ],
      "text/markdown": [
       "0.42"
      ],
      "text/plain": [
       "[1] 0.42"
      ]
     },
     "metadata": {},
     "output_type": "display_data"
    },
    {
     "data": {
      "text/html": [
       "0"
      ],
      "text/latex": [
       "0"
      ],
      "text/markdown": [
       "0"
      ],
      "text/plain": [
       "[1] 0"
      ]
     },
     "metadata": {},
     "output_type": "display_data"
    },
    {
     "data": {
      "text/html": [
       "<style>\n",
       ".list-inline {list-style: none; margin:0; padding: 0}\n",
       ".list-inline>li {display: inline-block}\n",
       ".list-inline>li:not(:last-child)::after {content: \"\\00b7\"; padding: 0 .5ex}\n",
       "</style>\n",
       "<ol class=list-inline><li>0.42</li><li>80</li></ol>\n"
      ],
      "text/latex": [
       "\\begin{enumerate*}\n",
       "\\item 0.42\n",
       "\\item 80\n",
       "\\end{enumerate*}\n"
      ],
      "text/markdown": [
       "1. 0.42\n",
       "2. 80\n",
       "\n",
       "\n"
      ],
      "text/plain": [
       "[1]  0.42 80.00"
      ]
     },
     "metadata": {},
     "output_type": "display_data"
    },
    {
     "data": {
      "text/html": [
       "<style>\n",
       ".list-inline {list-style: none; margin:0; padding: 0}\n",
       ".list-inline>li {display: inline-block}\n",
       ".list-inline>li:not(:last-child)::after {content: \"\\00b7\"; padding: 0 .5ex}\n",
       "</style>\n",
       "<ol class=list-inline><li>0</li><li>512.3292</li></ol>\n"
      ],
      "text/latex": [
       "\\begin{enumerate*}\n",
       "\\item 0\n",
       "\\item 512.3292\n",
       "\\end{enumerate*}\n"
      ],
      "text/markdown": [
       "1. 0\n",
       "2. 512.3292\n",
       "\n",
       "\n"
      ],
      "text/plain": [
       "[1]   0.0000 512.3292"
      ]
     },
     "metadata": {},
     "output_type": "display_data"
    }
   ],
   "source": [
    "max(titanic_sub$Age)\n",
    "max(titanic_sub$Fare)\n",
    "min(titanic_sub$Age)\n",
    "min(titanic_sub$Fare)\n",
    "range(titanic_sub$Age)\n",
    "range(titanic_sub$Fare)"
   ]
  },
  {
   "cell_type": "code",
   "execution_count": 16,
   "id": "ad9ef73e",
   "metadata": {},
   "outputs": [
    {
     "data": {
      "text/html": [
       "<style>\n",
       ".dl-inline {width: auto; margin:0; padding: 0}\n",
       ".dl-inline>dt, .dl-inline>dd {float: none; width: auto; display: inline-block}\n",
       ".dl-inline>dt::after {content: \":\\0020\"; padding-right: .5ex}\n",
       ".dl-inline>dt:not(:first-of-type) {padding-left: .5ex}\n",
       "</style><dl class=dl-inline><dt>5%</dt><dd>7.225</dd><dt>30%</dt><dd>9.06501</dd><dt>60%</dt><dd>26</dd><dt>95%</dt><dd>120</dd></dl>\n"
      ],
      "text/latex": [
       "\\begin{description*}\n",
       "\\item[5\\textbackslash{}\\%] 7.225\n",
       "\\item[30\\textbackslash{}\\%] 9.06501\n",
       "\\item[60\\textbackslash{}\\%] 26\n",
       "\\item[95\\textbackslash{}\\%] 120\n",
       "\\end{description*}\n"
      ],
      "text/markdown": [
       "5%\n",
       ":   7.22530%\n",
       ":   9.0650160%\n",
       ":   2695%\n",
       ":   120\n",
       "\n"
      ],
      "text/plain": [
       "       5%       30%       60%       95% \n",
       "  7.22500   9.06501  26.00000 120.00000 "
      ]
     },
     "metadata": {},
     "output_type": "display_data"
    }
   ],
   "source": [
    "#Cho biết các giá trị ở phân vị thứ 5%, 30%, 60% và 95% của Fare. Biểu diễn phân vị và giá trị tương ứng trên biểu đồ.\n",
    "fares=quantile(titanic_sub$Fare,c(0.05,0.3,0.6,0.95))\n",
    "fares"
   ]
  },
  {
   "cell_type": "code",
   "execution_count": 17,
   "id": "6efbd65e",
   "metadata": {},
   "outputs": [
    {
     "data": {
      "image/png": "[encoded data removed]",
      "text/plain": [
       "plot without title"
      ]
     },
     "metadata": {
      "image/png": {
       "height": 420,
       "width": 420
      }
     },
     "output_type": "display_data"
    }
   ],
   "source": [
    "plot(c(0.05,0.3,0.6,0.95),fares,type='o')"
   ]
  },
  {
   "cell_type": "code",
   "execution_count": 18,
   "id": "84ca84a6",
   "metadata": {},
   "outputs": [
    {
     "data": {
      "image/png": "[encoded data removed]",
      "text/plain": [
       "Plot with title \"age\""
      ]
     },
     "metadata": {
      "image/png": {
       "height": 420,
       "width": 420
      }
     },
     "output_type": "display_data"
    },
    {
     "data": {
      "image/png": "[encoded data removed]",
      "text/plain": [
       "Plot with title \"Fare\""
      ]
     },
     "metadata": {
      "image/png": {
       "height": 420,
       "width": 420
      }
     },
     "output_type": "display_data"
    }
   ],
   "source": [
    "#7. Vẽ boxplot cho Age và Fare. Age có outlier hay không? Fare có outlier hay không? Nếu có thì mỗi cột có bao nhiêu outliers?\n",
    "boxplot(titanic_sub$Age,data=titanic_sub, main=\"age\", ylab=\"age\")\n",
    "boxplot(titanic_sub$Fare,data=titanic_sub, main=\"Fare\", ylab=\"fare\")"
   ]
  },
  {
   "cell_type": "code",
   "execution_count": 19,
   "id": "38e5bea5",
   "metadata": {},
   "outputs": [
    {
     "name": "stderr",
     "output_type": "stream",
     "text": [
      "── \u001b[1mAttaching packages\u001b[22m ─────────────────────────────────────────────────────────────────────────────── tidyverse 1.3.2 ──\n",
      "\u001b[32m✔\u001b[39m \u001b[34mtibble \u001b[39m 3.1.8      \u001b[32m✔\u001b[39m \u001b[34mdplyr  \u001b[39m 1.0.10\n",
      "\u001b[32m✔\u001b[39m \u001b[34mtidyr  \u001b[39m 1.2.1      \u001b[32m✔\u001b[39m \u001b[34mstringr\u001b[39m 1.4.1 \n",
      "\u001b[32m✔\u001b[39m \u001b[34mreadr  \u001b[39m 2.1.3      \u001b[32m✔\u001b[39m \u001b[34mforcats\u001b[39m 0.5.2 \n",
      "\u001b[32m✔\u001b[39m \u001b[34mpurrr  \u001b[39m 0.3.5      \n",
      "── \u001b[1mConflicts\u001b[22m ────────────────────────────────────────────────────────────────────────────────── tidyverse_conflicts() ──\n",
      "\u001b[31m✖\u001b[39m \u001b[34mdplyr\u001b[39m::\u001b[32mfilter()\u001b[39m masks \u001b[34mstats\u001b[39m::filter()\n",
      "\u001b[31m✖\u001b[39m \u001b[34mdplyr\u001b[39m::\u001b[32mlag()\u001b[39m    masks \u001b[34mstats\u001b[39m::lag()\n"
     ]
    },
    {
     "data": {
      "text/html": [
       "<strong>75%:</strong> 65"
      ],
      "text/latex": [
       "\\textbf{75\\textbackslash{}\\%:} 65"
      ],
      "text/markdown": [
       "**75%:** 65"
      ],
      "text/plain": [
       "75% \n",
       " 65 "
      ]
     },
     "metadata": {},
     "output_type": "display_data"
    },
    {
     "data": {
      "text/html": [
       "<strong>25%:</strong> -7"
      ],
      "text/latex": [
       "\\textbf{25\\textbackslash{}\\%:} -7"
      ],
      "text/markdown": [
       "**25%:** -7"
      ],
      "text/plain": [
       "25% \n",
       " -7 "
      ]
     },
     "metadata": {},
     "output_type": "display_data"
    },
    {
     "name": "stdout",
     "output_type": "stream",
     "text": [
      "number of Age oulier: 11"
     ]
    }
   ],
   "source": [
    "library('tidyverse')\n",
    "lowerq = quantile(titanic_sub$Age)[2]\n",
    "upperq = quantile(titanic_sub$Age)[4]\n",
    "iqr = upperq - lowerq\n",
    "extreme.threshold.upper = (iqr * 1.5) + upperq\n",
    "extreme.threshold.lower = lowerq - (iqr * 1.5)\n",
    "extreme.threshold.upper\n",
    "extreme.threshold.lower\n",
    "cat('number of Age oulier:',nrow(titanic_sub %>% filter(titanic_sub$Age>64.8125)))"
   ]
  },
  {
   "cell_type": "code",
   "execution_count": 20,
   "id": "f72c2241",
   "metadata": {},
   "outputs": [
    {
     "data": {
      "text/html": [
       "<strong>75%:</strong> 70.425"
      ],
      "text/latex": [
       "\\textbf{75\\textbackslash{}\\%:} 70.425"
      ],
      "text/markdown": [
       "**75%:** 70.425"
      ],
      "text/plain": [
       "   75% \n",
       "70.425 "
      ]
     },
     "metadata": {},
     "output_type": "display_data"
    },
    {
     "data": {
      "text/html": [
       "<strong>25%:</strong> -29.375"
      ],
      "text/latex": [
       "\\textbf{25\\textbackslash{}\\%:} -29.375"
      ],
      "text/markdown": [
       "**25%:** -29.375"
      ],
      "text/plain": [
       "    25% \n",
       "-29.375 "
      ]
     },
     "metadata": {},
     "output_type": "display_data"
    },
    {
     "name": "stdout",
     "output_type": "stream",
     "text": [
      "number of Fare oulier: 92"
     ]
    }
   ],
   "source": [
    "lowerq = quantile(titanic_sub$Fare)[2]\n",
    "upperq = quantile(titanic_sub$Fare)[4]\n",
    "iqr = upperq - lowerq\n",
    "extreme.threshold.upper = (iqr * 1.5) + upperq\n",
    "extreme.threshold.lower = lowerq - (iqr * 1.5)\n",
    "extreme.threshold.upper\n",
    "extreme.threshold.lower\n",
    "cat('number of Fare oulier:',nrow(titanic_sub %>% filter(titanic_sub$Fare>71.3625)))"
   ]
  },
  {
   "cell_type": "code",
   "execution_count": 21,
   "id": "389f778a",
   "metadata": {},
   "outputs": [
    {
     "data": {
      "image/png": "[encoded data removed]",
      "text/plain": [
       "Plot with title \"Pie Chart of Survived\""
      ]
     },
     "metadata": {
      "image/png": {
       "height": 420,
       "width": 420
      }
     },
     "output_type": "display_data"
    }
   ],
   "source": [
    "#8. Vẽ pie chart thống kê hành khách theo từng cột Survived, PClass, Sex. Nhận xét\n",
    "slices <- table(titanic_sub$Survived)\n",
    "lbls <- c(\"Survived\", \"Die\")\n",
    "pie(slices, labels = lbls, main=\"Pie Chart of Survived\")"
   ]
  },
  {
   "cell_type": "markdown",
   "id": "921a25f0",
   "metadata": {},
   "source": [
    "số người sống sót nhiều hơn số người chết"
   ]
  },
  {
   "cell_type": "code",
   "execution_count": 22,
   "id": "c825aa25",
   "metadata": {},
   "outputs": [
    {
     "data": {
      "image/png": "[encoded data removed]",
      "text/plain": [
       "Plot with title \"Pie Chart of PClass\""
      ]
     },
     "metadata": {
      "image/png": {
       "height": 420,
       "width": 420
      }
     },
     "output_type": "display_data"
    }
   ],
   "source": [
    "slices <- table(titanic_sub$Pclass)\n",
    "pie(slices, main=\"Pie Chart of PClass\")"
   ]
  },
  {
   "cell_type": "markdown",
   "id": "c6b3f11a",
   "metadata": {},
   "source": [
    "hạng 3 chiếm gần 1 nửa, hạng 1 và 2 tương đối đều nhau"
   ]
  },
  {
   "cell_type": "code",
   "execution_count": 23,
   "id": "2355bd7a",
   "metadata": {},
   "outputs": [
    {
     "data": {
      "image/png": "[encoded data removed]",
      "text/plain": [
       "Plot with title \"Pie Chart of gender\""
      ]
     },
     "metadata": {
      "image/png": {
       "height": 420,
       "width": 420
      }
     },
     "output_type": "display_data"
    }
   ],
   "source": [
    "slices <- table(titanic_sub$Sex)\n",
    "pie(slices, main=\"Pie Chart of gender\")"
   ]
  },
  {
   "cell_type": "markdown",
   "id": "6bb59c52",
   "metadata": {},
   "source": [
    "hành khách là nam giới chiếm đa số"
   ]
  },
  {
   "cell_type": "code",
   "execution_count": 24,
   "id": "612b723a",
   "metadata": {},
   "outputs": [
    {
     "data": {
      "text/html": [
       "<style>\n",
       ".dl-inline {width: auto; margin:0; padding: 0}\n",
       ".dl-inline>dt, .dl-inline>dd {float: none; width: auto; display: inline-block}\n",
       ".dl-inline>dt::after {content: \":\\0020\"; padding-right: .5ex}\n",
       ".dl-inline>dt:not(:first-of-type) {padding-left: .5ex}\n",
       "</style><dl class=dl-inline><dt>Survived</dt><dd>0.241217465509885</dd><dt>Pclass</dt><dd>0.700325147363264</dd><dt>Sex</dt><dd>0.23176527758024</dd><dt>Age</dt><dd>210.04510405328</dd><dt>SibSp</dt><dd>0.86618783482672</dd><dt>Parch</dt><dd>0.729625942255725</dd><dt>Fare</dt><dd>2802.50047056582</dd><dt>Embarked</dt><dd>0.606899603343921</dd></dl>\n"
      ],
      "text/latex": [
       "\\begin{description*}\n",
       "\\item[Survived] 0.241217465509885\n",
       "\\item[Pclass] 0.700325147363264\n",
       "\\item[Sex] 0.23176527758024\n",
       "\\item[Age] 210.04510405328\n",
       "\\item[SibSp] 0.86618783482672\n",
       "\\item[Parch] 0.729625942255725\n",
       "\\item[Fare] 2802.50047056582\n",
       "\\item[Embarked] 0.606899603343921\n",
       "\\end{description*}\n"
      ],
      "text/markdown": [
       "Survived\n",
       ":   0.241217465509885Pclass\n",
       ":   0.700325147363264Sex\n",
       ":   0.23176527758024Age\n",
       ":   210.04510405328SibSp\n",
       ":   0.86618783482672Parch\n",
       ":   0.729625942255725Fare\n",
       ":   2802.50047056582Embarked\n",
       ":   0.606899603343921\n",
       "\n"
      ],
      "text/plain": [
       "    Survived       Pclass          Sex          Age        SibSp        Parch \n",
       "   0.2412175    0.7003251    0.2317653  210.0451041    0.8661878    0.7296259 \n",
       "        Fare     Embarked \n",
       "2802.5004706    0.6068996 "
      ]
     },
     "metadata": {},
     "output_type": "display_data"
    }
   ],
   "source": [
    "#9. Tính phương sai của tất cả các thuộc tính số trong titanic_sub.\n",
    "sapply(titanic_sub, var)"
   ]
  },
  {
   "cell_type": "code",
   "execution_count": 25,
   "id": "c986d527",
   "metadata": {},
   "outputs": [
    {
     "data": {
      "text/html": [
       "<style>\n",
       ".dl-inline {width: auto; margin:0; padding: 0}\n",
       ".dl-inline>dt, .dl-inline>dd {float: none; width: auto; display: inline-block}\n",
       ".dl-inline>dt::after {content: \":\\0020\"; padding-right: .5ex}\n",
       ".dl-inline>dt:not(:first-of-type) {padding-left: .5ex}\n",
       "</style><dl class=dl-inline><dt>Survived</dt><dd>0.491138947254119</dd><dt>Pclass</dt><dd>0.836854316690345</dd><dt>Sex</dt><dd>0.481420063541436</dd><dt>Age</dt><dd>14.4929329003235</dd><dt>SibSp</dt><dd>0.930692126767343</dd><dt>Parch</dt><dd>0.854181445745413</dd><dt>Fare</dt><dd>52.9386481747109</dd><dt>Embarked</dt><dd>0.779037613561708</dd></dl>\n"
      ],
      "text/latex": [
       "\\begin{description*}\n",
       "\\item[Survived] 0.491138947254119\n",
       "\\item[Pclass] 0.836854316690345\n",
       "\\item[Sex] 0.481420063541436\n",
       "\\item[Age] 14.4929329003235\n",
       "\\item[SibSp] 0.930692126767343\n",
       "\\item[Parch] 0.854181445745413\n",
       "\\item[Fare] 52.9386481747109\n",
       "\\item[Embarked] 0.779037613561708\n",
       "\\end{description*}\n"
      ],
      "text/markdown": [
       "Survived\n",
       ":   0.491138947254119Pclass\n",
       ":   0.836854316690345Sex\n",
       ":   0.481420063541436Age\n",
       ":   14.4929329003235SibSp\n",
       ":   0.930692126767343Parch\n",
       ":   0.854181445745413Fare\n",
       ":   52.9386481747109Embarked\n",
       ":   0.779037613561708\n",
       "\n"
      ],
      "text/plain": [
       "  Survived     Pclass        Sex        Age      SibSp      Parch       Fare \n",
       " 0.4911389  0.8368543  0.4814201 14.4929329  0.9306921  0.8541814 52.9386482 \n",
       "  Embarked \n",
       " 0.7790376 "
      ]
     },
     "metadata": {},
     "output_type": "display_data"
    }
   ],
   "source": [
    "#10. Tính standard deviation của tất cả các thuộc tính số trong titanic_sub.\n",
    "sapply(titanic_sub, sd)"
   ]
  },
  {
   "cell_type": "code",
   "execution_count": 26,
   "id": "acc54a4e",
   "metadata": {},
   "outputs": [
    {
     "name": "stderr",
     "output_type": "stream",
     "text": [
      "Installing package into 'C:/Users/ASUS/AppData/Local/R/win-library/4.2'\n",
      "(as 'lib' is unspecified)\n",
      "\n"
     ]
    },
    {
     "name": "stdout",
     "output_type": "stream",
     "text": [
      "package 'moments' successfully unpacked and MD5 sums checked\n",
      "\n",
      "The downloaded binary packages are in\n",
      "\tC:\\Users\\ASUS\\AppData\\Local\\Temp\\RtmpUpHPbx\\downloaded_packages\n"
     ]
    }
   ],
   "source": [
    "install.packages(\"moments\")\n",
    "library(\"moments\")"
   ]
  },
  {
   "cell_type": "code",
   "execution_count": 27,
   "id": "69918098",
   "metadata": {},
   "outputs": [
    {
     "data": {
      "text/html": [
       "<style>\n",
       ".dl-inline {width: auto; margin:0; padding: 0}\n",
       ".dl-inline>dt, .dl-inline>dd {float: none; width: auto; display: inline-block}\n",
       ".dl-inline>dt::after {content: \":\\0020\"; padding-right: .5ex}\n",
       ".dl-inline>dt:not(:first-of-type) {padding-left: .5ex}\n",
       "</style><dl class=dl-inline><dt>Survived</dt><dd>0.389188264521286</dd><dt>Pclass</dt><dd>-0.474601741189152</dd><dt>Sex</dt><dd>-0.566373267725952</dd><dt>Age</dt><dd>0.388060866996572</dd><dt>SibSp</dt><dd>2.50980568736655</dd><dt>Parch</dt><dd>2.60866665269776</dd><dt>Fare</dt><dd>4.65717081275233</dd><dt>Embarked</dt><dd>-1.48026168360323</dd></dl>\n"
      ],
      "text/latex": [
       "\\begin{description*}\n",
       "\\item[Survived] 0.389188264521286\n",
       "\\item[Pclass] -0.474601741189152\n",
       "\\item[Sex] -0.566373267725952\n",
       "\\item[Age] 0.388060866996572\n",
       "\\item[SibSp] 2.50980568736655\n",
       "\\item[Parch] 2.60866665269776\n",
       "\\item[Fare] 4.65717081275233\n",
       "\\item[Embarked] -1.48026168360323\n",
       "\\end{description*}\n"
      ],
      "text/markdown": [
       "Survived\n",
       ":   0.389188264521286Pclass\n",
       ":   -0.474601741189152Sex\n",
       ":   -0.566373267725952Age\n",
       ":   0.388060866996572SibSp\n",
       ":   2.50980568736655Parch\n",
       ":   2.60866665269776Fare\n",
       ":   4.65717081275233Embarked\n",
       ":   -1.48026168360323\n",
       "\n"
      ],
      "text/plain": [
       "  Survived     Pclass        Sex        Age      SibSp      Parch       Fare \n",
       " 0.3891883 -0.4746017 -0.5663733  0.3880609  2.5098057  2.6086667  4.6571708 \n",
       "  Embarked \n",
       "-1.4802617 "
      ]
     },
     "metadata": {},
     "output_type": "display_data"
    }
   ],
   "source": [
    "#11. Tính skewness của tất cả các thuộc tính số trong titanic_sub. Nhận xét cho từng thuộc tính.\n",
    "ums <- unlist(lapply(titanic_sub, is.numeric), use.names = FALSE)  \n",
    "sapply(titanic_sub[ums], skewness)"
   ]
  },
  {
   "cell_type": "markdown",
   "id": "5db4790c",
   "metadata": {},
   "source": [
    "survived lệch phải, Pclass lệch trái, Sex lệch trái, Age lệch phải, sibsp lệch phải, parch lệch phải, fare lệch phải, Embarked lệch trái"
   ]
  },
  {
   "cell_type": "code",
   "execution_count": 28,
   "id": "06415cd3",
   "metadata": {},
   "outputs": [
    {
     "data": {
      "text/html": [
       "<style>\n",
       ".dl-inline {width: auto; margin:0; padding: 0}\n",
       ".dl-inline>dt, .dl-inline>dd {float: none; width: auto; display: inline-block}\n",
       ".dl-inline>dt::after {content: \":\\0020\"; padding-right: .5ex}\n",
       ".dl-inline>dt:not(:first-of-type) {padding-left: .5ex}\n",
       "</style><dl class=dl-inline><dt>Survived</dt><dd>1.15146750524109</dd><dt>Pclass</dt><dd>1.5913843907328</dd><dt>Sex</dt><dd>1.32077867839457</dd><dt>Age</dt><dd>3.1782163732904</dd><dt>SibSp</dt><dd>9.96058136328947</dd><dt>Parch</dt><dd>11.7517576749372</dd><dt>Fare</dt><dd>33.7875986237656</dd><dt>Embarked</dt><dd>3.29156958086456</dd></dl>\n"
      ],
      "text/latex": [
       "\\begin{description*}\n",
       "\\item[Survived] 1.15146750524109\n",
       "\\item[Pclass] 1.5913843907328\n",
       "\\item[Sex] 1.32077867839457\n",
       "\\item[Age] 3.1782163732904\n",
       "\\item[SibSp] 9.96058136328947\n",
       "\\item[Parch] 11.7517576749372\n",
       "\\item[Fare] 33.7875986237656\n",
       "\\item[Embarked] 3.29156958086456\n",
       "\\end{description*}\n"
      ],
      "text/markdown": [
       "Survived\n",
       ":   1.15146750524109Pclass\n",
       ":   1.5913843907328Sex\n",
       ":   1.32077867839457Age\n",
       ":   3.1782163732904SibSp\n",
       ":   9.96058136328947Parch\n",
       ":   11.7517576749372Fare\n",
       ":   33.7875986237656Embarked\n",
       ":   3.29156958086456\n",
       "\n"
      ],
      "text/plain": [
       " Survived    Pclass       Sex       Age     SibSp     Parch      Fare  Embarked \n",
       " 1.151468  1.591384  1.320779  3.178216  9.960581 11.751758 33.787599  3.291570 "
      ]
     },
     "metadata": {},
     "output_type": "display_data"
    }
   ],
   "source": [
    "sapply(titanic_sub[ums], kurtosis)"
   ]
  },
  {
   "cell_type": "markdown",
   "id": "9f733f33",
   "metadata": {},
   "source": [
    "Nhọn nhất là Fare, sau đó đến parch, đến sibsp, đến embarked, đến age, đến sex, đến pclass, ít nhọn nhất survived"
   ]
  },
  {
   "cell_type": "code",
   "execution_count": 35,
   "id": "4d63e7ac",
   "metadata": {},
   "outputs": [
    {
     "name": "stderr",
     "output_type": "stream",
     "text": [
      "\u001b[1m\u001b[22m`geom_smooth()` using formula = 'y ~ x'\n",
      "\u001b[1m\u001b[22m`geom_smooth()` using formula = 'y ~ x'\n"
     ]
    },
    {
     "data": {
      "image/png": "[encoded data removed]",
      "text/plain": [
       "plot without title"
      ]
     },
     "metadata": {
      "image/png": {
       "height": 420,
       "width": 420
      }
     },
     "output_type": "display_data"
    }
   ],
   "source": [
    "#13. Vẽ biểu đồ thể hiện mối quan hệ giữa Age và Fare theo Sex, có bổ sung thêm histogram phụ trên mỗi cột. Nhận xét biểu đồ.\n",
    "#sex=male\n",
    "library('ggExtra')\n",
    "theme_set(theme_bw())\n",
    "gg<-ggplot(data=(titanic_sub%>%filter(titanic_sub$Sex==1&titanic_sub$Fare<71.3625)),(aes(x=Age,y=Fare)))+\n",
    "geom_point()+\n",
    "geom_smooth(method='lm',se=F)+\n",
    "labs(y='Fare',\n",
    "    x='Age',\n",
    "    Title='Fare vs Age')\n",
    "ggMarginal(gg,type='histogram',fill='transparent')"
   ]
  },
  {
   "cell_type": "code",
   "execution_count": 36,
   "id": "6589bf29",
   "metadata": {},
   "outputs": [
    {
     "name": "stderr",
     "output_type": "stream",
     "text": [
      "\u001b[1m\u001b[22m`geom_smooth()` using formula = 'y ~ x'\n",
      "\u001b[1m\u001b[22m`geom_smooth()` using formula = 'y ~ x'\n"
     ]
    },
    {
     "data": {
      "image/png": "[encoded data removed]",
      "text/plain": [
       "plot without title"
      ]
     },
     "metadata": {
      "image/png": {
       "height": 420,
       "width": 420
      }
     },
     "output_type": "display_data"
    }
   ],
   "source": [
    "#sex=female\n",
    "library('ggExtra')\n",
    "theme_set(theme_bw())\n",
    "gg<-ggplot(data=(titanic_sub%>%filter(titanic_sub$Sex==0&titanic_sub$Fare<71.3625)),(aes(x=Age,y=Fare)))+\n",
    "geom_point()+\n",
    "geom_smooth(method='lm',se=F)+\n",
    "labs(y='Fare',\n",
    "    x='Age',\n",
    "    Title='Fare vs Age')\n",
    "ggMarginal(gg,type='histogram',fill='transparent')"
   ]
  },
  {
   "cell_type": "markdown",
   "id": "06f83c56",
   "metadata": {},
   "source": [
    "Nhận xét: Age và Fare có tính tương quan tương đối yếu theo giới tính"
   ]
  },
  {
   "cell_type": "code",
   "execution_count": 38,
   "id": "7e2b392c",
   "metadata": {},
   "outputs": [
    {
     "data": {
      "text/html": [
       "0.133041331199179"
      ],
      "text/latex": [
       "0.133041331199179"
      ],
      "text/markdown": [
       "0.133041331199179"
      ],
      "text/plain": [
       "[1] 0.1330413"
      ]
     },
     "metadata": {},
     "output_type": "display_data"
    },
    {
     "data": {
      "text/html": [
       "27.8025464670014"
      ],
      "text/latex": [
       "27.8025464670014"
      ],
      "text/markdown": [
       "27.8025464670014"
      ],
      "text/plain": [
       "[1] 27.80255"
      ]
     },
     "metadata": {},
     "output_type": "display_data"
    }
   ],
   "source": [
    "#14. Tính giá trị covariance, correlation giữa Age và Fare. Nhận xét\n",
    "cor((titanic_sub%>%filter(titanic_sub$Sex==0&titanic_sub$Fare<71.3625))$Age,(titanic_sub%>%filter(titanic_sub$Sex==0&titanic_sub$Fare<71.3625))$Fare)\n",
    "cov((titanic_sub%>%filter(titanic_sub$Sex==0&titanic_sub$Fare<71.3625))$Age,(titanic_sub%>%filter(titanic_sub$Sex==0&titanic_sub$Fare<71.3625))$Fare)"
   ]
  },
  {
   "cell_type": "markdown",
   "id": "7419ca63",
   "metadata": {},
   "source": [
    "Nhận xét: covariance nhỏ và correlation < 0.45 nên có thể thấy tương quan giữa 2 biến này yếu"
   ]
  },
  {
   "cell_type": "code",
   "execution_count": 40,
   "id": "dc299002",
   "metadata": {},
   "outputs": [
    {
     "data": {
      "text/html": [
       "0.191011235955056"
      ],
      "text/latex": [
       "0.191011235955056"
      ],
      "text/markdown": [
       "0.191011235955056"
      ],
      "text/plain": [
       "[1] 0.1910112"
      ]
     },
     "metadata": {},
     "output_type": "display_data"
    }
   ],
   "source": [
    "#15. Cho biết số lượng mẫu có giá trị Fare >= 50, xác suất mẫu có Fare>=50 là bao nhiêu? Nhận xét.\n",
    "sample=nrow(titanic_sub%>%filter(titanic_sub$Fare>=50))\n",
    "probability_of_sample=sample/nrow(titanic_sub)\n",
    "probability_of_sample"
   ]
  },
  {
   "cell_type": "markdown",
   "id": "7f247c5e",
   "metadata": {},
   "source": [
    "Nhận xét: xác xuất bóc trúng mẫu có fare >=50 là 19,1% "
   ]
  }
 ],
 "metadata": {
  "kernelspec": {
   "display_name": "R",
   "language": "R",
   "name": "ir"
  },
  "language_info": {
   "codemirror_mode": "r",
   "file_extension": ".r",
   "mimetype": "text/x-r-source",
   "name": "R",
   "pygments_lexer": "r",
   "version": "4.2.2"
  }
 },
 "nbformat": 4,
 "nbformat_minor": 5
}
