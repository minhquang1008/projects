{
 "cells": [
  {
   "cell_type": "code",
   "execution_count": 1,
   "id": "45b0985e",
   "metadata": {},
   "outputs": [
    {
     "name": "stderr",
     "output_type": "stream",
     "text": [
      "\u001b[1mRows: \u001b[22m\u001b[34m200\u001b[39m \u001b[1mColumns: \u001b[22m\u001b[34m4\u001b[39m\n",
      "\u001b[36m──\u001b[39m \u001b[1mColumn specification\u001b[22m \u001b[36m────────────────────────────────────────────────────────────────────────────────────────────────\u001b[39m\n",
      "\u001b[1mDelimiter:\u001b[22m \",\"\n",
      "\u001b[32mdbl\u001b[39m (4): youtube, facebook, newspaper, sales\n",
      "\n",
      "\u001b[36mℹ\u001b[39m Use `spec()` to retrieve the full column specification for this data.\n",
      "\u001b[36mℹ\u001b[39m Specify the column types or set `show_col_types = FALSE` to quiet this message.\n"
     ]
    }
   ],
   "source": [
    "library(readr)\n",
    "data<-read_csv('marketing.csv')"
   ]
  },
  {
   "cell_type": "code",
   "execution_count": 2,
   "id": "76422378",
   "metadata": {},
   "outputs": [
    {
     "data": {
      "text/html": [
       "<table class=\"dataframe\">\n",
       "<caption>A tibble: 6 × 4</caption>\n",
       "<thead>\n",
       "\t<tr><th scope=col>youtube</th><th scope=col>facebook</th><th scope=col>newspaper</th><th scope=col>sales</th></tr>\n",
       "\t<tr><th scope=col>&lt;dbl&gt;</th><th scope=col>&lt;dbl&gt;</th><th scope=col>&lt;dbl&gt;</th><th scope=col>&lt;dbl&gt;</th></tr>\n",
       "</thead>\n",
       "<tbody>\n",
       "\t<tr><td>276.12</td><td>45.36</td><td>83.04</td><td>26.52</td></tr>\n",
       "\t<tr><td> 53.40</td><td>47.16</td><td>54.12</td><td>12.48</td></tr>\n",
       "\t<tr><td> 20.64</td><td>55.08</td><td>83.16</td><td>11.16</td></tr>\n",
       "\t<tr><td>181.80</td><td>49.56</td><td>70.20</td><td>22.20</td></tr>\n",
       "\t<tr><td>216.96</td><td>12.96</td><td>70.08</td><td>15.48</td></tr>\n",
       "\t<tr><td> 10.44</td><td>58.68</td><td>90.00</td><td> 8.64</td></tr>\n",
       "</tbody>\n",
       "</table>\n"
      ],
      "text/latex": [
       "A tibble: 6 × 4\n",
       "\\begin{tabular}{llll}\n",
       " youtube & facebook & newspaper & sales\\\\\n",
       " <dbl> & <dbl> & <dbl> & <dbl>\\\\\n",
       "\\hline\n",
       "\t 276.12 & 45.36 & 83.04 & 26.52\\\\\n",
       "\t  53.40 & 47.16 & 54.12 & 12.48\\\\\n",
       "\t  20.64 & 55.08 & 83.16 & 11.16\\\\\n",
       "\t 181.80 & 49.56 & 70.20 & 22.20\\\\\n",
       "\t 216.96 & 12.96 & 70.08 & 15.48\\\\\n",
       "\t  10.44 & 58.68 & 90.00 &  8.64\\\\\n",
       "\\end{tabular}\n"
      ],
      "text/markdown": [
       "\n",
       "A tibble: 6 × 4\n",
       "\n",
       "| youtube &lt;dbl&gt; | facebook &lt;dbl&gt; | newspaper &lt;dbl&gt; | sales &lt;dbl&gt; |\n",
       "|---|---|---|---|\n",
       "| 276.12 | 45.36 | 83.04 | 26.52 |\n",
       "|  53.40 | 47.16 | 54.12 | 12.48 |\n",
       "|  20.64 | 55.08 | 83.16 | 11.16 |\n",
       "| 181.80 | 49.56 | 70.20 | 22.20 |\n",
       "| 216.96 | 12.96 | 70.08 | 15.48 |\n",
       "|  10.44 | 58.68 | 90.00 |  8.64 |\n",
       "\n"
      ],
      "text/plain": [
       "  youtube facebook newspaper sales\n",
       "1 276.12  45.36    83.04     26.52\n",
       "2  53.40  47.16    54.12     12.48\n",
       "3  20.64  55.08    83.16     11.16\n",
       "4 181.80  49.56    70.20     22.20\n",
       "5 216.96  12.96    70.08     15.48\n",
       "6  10.44  58.68    90.00      8.64"
      ]
     },
     "metadata": {},
     "output_type": "display_data"
    },
    {
     "data": {
      "text/html": [
       "200"
      ],
      "text/latex": [
       "200"
      ],
      "text/markdown": [
       "200"
      ],
      "text/plain": [
       "[1] 200"
      ]
     },
     "metadata": {},
     "output_type": "display_data"
    },
    {
     "data": {
      "text/html": [
       "4"
      ],
      "text/latex": [
       "4"
      ],
      "text/markdown": [
       "4"
      ],
      "text/plain": [
       "[1] 4"
      ]
     },
     "metadata": {},
     "output_type": "display_data"
    },
    {
     "name": "stdout",
     "output_type": "stream",
     "text": [
      "spc_tbl_ [200 × 4] (S3: spec_tbl_df/tbl_df/tbl/data.frame)\n",
      " $ youtube  : num [1:200] 276.1 53.4 20.6 181.8 217 ...\n",
      " $ facebook : num [1:200] 45.4 47.2 55.1 49.6 13 ...\n",
      " $ newspaper: num [1:200] 83 54.1 83.2 70.2 70.1 ...\n",
      " $ sales    : num [1:200] 26.5 12.5 11.2 22.2 15.5 ...\n",
      " - attr(*, \"spec\")=\n",
      "  .. cols(\n",
      "  ..   youtube = \u001b[32mcol_double()\u001b[39m,\n",
      "  ..   facebook = \u001b[32mcol_double()\u001b[39m,\n",
      "  ..   newspaper = \u001b[32mcol_double()\u001b[39m,\n",
      "  ..   sales = \u001b[32mcol_double()\u001b[39m\n",
      "  .. )\n",
      " - attr(*, \"problems\")=<externalptr> \n"
     ]
    },
    {
     "data": {
      "text/plain": [
       "    youtube          facebook       newspaper          sales      \n",
       " Min.   :  0.84   Min.   : 0.00   Min.   :  0.36   Min.   : 1.92  \n",
       " 1st Qu.: 89.25   1st Qu.:11.97   1st Qu.: 15.30   1st Qu.:12.45  \n",
       " Median :179.70   Median :27.48   Median : 30.90   Median :15.48  \n",
       " Mean   :176.45   Mean   :27.92   Mean   : 36.66   Mean   :16.83  \n",
       " 3rd Qu.:262.59   3rd Qu.:43.83   3rd Qu.: 54.12   3rd Qu.:20.88  \n",
       " Max.   :355.68   Max.   :59.52   Max.   :136.80   Max.   :32.40  "
      ]
     },
     "metadata": {},
     "output_type": "display_data"
    }
   ],
   "source": [
    "#b. In thông tin chung từ dữ liệu: head(), số dòng, số cột, str(), summary()\n",
    "head(data)\n",
    "nrow(data)\n",
    "ncol(data)\n",
    "str(data)\n",
    "summary(data)"
   ]
  },
  {
   "cell_type": "code",
   "execution_count": 3,
   "id": "4c2e07a1",
   "metadata": {},
   "outputs": [
    {
     "name": "stderr",
     "output_type": "stream",
     "text": [
      "── \u001b[1mAttaching packages\u001b[22m ─────────────────────────────────────────────────────────────────────────────── tidyverse 1.3.2 ──\n",
      "\u001b[32m✔\u001b[39m \u001b[34mggplot2\u001b[39m 3.4.0      \u001b[32m✔\u001b[39m \u001b[34mdplyr  \u001b[39m 1.0.10\n",
      "\u001b[32m✔\u001b[39m \u001b[34mtibble \u001b[39m 3.1.8      \u001b[32m✔\u001b[39m \u001b[34mstringr\u001b[39m 1.4.1 \n",
      "\u001b[32m✔\u001b[39m \u001b[34mtidyr  \u001b[39m 1.2.1      \u001b[32m✔\u001b[39m \u001b[34mforcats\u001b[39m 0.5.2 \n",
      "\u001b[32m✔\u001b[39m \u001b[34mpurrr  \u001b[39m 0.3.5      \n",
      "── \u001b[1mConflicts\u001b[22m ────────────────────────────────────────────────────────────────────────────────── tidyverse_conflicts() ──\n",
      "\u001b[31m✖\u001b[39m \u001b[34mdplyr\u001b[39m::\u001b[32mfilter()\u001b[39m masks \u001b[34mstats\u001b[39m::filter()\n",
      "\u001b[31m✖\u001b[39m \u001b[34mdplyr\u001b[39m::\u001b[32mlag()\u001b[39m    masks \u001b[34mstats\u001b[39m::lag()\n"
     ]
    },
    {
     "data": {
      "image/png": "[encoded data removed]",
      "text/plain": [
       "Plot with title \"biểu đồ quan sát mối liên hệ giữa sales và youtube\""
      ]
     },
     "metadata": {
      "image/png": {
       "height": 420,
       "width": 420
      }
     },
     "output_type": "display_data"
    }
   ],
   "source": [
    "#c. Vẽ biểu đồ quan sát mối liên hệ giữa sales và youtube\n",
    "library('tidyverse')\n",
    "plot(data$sales, data$youtube, main=\"biểu đồ quan sát mối liên hệ giữa sales và youtube\",\n",
    "   xlab=\"sale \", ylab=\"youtube\",col='blue')"
   ]
  },
  {
   "cell_type": "code",
   "execution_count": 4,
   "id": "50a6b119",
   "metadata": {},
   "outputs": [
    {
     "data": {
      "text/html": [
       "FALSE"
      ],
      "text/latex": [
       "FALSE"
      ],
      "text/markdown": [
       "FALSE"
      ],
      "text/plain": [
       "[1] FALSE"
      ]
     },
     "metadata": {},
     "output_type": "display_data"
    }
   ],
   "source": [
    "#d. Tiền xử lý dữ liệu\n",
    "is.null(data$youtube) \n",
    "#feature youtube ko có null\n",
    "normalize <- function(x, na.rm = TRUE) {\n",
    "    my_list <- list(\"scaled\" = (x- min(x)) /(max(x)-min(x)), \"min\" = min(x), \"max\" = max(x))\n",
    "    return(my_list)\n",
    "}\n",
    "data_origin<-data\n",
    "data$youtube=normalize(data$youtube)$scaled\n",
    "data$sales=normalize(data$sales)$scaled\n",
    "#scale data"
   ]
  },
  {
   "cell_type": "code",
   "execution_count": 5,
   "id": "bf84d821",
   "metadata": {},
   "outputs": [
    {
     "data": {
      "text/html": [
       "<strong>75%:</strong> 1.47040919851201"
      ],
      "text/latex": [
       "\\textbf{75\\textbackslash{}\\%:} 1.47040919851201"
      ],
      "text/markdown": [
       "**75%:** 1.47040919851201"
      ],
      "text/plain": [
       "     75% \n",
       "1.470409 "
      ]
     },
     "metadata": {},
     "output_type": "display_data"
    },
    {
     "data": {
      "text/html": [
       "<strong>25%:</strong> -0.48359824146094"
      ],
      "text/latex": [
       "\\textbf{25\\textbackslash{}\\%:} -0.48359824146094"
      ],
      "text/markdown": [
       "**25%:** -0.48359824146094"
      ],
      "text/plain": [
       "       25% \n",
       "-0.4835982 "
      ]
     },
     "metadata": {},
     "output_type": "display_data"
    },
    {
     "name": "stdout",
     "output_type": "stream",
     "text": [
      "number of oulier: 0"
     ]
    },
    {
     "data": {
      "image/png": "[encoded data removed]",
      "text/plain": [
       "plot without title"
      ]
     },
     "metadata": {
      "image/png": {
       "height": 420,
       "width": 420
      }
     },
     "output_type": "display_data"
    }
   ],
   "source": [
    "#e. Kiểm tra và xử lý outliers\n",
    "lowerq = quantile(data$youtube)[2]\n",
    "upperq = quantile(data$youtube)[4]\n",
    "iqr = upperq - lowerq\n",
    "extreme.threshold.upper = (iqr * 1.5) + upperq\n",
    "extreme.threshold.lower = lowerq - (iqr * 1.5)\n",
    "extreme.threshold.upper\n",
    "extreme.threshold.lower\n",
    "cat('number of oulier:',nrow(data %>% filter(data$youtube>522.6)))\n",
    "boxplot(data$youtube)"
   ]
  },
  {
   "cell_type": "markdown",
   "id": "3679ae22",
   "metadata": {},
   "source": [
    "feature youtube ko có outlier"
   ]
  },
  {
   "cell_type": "code",
   "execution_count": 6,
   "id": "0eb5f69c",
   "metadata": {},
   "outputs": [],
   "source": [
    "#f. Tạo train:test từ dữ liệu data với tỉ lệ 70:30 hoặc 80:20\n",
    "set.seed(42)\n",
    "trainingRowIndex<-sample(1:nrow(data),0.7*nrow(data))"
   ]
  },
  {
   "cell_type": "code",
   "execution_count": 7,
   "id": "bb7f0df0",
   "metadata": {},
   "outputs": [],
   "source": [
    "trainingData<-data[trainingRowIndex,]\n",
    "testData<-data[-trainingRowIndex,]"
   ]
  },
  {
   "cell_type": "code",
   "execution_count": 8,
   "id": "b33e10ec",
   "metadata": {},
   "outputs": [],
   "source": [
    "#g. Thực hiện Linenear Regression với train data.\n",
    "lmMod<-lm(data$sales~data$youtube,data=trainingData)"
   ]
  },
  {
   "cell_type": "code",
   "execution_count": 9,
   "id": "29a62867",
   "metadata": {},
   "outputs": [
    {
     "data": {
      "text/plain": [
       "\n",
       "Call:\n",
       "lm(formula = data$sales ~ data$youtube, data = trainingData)\n",
       "\n",
       "Residuals:\n",
       "     Min       1Q   Median       3Q      Max \n",
       "-0.33016 -0.07695 -0.00753  0.08138  0.28395 \n",
       "\n",
       "Coefficients:\n",
       "             Estimate Std. Error t value Pr(>|t|)    \n",
       "(Intercept)   0.21519    0.01796   11.98   <2e-16 ***\n",
       "data$youtube  0.55341    0.03132   17.67   <2e-16 ***\n",
       "---\n",
       "Signif. codes:  0 '***' 0.001 '**' 0.01 '*' 0.05 '.' 0.1 ' ' 1\n",
       "\n",
       "Residual standard error: 0.1283 on 198 degrees of freedom\n",
       "Multiple R-squared:  0.6119,\tAdjusted R-squared:  0.6099 \n",
       "F-statistic: 312.1 on 1 and 198 DF,  p-value: < 2.2e-16\n"
      ]
     },
     "metadata": {},
     "output_type": "display_data"
    }
   ],
   "source": [
    "#h. In summary của model\n",
    "summary(lmMod)"
   ]
  },
  {
   "cell_type": "code",
   "execution_count": 10,
   "id": "af4e8ddf",
   "metadata": {},
   "outputs": [
    {
     "name": "stderr",
     "output_type": "stream",
     "text": [
      "Warning message:\n",
      "\"'newdata' had 60 rows but variables found have 200 rows\"\n"
     ]
    },
    {
     "name": "stdout",
     "output_type": "stream",
     "text": [
      "[1] \"mse in test: 0.0162946446085572\"\n"
     ]
    }
   ],
   "source": [
    "#i. Dự đoán y_test_predict từ test data => so sánh y_test_pred với y_test\n",
    "y_test_predict<-predict(lmMod,testData)\n",
    "mse<-mean(lmMod$residuals^2)\n",
    "print(paste('mse in test:',mse))"
   ]
  },
  {
   "cell_type": "code",
   "execution_count": 11,
   "id": "3bed36af",
   "metadata": {},
   "outputs": [
    {
     "name": "stderr",
     "output_type": "stream",
     "text": [
      "Warning message in trainingData$youtube - y_test_predict:\n",
      "\"longer object length is not a multiple of shorter object length\"\n"
     ]
    },
    {
     "name": "stdout",
     "output_type": "stream",
     "text": [
      "[1] \"mse in train: 0.114437077169574\"\n"
     ]
    },
    {
     "name": "stderr",
     "output_type": "stream",
     "text": [
      "Warning message in testData$youtube - y_test_predict:\n",
      "\"longer object length is not a multiple of shorter object length\"\n"
     ]
    },
    {
     "name": "stdout",
     "output_type": "stream",
     "text": [
      "[1] \"mse in test: 0.108209554344556\"\n"
     ]
    }
   ],
   "source": [
    "#j. Tính Mean Square Error (mse), r^2 cho train, r^2 cho test. Nhận xét.\n",
    "mse_train<-mean((trainingData$youtube-y_test_predict)^2)\n",
    "print(paste('mse in train:',mse_train))\n",
    "mse_test<-mean((testData$youtube-y_test_predict)^2)\n",
    "print(paste('mse in test:',mse_test))"
   ]
  },
  {
   "cell_type": "markdown",
   "id": "ac50de87",
   "metadata": {},
   "source": [
    "Nhận xét: mse tương đối tốt, biến output là continuous nên nếu giá trị dự đoán xấp xỉ giá trị thực củng xem như tương đối đúng"
   ]
  },
  {
   "cell_type": "code",
   "execution_count": 12,
   "id": "2ea486d4",
   "metadata": {},
   "outputs": [
    {
     "name": "stdout",
     "output_type": "stream",
     "text": [
      " (Intercept) data$youtube \n",
      "   0.2151917    0.5534088 \n",
      "[1] \"Intercept: 0.215191700686252\"\n"
     ]
    }
   ],
   "source": [
    "#k. Tìm Coefficients, Intercept\n",
    "print(coef(lmMod))\n",
    "Intercept<-coef(lmMod)['(Intercept)']\n",
    "print(paste('Intercept:',Intercept))"
   ]
  },
  {
   "cell_type": "code",
   "execution_count": 13,
   "id": "8f829d9a",
   "metadata": {},
   "outputs": [
    {
     "data": {
      "text/html": [
       "<style>\n",
       ".dl-inline {width: auto; margin:0; padding: 0}\n",
       ".dl-inline>dt, .dl-inline>dd {float: none; width: auto; display: inline-block}\n",
       ".dl-inline>dt::after {content: \":\\0020\"; padding-right: .5ex}\n",
       ".dl-inline>dt:not(:first-of-type) {padding-left: .5ex}\n",
       "</style><dl class=dl-inline><dt>(Intercept)</dt><dd>0.215191700686252</dd><dt>data$youtube</dt><dd>0.553408841576534</dd></dl>\n"
      ],
      "text/latex": [
       "\\begin{description*}\n",
       "\\item[(Intercept)] 0.215191700686252\n",
       "\\item[data\\textbackslash{}\\$youtube] 0.553408841576534\n",
       "\\end{description*}\n"
      ],
      "text/markdown": [
       "(Intercept)\n",
       ":   0.215191700686252data$youtube\n",
       ":   0.553408841576534\n",
       "\n"
      ],
      "text/plain": [
       " (Intercept) data$youtube \n",
       "   0.2151917    0.5534088 "
      ]
     },
     "metadata": {},
     "output_type": "display_data"
    }
   ],
   "source": [
    "coef(lmMod)"
   ]
  },
  {
   "cell_type": "code",
   "execution_count": 14,
   "id": "7c08c554",
   "metadata": {},
   "outputs": [],
   "source": [
    "beta_sales<-coef(lmMod)['data$youtube']"
   ]
  },
  {
   "cell_type": "code",
   "execution_count": 15,
   "id": "6804dca1",
   "metadata": {},
   "outputs": [],
   "source": [
    "x <- c(100, 200, 300)\n",
    "x=normalize(x)$scaled\n",
    "y<-Intercept+beta_sales*x"
   ]
  },
  {
   "cell_type": "code",
   "execution_count": 16,
   "id": "559fd97f",
   "metadata": {},
   "outputs": [
    {
     "name": "stdout",
     "output_type": "stream",
     "text": [
      "[1] 0.2151917 0.4918961 0.7686005\n"
     ]
    }
   ],
   "source": [
    "print(y)"
   ]
  },
  {
   "cell_type": "code",
   "execution_count": 17,
   "id": "6fadee44",
   "metadata": {},
   "outputs": [],
   "source": [
    "denormalize <- function(x, min, max) {x*(max-min)+min}"
   ]
  },
  {
   "cell_type": "code",
   "execution_count": 18,
   "id": "b5ad8f43",
   "metadata": {},
   "outputs": [],
   "source": [
    "y<-denormalize(y ,range(data_origin$sales)[1],range(data_origin$sales)[2])"
   ]
  },
  {
   "cell_type": "code",
   "execution_count": 19,
   "id": "e14879c2",
   "metadata": {},
   "outputs": [
    {
     "name": "stdout",
     "output_type": "stream",
     "text": [
      "[1]  8.479043 16.912994 25.346945\n"
     ]
    }
   ],
   "source": [
    "print(y)"
   ]
  },
  {
   "cell_type": "code",
   "execution_count": 20,
   "id": "9d307deb",
   "metadata": {},
   "outputs": [
    {
     "data": {
      "image/png": "[encoded data removed]",
      "text/plain": [
       "Plot with title \"Trực quan hóa kết quả\""
      ]
     },
     "metadata": {
      "image/png": {
       "height": 420,
       "width": 420
      }
     },
     "output_type": "display_data"
    }
   ],
   "source": [
    "#m. Trực quan hóa kết quả.\n",
    "plot(x,y,\n",
    "    main='Trực quan hóa kết quả',\n",
    "    xlab='given data',ylab='predict',\n",
    "    pch=19,frame=FALSE,col='green')\n",
    "abline(lmMod,data,col='green')\n",
    "legend('topleft',c('given data','predict'),\n",
    "      cex=0.8,fill=c('blue','orange'))"
   ]
  },
  {
   "cell_type": "code",
   "execution_count": null,
   "id": "26e8dded",
   "metadata": {},
   "outputs": [],
   "source": []
  }
 ],
 "metadata": {
  "kernelspec": {
   "display_name": "R",
   "language": "R",
   "name": "ir"
  },
  "language_info": {
   "codemirror_mode": "r",
   "file_extension": ".r",
   "mimetype": "text/x-r-source",
   "name": "R",
   "pygments_lexer": "r",
   "version": "4.2.2"
  }
 },
 "nbformat": 4,
 "nbformat_minor": 5
}
