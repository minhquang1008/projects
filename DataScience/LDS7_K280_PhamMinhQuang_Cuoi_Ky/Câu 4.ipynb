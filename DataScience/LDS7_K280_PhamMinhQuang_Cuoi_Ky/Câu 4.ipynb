{
 "cells": [
  {
   "cell_type": "code",
   "execution_count": 1,
   "id": "185cbfa8",
   "metadata": {},
   "outputs": [
    {
     "name": "stderr",
     "output_type": "stream",
     "text": [
      "\u001b[1mRows: \u001b[22m\u001b[34m8124\u001b[39m \u001b[1mColumns: \u001b[22m\u001b[34m24\u001b[39m\n",
      "\u001b[36m──\u001b[39m \u001b[1mColumn specification\u001b[22m \u001b[36m────────────────────────────────────────────────────────────────────────────────────────────────\u001b[39m\n",
      "\u001b[1mDelimiter:\u001b[22m \",\"\n",
      "\u001b[31mchr\u001b[39m (22): Class, cap.shape, cap.surface, cap.color, odor, gill.attachment, g...\n",
      "\u001b[32mdbl\u001b[39m  (1): X\n",
      "\u001b[33mlgl\u001b[39m  (1): bruises\n",
      "\n",
      "\u001b[36mℹ\u001b[39m Use `spec()` to retrieve the full column specification for this data.\n",
      "\u001b[36mℹ\u001b[39m Specify the column types or set `show_col_types = FALSE` to quiet this message.\n"
     ]
    }
   ],
   "source": [
    "#1. Đọc dữ liệu và đưa vào dataframe data\n",
    "library(readr)\n",
    "data<-read_csv('mushroom.csv')"
   ]
  },
  {
   "cell_type": "code",
   "execution_count": 2,
   "id": "d1204bb9",
   "metadata": {},
   "outputs": [
    {
     "data": {
      "text/html": [
       "<table class=\"dataframe\">\n",
       "<caption>A tibble: 6 × 24</caption>\n",
       "<thead>\n",
       "\t<tr><th scope=col>X</th><th scope=col>Class</th><th scope=col>cap.shape</th><th scope=col>cap.surface</th><th scope=col>cap.color</th><th scope=col>bruises</th><th scope=col>odor</th><th scope=col>gill.attachment</th><th scope=col>gill.spacing</th><th scope=col>gill.size</th><th scope=col>⋯</th><th scope=col>stalk.surface.below.ring</th><th scope=col>stalk.color.above.ring</th><th scope=col>stalk.color.below.ring</th><th scope=col>veil.type</th><th scope=col>veil.color</th><th scope=col>ring.number</th><th scope=col>ring.type</th><th scope=col>print</th><th scope=col>population</th><th scope=col>habitat</th></tr>\n",
       "\t<tr><th scope=col>&lt;dbl&gt;</th><th scope=col>&lt;chr&gt;</th><th scope=col>&lt;chr&gt;</th><th scope=col>&lt;chr&gt;</th><th scope=col>&lt;chr&gt;</th><th scope=col>&lt;lgl&gt;</th><th scope=col>&lt;chr&gt;</th><th scope=col>&lt;chr&gt;</th><th scope=col>&lt;chr&gt;</th><th scope=col>&lt;chr&gt;</th><th scope=col>⋯</th><th scope=col>&lt;chr&gt;</th><th scope=col>&lt;chr&gt;</th><th scope=col>&lt;chr&gt;</th><th scope=col>&lt;chr&gt;</th><th scope=col>&lt;chr&gt;</th><th scope=col>&lt;chr&gt;</th><th scope=col>&lt;chr&gt;</th><th scope=col>&lt;chr&gt;</th><th scope=col>&lt;chr&gt;</th><th scope=col>&lt;chr&gt;</th></tr>\n",
       "</thead>\n",
       "<tbody>\n",
       "\t<tr><td>1</td><td>Poisonous</td><td>x</td><td>s</td><td>n</td><td> TRUE</td><td>None   </td><td>f</td><td>c</td><td>n</td><td>⋯</td><td>s</td><td>w</td><td>w</td><td>p</td><td>w</td><td>o</td><td>p</td><td>Buff     </td><td>s</td><td>u</td></tr>\n",
       "\t<tr><td>2</td><td>Edible   </td><td>x</td><td>s</td><td>y</td><td> TRUE</td><td>Almonds</td><td>f</td><td>c</td><td>b</td><td>⋯</td><td>s</td><td>w</td><td>w</td><td>p</td><td>w</td><td>o</td><td>p</td><td>Chocolate</td><td>n</td><td>g</td></tr>\n",
       "\t<tr><td>3</td><td>Edible   </td><td>b</td><td>s</td><td>w</td><td> TRUE</td><td>Fishy  </td><td>f</td><td>c</td><td>b</td><td>⋯</td><td>s</td><td>w</td><td>w</td><td>p</td><td>w</td><td>o</td><td>p</td><td>Chocolate</td><td>n</td><td>m</td></tr>\n",
       "\t<tr><td>4</td><td>Poisonous</td><td>x</td><td>y</td><td>w</td><td> TRUE</td><td>None   </td><td>f</td><td>c</td><td>n</td><td>⋯</td><td>s</td><td>w</td><td>w</td><td>p</td><td>w</td><td>o</td><td>p</td><td>Buff     </td><td>s</td><td>u</td></tr>\n",
       "\t<tr><td>5</td><td>Edible   </td><td>x</td><td>s</td><td>g</td><td>FALSE</td><td>Musty  </td><td>f</td><td>w</td><td>b</td><td>⋯</td><td>s</td><td>w</td><td>w</td><td>p</td><td>w</td><td>o</td><td>e</td><td>Chocolate</td><td>a</td><td>g</td></tr>\n",
       "\t<tr><td>6</td><td>Edible   </td><td>x</td><td>y</td><td>y</td><td> TRUE</td><td>Almonds</td><td>f</td><td>c</td><td>b</td><td>⋯</td><td>s</td><td>w</td><td>w</td><td>p</td><td>w</td><td>o</td><td>p</td><td>Buff     </td><td>n</td><td>g</td></tr>\n",
       "</tbody>\n",
       "</table>\n"
      ],
      "text/latex": [
       "A tibble: 6 × 24\n",
       "\\begin{tabular}{lllllllllllllllllllll}\n",
       " X & Class & cap.shape & cap.surface & cap.color & bruises & odor & gill.attachment & gill.spacing & gill.size & ⋯ & stalk.surface.below.ring & stalk.color.above.ring & stalk.color.below.ring & veil.type & veil.color & ring.number & ring.type & print & population & habitat\\\\\n",
       " <dbl> & <chr> & <chr> & <chr> & <chr> & <lgl> & <chr> & <chr> & <chr> & <chr> & ⋯ & <chr> & <chr> & <chr> & <chr> & <chr> & <chr> & <chr> & <chr> & <chr> & <chr>\\\\\n",
       "\\hline\n",
       "\t 1 & Poisonous & x & s & n &  TRUE & None    & f & c & n & ⋯ & s & w & w & p & w & o & p & Buff      & s & u\\\\\n",
       "\t 2 & Edible    & x & s & y &  TRUE & Almonds & f & c & b & ⋯ & s & w & w & p & w & o & p & Chocolate & n & g\\\\\n",
       "\t 3 & Edible    & b & s & w &  TRUE & Fishy   & f & c & b & ⋯ & s & w & w & p & w & o & p & Chocolate & n & m\\\\\n",
       "\t 4 & Poisonous & x & y & w &  TRUE & None    & f & c & n & ⋯ & s & w & w & p & w & o & p & Buff      & s & u\\\\\n",
       "\t 5 & Edible    & x & s & g & FALSE & Musty   & f & w & b & ⋯ & s & w & w & p & w & o & e & Chocolate & a & g\\\\\n",
       "\t 6 & Edible    & x & y & y &  TRUE & Almonds & f & c & b & ⋯ & s & w & w & p & w & o & p & Buff      & n & g\\\\\n",
       "\\end{tabular}\n"
      ],
      "text/markdown": [
       "\n",
       "A tibble: 6 × 24\n",
       "\n",
       "| X &lt;dbl&gt; | Class &lt;chr&gt; | cap.shape &lt;chr&gt; | cap.surface &lt;chr&gt; | cap.color &lt;chr&gt; | bruises &lt;lgl&gt; | odor &lt;chr&gt; | gill.attachment &lt;chr&gt; | gill.spacing &lt;chr&gt; | gill.size &lt;chr&gt; | ⋯ ⋯ | stalk.surface.below.ring &lt;chr&gt; | stalk.color.above.ring &lt;chr&gt; | stalk.color.below.ring &lt;chr&gt; | veil.type &lt;chr&gt; | veil.color &lt;chr&gt; | ring.number &lt;chr&gt; | ring.type &lt;chr&gt; | print &lt;chr&gt; | population &lt;chr&gt; | habitat &lt;chr&gt; |\n",
       "|---|---|---|---|---|---|---|---|---|---|---|---|---|---|---|---|---|---|---|---|---|\n",
       "| 1 | Poisonous | x | s | n |  TRUE | None    | f | c | n | ⋯ | s | w | w | p | w | o | p | Buff      | s | u |\n",
       "| 2 | Edible    | x | s | y |  TRUE | Almonds | f | c | b | ⋯ | s | w | w | p | w | o | p | Chocolate | n | g |\n",
       "| 3 | Edible    | b | s | w |  TRUE | Fishy   | f | c | b | ⋯ | s | w | w | p | w | o | p | Chocolate | n | m |\n",
       "| 4 | Poisonous | x | y | w |  TRUE | None    | f | c | n | ⋯ | s | w | w | p | w | o | p | Buff      | s | u |\n",
       "| 5 | Edible    | x | s | g | FALSE | Musty   | f | w | b | ⋯ | s | w | w | p | w | o | e | Chocolate | a | g |\n",
       "| 6 | Edible    | x | y | y |  TRUE | Almonds | f | c | b | ⋯ | s | w | w | p | w | o | p | Buff      | n | g |\n",
       "\n"
      ],
      "text/plain": [
       "  X Class     cap.shape cap.surface cap.color bruises odor    gill.attachment\n",
       "1 1 Poisonous x         s           n          TRUE   None    f              \n",
       "2 2 Edible    x         s           y          TRUE   Almonds f              \n",
       "3 3 Edible    b         s           w          TRUE   Fishy   f              \n",
       "4 4 Poisonous x         y           w          TRUE   None    f              \n",
       "5 5 Edible    x         s           g         FALSE   Musty   f              \n",
       "6 6 Edible    x         y           y          TRUE   Almonds f              \n",
       "  gill.spacing gill.size ⋯ stalk.surface.below.ring stalk.color.above.ring\n",
       "1 c            n         ⋯ s                        w                     \n",
       "2 c            b         ⋯ s                        w                     \n",
       "3 c            b         ⋯ s                        w                     \n",
       "4 c            n         ⋯ s                        w                     \n",
       "5 w            b         ⋯ s                        w                     \n",
       "6 c            b         ⋯ s                        w                     \n",
       "  stalk.color.below.ring veil.type veil.color ring.number ring.type print    \n",
       "1 w                      p         w          o           p         Buff     \n",
       "2 w                      p         w          o           p         Chocolate\n",
       "3 w                      p         w          o           p         Chocolate\n",
       "4 w                      p         w          o           p         Buff     \n",
       "5 w                      p         w          o           e         Chocolate\n",
       "6 w                      p         w          o           p         Buff     \n",
       "  population habitat\n",
       "1 s          u      \n",
       "2 n          g      \n",
       "3 n          m      \n",
       "4 s          u      \n",
       "5 a          g      \n",
       "6 n          g      "
      ]
     },
     "metadata": {},
     "output_type": "display_data"
    },
    {
     "data": {
      "text/html": [
       "8124"
      ],
      "text/latex": [
       "8124"
      ],
      "text/markdown": [
       "8124"
      ],
      "text/plain": [
       "[1] 8124"
      ]
     },
     "metadata": {},
     "output_type": "display_data"
    },
    {
     "data": {
      "text/html": [
       "24"
      ],
      "text/latex": [
       "24"
      ],
      "text/markdown": [
       "24"
      ],
      "text/plain": [
       "[1] 24"
      ]
     },
     "metadata": {},
     "output_type": "display_data"
    },
    {
     "data": {
      "text/plain": [
       "       X           Class            cap.shape         cap.surface       \n",
       " Min.   :   1   Length:8124        Length:8124        Length:8124       \n",
       " 1st Qu.:2032   Class :character   Class :character   Class :character  \n",
       " Median :4062   Mode  :character   Mode  :character   Mode  :character  \n",
       " Mean   :4062                                                           \n",
       " 3rd Qu.:6093                                                           \n",
       " Max.   :8124                                                           \n",
       "  cap.color          bruises            odor           gill.attachment   \n",
       " Length:8124        Mode :logical   Length:8124        Length:8124       \n",
       " Class :character   FALSE:4748      Class :character   Class :character  \n",
       " Mode  :character   TRUE :3376      Mode  :character   Mode  :character  \n",
       "                                                                         \n",
       "                                                                         \n",
       "                                                                         \n",
       " gill.spacing        gill.size          gill.color        stalk.shape       \n",
       " Length:8124        Length:8124        Length:8124        Length:8124       \n",
       " Class :character   Class :character   Class :character   Class :character  \n",
       " Mode  :character   Mode  :character   Mode  :character   Mode  :character  \n",
       "                                                                            \n",
       "                                                                            \n",
       "                                                                            \n",
       "  stalk.root        stalk.surface.above.ring stalk.surface.below.ring\n",
       " Length:8124        Length:8124              Length:8124             \n",
       " Class :character   Class :character         Class :character        \n",
       " Mode  :character   Mode  :character         Mode  :character        \n",
       "                                                                     \n",
       "                                                                     \n",
       "                                                                     \n",
       " stalk.color.above.ring stalk.color.below.ring  veil.type        \n",
       " Length:8124            Length:8124            Length:8124       \n",
       " Class :character       Class :character       Class :character  \n",
       " Mode  :character       Mode  :character       Mode  :character  \n",
       "                                                                 \n",
       "                                                                 \n",
       "                                                                 \n",
       "  veil.color        ring.number         ring.type            print          \n",
       " Length:8124        Length:8124        Length:8124        Length:8124       \n",
       " Class :character   Class :character   Class :character   Class :character  \n",
       " Mode  :character   Mode  :character   Mode  :character   Mode  :character  \n",
       "                                                                            \n",
       "                                                                            \n",
       "                                                                            \n",
       "  population          habitat         \n",
       " Length:8124        Length:8124       \n",
       " Class :character   Class :character  \n",
       " Mode  :character   Mode  :character  \n",
       "                                      \n",
       "                                      \n",
       "                                      "
      ]
     },
     "metadata": {},
     "output_type": "display_data"
    }
   ],
   "source": [
    "#2. In thông tin dữ liệu: head(), số dòng, số cột, summary…\n",
    "head(data)\n",
    "nrow(data)\n",
    "ncol(data)\n",
    "summary(data)"
   ]
  },
  {
   "cell_type": "code",
   "execution_count": 3,
   "id": "065dc505",
   "metadata": {},
   "outputs": [],
   "source": [
    "data = subset(data, select = -c(X,veil.type) )"
   ]
  },
  {
   "cell_type": "code",
   "execution_count": 4,
   "id": "5566ebcb",
   "metadata": {},
   "outputs": [
    {
     "name": "stderr",
     "output_type": "stream",
     "text": [
      "Installing package into 'C:/Users/ASUS/AppData/Local/R/win-library/4.2'\n",
      "(as 'lib' is unspecified)\n",
      "\n"
     ]
    },
    {
     "name": "stdout",
     "output_type": "stream",
     "text": [
      "package 'Amelia' successfully unpacked and MD5 sums checked\n",
      "\n",
      "The downloaded binary packages are in\n",
      "\tC:\\Users\\ASUS\\AppData\\Local\\Temp\\RtmpqYgMVK\\downloaded_packages\n"
     ]
    },
    {
     "name": "stderr",
     "output_type": "stream",
     "text": [
      "Loading required package: Rcpp\n",
      "\n",
      "## \n",
      "## Amelia II: Multiple Imputation\n",
      "## (Version 1.8.1, built: 2022-11-18)\n",
      "## Copyright (C) 2005-2022 James Honaker, Gary King and Matthew Blackwell\n",
      "## Refer to http://gking.harvard.edu/amelia/ for more information\n",
      "## \n",
      "\n",
      "Warning message:\n",
      "\"Unknown or uninitialised column: `arguments`.\"\n",
      "Warning message:\n",
      "\"Unknown or uninitialised column: `arguments`.\"\n",
      "Warning message:\n",
      "\"Unknown or uninitialised column: `imputations`.\"\n"
     ]
    },
    {
     "data": {
      "image/png": "[encoded data removed]",
      "text/plain": [
       "Plot with title \"Missing data\""
      ]
     },
     "metadata": {
      "image/png": {
       "height": 420,
       "width": 420
      }
     },
     "output_type": "display_data"
    }
   ],
   "source": [
    "install.packages(\"Amelia\")\n",
    "library(\"Amelia\")\n",
    "missmap(data,main='Missing data')"
   ]
  },
  {
   "cell_type": "code",
   "execution_count": 5,
   "id": "a65e5cba",
   "metadata": {},
   "outputs": [],
   "source": [
    "data[sapply(data, is.character)] <- lapply(data[sapply(data, is.character)], \n",
    "                                       as.factor)"
   ]
  },
  {
   "cell_type": "code",
   "execution_count": 6,
   "id": "50f3201e",
   "metadata": {},
   "outputs": [
    {
     "name": "stdout",
     "output_type": "stream",
     "text": [
      "[1] \"rows of training and testing data\"\n",
      "[1] 5687\n",
      "[1] 2437\n"
     ]
    }
   ],
   "source": [
    "#4. Tạo train và test từ dữ liệu data.\n",
    "n=nrow(data)\n",
    "trainIndex=sample(1:n,size=round(0.7*n),replace=FALSE)\n",
    "train=data[trainIndex,]\n",
    "test=data[-trainIndex,]\n",
    "print('rows of training and testing data')\n",
    "print(nrow(train))\n",
    "print(nrow(test))"
   ]
  },
  {
   "cell_type": "code",
   "execution_count": 7,
   "id": "910fa005",
   "metadata": {},
   "outputs": [
    {
     "name": "stderr",
     "output_type": "stream",
     "text": [
      "Warning message:\n",
      "\"glm.fit: algorithm did not converge\"\n"
     ]
    }
   ],
   "source": [
    "#5. Xây dựng model với train\n",
    "mylogit<-glm(Class~.,data=train,family='binomial')"
   ]
  },
  {
   "cell_type": "code",
   "execution_count": 8,
   "id": "d490015d",
   "metadata": {
    "scrolled": true
   },
   "outputs": [
    {
     "name": "stdout",
     "output_type": "stream",
     "text": [
      "\n",
      "Call:\n",
      "glm(formula = Class ~ ., family = \"binomial\", data = train)\n",
      "\n",
      "Deviance Residuals: \n",
      "       Min          1Q      Median          3Q         Max  \n",
      "-2.409e-06  -2.409e-06  -2.409e-06   2.409e-06   2.409e-06  \n",
      "\n",
      "Coefficients: (10 not defined because of singularities)\n",
      "                            Estimate Std. Error z value Pr(>|z|)\n",
      "(Intercept)               -2.657e+01  3.739e+05       0        1\n",
      "cap.shapec                 2.854e-08  2.822e+05       0        1\n",
      "cap.shapef                -2.049e-08  2.845e+04       0        1\n",
      "cap.shapek                 7.737e-08  3.071e+04       0        1\n",
      "cap.shapes                -1.815e-08  9.662e+04       0        1\n",
      "cap.shapex                -1.587e-08  2.728e+04       0        1\n",
      "cap.surfaceg              -4.730e-06  4.047e+05       0        1\n",
      "cap.surfaces              -2.147e-08  1.596e+04       0        1\n",
      "cap.surfacey               1.557e-08  1.341e+04       0        1\n",
      "cap.colorc                 6.882e-08  9.199e+04       0        1\n",
      "cap.colore                 3.225e-09  4.480e+04       0        1\n",
      "cap.colorg                 5.908e-08  4.281e+04       0        1\n",
      "cap.colorn                 6.932e-08  4.380e+04       0        1\n",
      "cap.colorp                 4.946e-08  5.407e+04       0        1\n",
      "cap.colorr                 2.589e-08  1.548e+05       0        1\n",
      "cap.coloru                 2.222e-08  1.580e+05       0        1\n",
      "cap.colorw                 2.866e-08  4.324e+04       0        1\n",
      "cap.colory                -1.926e-08  4.577e+04       0        1\n",
      "bruisesTRUE                2.657e+01  2.004e+05       0        1\n",
      "odorAnise                  2.657e+01  2.209e+05       0        1\n",
      "odorCreosote              -2.657e+01  5.983e+05       0        1\n",
      "odorFishy                 -3.607e-09  3.056e+04       0        1\n",
      "odorFoul                   1.328e+02  9.695e+05       0        1\n",
      "odorMusty                 -7.970e+01  5.871e+05       0        1\n",
      "odorNone                  -5.313e+01  7.585e+05       0        1\n",
      "odorPungent               -2.657e+01  5.988e+05       0        1\n",
      "odorSpicy                 -2.657e+01  5.988e+05       0        1\n",
      "gill.attachmentf          -1.525e-07  1.560e+05       0        1\n",
      "gill.spacingw             -4.797e-06  6.047e+04       0        1\n",
      "gill.sizen                -7.970e+01  5.696e+05       0        1\n",
      "gill.colore               -2.657e+01  2.901e+05       0        1\n",
      "gill.colorg               -2.657e+01  2.880e+05       0        1\n",
      "gill.colorh               -2.657e+01  2.876e+05       0        1\n",
      "gill.colork               -2.657e+01  2.883e+05       0        1\n",
      "gill.colorn               -2.657e+01  2.878e+05       0        1\n",
      "gill.coloro               -2.657e+01  2.978e+05       0        1\n",
      "gill.colorp               -2.657e+01  2.874e+05       0        1\n",
      "gill.colorr               -2.657e+01  3.066e+05       0        1\n",
      "gill.coloru               -2.657e+01  2.886e+05       0        1\n",
      "gill.colorw               -2.657e+01  2.869e+05       0        1\n",
      "gill.colory               -2.657e+01  2.959e+05       0        1\n",
      "stalk.shapet              -5.313e+01  3.760e+05       0        1\n",
      "stalk.rootb               -2.657e+01  2.174e+05       0        1\n",
      "stalk.rootc               -1.594e+02  1.145e+06       0        1\n",
      "stalk.roote                2.657e+01  2.069e+05       0        1\n",
      "stalk.rootr               -1.860e+02  9.672e+05       0        1\n",
      "stalk.surface.above.ringk -1.862e-07  3.175e+04       0        1\n",
      "stalk.surface.above.rings -1.897e-09  2.558e+04       0        1\n",
      "stalk.surface.above.ringy  1.004e-05  4.447e+05       0        1\n",
      "stalk.surface.below.ringk -2.682e-07  3.174e+04       0        1\n",
      "stalk.surface.below.rings -1.615e-09  2.557e+04       0        1\n",
      "stalk.surface.below.ringy  2.657e+01  2.512e+05       0        1\n",
      "stalk.color.above.ringc           NA         NA      NA       NA\n",
      "stalk.color.above.ringe   -3.839e-07  7.068e+04       0        1\n",
      "stalk.color.above.ringg   -3.773e-07  3.701e+04       0        1\n",
      "stalk.color.above.ringn   -3.835e-07  2.904e+04       0        1\n",
      "stalk.color.above.ringo   -5.313e+01  4.317e+05       0        1\n",
      "stalk.color.above.ringp   -3.633e-07  2.893e+04       0        1\n",
      "stalk.color.above.ringw   -3.898e-07  3.299e+04       0        1\n",
      "stalk.color.above.ringy    1.594e+02  8.386e+05       0        1\n",
      "stalk.color.below.ringc           NA         NA      NA       NA\n",
      "stalk.color.below.ringe   -3.278e-07  7.091e+04       0        1\n",
      "stalk.color.below.ringg   -3.132e-07  3.703e+04       0        1\n",
      "stalk.color.below.ringn   -3.012e-07  2.906e+04       0        1\n",
      "stalk.color.below.ringo           NA         NA      NA       NA\n",
      "stalk.color.below.ringp   -3.032e-07  2.898e+04       0        1\n",
      "stalk.color.below.ringw   -3.228e-07  3.303e+04       0        1\n",
      "stalk.color.below.ringy    2.230e-07  1.455e+05       0        1\n",
      "veil.coloro               -3.507e-09  6.314e+04       0        1\n",
      "veil.colorw                       NA         NA      NA       NA\n",
      "veil.colory                       NA         NA      NA       NA\n",
      "ring.numbero               1.328e+02  9.324e+05       0        1\n",
      "ring.numbert                      NA         NA      NA       NA\n",
      "ring.typef                 5.313e+01  4.171e+05       0        1\n",
      "ring.typel                        NA         NA      NA       NA\n",
      "ring.typen                        NA         NA      NA       NA\n",
      "ring.typep                 2.657e+01  1.906e+05       0        1\n",
      "printBrown                        NA         NA      NA       NA\n",
      "printBuff                  3.777e-09  8.867e+04       0        1\n",
      "printChocolate             3.797e-09  8.756e+04       0        1\n",
      "printGreen                -4.811e-09  8.928e+04       0        1\n",
      "printOrange                1.328e+02  5.880e+05       0        1\n",
      "printPurple                4.119e-09  1.240e+05       0        1\n",
      "printWhite                 7.970e+01  5.765e+05       0        1\n",
      "printYellow               -5.814e-09  8.757e+04       0        1\n",
      "populationc                1.413e-09  7.529e+04       0        1\n",
      "populationn                4.521e-10  4.289e+04       0        1\n",
      "populations               -1.836e-10  3.041e+04       0        1\n",
      "populationv                7.920e-09  4.169e+04       0        1\n",
      "populationy                9.266e-09  4.312e+04       0        1\n",
      "habitatg                   3.796e-07  2.565e+04       0        1\n",
      "habitatl                   7.342e-07  2.363e+04       0        1\n",
      "habitatm                   3.766e-07  4.444e+04       0        1\n",
      "habitatp                   5.695e-07  1.858e+04       0        1\n",
      "habitatu                   7.731e-07  4.571e+04       0        1\n",
      "habitatw                          NA         NA      NA       NA\n",
      "\n",
      "(Dispersion parameter for binomial family taken to be 1)\n",
      "\n",
      "    Null deviance: 7.8741e+03  on 5686  degrees of freedom\n",
      "Residual deviance: 3.2994e-08  on 5601  degrees of freedom\n",
      "AIC: 172\n",
      "\n",
      "Number of Fisher Scoring iterations: 25\n",
      "\n"
     ]
    }
   ],
   "source": [
    "#6. In summary của model.\n",
    "print(summary(mylogit))"
   ]
  },
  {
   "cell_type": "code",
   "execution_count": 9,
   "id": "ec13a177",
   "metadata": {},
   "outputs": [
    {
     "name": "stderr",
     "output_type": "stream",
     "text": [
      "Warning message in predict.lm(object, newdata, se.fit, scale = 1, type = if (type == :\n",
      "\"prediction from a rank-deficient fit may be misleading\"\n"
     ]
    },
    {
     "name": "stdout",
     "output_type": "stream",
     "text": [
      "[1] \"testdata admit vs predict 10rows\"\n",
      "   testAdmit pred_value.30.40.\n",
      "30    Edible            Edible\n",
      "31    Edible            Edible\n",
      "32    Edible            Edible\n",
      "33    Edible            Edible\n",
      "34    Edible            Edible\n",
      "35    Edible            Edible\n",
      "36    Edible            Edible\n",
      "37    Edible            Edible\n",
      "38 Poisonous         Poisonous\n",
      "39    Edible            Edible\n",
      "40    Edible            Edible\n"
     ]
    }
   ],
   "source": [
    "#7. Dự đoán y_pred từ test => so sánh với y_test.\n",
    "pred=predict(mylogit,newdata=test,type='response')\n",
    "pred_value<-ifelse(pred>0.5,'Poisonous','Edible')\n",
    "print('testdata admit vs predict 10rows')\n",
    "result<-data.frame(testAdmit=test$Class[30:40],pred_value[30:40])\n",
    "print(result)"
   ]
  },
  {
   "cell_type": "code",
   "execution_count": 10,
   "id": "792828de",
   "metadata": {},
   "outputs": [
    {
     "name": "stderr",
     "output_type": "stream",
     "text": [
      "Installing package into 'C:/Users/ASUS/AppData/Local/R/win-library/4.2'\n",
      "(as 'lib' is unspecified)\n",
      "\n"
     ]
    },
    {
     "name": "stdout",
     "output_type": "stream",
     "text": [
      "package 'caret' successfully unpacked and MD5 sums checked\n",
      "\n",
      "The downloaded binary packages are in\n",
      "\tC:\\Users\\ASUS\\AppData\\Local\\Temp\\RtmpqYgMVK\\downloaded_packages\n"
     ]
    },
    {
     "name": "stderr",
     "output_type": "stream",
     "text": [
      "Loading required package: ggplot2\n",
      "\n",
      "Loading required package: lattice\n",
      "\n"
     ]
    },
    {
     "data": {
      "text/plain": [
       "Confusion Matrix and Statistics\n",
       "\n",
       "           Reference\n",
       "Prediction  Edible Poisonous\n",
       "  Edible      1247         0\n",
       "  Poisonous      0      1190\n",
       "                                     \n",
       "               Accuracy : 1          \n",
       "                 95% CI : (0.9985, 1)\n",
       "    No Information Rate : 0.5117     \n",
       "    P-Value [Acc > NIR] : < 2.2e-16  \n",
       "                                     \n",
       "                  Kappa : 1          \n",
       "                                     \n",
       " Mcnemar's Test P-Value : NA         \n",
       "                                     \n",
       "            Sensitivity : 1.0000     \n",
       "            Specificity : 1.0000     \n",
       "         Pos Pred Value : 1.0000     \n",
       "         Neg Pred Value : 1.0000     \n",
       "             Prevalence : 0.5117     \n",
       "         Detection Rate : 0.5117     \n",
       "   Detection Prevalence : 0.5117     \n",
       "      Balanced Accuracy : 1.0000     \n",
       "                                     \n",
       "       'Positive' Class : Edible     \n",
       "                                     "
      ]
     },
     "metadata": {},
     "output_type": "display_data"
    }
   ],
   "source": [
    "#8. Đánh giá model.\n",
    "install.packages('caret')\n",
    "library('caret')\n",
    "confusionMatrix(as.factor(pred_value),as.factor(test$Class))"
   ]
  },
  {
   "cell_type": "code",
   "execution_count": 11,
   "id": "219c768d",
   "metadata": {},
   "outputs": [],
   "source": [
    "#decision tree\n",
    "library(rpart)\n",
    "data.tree<-rpart(Class~.,data=train,method='class',minbucket=1)"
   ]
  },
  {
   "cell_type": "code",
   "execution_count": 12,
   "id": "c8a01af7",
   "metadata": {},
   "outputs": [
    {
     "name": "stdout",
     "output_type": "stream",
     "text": [
      "Call:\n",
      "rpart(formula = Class ~ ., data = train, method = \"class\", minbucket = 1)\n",
      "  n= 5687 \n",
      "\n",
      "          CP nsplit  rel error     xerror        xstd\n",
      "1 0.96845194      0 1.00000000 1.00000000 0.013820211\n",
      "2 0.01797506      1 0.03154806 0.03154806 0.003376094\n",
      "3 0.01000000      2 0.01357300 0.01357300 0.002224117\n",
      "\n",
      "Variable importance\n",
      "                    odor                    print               gill.color \n",
      "                      25                       19                       16 \n",
      "stalk.surface.above.ring                ring.type stalk.surface.below.ring \n",
      "                      14                       13                       13 \n",
      "\n",
      "Node number 1: 5687 observations,    complexity param=0.9684519\n",
      "  predicted class=Edible     expected loss=0.4793388  P(node) =1\n",
      "    class counts:  2961  2726\n",
      "   probabilities: 0.521 0.479 \n",
      "  left son=2 (3047 obs) right son=3 (2640 obs)\n",
      "  Primary splits:\n",
      "      odor                     splits as  LRRLRLRRR,    improve=2671.4990, (0 missing)\n",
      "      print                    splits as  LRLLLRLRL,    improve=1533.5710, (0 missing)\n",
      "      gill.color               splits as  RLRRLLLLRLLL, improve=1094.2540, (0 missing)\n",
      "      stalk.surface.above.ring splits as  LRLL,         improve= 997.1062, (0 missing)\n",
      "      stalk.surface.below.ring splits as  LRLL,         improve= 911.6629, (0 missing)\n",
      "  Surrogate splits:\n",
      "      print                    splits as  LRLLLLLRL,    agree=0.860, adj=0.699, (0 split)\n",
      "      gill.color               splits as  RLRRLLLLLLLL, agree=0.814, adj=0.600, (0 split)\n",
      "      stalk.surface.above.ring splits as  LRLL,         agree=0.785, adj=0.537, (0 split)\n",
      "      ring.type                splits as  RLRRL,        agree=0.782, adj=0.530, (0 split)\n",
      "      stalk.surface.below.ring splits as  LRLL,         agree=0.779, adj=0.525, (0 split)\n",
      "\n",
      "Node number 2: 3047 observations,    complexity param=0.01797506\n",
      "  predicted class=Edible     expected loss=0.02822448  P(node) =0.5357834\n",
      "    class counts:  2961    86\n",
      "   probabilities: 0.972 0.028 \n",
      "  left son=4 (2998 obs) right son=5 (49 obs)\n",
      "  Primary splits:\n",
      "      print                  splits as  LLLLLRLLL,    improve=94.05866, (0 missing)\n",
      "      stalk.color.below.ring splits as  --LLLLLLR,    improve=36.11038, (0 missing)\n",
      "      gill.color             splits as  -LLLLLLLRLLL, improve=32.28796, (0 missing)\n",
      "      cap.color              splits as  RLLLLRLLLL,   improve=17.20413, (0 missing)\n",
      "      stalk.color.above.ring splits as  --LLLLLLR,    improve=13.25131, (0 missing)\n",
      "  Surrogate splits:\n",
      "      gill.color splits as  -LLLLLLLRLLL, agree=0.989, adj=0.347, (0 split)\n",
      "\n",
      "Node number 3: 2640 observations\n",
      "  predicted class=Poisonous  expected loss=0  P(node) =0.4642166\n",
      "    class counts:     0  2640\n",
      "   probabilities: 0.000 1.000 \n",
      "\n",
      "Node number 4: 2998 observations\n",
      "  predicted class=Edible     expected loss=0.01234156  P(node) =0.5271672\n",
      "    class counts:  2961    37\n",
      "   probabilities: 0.988 0.012 \n",
      "\n",
      "Node number 5: 49 observations\n",
      "  predicted class=Poisonous  expected loss=0  P(node) =0.008616142\n",
      "    class counts:     0    49\n",
      "   probabilities: 0.000 1.000 \n",
      "\n",
      "n= 5687 \n",
      "\n",
      "node), split, n, loss, yval, (yprob)\n",
      "      * denotes terminal node\n",
      "\n",
      "1) root 5687 2726 Edible (0.52066116 0.47933884)  \n",
      "  2) odor=Almonds,Fishy,Musty 3047   86 Edible (0.97177552 0.02822448)  \n",
      "    4) print=Black,Brown,Buff,Chocolate,Green,Purple,White,Yellow 2998   37 Edible (0.98765844 0.01234156) *\n",
      "    5) print=Orange 49    0 Poisonous (0.00000000 1.00000000) *\n",
      "  3) odor=Anise,Creosote,Foul,None,Pungent,Spicy 2640    0 Poisonous (0.00000000 1.00000000) *\n"
     ]
    }
   ],
   "source": [
    "print(summary(data.tree))"
   ]
  },
  {
   "cell_type": "code",
   "execution_count": 19,
   "id": "72e52ed5",
   "metadata": {},
   "outputs": [
    {
     "name": "stdout",
     "output_type": "stream",
     "text": [
      "[1] \"testdata admit vs predict 10rows\"\n",
      "   testAdmit pred_new.30.40.\n",
      "30    Edible          Edible\n",
      "31    Edible          Edible\n",
      "32    Edible          Edible\n",
      "33    Edible          Edible\n",
      "34    Edible          Edible\n",
      "35    Edible          Edible\n",
      "36    Edible          Edible\n",
      "37    Edible          Edible\n",
      "38 Poisonous       Poisonous\n",
      "39    Edible          Edible\n",
      "40    Edible          Edible\n"
     ]
    }
   ],
   "source": [
    "pred_new=predict(data.tree,test,type='class')\n",
    "print('testdata admit vs predict 10rows')\n",
    "result<-data.frame(testAdmit=test$Class[30:40],pred_new[30:40])\n",
    "print(result)"
   ]
  },
  {
   "cell_type": "code",
   "execution_count": 14,
   "id": "105a5661",
   "metadata": {},
   "outputs": [
    {
     "data": {
      "image/png": "[encoded data removed]",
      "text/plain": [
       "plot without title"
      ]
     },
     "metadata": {
      "image/png": {
       "height": 420,
       "width": 420
      }
     },
     "output_type": "display_data"
    }
   ],
   "source": [
    "library(rpart.plot)\n",
    "prp(data.tree,type=2,extra='auto',nn=TRUE,branch=1,varlen=0,yesno=2)"
   ]
  },
  {
   "cell_type": "code",
   "execution_count": 21,
   "id": "4ff11b8d",
   "metadata": {},
   "outputs": [
    {
     "data": {
      "text/plain": [
       "Confusion Matrix and Statistics\n",
       "\n",
       "           Reference\n",
       "Prediction  Edible Poisonous\n",
       "  Edible      1247        11\n",
       "  Poisonous      0      1179\n",
       "                                          \n",
       "               Accuracy : 0.9955          \n",
       "                 95% CI : (0.9919, 0.9977)\n",
       "    No Information Rate : 0.5117          \n",
       "    P-Value [Acc > NIR] : < 2.2e-16       \n",
       "                                          \n",
       "                  Kappa : 0.991           \n",
       "                                          \n",
       " Mcnemar's Test P-Value : 0.002569        \n",
       "                                          \n",
       "            Sensitivity : 1.0000          \n",
       "            Specificity : 0.9908          \n",
       "         Pos Pred Value : 0.9913          \n",
       "         Neg Pred Value : 1.0000          \n",
       "             Prevalence : 0.5117          \n",
       "         Detection Rate : 0.5117          \n",
       "   Detection Prevalence : 0.5162          \n",
       "      Balanced Accuracy : 0.9954          \n",
       "                                          \n",
       "       'Positive' Class : Edible          \n",
       "                                          "
      ]
     },
     "metadata": {},
     "output_type": "display_data"
    }
   ],
   "source": [
    "confusionMatrix(as.factor(pred_new),as.factor(test$Class))"
   ]
  },
  {
   "cell_type": "markdown",
   "id": "2d358c74",
   "metadata": {},
   "source": [
    "logistic regression có vẻ phù hợp với dữ liệu hơn vì cho độ chính xác cao hơn"
   ]
  },
  {
   "cell_type": "code",
   "execution_count": null,
   "id": "e57f5ea4",
   "metadata": {},
   "outputs": [],
   "source": []
  }
 ],
 "metadata": {
  "kernelspec": {
   "display_name": "R",
   "language": "R",
   "name": "ir"
  },
  "language_info": {
   "codemirror_mode": "r",
   "file_extension": ".r",
   "mimetype": "text/x-r-source",
   "name": "R",
   "pygments_lexer": "r",
   "version": "4.2.2"
  }
 },
 "nbformat": 4,
 "nbformat_minor": 5
}
