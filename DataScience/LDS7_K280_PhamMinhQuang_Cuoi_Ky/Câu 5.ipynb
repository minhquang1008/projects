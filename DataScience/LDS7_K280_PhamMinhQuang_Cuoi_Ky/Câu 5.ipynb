{
 "cells": [
  {
   "cell_type": "code",
   "execution_count": 1,
   "id": "97ea9907",
   "metadata": {},
   "outputs": [
    {
     "name": "stderr",
     "output_type": "stream",
     "text": [
      "\u001b[1m\u001b[22mNew names:\n",
      "\u001b[36m•\u001b[39m `` -> `...1`\n",
      "\u001b[1mRows: \u001b[22m\u001b[34m1000\u001b[39m \u001b[1mColumns: \u001b[22m\u001b[34m4\u001b[39m\n",
      "\u001b[36m──\u001b[39m \u001b[1mColumn specification\u001b[22m \u001b[36m────────────────────────────────────────────────────────────────────────────────────────────────\u001b[39m\n",
      "\u001b[1mDelimiter:\u001b[22m \",\"\n",
      "\u001b[31mchr\u001b[39m (1): gender\n",
      "\u001b[32mdbl\u001b[39m (3): ...1, income, age\n",
      "\n",
      "\u001b[36mℹ\u001b[39m Use `spec()` to retrieve the full column specification for this data.\n",
      "\u001b[36mℹ\u001b[39m Specify the column types or set `show_col_types = FALSE` to quiet this message.\n"
     ]
    }
   ],
   "source": [
    "library(readr)\n",
    "data<-read_csv('ageinc_g.csv')"
   ]
  },
  {
   "cell_type": "code",
   "execution_count": 2,
   "id": "49a73e66",
   "metadata": {},
   "outputs": [
    {
     "data": {
      "text/html": [
       "<table class=\"dataframe\">\n",
       "<caption>A tibble: 6 × 4</caption>\n",
       "<thead>\n",
       "\t<tr><th scope=col>...1</th><th scope=col>income</th><th scope=col>age</th><th scope=col>gender</th></tr>\n",
       "\t<tr><th scope=col>&lt;dbl&gt;</th><th scope=col>&lt;dbl&gt;</th><th scope=col>&lt;dbl&gt;</th><th scope=col>&lt;chr&gt;</th></tr>\n",
       "</thead>\n",
       "<tbody>\n",
       "\t<tr><td>0</td><td>101743</td><td>58</td><td>Female</td></tr>\n",
       "\t<tr><td>1</td><td> 49597</td><td>27</td><td>Female</td></tr>\n",
       "\t<tr><td>2</td><td> 36517</td><td>52</td><td>Male  </td></tr>\n",
       "\t<tr><td>3</td><td> 33223</td><td>49</td><td>Male  </td></tr>\n",
       "\t<tr><td>4</td><td> 72994</td><td>53</td><td>Female</td></tr>\n",
       "\t<tr><td>5</td><td> 38361</td><td>26</td><td>Female</td></tr>\n",
       "</tbody>\n",
       "</table>\n"
      ],
      "text/latex": [
       "A tibble: 6 × 4\n",
       "\\begin{tabular}{llll}\n",
       " ...1 & income & age & gender\\\\\n",
       " <dbl> & <dbl> & <dbl> & <chr>\\\\\n",
       "\\hline\n",
       "\t 0 & 101743 & 58 & Female\\\\\n",
       "\t 1 &  49597 & 27 & Female\\\\\n",
       "\t 2 &  36517 & 52 & Male  \\\\\n",
       "\t 3 &  33223 & 49 & Male  \\\\\n",
       "\t 4 &  72994 & 53 & Female\\\\\n",
       "\t 5 &  38361 & 26 & Female\\\\\n",
       "\\end{tabular}\n"
      ],
      "text/markdown": [
       "\n",
       "A tibble: 6 × 4\n",
       "\n",
       "| ...1 &lt;dbl&gt; | income &lt;dbl&gt; | age &lt;dbl&gt; | gender &lt;chr&gt; |\n",
       "|---|---|---|---|\n",
       "| 0 | 101743 | 58 | Female |\n",
       "| 1 |  49597 | 27 | Female |\n",
       "| 2 |  36517 | 52 | Male   |\n",
       "| 3 |  33223 | 49 | Male   |\n",
       "| 4 |  72994 | 53 | Female |\n",
       "| 5 |  38361 | 26 | Female |\n",
       "\n"
      ],
      "text/plain": [
       "  ...1 income age gender\n",
       "1 0    101743 58  Female\n",
       "2 1     49597 27  Female\n",
       "3 2     36517 52  Male  \n",
       "4 3     33223 49  Male  \n",
       "5 4     72994 53  Female\n",
       "6 5     38361 26  Female"
      ]
     },
     "metadata": {},
     "output_type": "display_data"
    },
    {
     "data": {
      "text/html": [
       "1000"
      ],
      "text/latex": [
       "1000"
      ],
      "text/markdown": [
       "1000"
      ],
      "text/plain": [
       "[1] 1000"
      ]
     },
     "metadata": {},
     "output_type": "display_data"
    },
    {
     "data": {
      "text/html": [
       "4"
      ],
      "text/latex": [
       "4"
      ],
      "text/markdown": [
       "4"
      ],
      "text/plain": [
       "[1] 4"
      ]
     },
     "metadata": {},
     "output_type": "display_data"
    },
    {
     "data": {
      "text/plain": [
       "      ...1           income            age           gender         \n",
       " Min.   :  0.0   Min.   :     0   Min.   :18.00   Length:1000       \n",
       " 1st Qu.:249.8   1st Qu.: 46402   1st Qu.:30.00   Class :character  \n",
       " Median :499.5   Median : 78994   Median :39.00   Mode  :character  \n",
       " Mean   :499.5   Mean   : 80117   Mean   :39.41                     \n",
       " 3rd Qu.:749.2   3rd Qu.:114811   3rd Qu.:49.00                     \n",
       " Max.   :999.0   Max.   :179294   Max.   :63.00                     "
      ]
     },
     "metadata": {},
     "output_type": "display_data"
    }
   ],
   "source": [
    "#2. In thông tin dữ liệu: head(), số dòng, số cột, summary().\n",
    "head(data)\n",
    "nrow(data)\n",
    "ncol(data)\n",
    "summary(data)"
   ]
  },
  {
   "cell_type": "code",
   "execution_count": 3,
   "id": "71b3dc36",
   "metadata": {},
   "outputs": [],
   "source": [
    "data = subset(data, select = c(income,age,gender) )"
   ]
  },
  {
   "cell_type": "code",
   "execution_count": 4,
   "id": "006dc40f",
   "metadata": {},
   "outputs": [
    {
     "name": "stderr",
     "output_type": "stream",
     "text": [
      "Loading required package: Rcpp\n",
      "\n",
      "## \n",
      "## Amelia II: Multiple Imputation\n",
      "## (Version 1.8.1, built: 2022-11-18)\n",
      "## Copyright (C) 2005-2022 James Honaker, Gary King and Matthew Blackwell\n",
      "## Refer to http://gking.harvard.edu/amelia/ for more information\n",
      "## \n",
      "\n",
      "Warning message:\n",
      "\"Unknown or uninitialised column: `arguments`.\"\n",
      "Warning message:\n",
      "\"Unknown or uninitialised column: `arguments`.\"\n",
      "Warning message:\n",
      "\"Unknown or uninitialised column: `imputations`.\"\n"
     ]
    },
    {
     "data": {
      "image/png": "[encoded data removed]",
      "text/plain": [
       "Plot with title \"Missing data\""
      ]
     },
     "metadata": {
      "image/png": {
       "height": 420,
       "width": 420
      }
     },
     "output_type": "display_data"
    }
   ],
   "source": [
    "library(\"Amelia\")\n",
    "missmap(data,main='Missing data')"
   ]
  },
  {
   "cell_type": "code",
   "execution_count": 5,
   "id": "99636e79",
   "metadata": {},
   "outputs": [
    {
     "name": "stderr",
     "output_type": "stream",
     "text": [
      "── \u001b[1mAttaching packages\u001b[22m ─────────────────────────────────────────────────────────────────────────────── tidyverse 1.3.2 ──\n",
      "\u001b[32m✔\u001b[39m \u001b[34mggplot2\u001b[39m 3.4.0      \u001b[32m✔\u001b[39m \u001b[34mdplyr  \u001b[39m 1.0.10\n",
      "\u001b[32m✔\u001b[39m \u001b[34mtibble \u001b[39m 3.1.8      \u001b[32m✔\u001b[39m \u001b[34mstringr\u001b[39m 1.4.1 \n",
      "\u001b[32m✔\u001b[39m \u001b[34mtidyr  \u001b[39m 1.2.1      \u001b[32m✔\u001b[39m \u001b[34mforcats\u001b[39m 0.5.2 \n",
      "\u001b[32m✔\u001b[39m \u001b[34mpurrr  \u001b[39m 0.3.5      \n",
      "── \u001b[1mConflicts\u001b[22m ────────────────────────────────────────────────────────────────────────────────── tidyverse_conflicts() ──\n",
      "\u001b[31m✖\u001b[39m \u001b[34mdplyr\u001b[39m::\u001b[32mfilter()\u001b[39m masks \u001b[34mstats\u001b[39m::filter()\n",
      "\u001b[31m✖\u001b[39m \u001b[34mdplyr\u001b[39m::\u001b[32mlag()\u001b[39m    masks \u001b[34mstats\u001b[39m::lag()\n"
     ]
    },
    {
     "data": {
      "text/html": [
       "<strong>75%:</strong> 217422.875"
      ],
      "text/latex": [
       "\\textbf{75\\textbackslash{}\\%:} 217422.875"
      ],
      "text/markdown": [
       "**75%:** 217422.875"
      ],
      "text/plain": [
       "     75% \n",
       "217422.9 "
      ]
     },
     "metadata": {},
     "output_type": "display_data"
    },
    {
     "data": {
      "text/html": [
       "<strong>25%:</strong> -56210.125"
      ],
      "text/latex": [
       "\\textbf{25\\textbackslash{}\\%:} -56210.125"
      ],
      "text/markdown": [
       "**25%:** -56210.125"
      ],
      "text/plain": [
       "      25% \n",
       "-56210.12 "
      ]
     },
     "metadata": {},
     "output_type": "display_data"
    },
    {
     "name": "stdout",
     "output_type": "stream",
     "text": [
      "number of oulier: 0"
     ]
    },
    {
     "data": {
      "image/png": "[encoded data removed]",
      "text/plain": [
       "plot without title"
      ]
     },
     "metadata": {
      "image/png": {
       "height": 420,
       "width": 420
      }
     },
     "output_type": "display_data"
    }
   ],
   "source": [
    "library(tidyverse)\n",
    "lowerq = quantile(data$income)[2]\n",
    "upperq = quantile(data$income)[4]\n",
    "iqr = upperq - lowerq\n",
    "extreme.threshold.upper = (iqr * 1.5) + upperq\n",
    "extreme.threshold.lower = lowerq - (iqr * 1.5)\n",
    "extreme.threshold.upper\n",
    "extreme.threshold.lower\n",
    "cat('number of oulier:',nrow(data %>% filter(data$income>217422.875)))\n",
    "boxplot(data$income)"
   ]
  },
  {
   "cell_type": "code",
   "execution_count": 6,
   "id": "1257a4b7",
   "metadata": {},
   "outputs": [
    {
     "data": {
      "text/html": [
       "<strong>75%:</strong> 77.5"
      ],
      "text/latex": [
       "\\textbf{75\\textbackslash{}\\%:} 77.5"
      ],
      "text/markdown": [
       "**75%:** 77.5"
      ],
      "text/plain": [
       " 75% \n",
       "77.5 "
      ]
     },
     "metadata": {},
     "output_type": "display_data"
    },
    {
     "data": {
      "text/html": [
       "<strong>25%:</strong> 1.5"
      ],
      "text/latex": [
       "\\textbf{25\\textbackslash{}\\%:} 1.5"
      ],
      "text/markdown": [
       "**25%:** 1.5"
      ],
      "text/plain": [
       "25% \n",
       "1.5 "
      ]
     },
     "metadata": {},
     "output_type": "display_data"
    },
    {
     "name": "stdout",
     "output_type": "stream",
     "text": [
      "number of oulier: 0"
     ]
    },
    {
     "data": {
      "image/png": "[encoded data removed]",
      "text/plain": [
       "plot without title"
      ]
     },
     "metadata": {
      "image/png": {
       "height": 420,
       "width": 420
      }
     },
     "output_type": "display_data"
    }
   ],
   "source": [
    "library(tidyverse)\n",
    "lowerq = quantile(data$age)[2]\n",
    "upperq = quantile(data$age)[4]\n",
    "iqr = upperq - lowerq\n",
    "extreme.threshold.upper = (iqr * 1.5) + upperq\n",
    "extreme.threshold.lower = lowerq - (iqr * 1.5)\n",
    "extreme.threshold.upper\n",
    "extreme.threshold.lower\n",
    "cat('number of oulier:',nrow(data %>% filter(data$age>77.5)))\n",
    "boxplot(data$age)"
   ]
  },
  {
   "cell_type": "code",
   "execution_count": 7,
   "id": "df396ffb",
   "metadata": {},
   "outputs": [],
   "source": [
    "normalize <- function(x, na.rm = TRUE) {\n",
    "    return((x- min(x)) /(max(x)-min(x)))\n",
    "}\n",
    "data$income=normalize(data$income)\n",
    "data$age=normalize(data$age)"
   ]
  },
  {
   "cell_type": "code",
   "execution_count": 8,
   "id": "db6afec2",
   "metadata": {},
   "outputs": [
    {
     "data": {
      "image/png": "[encoded data removed]",
      "text/plain": [
       "Plot with title \"income vs age\""
      ]
     },
     "metadata": {
      "image/png": {
       "height": 420,
       "width": 420
      }
     },
     "output_type": "display_data"
    }
   ],
   "source": [
    "#4. Vẽ hình để xem xét mối liên hệ giữa các thuộc tính. Cho nhận xét dựa trên biểu đồ.\n",
    "plot(x=data$income,y=data$age,\n",
    "    xlab='income',ylab='age',\n",
    "    main='income vs age',pch=15,col='blue')"
   ]
  },
  {
   "cell_type": "markdown",
   "id": "2ead773d",
   "metadata": {},
   "source": [
    "biểu đồ mối quan hệ giữa age và income tương đối phân cụm"
   ]
  },
  {
   "cell_type": "code",
   "execution_count": 9,
   "id": "d74a90f4",
   "metadata": {},
   "outputs": [
    {
     "name": "stderr",
     "output_type": "stream",
     "text": [
      "Warning message in FUN(newX[, i], ...):\n",
      "\"NAs introduced by coercion\"\n"
     ]
    },
    {
     "data": {
      "image/png": "[encoded data removed]",
      "text/plain": [
       "plot without title"
      ]
     },
     "metadata": {
      "image/png": {
       "height": 420,
       "width": 420
      }
     },
     "output_type": "display_data"
    }
   ],
   "source": [
    "mydata<-data\n",
    "wss<-(nrow(mydata)-1)*sum(apply(mydata,2,var))\n",
    "for (i in 1:10) wss[i]<-sum(kmeans(mydata[,1:2],centers=i)$withinss)\n",
    "plot(1:10,wss,type='b',xlab='number of cluster',ylab='within groups sum of squares')"
   ]
  },
  {
   "cell_type": "code",
   "execution_count": 10,
   "id": "b1c2c262",
   "metadata": {},
   "outputs": [
    {
     "name": "stdout",
     "output_type": "stream",
     "text": [
      "K-means clustering with 4 clusters of sizes 248, 258, 238, 256\n",
      "\n",
      "Cluster means:\n",
      "     income       age\n",
      "1 0.2437294 0.2583333\n",
      "2 0.6425798 0.2610680\n",
      "3 0.6480967 0.6977591\n",
      "4 0.2592522 0.6964410\n",
      "\n",
      "Clustering vector:\n",
      "   [1] 3 1 4 4 4 1 1 2 1 4 1 1 1 3 3 4 2 2 1 4 1 2 3 3 1 2 3 1 3 2 1 1 1 2 2 2 1\n",
      "  [38] 1 4 3 4 4 3 2 2 2 3 3 2 1 2 4 3 1 4 1 1 1 2 1 3 4 2 2 1 2 4 2 3 2 4 2 2 3\n",
      "  [75] 4 4 1 2 2 3 3 1 2 4 2 4 4 4 4 2 4 1 4 2 1 1 2 4 4 4 1 2 4 3 4 1 2 4 4 4 1\n",
      " [112] 3 3 1 2 4 3 2 1 4 3 1 2 1 4 1 2 1 1 3 2 1 4 2 3 4 2 1 3 1 4 1 4 2 1 4 3 2\n",
      " [149] 2 1 2 1 2 4 1 1 2 1 2 3 3 2 3 2 3 1 1 3 2 1 2 4 2 3 4 4 3 3 2 2 4 1 2 1 3\n",
      " [186] 2 2 3 3 2 2 4 1 1 1 1 3 2 3 4 3 4 4 1 4 3 3 4 4 4 4 4 3 3 4 1 2 1 3 4 2 2\n",
      " [223] 1 2 2 3 4 1 4 3 3 4 3 2 1 2 1 3 1 3 3 4 1 2 4 3 3 1 1 2 1 1 1 4 4 4 2 2 3\n",
      " [260] 2 2 1 3 2 1 3 3 1 2 4 4 2 1 3 3 3 1 1 3 3 3 2 1 3 2 3 4 1 4 1 1 4 3 2 1 2\n",
      " [297] 4 2 3 1 2 4 2 3 1 4 4 2 1 4 2 2 4 4 4 1 2 1 3 4 4 1 3 4 4 1 3 4 4 4 4 1 2\n",
      " [334] 2 4 1 1 1 3 3 1 2 2 4 4 1 3 1 4 1 3 1 3 3 2 2 4 2 3 4 3 3 3 4 3 2 1 3 4 2\n",
      " [371] 4 2 1 4 2 1 4 1 1 1 3 1 1 3 2 2 4 1 3 3 2 1 2 3 3 1 3 3 2 1 4 1 4 4 2 3 4\n",
      " [408] 2 2 4 1 2 4 4 1 3 2 4 4 4 2 2 4 2 1 4 1 3 3 1 3 4 4 3 1 1 1 4 2 4 3 3 2 3\n",
      " [445] 4 3 1 2 1 1 4 4 3 1 4 3 3 1 3 1 2 4 2 2 1 2 3 4 1 4 1 1 3 4 4 3 2 2 1 2 2\n",
      " [482] 2 3 3 1 2 4 4 1 1 1 2 4 4 2 3 4 3 3 2 4 4 2 4 1 2 2 2 4 3 4 3 1 3 3 2 2 4\n",
      " [519] 3 3 3 4 4 1 3 3 2 3 4 4 4 4 1 1 1 1 2 4 4 4 3 1 3 2 1 1 2 3 4 1 3 2 3 4 1\n",
      " [556] 2 4 2 1 2 2 1 2 3 3 1 3 2 3 4 1 3 4 3 4 1 1 1 2 1 2 3 2 1 3 3 1 1 3 1 2 2\n",
      " [593] 1 4 4 1 1 4 4 1 2 4 4 1 2 1 3 3 3 3 2 4 3 4 1 2 3 2 4 3 3 4 1 4 1 1 2 4 3\n",
      " [630] 2 3 4 2 2 1 2 2 1 2 1 4 1 3 4 2 4 4 4 2 3 4 3 3 2 4 2 4 2 2 1 1 3 4 4 2 4\n",
      " [667] 3 3 3 4 1 1 1 4 3 2 2 2 4 1 1 2 3 4 1 4 3 4 2 4 1 2 3 2 3 2 1 1 2 1 1 4 2\n",
      " [704] 2 2 3 2 3 2 1 1 4 2 3 1 4 2 1 3 3 4 3 3 2 1 1 3 3 4 3 2 1 3 2 2 2 4 3 2 3\n",
      " [741] 2 1 3 1 2 4 4 3 2 3 2 4 1 4 2 2 3 1 2 4 3 2 3 3 2 1 4 1 4 3 3 3 4 2 2 3 4\n",
      " [778] 4 4 2 3 1 1 4 2 2 3 3 4 3 3 3 2 4 2 2 1 4 4 4 1 3 3 2 4 4 1 3 4 2 2 2 2 3\n",
      " [815] 3 4 1 2 2 4 1 4 1 1 4 3 2 1 3 2 4 4 3 4 1 3 4 2 2 3 2 4 2 1 4 1 1 4 2 2 3\n",
      " [852] 4 1 1 1 1 3 2 2 1 1 4 4 1 2 1 2 3 3 2 3 1 1 3 4 4 2 2 3 1 4 1 3 2 4 4 2 1\n",
      " [889] 1 4 4 3 2 2 1 1 1 4 3 2 4 4 2 3 1 4 4 1 2 3 4 1 4 4 3 2 3 2 1 4 3 2 1 2 2\n",
      " [926] 3 2 1 2 2 1 1 3 2 2 4 4 2 3 2 2 2 3 1 3 2 3 3 4 4 2 4 1 3 3 2 3 1 3 4 4 3\n",
      " [963] 1 2 2 2 4 4 3 4 1 3 4 1 4 4 2 2 3 4 3 4 4 4 4 4 4 1 2 1 3 3 3 2 4 1 3 1 1\n",
      "[1000] 3\n",
      "\n",
      "Within cluster sum of squares by cluster:\n",
      "[1] 5.221490 5.030806 5.513053 5.005065\n",
      " (between_SS / total_SS =  80.7 %)\n",
      "\n",
      "Available components:\n",
      "\n",
      "[1] \"cluster\"      \"centers\"      \"totss\"        \"withinss\"     \"tot.withinss\"\n",
      "[6] \"betweenss\"    \"size\"         \"iter\"         \"ifault\"      \n"
     ]
    }
   ],
   "source": [
    "set.seed(20)\n",
    "dataCluster<-kmeans(mydata[,1:2],4,nstart=20)\n",
    "print(dataCluster)"
   ]
  },
  {
   "cell_type": "code",
   "execution_count": 11,
   "id": "2e8a5a43",
   "metadata": {},
   "outputs": [
    {
     "data": {
      "image/png": "[encoded data removed]",
      "text/plain": [
       "Plot with title \"income vs age\""
      ]
     },
     "metadata": {
      "image/png": {
       "height": 420,
       "width": 420
      }
     },
     "output_type": "display_data"
    }
   ],
   "source": [
    "#6. Tìm kết quả => có bao nhiêu cụm => mẫu nào thuộc cụm nào?\n",
    "dataCluster$cluster<-as.factor(dataCluster$cluster)\n",
    "plot(x=mydata$income,y=mydata$age,,xlab='income',ylab='age',main='income vs age',col=dataCluster$cluster,pch=15)"
   ]
  },
  {
   "cell_type": "code",
   "execution_count": 12,
   "id": "ec40720e",
   "metadata": {},
   "outputs": [
    {
     "name": "stderr",
     "output_type": "stream",
     "text": [
      "Welcome! Want to learn more? See two factoextra-related books at https://goo.gl/ve3WBa\n",
      "\n"
     ]
    }
   ],
   "source": [
    "library(factoextra)"
   ]
  },
  {
   "cell_type": "code",
   "execution_count": 13,
   "id": "ed6236d9",
   "metadata": {},
   "outputs": [
    {
     "data": {
      "image/png": "[encoded data removed]",
      "text/plain": [
       "plot without title"
      ]
     },
     "metadata": {
      "image/png": {
       "height": 420,
       "width": 420
      }
     },
     "output_type": "display_data"
    }
   ],
   "source": [
    "fviz_cluster(dataCluster,geom='point',data=mydata[,1:2])+ggtitle('k=4')"
   ]
  },
  {
   "cell_type": "markdown",
   "id": "18469544",
   "metadata": {},
   "source": [
    "Nhận xét: thuật toán phân được 4 cụm rõ ràng"
   ]
  },
  {
   "cell_type": "code",
   "execution_count": null,
   "id": "e66e29ef",
   "metadata": {},
   "outputs": [],
   "source": []
  }
 ],
 "metadata": {
  "kernelspec": {
   "display_name": "R",
   "language": "R",
   "name": "ir"
  },
  "language_info": {
   "codemirror_mode": "r",
   "file_extension": ".r",
   "mimetype": "text/x-r-source",
   "name": "R",
   "pygments_lexer": "r",
   "version": "4.2.2"
  }
 },
 "nbformat": 4,
 "nbformat_minor": 5
}
