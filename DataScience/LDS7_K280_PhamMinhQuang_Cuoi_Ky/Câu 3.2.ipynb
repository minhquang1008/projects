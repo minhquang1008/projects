{
 "cells": [
  {
   "cell_type": "code",
   "execution_count": 1,
   "id": "45b0985e",
   "metadata": {},
   "outputs": [
    {
     "name": "stderr",
     "output_type": "stream",
     "text": [
      "\u001b[1mRows: \u001b[22m\u001b[34m200\u001b[39m \u001b[1mColumns: \u001b[22m\u001b[34m4\u001b[39m\n",
      "\u001b[36m──\u001b[39m \u001b[1mColumn specification\u001b[22m \u001b[36m────────────────────────────────────────────────────────────────────────────────────────────────\u001b[39m\n",
      "\u001b[1mDelimiter:\u001b[22m \",\"\n",
      "\u001b[32mdbl\u001b[39m (4): youtube, facebook, newspaper, sales\n",
      "\n",
      "\u001b[36mℹ\u001b[39m Use `spec()` to retrieve the full column specification for this data.\n",
      "\u001b[36mℹ\u001b[39m Specify the column types or set `show_col_types = FALSE` to quiet this message.\n"
     ]
    }
   ],
   "source": [
    "library(readr)\n",
    "data<-read_csv('marketing.csv')"
   ]
  },
  {
   "cell_type": "code",
   "execution_count": 2,
   "id": "76422378",
   "metadata": {},
   "outputs": [
    {
     "data": {
      "text/html": [
       "<table class=\"dataframe\">\n",
       "<caption>A tibble: 6 × 4</caption>\n",
       "<thead>\n",
       "\t<tr><th scope=col>youtube</th><th scope=col>facebook</th><th scope=col>newspaper</th><th scope=col>sales</th></tr>\n",
       "\t<tr><th scope=col>&lt;dbl&gt;</th><th scope=col>&lt;dbl&gt;</th><th scope=col>&lt;dbl&gt;</th><th scope=col>&lt;dbl&gt;</th></tr>\n",
       "</thead>\n",
       "<tbody>\n",
       "\t<tr><td>276.12</td><td>45.36</td><td>83.04</td><td>26.52</td></tr>\n",
       "\t<tr><td> 53.40</td><td>47.16</td><td>54.12</td><td>12.48</td></tr>\n",
       "\t<tr><td> 20.64</td><td>55.08</td><td>83.16</td><td>11.16</td></tr>\n",
       "\t<tr><td>181.80</td><td>49.56</td><td>70.20</td><td>22.20</td></tr>\n",
       "\t<tr><td>216.96</td><td>12.96</td><td>70.08</td><td>15.48</td></tr>\n",
       "\t<tr><td> 10.44</td><td>58.68</td><td>90.00</td><td> 8.64</td></tr>\n",
       "</tbody>\n",
       "</table>\n"
      ],
      "text/latex": [
       "A tibble: 6 × 4\n",
       "\\begin{tabular}{llll}\n",
       " youtube & facebook & newspaper & sales\\\\\n",
       " <dbl> & <dbl> & <dbl> & <dbl>\\\\\n",
       "\\hline\n",
       "\t 276.12 & 45.36 & 83.04 & 26.52\\\\\n",
       "\t  53.40 & 47.16 & 54.12 & 12.48\\\\\n",
       "\t  20.64 & 55.08 & 83.16 & 11.16\\\\\n",
       "\t 181.80 & 49.56 & 70.20 & 22.20\\\\\n",
       "\t 216.96 & 12.96 & 70.08 & 15.48\\\\\n",
       "\t  10.44 & 58.68 & 90.00 &  8.64\\\\\n",
       "\\end{tabular}\n"
      ],
      "text/markdown": [
       "\n",
       "A tibble: 6 × 4\n",
       "\n",
       "| youtube &lt;dbl&gt; | facebook &lt;dbl&gt; | newspaper &lt;dbl&gt; | sales &lt;dbl&gt; |\n",
       "|---|---|---|---|\n",
       "| 276.12 | 45.36 | 83.04 | 26.52 |\n",
       "|  53.40 | 47.16 | 54.12 | 12.48 |\n",
       "|  20.64 | 55.08 | 83.16 | 11.16 |\n",
       "| 181.80 | 49.56 | 70.20 | 22.20 |\n",
       "| 216.96 | 12.96 | 70.08 | 15.48 |\n",
       "|  10.44 | 58.68 | 90.00 |  8.64 |\n",
       "\n"
      ],
      "text/plain": [
       "  youtube facebook newspaper sales\n",
       "1 276.12  45.36    83.04     26.52\n",
       "2  53.40  47.16    54.12     12.48\n",
       "3  20.64  55.08    83.16     11.16\n",
       "4 181.80  49.56    70.20     22.20\n",
       "5 216.96  12.96    70.08     15.48\n",
       "6  10.44  58.68    90.00      8.64"
      ]
     },
     "metadata": {},
     "output_type": "display_data"
    },
    {
     "data": {
      "text/html": [
       "200"
      ],
      "text/latex": [
       "200"
      ],
      "text/markdown": [
       "200"
      ],
      "text/plain": [
       "[1] 200"
      ]
     },
     "metadata": {},
     "output_type": "display_data"
    },
    {
     "data": {
      "text/html": [
       "4"
      ],
      "text/latex": [
       "4"
      ],
      "text/markdown": [
       "4"
      ],
      "text/plain": [
       "[1] 4"
      ]
     },
     "metadata": {},
     "output_type": "display_data"
    },
    {
     "name": "stdout",
     "output_type": "stream",
     "text": [
      "spc_tbl_ [200 × 4] (S3: spec_tbl_df/tbl_df/tbl/data.frame)\n",
      " $ youtube  : num [1:200] 276.1 53.4 20.6 181.8 217 ...\n",
      " $ facebook : num [1:200] 45.4 47.2 55.1 49.6 13 ...\n",
      " $ newspaper: num [1:200] 83 54.1 83.2 70.2 70.1 ...\n",
      " $ sales    : num [1:200] 26.5 12.5 11.2 22.2 15.5 ...\n",
      " - attr(*, \"spec\")=\n",
      "  .. cols(\n",
      "  ..   youtube = \u001b[32mcol_double()\u001b[39m,\n",
      "  ..   facebook = \u001b[32mcol_double()\u001b[39m,\n",
      "  ..   newspaper = \u001b[32mcol_double()\u001b[39m,\n",
      "  ..   sales = \u001b[32mcol_double()\u001b[39m\n",
      "  .. )\n",
      " - attr(*, \"problems\")=<externalptr> \n"
     ]
    },
    {
     "data": {
      "text/plain": [
       "    youtube          facebook       newspaper          sales      \n",
       " Min.   :  0.84   Min.   : 0.00   Min.   :  0.36   Min.   : 1.92  \n",
       " 1st Qu.: 89.25   1st Qu.:11.97   1st Qu.: 15.30   1st Qu.:12.45  \n",
       " Median :179.70   Median :27.48   Median : 30.90   Median :15.48  \n",
       " Mean   :176.45   Mean   :27.92   Mean   : 36.66   Mean   :16.83  \n",
       " 3rd Qu.:262.59   3rd Qu.:43.83   3rd Qu.: 54.12   3rd Qu.:20.88  \n",
       " Max.   :355.68   Max.   :59.52   Max.   :136.80   Max.   :32.40  "
      ]
     },
     "metadata": {},
     "output_type": "display_data"
    }
   ],
   "source": [
    "#b. In thông tin chung từ dữ liệu: head(), số dòng, số cột, str(), summary()\n",
    "head(data)\n",
    "nrow(data)\n",
    "ncol(data)\n",
    "str(data)\n",
    "summary(data)"
   ]
  },
  {
   "cell_type": "code",
   "execution_count": 3,
   "id": "4c2e07a1",
   "metadata": {},
   "outputs": [
    {
     "name": "stderr",
     "output_type": "stream",
     "text": [
      "── \u001b[1mAttaching packages\u001b[22m ─────────────────────────────────────────────────────────────────────────────── tidyverse 1.3.2 ──\n",
      "\u001b[32m✔\u001b[39m \u001b[34mggplot2\u001b[39m 3.4.0      \u001b[32m✔\u001b[39m \u001b[34mdplyr  \u001b[39m 1.0.10\n",
      "\u001b[32m✔\u001b[39m \u001b[34mtibble \u001b[39m 3.1.8      \u001b[32m✔\u001b[39m \u001b[34mstringr\u001b[39m 1.4.1 \n",
      "\u001b[32m✔\u001b[39m \u001b[34mtidyr  \u001b[39m 1.2.1      \u001b[32m✔\u001b[39m \u001b[34mforcats\u001b[39m 0.5.2 \n",
      "\u001b[32m✔\u001b[39m \u001b[34mpurrr  \u001b[39m 0.3.5      \n",
      "── \u001b[1mConflicts\u001b[22m ────────────────────────────────────────────────────────────────────────────────── tidyverse_conflicts() ──\n",
      "\u001b[31m✖\u001b[39m \u001b[34mdplyr\u001b[39m::\u001b[32mfilter()\u001b[39m masks \u001b[34mstats\u001b[39m::filter()\n",
      "\u001b[31m✖\u001b[39m \u001b[34mdplyr\u001b[39m::\u001b[32mlag()\u001b[39m    masks \u001b[34mstats\u001b[39m::lag()\n"
     ]
    },
    {
     "data": {
      "image/png": "[encoded data removed]",
      "text/plain": [
       "Plot with title \"biểu đồ quan sát mối liên hệ giữa sales và youtube\""
      ]
     },
     "metadata": {
      "image/png": {
       "height": 420,
       "width": 420
      }
     },
     "output_type": "display_data"
    },
    {
     "data": {
      "image/png": "[encoded data removed]",
      "text/plain": [
       "Plot with title \"biểu đồ quan sát mối liên hệ giữa sales và facebook\""
      ]
     },
     "metadata": {
      "image/png": {
       "height": 420,
       "width": 420
      }
     },
     "output_type": "display_data"
    },
    {
     "data": {
      "image/png": "[encoded data removed]",
      "text/plain": [
       "Plot with title \"biểu đồ quan sát mối liên hệ giữa sales và newspaper\""
      ]
     },
     "metadata": {
      "image/png": {
       "height": 420,
       "width": 420
      }
     },
     "output_type": "display_data"
    }
   ],
   "source": [
    "#c. Vẽ biểu đồ quan sát mối liên hệ giữa sales và youtube\n",
    "library('tidyverse')\n",
    "plot(data$sales, data$youtube, main=\"biểu đồ quan sát mối liên hệ giữa sales và youtube\",\n",
    "   xlab=\"sale \", ylab=\"youtube\",col='blue')\n",
    "#c. Vẽ biểu đồ quan sát mối liên hệ giữa sales và facebook\n",
    "plot(data$sales, data$facebook, main=\"biểu đồ quan sát mối liên hệ giữa sales và facebook\",\n",
    "   xlab=\"sale \", ylab=\"facebook\",col='blue')\n",
    "#c. Vẽ biểu đồ quan sát mối liên hệ giữa sales và newspaper\n",
    "plot(data$sales, data$newspaper, main=\"biểu đồ quan sát mối liên hệ giữa sales và newspaper\",\n",
    "   xlab=\"sale \", ylab=\"newspaper\",col='blue')"
   ]
  },
  {
   "cell_type": "code",
   "execution_count": 4,
   "id": "50a6b119",
   "metadata": {},
   "outputs": [
    {
     "data": {
      "text/html": [
       "FALSE"
      ],
      "text/latex": [
       "FALSE"
      ],
      "text/markdown": [
       "FALSE"
      ],
      "text/plain": [
       "[1] FALSE"
      ]
     },
     "metadata": {},
     "output_type": "display_data"
    },
    {
     "data": {
      "text/html": [
       "FALSE"
      ],
      "text/latex": [
       "FALSE"
      ],
      "text/markdown": [
       "FALSE"
      ],
      "text/plain": [
       "[1] FALSE"
      ]
     },
     "metadata": {},
     "output_type": "display_data"
    },
    {
     "data": {
      "text/html": [
       "FALSE"
      ],
      "text/latex": [
       "FALSE"
      ],
      "text/markdown": [
       "FALSE"
      ],
      "text/plain": [
       "[1] FALSE"
      ]
     },
     "metadata": {},
     "output_type": "display_data"
    }
   ],
   "source": [
    "#d. Tiền xử lý dữ liệu\n",
    "is.null(data$youtube) \n",
    "is.null(data$facebook) \n",
    "is.null(data$newspaper) \n",
    "#feature youtube ko có null\n",
    "normalize <- function(x, na.rm = TRUE) {\n",
    "    return((x- min(x)) /(max(x)-min(x)))\n",
    "}\n",
    "data$youtube=normalize(data$youtube)\n",
    "data$facebook=normalize(data$facebook)\n",
    "data$newspaper=normalize(data$newspaper)\n",
    "data$sales=normalize(data$sales)\n",
    "#scale data"
   ]
  },
  {
   "cell_type": "code",
   "execution_count": 5,
   "id": "bf84d821",
   "metadata": {},
   "outputs": [
    {
     "data": {
      "text/html": [
       "<strong>75%:</strong> 1.47040919851201"
      ],
      "text/latex": [
       "\\textbf{75\\textbackslash{}\\%:} 1.47040919851201"
      ],
      "text/markdown": [
       "**75%:** 1.47040919851201"
      ],
      "text/plain": [
       "     75% \n",
       "1.470409 "
      ]
     },
     "metadata": {},
     "output_type": "display_data"
    },
    {
     "data": {
      "text/html": [
       "<strong>25%:</strong> -0.48359824146094"
      ],
      "text/latex": [
       "\\textbf{25\\textbackslash{}\\%:} -0.48359824146094"
      ],
      "text/markdown": [
       "**25%:** -0.48359824146094"
      ],
      "text/plain": [
       "       25% \n",
       "-0.4835982 "
      ]
     },
     "metadata": {},
     "output_type": "display_data"
    },
    {
     "name": "stdout",
     "output_type": "stream",
     "text": [
      "number of oulier: 0"
     ]
    }
   ],
   "source": [
    "#e. Kiểm tra và xử lý outliers\n",
    "lowerq = quantile(data$youtube)[2]\n",
    "upperq = quantile(data$youtube)[4]\n",
    "iqr = upperq - lowerq\n",
    "extreme.threshold.upper = (iqr * 1.5) + upperq\n",
    "extreme.threshold.lower = lowerq - (iqr * 1.5)\n",
    "extreme.threshold.upper\n",
    "extreme.threshold.lower\n",
    "cat('number of oulier:',nrow(data %>% filter(data$youtube>1.47040919851201)))\n"
   ]
  },
  {
   "cell_type": "code",
   "execution_count": 6,
   "id": "0eb15595",
   "metadata": {},
   "outputs": [
    {
     "data": {
      "text/html": [
       "<strong>75%:</strong> 1.53931451612903"
      ],
      "text/latex": [
       "\\textbf{75\\textbackslash{}\\%:} 1.53931451612903"
      ],
      "text/markdown": [
       "**75%:** 1.53931451612903"
      ],
      "text/plain": [
       "     75% \n",
       "1.539315 "
      ]
     },
     "metadata": {},
     "output_type": "display_data"
    },
    {
     "data": {
      "text/html": [
       "<strong>25%:</strong> -0.601814516129032"
      ],
      "text/latex": [
       "\\textbf{25\\textbackslash{}\\%:} -0.601814516129032"
      ],
      "text/markdown": [
       "**25%:** -0.601814516129032"
      ],
      "text/plain": [
       "       25% \n",
       "-0.6018145 "
      ]
     },
     "metadata": {},
     "output_type": "display_data"
    },
    {
     "name": "stdout",
     "output_type": "stream",
     "text": [
      "number of oulier: 0"
     ]
    }
   ],
   "source": [
    "lowerq = quantile(data$facebook)[2]\n",
    "upperq = quantile(data$facebook)[4]\n",
    "iqr = upperq - lowerq\n",
    "extreme.threshold.upper = (iqr * 1.5) + upperq\n",
    "extreme.threshold.lower = lowerq - (iqr * 1.5)\n",
    "extreme.threshold.upper\n",
    "extreme.threshold.lower\n",
    "cat('number of oulier:',nrow(data %>% filter(data$facebook>1.53931451612903)))"
   ]
  },
  {
   "cell_type": "code",
   "execution_count": 7,
   "id": "0b52edf4",
   "metadata": {},
   "outputs": [
    {
     "data": {
      "text/html": [
       "<strong>75%:</strong> 0.82080035180299"
      ],
      "text/latex": [
       "\\textbf{75\\textbackslash{}\\%:} 0.82080035180299"
      ],
      "text/markdown": [
       "**75%:** 0.82080035180299"
      ],
      "text/plain": [
       "      75% \n",
       "0.8208004 "
      ]
     },
     "metadata": {},
     "output_type": "display_data"
    },
    {
     "data": {
      "text/html": [
       "<strong>25%:</strong> -0.317282321899736"
      ],
      "text/latex": [
       "\\textbf{25\\textbackslash{}\\%:} -0.317282321899736"
      ],
      "text/markdown": [
       "**25%:** -0.317282321899736"
      ],
      "text/plain": [
       "       25% \n",
       "-0.3172823 "
      ]
     },
     "metadata": {},
     "output_type": "display_data"
    },
    {
     "name": "stdout",
     "output_type": "stream",
     "text": [
      "number of oulier: 2"
     ]
    }
   ],
   "source": [
    "lowerq = quantile(data$newspaper)[2]\n",
    "upperq = quantile(data$newspaper)[4]\n",
    "iqr = upperq - lowerq\n",
    "extreme.threshold.upper = (iqr * 1.5) + upperq\n",
    "extreme.threshold.lower = lowerq - (iqr * 1.5)\n",
    "extreme.threshold.upper\n",
    "extreme.threshold.lower\n",
    "cat('number of oulier:',nrow(data %>% filter(data$newspaper>0.82080035180299)))"
   ]
  },
  {
   "cell_type": "code",
   "execution_count": 8,
   "id": "96b78237",
   "metadata": {},
   "outputs": [],
   "source": [
    "data<-data%>%filter(data$newspaper<=0.82080035180299)"
   ]
  },
  {
   "cell_type": "code",
   "execution_count": 9,
   "id": "ea88ed8e",
   "metadata": {},
   "outputs": [
    {
     "data": {
      "text/html": [
       "198"
      ],
      "text/latex": [
       "198"
      ],
      "text/markdown": [
       "198"
      ],
      "text/plain": [
       "[1] 198"
      ]
     },
     "metadata": {},
     "output_type": "display_data"
    }
   ],
   "source": [
    "nrow(data)"
   ]
  },
  {
   "cell_type": "markdown",
   "id": "3679ae22",
   "metadata": {},
   "source": [
    "loại bỏ 2 outlier"
   ]
  },
  {
   "cell_type": "code",
   "execution_count": 10,
   "id": "0eb5f69c",
   "metadata": {},
   "outputs": [],
   "source": [
    "#f. Tạo train:test từ dữ liệu data với tỉ lệ 70:30 hoặc 80:20\n",
    "set.seed(42)\n",
    "trainingRowIndex<-sample(1:nrow(data),0.7*nrow(data))"
   ]
  },
  {
   "cell_type": "code",
   "execution_count": 11,
   "id": "bb7f0df0",
   "metadata": {},
   "outputs": [],
   "source": [
    "trainingData<-data[trainingRowIndex,]\n",
    "testData<-data[-trainingRowIndex,]"
   ]
  },
  {
   "cell_type": "code",
   "execution_count": 12,
   "id": "b33e10ec",
   "metadata": {},
   "outputs": [],
   "source": [
    "#g. Thực hiện Linenear Regression với train data.\n",
    "lmMod<-lm(data$sales~data$youtube+data$facebook+data$newspaper,data=trainingData)"
   ]
  },
  {
   "cell_type": "code",
   "execution_count": 13,
   "id": "29a62867",
   "metadata": {},
   "outputs": [
    {
     "data": {
      "text/plain": [
       "\n",
       "Call:\n",
       "lm(formula = data$sales ~ data$youtube + data$facebook + data$newspaper, \n",
       "    data = trainingData)\n",
       "\n",
       "Residuals:\n",
       "     Min       1Q   Median       3Q      Max \n",
       "-0.34806 -0.03516  0.00978  0.04706  0.11116 \n",
       "\n",
       "Coefficients:\n",
       "                Estimate Std. Error t value Pr(>|t|)    \n",
       "(Intercept)     0.054486   0.012476   4.367 2.04e-05 ***\n",
       "data$youtube    0.531915   0.016472  32.293  < 2e-16 ***\n",
       "data$facebook   0.368193   0.016911  21.772  < 2e-16 ***\n",
       "data$newspaper -0.005272   0.028176  -0.187    0.852    \n",
       "---\n",
       "Signif. codes:  0 '***' 0.001 '**' 0.01 '*' 0.05 '.' 0.1 ' ' 1\n",
       "\n",
       "Residual standard error: 0.06667 on 194 degrees of freedom\n",
       "Multiple R-squared:  0.8954,\tAdjusted R-squared:  0.8938 \n",
       "F-statistic: 553.5 on 3 and 194 DF,  p-value: < 2.2e-16\n"
      ]
     },
     "metadata": {},
     "output_type": "display_data"
    }
   ],
   "source": [
    "#h. In summary của model\n",
    "summary(lmMod)"
   ]
  },
  {
   "cell_type": "code",
   "execution_count": 14,
   "id": "af4e8ddf",
   "metadata": {},
   "outputs": [
    {
     "name": "stderr",
     "output_type": "stream",
     "text": [
      "Warning message:\n",
      "\"'newdata' had 60 rows but variables found have 198 rows\"\n"
     ]
    },
    {
     "name": "stdout",
     "output_type": "stream",
     "text": [
      "[1] \"mse in test: 0.00435566243539186\"\n"
     ]
    }
   ],
   "source": [
    "#i. Dự đoán y_test_predict từ test data => so sánh y_test_pred với y_test\n",
    "y_test_predict<-predict(lmMod,testData)\n",
    "mse<-mean(lmMod$residuals^2)\n",
    "print(paste('mse in test:',mse))"
   ]
  },
  {
   "cell_type": "code",
   "execution_count": 15,
   "id": "3bed36af",
   "metadata": {},
   "outputs": [
    {
     "name": "stderr",
     "output_type": "stream",
     "text": [
      "Warning message in trainingData$youtube - y_test_predict:\n",
      "\"longer object length is not a multiple of shorter object length\"\n"
     ]
    },
    {
     "name": "stdout",
     "output_type": "stream",
     "text": [
      "[1] \"mse in train: 0.14111241523807\"\n"
     ]
    },
    {
     "name": "stderr",
     "output_type": "stream",
     "text": [
      "Warning message in testData$youtube - y_test_predict:\n",
      "\"longer object length is not a multiple of shorter object length\"\n"
     ]
    },
    {
     "name": "stdout",
     "output_type": "stream",
     "text": [
      "[1] \"mse in test: 0.137382090141246\"\n"
     ]
    }
   ],
   "source": [
    "#j. Tính Mean Square Error (mse), r^2 cho train, r^2 cho test. Nhận xét.\n",
    "mse_train<-mean((trainingData$youtube-y_test_predict)^2)\n",
    "print(paste('mse in train:',mse_train))\n",
    "mse_test<-mean((testData$youtube-y_test_predict)^2)\n",
    "print(paste('mse in test:',mse_test))"
   ]
  },
  {
   "cell_type": "markdown",
   "id": "ac50de87",
   "metadata": {},
   "source": [
    "Nhận xét: mse tương đối tốt, tuy nhiên do biến output là continuous nên giá trị dự đoán củng đc coi là xấp xỉ giá trị thực"
   ]
  },
  {
   "cell_type": "code",
   "execution_count": 16,
   "id": "2ea486d4",
   "metadata": {},
   "outputs": [
    {
     "name": "stdout",
     "output_type": "stream",
     "text": [
      "   (Intercept)   data$youtube  data$facebook data$newspaper \n",
      "   0.054485768    0.531914729    0.368193042   -0.005271667 \n",
      "[1] \"Intercept: 0.0544857680077927\"\n"
     ]
    }
   ],
   "source": [
    "#k. Tìm Coefficients, Intercept\n",
    "print(coef(lmMod))\n",
    "Intercept<-coef(lmMod)['(Intercept)']\n",
    "print(paste('Intercept:',Intercept))"
   ]
  },
  {
   "cell_type": "code",
   "execution_count": 17,
   "id": "8f829d9a",
   "metadata": {},
   "outputs": [
    {
     "data": {
      "text/html": [
       "<style>\n",
       ".dl-inline {width: auto; margin:0; padding: 0}\n",
       ".dl-inline>dt, .dl-inline>dd {float: none; width: auto; display: inline-block}\n",
       ".dl-inline>dt::after {content: \":\\0020\"; padding-right: .5ex}\n",
       ".dl-inline>dt:not(:first-of-type) {padding-left: .5ex}\n",
       "</style><dl class=dl-inline><dt>(Intercept)</dt><dd>0.0544857680077927</dd><dt>data$youtube</dt><dd>0.531914728625904</dd><dt>data$facebook</dt><dd>0.368193041549686</dd><dt>data$newspaper</dt><dd>-0.00527166718760744</dd></dl>\n"
      ],
      "text/latex": [
       "\\begin{description*}\n",
       "\\item[(Intercept)] 0.0544857680077927\n",
       "\\item[data\\textbackslash{}\\$youtube] 0.531914728625904\n",
       "\\item[data\\textbackslash{}\\$facebook] 0.368193041549686\n",
       "\\item[data\\textbackslash{}\\$newspaper] -0.00527166718760744\n",
       "\\end{description*}\n"
      ],
      "text/markdown": [
       "(Intercept)\n",
       ":   0.0544857680077927data$youtube\n",
       ":   0.531914728625904data$facebook\n",
       ":   0.368193041549686data$newspaper\n",
       ":   -0.00527166718760744\n",
       "\n"
      ],
      "text/plain": [
       "   (Intercept)   data$youtube  data$facebook data$newspaper \n",
       "   0.054485768    0.531914729    0.368193042   -0.005271667 "
      ]
     },
     "metadata": {},
     "output_type": "display_data"
    }
   ],
   "source": [
    "coef(lmMod)"
   ]
  }
 ],
 "metadata": {
  "kernelspec": {
   "display_name": "R",
   "language": "R",
   "name": "ir"
  },
  "language_info": {
   "codemirror_mode": "r",
   "file_extension": ".r",
   "mimetype": "text/x-r-source",
   "name": "R",
   "pygments_lexer": "r",
   "version": "4.2.2"
  }
 },
 "nbformat": 4,
 "nbformat_minor": 5
}
