{
 "cells": [
  {
   "cell_type": "code",
   "execution_count": 30,
   "id": "7daf3272",
   "metadata": {},
   "outputs": [],
   "source": [
    "import numpy as np\n",
    "import pandas as pd\n",
    "from sklearn.model_selection import train_test_split\n",
    "import cv2 \n",
    "from sklearn import metrics\n",
    "from sklearn.preprocessing import scale\n",
    "from sklearn.metrics import precision_recall_fscore_support\n",
    "from sklearn.metrics import accuracy_score\n",
    "import operator \n",
    "from operator import itemgetter\n",
    "import matplotlib.pyplot as plt\n",
    "import seaborn as sns"
   ]
  },
  {
   "cell_type": "code",
   "execution_count": 2,
   "id": "dd7a2ddd",
   "metadata": {},
   "outputs": [],
   "source": [
    "dataframe = pd.read_csv('Data/chinese_mnist.csv')\n",
    "index = dataframe.iloc[:,:-2].values \n",
    "value = dataframe[\"code\"].values"
   ]
  },
  {
   "cell_type": "code",
   "execution_count": 3,
   "id": "7699b704",
   "metadata": {},
   "outputs": [
    {
     "data": {
      "text/html": [
       "<div>\n",
       "<style scoped>\n",
       "    .dataframe tbody tr th:only-of-type {\n",
       "        vertical-align: middle;\n",
       "    }\n",
       "\n",
       "    .dataframe tbody tr th {\n",
       "        vertical-align: top;\n",
       "    }\n",
       "\n",
       "    .dataframe thead th {\n",
       "        text-align: right;\n",
       "    }\n",
       "</style>\n",
       "<table border=\"1\" class=\"dataframe\">\n",
       "  <thead>\n",
       "    <tr style=\"text-align: right;\">\n",
       "      <th></th>\n",
       "      <th>suite_id</th>\n",
       "      <th>sample_id</th>\n",
       "      <th>code</th>\n",
       "      <th>value</th>\n",
       "      <th>character</th>\n",
       "    </tr>\n",
       "  </thead>\n",
       "  <tbody>\n",
       "    <tr>\n",
       "      <th>0</th>\n",
       "      <td>1</td>\n",
       "      <td>1</td>\n",
       "      <td>10</td>\n",
       "      <td>9</td>\n",
       "      <td>九</td>\n",
       "    </tr>\n",
       "    <tr>\n",
       "      <th>1</th>\n",
       "      <td>1</td>\n",
       "      <td>10</td>\n",
       "      <td>10</td>\n",
       "      <td>9</td>\n",
       "      <td>九</td>\n",
       "    </tr>\n",
       "    <tr>\n",
       "      <th>2</th>\n",
       "      <td>1</td>\n",
       "      <td>2</td>\n",
       "      <td>10</td>\n",
       "      <td>9</td>\n",
       "      <td>九</td>\n",
       "    </tr>\n",
       "    <tr>\n",
       "      <th>3</th>\n",
       "      <td>1</td>\n",
       "      <td>3</td>\n",
       "      <td>10</td>\n",
       "      <td>9</td>\n",
       "      <td>九</td>\n",
       "    </tr>\n",
       "    <tr>\n",
       "      <th>4</th>\n",
       "      <td>1</td>\n",
       "      <td>4</td>\n",
       "      <td>10</td>\n",
       "      <td>9</td>\n",
       "      <td>九</td>\n",
       "    </tr>\n",
       "    <tr>\n",
       "      <th>...</th>\n",
       "      <td>...</td>\n",
       "      <td>...</td>\n",
       "      <td>...</td>\n",
       "      <td>...</td>\n",
       "      <td>...</td>\n",
       "    </tr>\n",
       "    <tr>\n",
       "      <th>14995</th>\n",
       "      <td>99</td>\n",
       "      <td>5</td>\n",
       "      <td>9</td>\n",
       "      <td>8</td>\n",
       "      <td>八</td>\n",
       "    </tr>\n",
       "    <tr>\n",
       "      <th>14996</th>\n",
       "      <td>99</td>\n",
       "      <td>6</td>\n",
       "      <td>9</td>\n",
       "      <td>8</td>\n",
       "      <td>八</td>\n",
       "    </tr>\n",
       "    <tr>\n",
       "      <th>14997</th>\n",
       "      <td>99</td>\n",
       "      <td>7</td>\n",
       "      <td>9</td>\n",
       "      <td>8</td>\n",
       "      <td>八</td>\n",
       "    </tr>\n",
       "    <tr>\n",
       "      <th>14998</th>\n",
       "      <td>99</td>\n",
       "      <td>8</td>\n",
       "      <td>9</td>\n",
       "      <td>8</td>\n",
       "      <td>八</td>\n",
       "    </tr>\n",
       "    <tr>\n",
       "      <th>14999</th>\n",
       "      <td>99</td>\n",
       "      <td>9</td>\n",
       "      <td>9</td>\n",
       "      <td>8</td>\n",
       "      <td>八</td>\n",
       "    </tr>\n",
       "  </tbody>\n",
       "</table>\n",
       "<p>15000 rows × 5 columns</p>\n",
       "</div>"
      ],
      "text/plain": [
       "       suite_id  sample_id  code  value character\n",
       "0             1          1    10      9         九\n",
       "1             1         10    10      9         九\n",
       "2             1          2    10      9         九\n",
       "3             1          3    10      9         九\n",
       "4             1          4    10      9         九\n",
       "...         ...        ...   ...    ...       ...\n",
       "14995        99          5     9      8         八\n",
       "14996        99          6     9      8         八\n",
       "14997        99          7     9      8         八\n",
       "14998        99          8     9      8         八\n",
       "14999        99          9     9      8         八\n",
       "\n",
       "[15000 rows x 5 columns]"
      ]
     },
     "execution_count": 3,
     "metadata": {},
     "output_type": "execute_result"
    }
   ],
   "source": [
    "dataframe"
   ]
  },
  {
   "cell_type": "code",
   "execution_count": 4,
   "id": "82438ad4",
   "metadata": {},
   "outputs": [
    {
     "name": "stdout",
     "output_type": "stream",
     "text": [
      "(15000, 3)\n",
      "15000\n"
     ]
    }
   ],
   "source": [
    "print(index.shape)\n",
    "print(len(value))"
   ]
  },
  {
   "cell_type": "code",
   "execution_count": 5,
   "id": "6774eec3",
   "metadata": {},
   "outputs": [
    {
     "name": "stdout",
     "output_type": "stream",
     "text": [
      "<class 'pandas.core.frame.DataFrame'>\n",
      "RangeIndex: 15000 entries, 0 to 14999\n",
      "Data columns (total 5 columns):\n",
      " #   Column     Non-Null Count  Dtype \n",
      "---  ------     --------------  ----- \n",
      " 0   suite_id   15000 non-null  int64 \n",
      " 1   sample_id  15000 non-null  int64 \n",
      " 2   code       15000 non-null  int64 \n",
      " 3   value      15000 non-null  int64 \n",
      " 4   character  15000 non-null  object\n",
      "dtypes: int64(4), object(1)\n",
      "memory usage: 586.1+ KB\n"
     ]
    }
   ],
   "source": [
    "dataframe.info()"
   ]
  },
  {
   "cell_type": "code",
   "execution_count": 6,
   "id": "6b83200a",
   "metadata": {},
   "outputs": [],
   "source": [
    "filename_label_link = {}\n",
    "filename_list = []\n",
    "label_list = []\n",
    "listImageArray = []\n",
    "listImageNameArray = [] \n",
    "for i in range(0,len(value)):\n",
    "    codeImage= index[i]\n",
    "    filename = \"input_%s_%s_%s.jpg\" % (codeImage[0], codeImage[1], codeImage[2])\n",
    "    val = value[i] \n",
    "    filename_label_link[filename] = val\n",
    "    filename_list.append(filename)\n",
    "    label_list.append(val)\n",
    "    a = cv2.imread(\"Data/data/%s\"%filename,0)\n",
    "    listImageArray.append(a)\n",
    "    listImageNameArray.append(val)"
   ]
  },
  {
   "cell_type": "code",
   "execution_count": 7,
   "id": "e32a4c85",
   "metadata": {},
   "outputs": [
    {
     "name": "stdout",
     "output_type": "stream",
     "text": [
      "(15000, 64, 64)\n",
      "(15000,)\n"
     ]
    }
   ],
   "source": [
    "listImageArray = np.array(listImageArray)\n",
    "listImageNameArray = np.array(listImageNameArray)\n",
    "print(listImageArray.shape)\n",
    "print(listImageNameArray.shape)\n",
    "listImageNameArray_copy=listImageNameArray.copy()"
   ]
  },
  {
   "cell_type": "code",
   "execution_count": 8,
   "id": "c762a466",
   "metadata": {},
   "outputs": [
    {
     "name": "stdout",
     "output_type": "stream",
     "text": [
      "Before flatten: (15000, 64, 64)\n"
     ]
    }
   ],
   "source": [
    "print(\"Before flatten:\",listImageArray.shape)\n",
    "\n",
    "listFlattened = []\n",
    "\n",
    "# Duoi thang tung tam hinh ra 64x64 = 4096 cot\n",
    "for i in range(len(listImageArray)):\n",
    "    listFlattened.append(listImageArray[i].flatten()/255)\n",
    "\n",
    "\n",
    "listFlattened = np.array(listFlattened)\n",
    "listFlattenedScale = scale(listFlattened)\n",
    "listFlattenedScale_copy=listFlattenedScale.copy()"
   ]
  },
  {
   "cell_type": "code",
   "execution_count": 9,
   "id": "dcca97ed",
   "metadata": {},
   "outputs": [
    {
     "name": "stdout",
     "output_type": "stream",
     "text": [
      "(15000, 4096)\n"
     ]
    }
   ],
   "source": [
    "print(listFlattenedScale.shape)"
   ]
  },
  {
   "cell_type": "code",
   "execution_count": 10,
   "id": "d51b66d5",
   "metadata": {},
   "outputs": [
    {
     "name": "stdout",
     "output_type": "stream",
     "text": [
      "x_train:  (12000, 4096)\n",
      "y_train:  (12000,)\n",
      "x_train[0] shape:  [ 0.          0.          0.         ... -0.01516048 -0.01558956\n",
      " -0.0139023 ]\n",
      "x_test:  (3000, 4096)\n",
      "y_test:  (3000,)\n",
      "y_test[0] shape:  8\n"
     ]
    }
   ],
   "source": [
    "from sklearn.model_selection import train_test_split\n",
    "from keras.utils import to_categorical\n",
    "X_train, X_test, y_train, y_test = train_test_split(listFlattenedScale,listImageNameArray, test_size = 0.2, random_state = 10)\n",
    "print(\"x_train: \",X_train.shape)\n",
    "print(\"y_train: \",y_train.shape)\n",
    "print(\"x_train[0] shape: \",X_train[0])\n",
    "print(\"x_test: \",X_test.shape)\n",
    "print(\"y_test: \",y_test.shape)\n",
    "print(\"y_test[0] shape: \",y_test[0])"
   ]
  },
  {
   "cell_type": "code",
   "execution_count": 11,
   "id": "3c834383",
   "metadata": {},
   "outputs": [],
   "source": [
    "from sklearn.preprocessing import StandardScaler\n",
    "scaler = StandardScaler()\n",
    "scaler.fit(X_train)\n",
    "X_train = scaler.transform(X_train)\n",
    "X_test = scaler.transform(X_test)"
   ]
  },
  {
   "cell_type": "markdown",
   "id": "cf86a6c6",
   "metadata": {},
   "source": [
    "### Model selection"
   ]
  },
  {
   "cell_type": "code",
   "execution_count": 12,
   "id": "db328dce",
   "metadata": {},
   "outputs": [],
   "source": [
    "from sklearn.linear_model import LogisticRegression\n",
    "from sklearn.naive_bayes import GaussianNB\n",
    "from sklearn.tree import DecisionTreeClassifier\n",
    "from sklearn.ensemble import RandomForestClassifier\n",
    "from sklearn.svm import SVC\n",
    "from sklearn.neighbors import KNeighborsClassifier\n",
    "from sklearn.model_selection import cross_val_score, KFold\n",
    "from datetime import datetime\n",
    "from datetime import timedelta\n",
    "from sklearn.model_selection import KFold"
   ]
  },
  {
   "cell_type": "code",
   "execution_count": 13,
   "id": "4302ac92",
   "metadata": {},
   "outputs": [],
   "source": [
    "models=[\n",
    "    LogisticRegression(multi_class='auto',max_iter=1000),\n",
    "    GaussianNB(),\n",
    "    DecisionTreeClassifier(),\n",
    "    RandomForestClassifier(n_estimators=50),\n",
    "    RandomForestClassifier(n_estimators=100),\n",
    "    SVC(kernel='rbf'),\n",
    "    SVC(kernel='linear'),\n",
    "    KNeighborsClassifier(n_neighbors=6),\n",
    "    KNeighborsClassifier(n_neighbors=12)\n",
    "]"
   ]
  },
  {
   "cell_type": "code",
   "execution_count": 14,
   "id": "0687760f",
   "metadata": {},
   "outputs": [],
   "source": [
    "def get_model_name(model):\n",
    "    model_name=model.__class__.__name__\n",
    "    if model_name=='RandomForestClassifier':\n",
    "        model_name+='_'+str(model.n_estimators)\n",
    "    elif model_name=='KNeighborsClassifier':\n",
    "        model_name+='_'+str(model.n_neighbors)\n",
    "    elif model_name=='SVC':\n",
    "        model_name+='_'+str(model.kernel)\n",
    "    return model_name"
   ]
  },
  {
   "cell_type": "code",
   "execution_count": 15,
   "id": "7fc5accb",
   "metadata": {},
   "outputs": [
    {
     "name": "stdout",
     "output_type": "stream",
     "text": [
      "2022-10-04 09:15:59.648844\n"
     ]
    }
   ],
   "source": [
    "import datetime\n",
    "x1 = datetime.datetime.now()\n",
    "print(x1)"
   ]
  },
  {
   "cell_type": "code",
   "execution_count": 16,
   "id": "231265ed",
   "metadata": {},
   "outputs": [],
   "source": [
    "from sklearn.decomposition import PCA"
   ]
  },
  {
   "cell_type": "code",
   "execution_count": 17,
   "id": "fa3eb282",
   "metadata": {},
   "outputs": [],
   "source": [
    "pca = PCA(.95)"
   ]
  },
  {
   "cell_type": "code",
   "execution_count": 18,
   "id": "a0dad760",
   "metadata": {},
   "outputs": [
    {
     "data": {
      "text/html": [
       "<style>#sk-container-id-1 {color: black;background-color: white;}#sk-container-id-1 pre{padding: 0;}#sk-container-id-1 div.sk-toggleable {background-color: white;}#sk-container-id-1 label.sk-toggleable__label {cursor: pointer;display: block;width: 100%;margin-bottom: 0;padding: 0.3em;box-sizing: border-box;text-align: center;}#sk-container-id-1 label.sk-toggleable__label-arrow:before {content: \"▸\";float: left;margin-right: 0.25em;color: #696969;}#sk-container-id-1 label.sk-toggleable__label-arrow:hover:before {color: black;}#sk-container-id-1 div.sk-estimator:hover label.sk-toggleable__label-arrow:before {color: black;}#sk-container-id-1 div.sk-toggleable__content {max-height: 0;max-width: 0;overflow: hidden;text-align: left;background-color: #f0f8ff;}#sk-container-id-1 div.sk-toggleable__content pre {margin: 0.2em;color: black;border-radius: 0.25em;background-color: #f0f8ff;}#sk-container-id-1 input.sk-toggleable__control:checked~div.sk-toggleable__content {max-height: 200px;max-width: 100%;overflow: auto;}#sk-container-id-1 input.sk-toggleable__control:checked~label.sk-toggleable__label-arrow:before {content: \"▾\";}#sk-container-id-1 div.sk-estimator input.sk-toggleable__control:checked~label.sk-toggleable__label {background-color: #d4ebff;}#sk-container-id-1 div.sk-label input.sk-toggleable__control:checked~label.sk-toggleable__label {background-color: #d4ebff;}#sk-container-id-1 input.sk-hidden--visually {border: 0;clip: rect(1px 1px 1px 1px);clip: rect(1px, 1px, 1px, 1px);height: 1px;margin: -1px;overflow: hidden;padding: 0;position: absolute;width: 1px;}#sk-container-id-1 div.sk-estimator {font-family: monospace;background-color: #f0f8ff;border: 1px dotted black;border-radius: 0.25em;box-sizing: border-box;margin-bottom: 0.5em;}#sk-container-id-1 div.sk-estimator:hover {background-color: #d4ebff;}#sk-container-id-1 div.sk-parallel-item::after {content: \"\";width: 100%;border-bottom: 1px solid gray;flex-grow: 1;}#sk-container-id-1 div.sk-label:hover label.sk-toggleable__label {background-color: #d4ebff;}#sk-container-id-1 div.sk-serial::before {content: \"\";position: absolute;border-left: 1px solid gray;box-sizing: border-box;top: 0;bottom: 0;left: 50%;z-index: 0;}#sk-container-id-1 div.sk-serial {display: flex;flex-direction: column;align-items: center;background-color: white;padding-right: 0.2em;padding-left: 0.2em;position: relative;}#sk-container-id-1 div.sk-item {position: relative;z-index: 1;}#sk-container-id-1 div.sk-parallel {display: flex;align-items: stretch;justify-content: center;background-color: white;position: relative;}#sk-container-id-1 div.sk-item::before, #sk-container-id-1 div.sk-parallel-item::before {content: \"\";position: absolute;border-left: 1px solid gray;box-sizing: border-box;top: 0;bottom: 0;left: 50%;z-index: -1;}#sk-container-id-1 div.sk-parallel-item {display: flex;flex-direction: column;z-index: 1;position: relative;background-color: white;}#sk-container-id-1 div.sk-parallel-item:first-child::after {align-self: flex-end;width: 50%;}#sk-container-id-1 div.sk-parallel-item:last-child::after {align-self: flex-start;width: 50%;}#sk-container-id-1 div.sk-parallel-item:only-child::after {width: 0;}#sk-container-id-1 div.sk-dashed-wrapped {border: 1px dashed gray;margin: 0 0.4em 0.5em 0.4em;box-sizing: border-box;padding-bottom: 0.4em;background-color: white;}#sk-container-id-1 div.sk-label label {font-family: monospace;font-weight: bold;display: inline-block;line-height: 1.2em;}#sk-container-id-1 div.sk-label-container {text-align: center;}#sk-container-id-1 div.sk-container {/* jupyter's `normalize.less` sets `[hidden] { display: none; }` but bootstrap.min.css set `[hidden] { display: none !important; }` so we also need the `!important` here to be able to override the default hidden behavior on the sphinx rendered scikit-learn.org. See: https://github.com/scikit-learn/scikit-learn/issues/21755 */display: inline-block !important;position: relative;}#sk-container-id-1 div.sk-text-repr-fallback {display: none;}</style><div id=\"sk-container-id-1\" class=\"sk-top-container\"><div class=\"sk-text-repr-fallback\"><pre>PCA(n_components=0.95)</pre><b>In a Jupyter environment, please rerun this cell to show the HTML representation or trust the notebook. <br />On GitHub, the HTML representation is unable to render, please try loading this page with nbviewer.org.</b></div><div class=\"sk-container\" hidden><div class=\"sk-item\"><div class=\"sk-estimator sk-toggleable\"><input class=\"sk-toggleable__control sk-hidden--visually\" id=\"sk-estimator-id-1\" type=\"checkbox\" checked><label for=\"sk-estimator-id-1\" class=\"sk-toggleable__label sk-toggleable__label-arrow\">PCA</label><div class=\"sk-toggleable__content\"><pre>PCA(n_components=0.95)</pre></div></div></div></div></div>"
      ],
      "text/plain": [
       "PCA(n_components=0.95)"
      ]
     },
     "execution_count": 18,
     "metadata": {},
     "output_type": "execute_result"
    }
   ],
   "source": [
    "pca.fit(X_train)"
   ]
  },
  {
   "cell_type": "code",
   "execution_count": 19,
   "id": "0e53718c",
   "metadata": {},
   "outputs": [
    {
     "data": {
      "text/plain": [
       "1108"
      ]
     },
     "execution_count": 19,
     "metadata": {},
     "output_type": "execute_result"
    }
   ],
   "source": [
    "pca.n_components_"
   ]
  },
  {
   "cell_type": "code",
   "execution_count": 20,
   "id": "b531f251",
   "metadata": {},
   "outputs": [],
   "source": [
    "X_train = pca.transform(X_train)\n",
    "X_test = pca.transform(X_test)"
   ]
  },
  {
   "cell_type": "markdown",
   "id": "0df7ed1a",
   "metadata": {},
   "source": [
    "#### *Lượng data là quá lớn để có thể chạy model selection"
   ]
  },
  {
   "cell_type": "code",
   "execution_count": 25,
   "id": "8c76dfee",
   "metadata": {},
   "outputs": [
    {
     "name": "stderr",
     "output_type": "stream",
     "text": [
      "  0%|                                                                                            | 0/9 [00:00<?, ?it/s]C:\\Users\\PMinhQuang\\Anaconda3\\lib\\site-packages\\sklearn\\linear_model\\_logistic.py:444: ConvergenceWarning: lbfgs failed to converge (status=1):\n",
      "STOP: TOTAL NO. of ITERATIONS REACHED LIMIT.\n",
      "\n",
      "Increase the number of iterations (max_iter) or scale the data as shown in:\n",
      "    https://scikit-learn.org/stable/modules/preprocessing.html\n",
      "Please also refer to the documentation for alternative solver options:\n",
      "    https://scikit-learn.org/stable/modules/linear_model.html#logistic-regression\n",
      "  n_iter_i = _check_optimize_result(\n",
      "100%|███████████████████████████████████████████████████████████████████████████████████| 9/9 [48:32<00:00, 323.61s/it]\n"
     ]
    }
   ],
   "source": [
    "from tqdm import tqdm\n",
    "import datetime\n",
    "kf=KFold(n_splits=10)\n",
    "cv_df=pd.DataFrame(columns=['model','mean_score','std_score','accuracy_train','accuracy_test','time'])\n",
    "for model in tqdm(models):\n",
    "    model_name=get_model_name(model)\n",
    "    start_time=datetime.datetime.now()\n",
    "    cv_score=cross_val_score(model,X_train,y_train,cv=kf,n_jobs=-1)\n",
    "    end_time=datetime.datetime.now()\n",
    "    time_taken=end_time-start_time\n",
    "    model.fit(X_train,y_train)\n",
    "    accuracy_train=round(model.score(X_train,y_train)*100,3)\n",
    "    accuracy_test=round(model.score(X_test,y_test)*100,3)\n",
    "    cv_df=pd.concat([cv_df,pd.DataFrame.from_records([\n",
    "        {\n",
    "            'model':model_name,\n",
    "            'mean_score':cv_score.mean(),\n",
    "            'std_score':cv_score.std(),\n",
    "            'accuracy_train':accuracy_train,\n",
    "            'accuracy_test':accuracy_test,\n",
    "            'time':str(time_taken),\n",
    "        }\n",
    "    ])],ignore_index=True)"
   ]
  },
  {
   "cell_type": "code",
   "execution_count": 32,
   "id": "e59fd0df",
   "metadata": {},
   "outputs": [
    {
     "data": {
      "text/html": [
       "<div>\n",
       "<style scoped>\n",
       "    .dataframe tbody tr th:only-of-type {\n",
       "        vertical-align: middle;\n",
       "    }\n",
       "\n",
       "    .dataframe tbody tr th {\n",
       "        vertical-align: top;\n",
       "    }\n",
       "\n",
       "    .dataframe thead th {\n",
       "        text-align: right;\n",
       "    }\n",
       "</style>\n",
       "<table border=\"1\" class=\"dataframe\">\n",
       "  <thead>\n",
       "    <tr style=\"text-align: right;\">\n",
       "      <th></th>\n",
       "      <th>model</th>\n",
       "      <th>mean_score</th>\n",
       "      <th>std_score</th>\n",
       "      <th>accuracy_train</th>\n",
       "      <th>accuracy_test</th>\n",
       "      <th>time</th>\n",
       "    </tr>\n",
       "  </thead>\n",
       "  <tbody>\n",
       "    <tr>\n",
       "      <th>4</th>\n",
       "      <td>RandomForestClassifier_100</td>\n",
       "      <td>0.661083</td>\n",
       "      <td>0.014245</td>\n",
       "      <td>100.0</td>\n",
       "      <td>68.533</td>\n",
       "      <td>0:01:58.651594</td>\n",
       "    </tr>\n",
       "    <tr>\n",
       "      <th>3</th>\n",
       "      <td>RandomForestClassifier_50</td>\n",
       "      <td>0.629333</td>\n",
       "      <td>0.009367</td>\n",
       "      <td>100.0</td>\n",
       "      <td>65.5</td>\n",
       "      <td>0:01:05.998724</td>\n",
       "    </tr>\n",
       "    <tr>\n",
       "      <th>5</th>\n",
       "      <td>SVC_rbf</td>\n",
       "      <td>0.569417</td>\n",
       "      <td>0.011595</td>\n",
       "      <td>71.683</td>\n",
       "      <td>59.333</td>\n",
       "      <td>0:15:16.114930</td>\n",
       "    </tr>\n",
       "    <tr>\n",
       "      <th>7</th>\n",
       "      <td>KNeighborsClassifier_6</td>\n",
       "      <td>0.514083</td>\n",
       "      <td>0.015021</td>\n",
       "      <td>66.292</td>\n",
       "      <td>53.533</td>\n",
       "      <td>0:00:05.561512</td>\n",
       "    </tr>\n",
       "    <tr>\n",
       "      <th>8</th>\n",
       "      <td>KNeighborsClassifier_12</td>\n",
       "      <td>0.49</td>\n",
       "      <td>0.01353</td>\n",
       "      <td>58.558</td>\n",
       "      <td>51.133</td>\n",
       "      <td>0:00:04.110018</td>\n",
       "    </tr>\n",
       "    <tr>\n",
       "      <th>6</th>\n",
       "      <td>SVC_linear</td>\n",
       "      <td>0.470583</td>\n",
       "      <td>0.008772</td>\n",
       "      <td>98.858</td>\n",
       "      <td>48.9</td>\n",
       "      <td>0:09:24.057653</td>\n",
       "    </tr>\n",
       "    <tr>\n",
       "      <th>0</th>\n",
       "      <td>LogisticRegression</td>\n",
       "      <td>0.426</td>\n",
       "      <td>0.009135</td>\n",
       "      <td>80.025</td>\n",
       "      <td>45.767</td>\n",
       "      <td>0:06:24.086924</td>\n",
       "    </tr>\n",
       "    <tr>\n",
       "      <th>2</th>\n",
       "      <td>DecisionTreeClassifier</td>\n",
       "      <td>0.413583</td>\n",
       "      <td>0.01523</td>\n",
       "      <td>100.0</td>\n",
       "      <td>43.0</td>\n",
       "      <td>0:01:48.175878</td>\n",
       "    </tr>\n",
       "    <tr>\n",
       "      <th>1</th>\n",
       "      <td>GaussianNB</td>\n",
       "      <td>0.165</td>\n",
       "      <td>0.010788</td>\n",
       "      <td>17.55</td>\n",
       "      <td>15.533</td>\n",
       "      <td>0:00:04.431593</td>\n",
       "    </tr>\n",
       "  </tbody>\n",
       "</table>\n",
       "</div>"
      ],
      "text/plain": [
       "                        model mean_score std_score accuracy_train  \\\n",
       "4  RandomForestClassifier_100   0.661083  0.014245          100.0   \n",
       "3   RandomForestClassifier_50   0.629333  0.009367          100.0   \n",
       "5                     SVC_rbf   0.569417  0.011595         71.683   \n",
       "7      KNeighborsClassifier_6   0.514083  0.015021         66.292   \n",
       "8     KNeighborsClassifier_12       0.49   0.01353         58.558   \n",
       "6                  SVC_linear   0.470583  0.008772         98.858   \n",
       "0          LogisticRegression      0.426  0.009135         80.025   \n",
       "2      DecisionTreeClassifier   0.413583   0.01523          100.0   \n",
       "1                  GaussianNB      0.165  0.010788          17.55   \n",
       "\n",
       "  accuracy_test            time  \n",
       "4        68.533  0:01:58.651594  \n",
       "3          65.5  0:01:05.998724  \n",
       "5        59.333  0:15:16.114930  \n",
       "7        53.533  0:00:05.561512  \n",
       "8        51.133  0:00:04.110018  \n",
       "6          48.9  0:09:24.057653  \n",
       "0        45.767  0:06:24.086924  \n",
       "2          43.0  0:01:48.175878  \n",
       "1        15.533  0:00:04.431593  "
      ]
     },
     "execution_count": 32,
     "metadata": {},
     "output_type": "execute_result"
    }
   ],
   "source": [
    "metrics=cv_df.sort_values(by=['mean_score'],ascending=False)\n",
    "metrics"
   ]
  },
  {
   "cell_type": "code",
   "execution_count": 33,
   "id": "f8730315",
   "metadata": {},
   "outputs": [
    {
     "data": {
      "image/png": "[encoded data removed]",
      "text/plain": [
       "<Figure size 720x360 with 1 Axes>"
      ]
     },
     "metadata": {
      "needs_background": "light"
     },
     "output_type": "display_data"
    }
   ],
   "source": [
    "plt.figure(figsize=(10,5),tight_layout=True)\n",
    "sns.barplot(x='model',y='mean_score',data=metrics)\n",
    "plt.xticks(rotation=30)\n",
    "plt.show()"
   ]
  },
  {
   "cell_type": "code",
   "execution_count": 36,
   "id": "23e82f18",
   "metadata": {},
   "outputs": [
    {
     "data": {
      "text/html": [
       "<style>#sk-container-id-3 {color: black;background-color: white;}#sk-container-id-3 pre{padding: 0;}#sk-container-id-3 div.sk-toggleable {background-color: white;}#sk-container-id-3 label.sk-toggleable__label {cursor: pointer;display: block;width: 100%;margin-bottom: 0;padding: 0.3em;box-sizing: border-box;text-align: center;}#sk-container-id-3 label.sk-toggleable__label-arrow:before {content: \"▸\";float: left;margin-right: 0.25em;color: #696969;}#sk-container-id-3 label.sk-toggleable__label-arrow:hover:before {color: black;}#sk-container-id-3 div.sk-estimator:hover label.sk-toggleable__label-arrow:before {color: black;}#sk-container-id-3 div.sk-toggleable__content {max-height: 0;max-width: 0;overflow: hidden;text-align: left;background-color: #f0f8ff;}#sk-container-id-3 div.sk-toggleable__content pre {margin: 0.2em;color: black;border-radius: 0.25em;background-color: #f0f8ff;}#sk-container-id-3 input.sk-toggleable__control:checked~div.sk-toggleable__content {max-height: 200px;max-width: 100%;overflow: auto;}#sk-container-id-3 input.sk-toggleable__control:checked~label.sk-toggleable__label-arrow:before {content: \"▾\";}#sk-container-id-3 div.sk-estimator input.sk-toggleable__control:checked~label.sk-toggleable__label {background-color: #d4ebff;}#sk-container-id-3 div.sk-label input.sk-toggleable__control:checked~label.sk-toggleable__label {background-color: #d4ebff;}#sk-container-id-3 input.sk-hidden--visually {border: 0;clip: rect(1px 1px 1px 1px);clip: rect(1px, 1px, 1px, 1px);height: 1px;margin: -1px;overflow: hidden;padding: 0;position: absolute;width: 1px;}#sk-container-id-3 div.sk-estimator {font-family: monospace;background-color: #f0f8ff;border: 1px dotted black;border-radius: 0.25em;box-sizing: border-box;margin-bottom: 0.5em;}#sk-container-id-3 div.sk-estimator:hover {background-color: #d4ebff;}#sk-container-id-3 div.sk-parallel-item::after {content: \"\";width: 100%;border-bottom: 1px solid gray;flex-grow: 1;}#sk-container-id-3 div.sk-label:hover label.sk-toggleable__label {background-color: #d4ebff;}#sk-container-id-3 div.sk-serial::before {content: \"\";position: absolute;border-left: 1px solid gray;box-sizing: border-box;top: 0;bottom: 0;left: 50%;z-index: 0;}#sk-container-id-3 div.sk-serial {display: flex;flex-direction: column;align-items: center;background-color: white;padding-right: 0.2em;padding-left: 0.2em;position: relative;}#sk-container-id-3 div.sk-item {position: relative;z-index: 1;}#sk-container-id-3 div.sk-parallel {display: flex;align-items: stretch;justify-content: center;background-color: white;position: relative;}#sk-container-id-3 div.sk-item::before, #sk-container-id-3 div.sk-parallel-item::before {content: \"\";position: absolute;border-left: 1px solid gray;box-sizing: border-box;top: 0;bottom: 0;left: 50%;z-index: -1;}#sk-container-id-3 div.sk-parallel-item {display: flex;flex-direction: column;z-index: 1;position: relative;background-color: white;}#sk-container-id-3 div.sk-parallel-item:first-child::after {align-self: flex-end;width: 50%;}#sk-container-id-3 div.sk-parallel-item:last-child::after {align-self: flex-start;width: 50%;}#sk-container-id-3 div.sk-parallel-item:only-child::after {width: 0;}#sk-container-id-3 div.sk-dashed-wrapped {border: 1px dashed gray;margin: 0 0.4em 0.5em 0.4em;box-sizing: border-box;padding-bottom: 0.4em;background-color: white;}#sk-container-id-3 div.sk-label label {font-family: monospace;font-weight: bold;display: inline-block;line-height: 1.2em;}#sk-container-id-3 div.sk-label-container {text-align: center;}#sk-container-id-3 div.sk-container {/* jupyter's `normalize.less` sets `[hidden] { display: none; }` but bootstrap.min.css set `[hidden] { display: none !important; }` so we also need the `!important` here to be able to override the default hidden behavior on the sphinx rendered scikit-learn.org. See: https://github.com/scikit-learn/scikit-learn/issues/21755 */display: inline-block !important;position: relative;}#sk-container-id-3 div.sk-text-repr-fallback {display: none;}</style><div id=\"sk-container-id-3\" class=\"sk-top-container\"><div class=\"sk-text-repr-fallback\"><pre>SVC()</pre><b>In a Jupyter environment, please rerun this cell to show the HTML representation or trust the notebook. <br />On GitHub, the HTML representation is unable to render, please try loading this page with nbviewer.org.</b></div><div class=\"sk-container\" hidden><div class=\"sk-item\"><div class=\"sk-estimator sk-toggleable\"><input class=\"sk-toggleable__control sk-hidden--visually\" id=\"sk-estimator-id-3\" type=\"checkbox\" checked><label for=\"sk-estimator-id-3\" class=\"sk-toggleable__label sk-toggleable__label-arrow\">SVC</label><div class=\"sk-toggleable__content\"><pre>SVC()</pre></div></div></div></div></div>"
      ],
      "text/plain": [
       "SVC()"
      ]
     },
     "execution_count": 36,
     "metadata": {},
     "output_type": "execute_result"
    }
   ],
   "source": [
    "from sklearn import svm\n",
    "clf = svm.SVC(kernel='rbf')\n",
    "clf.fit(X_train, y_train)"
   ]
  },
  {
   "cell_type": "code",
   "execution_count": 37,
   "id": "3f2d2940",
   "metadata": {},
   "outputs": [],
   "source": [
    "y_pred = clf.predict(X_test)"
   ]
  },
  {
   "cell_type": "code",
   "execution_count": 38,
   "id": "2fdcca46",
   "metadata": {},
   "outputs": [
    {
     "data": {
      "text/plain": [
       "array([ 8, 10,  8, ..., 12,  3,  7], dtype=int64)"
      ]
     },
     "execution_count": 38,
     "metadata": {},
     "output_type": "execute_result"
    }
   ],
   "source": [
    "y_pred"
   ]
  },
  {
   "cell_type": "code",
   "execution_count": 39,
   "id": "7225a256",
   "metadata": {},
   "outputs": [
    {
     "name": "stdout",
     "output_type": "stream",
     "text": [
      "Accuracy is  59.333333333333336 %\n"
     ]
    }
   ],
   "source": [
    "from sklearn.metrics import accuracy_score\n",
    "print(\"Accuracy is \", accuracy_score(y_test,y_pred)*100,\"%\")"
   ]
  },
  {
   "cell_type": "code",
   "execution_count": 40,
   "id": "25dd2ff4",
   "metadata": {},
   "outputs": [
    {
     "name": "stdout",
     "output_type": "stream",
     "text": [
      "[[183   0   0   0   3   0   3   0   0   1   2   9   2   6   0]\n",
      " [  2 181  17   3   0   0   2   0   0   0   0   0   0   0   0]\n",
      " [  9  49  99  30   0   0   4   0   4   0   2   0   0   0   0]\n",
      " [  9  12  14 107   0   8  17   4   1   0   5   1   7   0   0]\n",
      " [  8   1   4   3 147   0   5   3   0   2   9   8   3   7   4]\n",
      " [ 17   1   2  12   3 114   4   5   9   6  12   7   0   1   1]\n",
      " [  9  22   5   7   2   0 121   5   8  10   6   0   3   4   1]\n",
      " [  5   9   7   1   1   2   4 105   9   6  11   2   4  12   9]\n",
      " [  9  38   3   3   0   0  16   1 135   1   0   0   3   0   2]\n",
      " [ 18   0   5   1   1   6  17  37   4  77   1   9   6  14  10]\n",
      " [  3  19   1   2   3   0   7   2   8   0 128   1  27   1   0]\n",
      " [ 12   0   0   1   8   7   2  10   5   5  11  94   1  22   0]\n",
      " [ 18   5   4   6   1   0  20   1   1   1  63   0  86   3   1]\n",
      " [ 18   2   0   7   1   1   8  16   5   9  20  10   4  88   1]\n",
      " [ 22   3   3   6   3   0  12  23   2  17   2   0   6   5 115]]\n",
      "              precision    recall  f1-score   support\n",
      "\n",
      "           1       0.54      0.88      0.66       209\n",
      "           2       0.53      0.88      0.66       205\n",
      "           3       0.60      0.50      0.55       197\n",
      "           4       0.57      0.58      0.57       185\n",
      "           5       0.85      0.72      0.78       204\n",
      "           6       0.83      0.59      0.69       194\n",
      "           7       0.50      0.60      0.54       203\n",
      "           8       0.50      0.56      0.53       187\n",
      "           9       0.71      0.64      0.67       211\n",
      "          10       0.57      0.37      0.45       206\n",
      "          11       0.47      0.63      0.54       202\n",
      "          12       0.67      0.53      0.59       178\n",
      "          13       0.57      0.41      0.48       210\n",
      "          14       0.54      0.46      0.50       190\n",
      "          15       0.80      0.53      0.63       219\n",
      "\n",
      "    accuracy                           0.59      3000\n",
      "   macro avg       0.61      0.59      0.59      3000\n",
      "weighted avg       0.62      0.59      0.59      3000\n",
      "\n"
     ]
    }
   ],
   "source": [
    "from sklearn.metrics import classification_report, confusion_matrix\n",
    "print(confusion_matrix(y_test,y_pred))\n",
    "print(classification_report(y_test,y_pred))"
   ]
  },
  {
   "cell_type": "code",
   "execution_count": 41,
   "id": "5292f652",
   "metadata": {},
   "outputs": [
    {
     "name": "stdout",
     "output_type": "stream",
     "text": [
      "Precision: 0.5933333333333334\n",
      "Recall: 0.5933333333333334\n"
     ]
    },
    {
     "name": "stderr",
     "output_type": "stream",
     "text": [
      "C:\\Users\\PMinhQuang\\Anaconda3\\lib\\site-packages\\sklearn\\metrics\\_classification.py:1386: UserWarning: Note that pos_label (set to 'positive') is ignored when average != 'binary' (got 'micro'). You may use labels=[pos_label] to specify a single positive class.\n",
      "  warnings.warn(\n",
      "C:\\Users\\PMinhQuang\\Anaconda3\\lib\\site-packages\\sklearn\\metrics\\_classification.py:1386: UserWarning: Note that pos_label (set to 'positive') is ignored when average != 'binary' (got 'micro'). You may use labels=[pos_label] to specify a single positive class.\n",
      "  warnings.warn(\n"
     ]
    }
   ],
   "source": [
    "from sklearn import metrics\n",
    "print(\"Precision:\",metrics.precision_score(y_test, y_pred,pos_label='positive',\n",
    "                                           average='micro'))\n",
    "print(\"Recall:\",metrics.recall_score(y_test, y_pred,pos_label='positive',\n",
    "                                           average='micro'))"
   ]
  },
  {
   "cell_type": "code",
   "execution_count": 42,
   "id": "0f10136d",
   "metadata": {},
   "outputs": [
    {
     "name": "stdout",
     "output_type": "stream",
     "text": [
      "2022-10-04 11:14:53.486846\n"
     ]
    }
   ],
   "source": [
    "x2 = datetime.datetime.now()\n",
    "print(x2)"
   ]
  },
  {
   "cell_type": "code",
   "execution_count": 43,
   "id": "f8573ed7",
   "metadata": {},
   "outputs": [],
   "source": [
    "d = x2 - x1"
   ]
  },
  {
   "cell_type": "code",
   "execution_count": 44,
   "id": "2b3ddbfc",
   "metadata": {},
   "outputs": [
    {
     "name": "stdout",
     "output_type": "stream",
     "text": [
      "1:58:53.838002\n"
     ]
    }
   ],
   "source": [
    "print(d)"
   ]
  },
  {
   "cell_type": "code",
   "execution_count": 45,
   "id": "dae176af",
   "metadata": {},
   "outputs": [
    {
     "data": {
      "text/plain": [
       "Text(0, 0.5, 'Cumulative explained variance')"
      ]
     },
     "execution_count": 45,
     "metadata": {},
     "output_type": "execute_result"
    },
    {
     "data": {
      "image/png": "[encoded data removed]",
      "text/plain": [
       "<Figure size 576x432 with 1 Axes>"
      ]
     },
     "metadata": {
      "needs_background": "light"
     },
     "output_type": "display_data"
    }
   ],
   "source": [
    "plt.figure(figsize=(8,6))\n",
    "plt.plot(np.cumsum(pca.explained_variance_ratio_))\n",
    "plt.xlabel('Number of components')\n",
    "plt.ylabel('Cumulative explained variance')"
   ]
  },
  {
   "cell_type": "markdown",
   "id": "db93a234",
   "metadata": {},
   "source": [
    "#### Nhận xét: Model chạy nhanh hơn sau khi giảm chiều"
   ]
  },
  {
   "cell_type": "code",
   "execution_count": 46,
   "id": "453d4847",
   "metadata": {},
   "outputs": [
    {
     "name": "stdout",
     "output_type": "stream",
     "text": [
      "x_train:  (12000, 4096)\n",
      "y_train:  (12000,)\n",
      "x_train[0] shape:  [ 0.          0.          0.         ... -0.01516048 -0.01558956\n",
      " -0.0139023 ]\n",
      "x_test:  (3000, 4096)\n",
      "y_test:  (3000,)\n",
      "y_test[0] shape:  8\n"
     ]
    }
   ],
   "source": [
    "from sklearn.model_selection import train_test_split\n",
    "from keras.utils import to_categorical\n",
    "X_train, X_test, y_train, y_test = train_test_split(listFlattenedScale_copy,listImageNameArray_copy, test_size = 0.2, random_state = 10)\n",
    "print(\"x_train: \",X_train.shape)\n",
    "print(\"y_train: \",y_train.shape)\n",
    "print(\"x_train[0] shape: \",X_train[0])\n",
    "print(\"x_test: \",X_test.shape)\n",
    "print(\"y_test: \",y_test.shape)\n",
    "print(\"y_test[0] shape: \",y_test[0])"
   ]
  },
  {
   "cell_type": "code",
   "execution_count": 47,
   "id": "c00917dd",
   "metadata": {},
   "outputs": [],
   "source": [
    "from sklearn.preprocessing import StandardScaler\n",
    "scaler = StandardScaler()\n",
    "scaler.fit(X_train)\n",
    "X_train = scaler.transform(X_train)\n",
    "X_test = scaler.transform(X_test)"
   ]
  },
  {
   "cell_type": "code",
   "execution_count": 48,
   "id": "28c2fd1d",
   "metadata": {},
   "outputs": [
    {
     "name": "stdout",
     "output_type": "stream",
     "text": [
      "2022-10-04 11:15:04.519315\n"
     ]
    }
   ],
   "source": [
    "x3 = datetime.datetime.now()\n",
    "print(x3)"
   ]
  },
  {
   "cell_type": "code",
   "execution_count": 49,
   "id": "a29cb1d3",
   "metadata": {},
   "outputs": [
    {
     "data": {
      "text/html": [
       "<style>#sk-container-id-4 {color: black;background-color: white;}#sk-container-id-4 pre{padding: 0;}#sk-container-id-4 div.sk-toggleable {background-color: white;}#sk-container-id-4 label.sk-toggleable__label {cursor: pointer;display: block;width: 100%;margin-bottom: 0;padding: 0.3em;box-sizing: border-box;text-align: center;}#sk-container-id-4 label.sk-toggleable__label-arrow:before {content: \"▸\";float: left;margin-right: 0.25em;color: #696969;}#sk-container-id-4 label.sk-toggleable__label-arrow:hover:before {color: black;}#sk-container-id-4 div.sk-estimator:hover label.sk-toggleable__label-arrow:before {color: black;}#sk-container-id-4 div.sk-toggleable__content {max-height: 0;max-width: 0;overflow: hidden;text-align: left;background-color: #f0f8ff;}#sk-container-id-4 div.sk-toggleable__content pre {margin: 0.2em;color: black;border-radius: 0.25em;background-color: #f0f8ff;}#sk-container-id-4 input.sk-toggleable__control:checked~div.sk-toggleable__content {max-height: 200px;max-width: 100%;overflow: auto;}#sk-container-id-4 input.sk-toggleable__control:checked~label.sk-toggleable__label-arrow:before {content: \"▾\";}#sk-container-id-4 div.sk-estimator input.sk-toggleable__control:checked~label.sk-toggleable__label {background-color: #d4ebff;}#sk-container-id-4 div.sk-label input.sk-toggleable__control:checked~label.sk-toggleable__label {background-color: #d4ebff;}#sk-container-id-4 input.sk-hidden--visually {border: 0;clip: rect(1px 1px 1px 1px);clip: rect(1px, 1px, 1px, 1px);height: 1px;margin: -1px;overflow: hidden;padding: 0;position: absolute;width: 1px;}#sk-container-id-4 div.sk-estimator {font-family: monospace;background-color: #f0f8ff;border: 1px dotted black;border-radius: 0.25em;box-sizing: border-box;margin-bottom: 0.5em;}#sk-container-id-4 div.sk-estimator:hover {background-color: #d4ebff;}#sk-container-id-4 div.sk-parallel-item::after {content: \"\";width: 100%;border-bottom: 1px solid gray;flex-grow: 1;}#sk-container-id-4 div.sk-label:hover label.sk-toggleable__label {background-color: #d4ebff;}#sk-container-id-4 div.sk-serial::before {content: \"\";position: absolute;border-left: 1px solid gray;box-sizing: border-box;top: 0;bottom: 0;left: 50%;z-index: 0;}#sk-container-id-4 div.sk-serial {display: flex;flex-direction: column;align-items: center;background-color: white;padding-right: 0.2em;padding-left: 0.2em;position: relative;}#sk-container-id-4 div.sk-item {position: relative;z-index: 1;}#sk-container-id-4 div.sk-parallel {display: flex;align-items: stretch;justify-content: center;background-color: white;position: relative;}#sk-container-id-4 div.sk-item::before, #sk-container-id-4 div.sk-parallel-item::before {content: \"\";position: absolute;border-left: 1px solid gray;box-sizing: border-box;top: 0;bottom: 0;left: 50%;z-index: -1;}#sk-container-id-4 div.sk-parallel-item {display: flex;flex-direction: column;z-index: 1;position: relative;background-color: white;}#sk-container-id-4 div.sk-parallel-item:first-child::after {align-self: flex-end;width: 50%;}#sk-container-id-4 div.sk-parallel-item:last-child::after {align-self: flex-start;width: 50%;}#sk-container-id-4 div.sk-parallel-item:only-child::after {width: 0;}#sk-container-id-4 div.sk-dashed-wrapped {border: 1px dashed gray;margin: 0 0.4em 0.5em 0.4em;box-sizing: border-box;padding-bottom: 0.4em;background-color: white;}#sk-container-id-4 div.sk-label label {font-family: monospace;font-weight: bold;display: inline-block;line-height: 1.2em;}#sk-container-id-4 div.sk-label-container {text-align: center;}#sk-container-id-4 div.sk-container {/* jupyter's `normalize.less` sets `[hidden] { display: none; }` but bootstrap.min.css set `[hidden] { display: none !important; }` so we also need the `!important` here to be able to override the default hidden behavior on the sphinx rendered scikit-learn.org. See: https://github.com/scikit-learn/scikit-learn/issues/21755 */display: inline-block !important;position: relative;}#sk-container-id-4 div.sk-text-repr-fallback {display: none;}</style><div id=\"sk-container-id-4\" class=\"sk-top-container\"><div class=\"sk-text-repr-fallback\"><pre>SVC(kernel=&#x27;linear&#x27;)</pre><b>In a Jupyter environment, please rerun this cell to show the HTML representation or trust the notebook. <br />On GitHub, the HTML representation is unable to render, please try loading this page with nbviewer.org.</b></div><div class=\"sk-container\" hidden><div class=\"sk-item\"><div class=\"sk-estimator sk-toggleable\"><input class=\"sk-toggleable__control sk-hidden--visually\" id=\"sk-estimator-id-4\" type=\"checkbox\" checked><label for=\"sk-estimator-id-4\" class=\"sk-toggleable__label sk-toggleable__label-arrow\">SVC</label><div class=\"sk-toggleable__content\"><pre>SVC(kernel=&#x27;linear&#x27;)</pre></div></div></div></div></div>"
      ],
      "text/plain": [
       "SVC(kernel='linear')"
      ]
     },
     "execution_count": 49,
     "metadata": {},
     "output_type": "execute_result"
    }
   ],
   "source": [
    "from sklearn import svm\n",
    "clf = svm.SVC(kernel='linear')\n",
    "clf.fit(X_train, y_train)"
   ]
  },
  {
   "cell_type": "code",
   "execution_count": 50,
   "id": "0ff5e5a8",
   "metadata": {},
   "outputs": [],
   "source": [
    "y_pred = clf.predict(X_test)"
   ]
  },
  {
   "cell_type": "code",
   "execution_count": 51,
   "id": "d1f00500",
   "metadata": {},
   "outputs": [
    {
     "data": {
      "text/plain": [
       "array([ 6, 15,  8, ...,  8, 15,  7], dtype=int64)"
      ]
     },
     "execution_count": 51,
     "metadata": {},
     "output_type": "execute_result"
    }
   ],
   "source": [
    "y_pred"
   ]
  },
  {
   "cell_type": "code",
   "execution_count": 52,
   "id": "aba240b3",
   "metadata": {},
   "outputs": [
    {
     "name": "stdout",
     "output_type": "stream",
     "text": [
      "Accuracy is  47.733333333333334 %\n"
     ]
    }
   ],
   "source": [
    "from sklearn.metrics import accuracy_score\n",
    "print(\"Accuracy is \", accuracy_score(y_test,y_pred)*100,\"%\")"
   ]
  },
  {
   "cell_type": "code",
   "execution_count": 53,
   "id": "58db6c4d",
   "metadata": {},
   "outputs": [
    {
     "name": "stdout",
     "output_type": "stream",
     "text": [
      "[[158   0   0   2   6   5   2   2   0   3   2  18   6   5   0]\n",
      " [  0 160  22   6   2   0   3   1   1   0   9   1   0   0   0]\n",
      " [  0  23  90  41   1   6   3   5  11   1   7   1   2   2   4]\n",
      " [  0   2  27  98   3  19   3   3   4   6   4   1   8   5   2]\n",
      " [ 10   0   2   1 121  12   2   7   0   6   3   9   4   7  20]\n",
      " [  6   1   3  16   4  90   2   9   5  20   4  15   8   2   9]\n",
      " [  4  10  16  10   8   2  77   7   6  24   8   3  10  11   7]\n",
      " [  3   0  10   2   9  18   4  78  11  17   7   9   4   6   9]\n",
      " [  0  25  22   3   2   4  18   5 118   5   2   1   2   1   3]\n",
      " [  6   0   4   7   6  23  14  27   3  63   1  10   6  17  19]\n",
      " [  6   9   3   2  10   6   4   9   2   2 106   1  35   7   0]\n",
      " [ 15   0   0   1  23  22   3  10   3   6  19  57   6  10   3]\n",
      " [ 12   2   4  10   5   6  17  10   0   6  37   9  81   3   8]\n",
      " [ 13   2   4   8   8   8   7  19   5  16   8  21   8  58   5]\n",
      " [  8   0   7   2  25  11   7  26  10  25   3   7   4   7  77]]\n",
      "              precision    recall  f1-score   support\n",
      "\n",
      "           1       0.66      0.76      0.70       209\n",
      "           2       0.68      0.78      0.73       205\n",
      "           3       0.42      0.46      0.44       197\n",
      "           4       0.47      0.53      0.50       185\n",
      "           5       0.52      0.59      0.55       204\n",
      "           6       0.39      0.46      0.42       194\n",
      "           7       0.46      0.38      0.42       203\n",
      "           8       0.36      0.42      0.39       187\n",
      "           9       0.66      0.56      0.61       211\n",
      "          10       0.32      0.31      0.31       206\n",
      "          11       0.48      0.52      0.50       202\n",
      "          12       0.35      0.32      0.33       178\n",
      "          13       0.44      0.39      0.41       210\n",
      "          14       0.41      0.31      0.35       190\n",
      "          15       0.46      0.35      0.40       219\n",
      "\n",
      "    accuracy                           0.48      3000\n",
      "   macro avg       0.47      0.48      0.47      3000\n",
      "weighted avg       0.47      0.48      0.47      3000\n",
      "\n"
     ]
    }
   ],
   "source": [
    "from sklearn.metrics import classification_report, confusion_matrix\n",
    "print(confusion_matrix(y_test,y_pred))\n",
    "print(classification_report(y_test,y_pred))"
   ]
  },
  {
   "cell_type": "code",
   "execution_count": 54,
   "id": "2c1f72c3",
   "metadata": {},
   "outputs": [
    {
     "name": "stdout",
     "output_type": "stream",
     "text": [
      "Precision: 0.47733333333333333\n",
      "Recall: 0.47733333333333333\n"
     ]
    },
    {
     "name": "stderr",
     "output_type": "stream",
     "text": [
      "C:\\Users\\PMinhQuang\\Anaconda3\\lib\\site-packages\\sklearn\\metrics\\_classification.py:1386: UserWarning: Note that pos_label (set to 'positive') is ignored when average != 'binary' (got 'micro'). You may use labels=[pos_label] to specify a single positive class.\n",
      "  warnings.warn(\n",
      "C:\\Users\\PMinhQuang\\Anaconda3\\lib\\site-packages\\sklearn\\metrics\\_classification.py:1386: UserWarning: Note that pos_label (set to 'positive') is ignored when average != 'binary' (got 'micro'). You may use labels=[pos_label] to specify a single positive class.\n",
      "  warnings.warn(\n"
     ]
    }
   ],
   "source": [
    "from sklearn import metrics\n",
    "print(\"Precision:\",metrics.precision_score(y_test, y_pred,pos_label='positive',\n",
    "                                           average='micro'))\n",
    "print(\"Recall:\",metrics.recall_score(y_test, y_pred,pos_label='positive',\n",
    "                                           average='micro'))"
   ]
  },
  {
   "cell_type": "code",
   "execution_count": 55,
   "id": "749aa757",
   "metadata": {},
   "outputs": [
    {
     "name": "stdout",
     "output_type": "stream",
     "text": [
      "2022-10-04 11:24:13.032587\n"
     ]
    }
   ],
   "source": [
    "x4 = datetime.datetime.now()\n",
    "print(x4)"
   ]
  },
  {
   "cell_type": "code",
   "execution_count": 56,
   "id": "0bc05a3c",
   "metadata": {},
   "outputs": [],
   "source": [
    "d2 = x4 - x3"
   ]
  },
  {
   "cell_type": "code",
   "execution_count": 57,
   "id": "4646153f",
   "metadata": {},
   "outputs": [
    {
     "name": "stdout",
     "output_type": "stream",
     "text": [
      "0:09:08.513272\n"
     ]
    }
   ],
   "source": [
    "print(d2)"
   ]
  },
  {
   "cell_type": "code",
   "execution_count": 58,
   "id": "90a97684",
   "metadata": {},
   "outputs": [
    {
     "data": {
      "text/plain": [
       "datetime.timedelta(days=-1, seconds=79814, microseconds=675270)"
      ]
     },
     "execution_count": 58,
     "metadata": {},
     "output_type": "execute_result"
    }
   ],
   "source": [
    "d2-d"
   ]
  },
  {
   "cell_type": "markdown",
   "id": "98e6a575",
   "metadata": {},
   "source": [
    "#### Nhận xét: SVM chạy nhanh hơn sau khi giảm chiều"
   ]
  },
  {
   "cell_type": "code",
   "execution_count": null,
   "id": "b548cff1",
   "metadata": {},
   "outputs": [],
   "source": []
  }
 ],
 "metadata": {
  "kernelspec": {
   "display_name": "Python 3 (ipykernel)",
   "language": "python",
   "name": "python3"
  },
  "language_info": {
   "codemirror_mode": {
    "name": "ipython",
    "version": 3
   },
   "file_extension": ".py",
   "mimetype": "text/x-python",
   "name": "python",
   "nbconvert_exporter": "python",
   "pygments_lexer": "ipython3",
   "version": "3.9.12"
  }
 },
 "nbformat": 4,
 "nbformat_minor": 5
}
